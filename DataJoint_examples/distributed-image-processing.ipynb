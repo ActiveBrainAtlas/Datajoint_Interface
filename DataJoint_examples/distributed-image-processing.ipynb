{
 "cells": [
  {
   "cell_type": "code",
   "execution_count": 1,
   "metadata": {
    "collapsed": true
   },
   "outputs": [],
   "source": [
    "import datajoint as dj\n",
    "from minio import Minio\n",
    "from os import path"
   ]
  },
  {
   "cell_type": "code",
   "execution_count": 2,
   "metadata": {},
   "outputs": [
    {
     "name": "stdout",
     "output_type": "stream",
     "text": [
      "Connecting dimitri@ucsd-demo-db.datajoint.io:3306\n"
     ]
    }
   ],
   "source": [
    "schema = dj.schema('common_distributed')"
   ]
  },
  {
   "cell_type": "code",
   "execution_count": 3,
   "metadata": {
    "collapsed": true
   },
   "outputs": [],
   "source": [
    "bucket_name = 'mousebraindata-open'\n",
    "\n",
    "def get_client():\n",
    "    return Minio('s3.amazonaws.com',\n",
    "                 access_key='???????',\n",
    "                 secret_key='?????',\n",
    "                 secure=True)"
   ]
  },
  {
   "cell_type": "code",
   "execution_count": 4,
   "metadata": {
    "collapsed": true
   },
   "outputs": [],
   "source": [
    "@schema\n",
    "class BaseImage(dj.Manual):\n",
    "    definition = '''\n",
    "    image_id:          int            # image id\n",
    "    ---\n",
    "    image_location:    varchar(1024)  # image location in bucket\n",
    "    '''\n",
    "    \n",
    "    @classmethod\n",
    "    def fill(cls):   \n",
    "        \"\"\"\n",
    "        fill the image list from the bucket\n",
    "        \"\"\"\n",
    "        client = get_client()\n",
    "        objects = client.list_objects(bucket_name, prefix='MD657/')\n",
    "        cls.insert(\n",
    "            dict(image_id=i, image_location=obj.object_name) \n",
    "            for i, obj in enumerate(objects) if obj.object_name.endswith('.jp2'))"
   ]
  },
  {
   "cell_type": "code",
   "execution_count": null,
   "metadata": {
    "collapsed": true
   },
   "outputs": [],
   "source": [
    "BaseImage.fill()"
   ]
  },
  {
   "cell_type": "code",
   "execution_count": 5,
   "metadata": {},
   "outputs": [
    {
     "data": {
      "text/html": [
       "\n",
       "        \n",
       "        <style type=\"text/css\">\n",
       "            .Relation{\n",
       "                border-collapse:collapse;\n",
       "            }\n",
       "            .Relation th{\n",
       "                background: #A0A0A0; color: #ffffff; padding:4px; border:#f0e0e0 1px solid;\n",
       "                font-weight: normal; font-family: monospace; font-size: 100%;\n",
       "            }\n",
       "            .Relation td{\n",
       "                padding:4px; border:#f0e0e0 1px solid; font-size:100%;\n",
       "            }\n",
       "            .Relation tr:nth-child(odd){\n",
       "                background: #ffffff;\n",
       "            }\n",
       "            .Relation tr:nth-child(even){\n",
       "                background: #f3f1ff;\n",
       "            }\n",
       "            /* Tooltip container */\n",
       "            .djtooltip {\n",
       "            }\n",
       "            /* Tooltip text */\n",
       "            .djtooltip .djtooltiptext {\n",
       "                visibility: hidden;\n",
       "                width: 120px;\n",
       "                background-color: black;\n",
       "                color: #fff;\n",
       "                text-align: center;\n",
       "                padding: 5px 0;\n",
       "                border-radius: 6px;\n",
       "                /* Position the tooltip text - see examples below! */\n",
       "                position: absolute;\n",
       "                z-index: 1;\n",
       "            }\n",
       "            #primary {\n",
       "                font-weight: bold;\n",
       "                color: black;\n",
       "            }\n",
       "\n",
       "            #nonprimary {\n",
       "                font-weight: normal;\n",
       "                color: white;\n",
       "            }\n",
       "\n",
       "            /* Show the tooltip text when you mouse over the tooltip container */\n",
       "            .djtooltip:hover .djtooltiptext {\n",
       "                visibility: visible;\n",
       "            }\n",
       "        </style>\n",
       "        \n",
       "        <b></b>\n",
       "            <div style=\"max-height:1000px;max-width:1500px;overflow:auto;\">\n",
       "            <table border=\"1\" class=\"Relation\">\n",
       "                <thead> <tr style=\"text-align: right;\"> <th> <div class=\"djtooltip\">\n",
       "                                <p id=\"primary\">image_id</p>\n",
       "                                <span class=\"djtooltiptext\">image id</span>\n",
       "                            </div></th><th><div class=\"djtooltip\">\n",
       "                                <p id=\"nonprimary\">image_location</p>\n",
       "                                <span class=\"djtooltiptext\">image location in bucket</span>\n",
       "                            </div> </th> </tr> </thead>\n",
       "                <tbody> <tr> <td>3</td>\n",
       "<td>MD657/MD657-F1-2017.02.17-17.39.26_MD657_1_0001_lossless.jp2</td></tr><tr><td>6</td>\n",
       "<td>MD657/MD657-F1-2017.02.17-17.39.26_MD657_1_0001_lossy.jp2</td></tr><tr><td>9</td>\n",
       "<td>MD657/MD657-F1-2017.02.17-17.39.26_MD657_2_0002_lossless.jp2</td></tr><tr><td>12</td>\n",
       "<td>MD657/MD657-F1-2017.02.17-17.39.26_MD657_2_0002_lossy.jp2</td></tr><tr><td>15</td>\n",
       "<td>MD657/MD657-F1-2017.02.17-17.39.26_MD657_3_0003_lossless.jp2</td></tr><tr><td>18</td>\n",
       "<td>MD657/MD657-F1-2017.02.17-17.39.26_MD657_3_0003_lossy.jp2</td></tr><tr><td>21</td>\n",
       "<td>MD657/MD657-F10-2017.02.17-19.35.42_MD657_1_0028_lossless.jp2</td> </tr> </tbody>\n",
       "            </table>\n",
       "            <p>...</p>\n",
       "            <p>926 tuples</p></div>\n",
       "            "
      ],
      "text/plain": [
       "*image_id    image_location\n",
       "+----------+ +------------+\n",
       "3            MD657/MD657-F1\n",
       "6            MD657/MD657-F1\n",
       "9            MD657/MD657-F1\n",
       "12           MD657/MD657-F1\n",
       "15           MD657/MD657-F1\n",
       "18           MD657/MD657-F1\n",
       "21           MD657/MD657-F1\n",
       "   ...\n",
       " (926 tuples)"
      ]
     },
     "execution_count": 5,
     "metadata": {},
     "output_type": "execute_result"
    }
   ],
   "source": [
    "BaseImage()"
   ]
  },
  {
   "cell_type": "code",
   "execution_count": 15,
   "metadata": {
    "collapsed": true
   },
   "outputs": [],
   "source": [
    "@schema\n",
    "class Contrast(dj.Imported):\n",
    "    definition = '''\n",
    "    -> BaseImage\n",
    "    ---\n",
    "    contrast: float\n",
    "    '''\n",
    "    \n",
    "    def make(self, key):\n",
    "        key = ProcessedImage.key_source.fetch('KEY')[3]\n",
    "        self = ProcessedImage()\n",
    "        path = (BaseImage & key).fetch1('image_location')\n",
    "        client = get_client()\n",
    "        data = client.get_object(bucket_name, path).data\n",
    "        img = convert_binary_jp2_data_into_image(data) \n",
    "        self.insert1(dict(key, contrast=img.std()))\n",
    "        \n"
   ]
  },
  {
   "cell_type": "code",
   "execution_count": null,
   "metadata": {
    "collapsed": true
   },
   "outputs": [],
   "source": [
    "# distributed processing\n",
    "Contrast.populate(reserve_jobs=True)"
   ]
  }
 ],
 "metadata": {
  "kernelspec": {
   "display_name": "Python 3",
   "language": "python",
   "name": "python3"
  },
  "language_info": {
   "codemirror_mode": {
    "name": "ipython",
    "version": 3
   },
   "file_extension": ".py",
   "mimetype": "text/x-python",
   "name": "python",
   "nbconvert_exporter": "python",
   "pygments_lexer": "ipython3",
   "version": "3.6.0"
  }
 },
 "nbformat": 4,
 "nbformat_minor": 2
}
