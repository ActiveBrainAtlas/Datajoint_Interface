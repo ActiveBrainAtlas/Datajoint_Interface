{
 "cells": [
  {
   "cell_type": "code",
   "execution_count": 166,
   "metadata": {},
   "outputs": [
    {
     "data": {
      "text/plain": [
       "DataJoint connection (connected) alex@ucsd-demo-db.datajoint.io:3306"
      ]
     },
     "execution_count": 166,
     "metadata": {},
     "output_type": "execute_result"
    }
   ],
   "source": [
    "import datajoint as dj\n",
    "import numpy as np\n",
    "# Connect to datajoint server\n",
    "dj.conn()\n",
    "# Talk to Conrad, get his code onto github"
   ]
  },
  {
   "cell_type": "code",
   "execution_count": 167,
   "metadata": {
    "collapsed": true
   },
   "outputs": [],
   "source": [
    "# Define which schema you're using\n",
    "schema = dj.schema('common_atlas')"
   ]
  },
  {
   "cell_type": "code",
   "execution_count": 189,
   "metadata": {},
   "outputs": [
    {
     "name": "stdout",
     "output_type": "stream",
     "text": [
      "`common_atlas`.`mouse` (1 tuples)\n",
      "`common_atlas`.`injection` (1 tuples)\n",
      "`common_atlas`.`histology` (1 tuples)\n",
      "`common_atlas`.`brain_stack_info` (1 tuples)\n",
      "`common_atlas`.`__raw_stack` (1 tuples)\n",
      "`common_atlas`.`__raw_stack__slice` (499 tuples)\n",
      "`common_atlas`.`__processed_stack` (1 tuples)\n",
      "`common_atlas`.`__processed_stack__slice` (499 tuples)\n",
      "Proceed? [yes, No]: yes\n",
      "Tables dropped.  Restart kernel.\n"
     ]
    }
   ],
   "source": [
    "Mouse.drop()\n",
    "@schema\n",
    "class Mouse(dj.Manual):\n",
    "    definition = \"\"\"\n",
    "    mouse : char(18)               # Name for lab mouse, max 8 chars\n",
    "    -------\n",
    "    date_of_birth  : date          # (date) the mouse's date of birth\n",
    "    sex            : enum('M','F') # (M/F) either 'M' for male, 'F' for female\n",
    "    genotype       : varchar(10)   # (Str) indicating the genotype\n",
    "    weight         : double        # (int) weight of the mouse in grams\n",
    "    \"\"\"\n",
    "@schema\n",
    "class Injection(dj.Manual): # Change to Perfusion\n",
    "    definition = \"\"\"\n",
    "    -> Mouse                        # One injection per mouse\n",
    "    injection_number : int          # iterative, how many injections have already been performed\n",
    "    -------\n",
    "    injection_date  : date          # (date) what day was the injection performed\n",
    "    injection_type  : varchar(30)   # (Str) what kind of tracer/injection\n",
    "    assessment=''   : varchar(1000) # (Str) qualitative assessment of injection\n",
    "    \"\"\"\n",
    "@schema\n",
    "class Histology(dj.Manual):\n",
    "    definition = \"\"\"\n",
    "    -> Mouse                        # One Histology per injection per mouse\n",
    "    ------------\n",
    "    region         : varchar(10)    # (Str)\n",
    "    thickness      : int            # (int) thickness of each slice in microns\n",
    "    orientation    : varchar(10)    # (Str)\n",
    "    counter_stain  : varchar(10)    # (Str)\n",
    "    \"\"\"\n",
    "@schema \n",
    "class BrainStackInfo(dj.Manual):\n",
    "    definition = \"\"\"\n",
    "    -> Histology            # One Histology per injection per mouse\n",
    "    ------------\n",
    "    stack_name       : varchar(10)   # (Str) unique designation for each mouse\n",
    "    slides           : int           # (int) number of slides scanned\n",
    "    sections         : int           # (int) total number of histology slices\n",
    "    channels         : int           # (int) number of channels for each slice\n",
    "    \n",
    "    unique index (stack_name)   # Adds constraint, stack name must be unique accross brains\n",
    "    \"\"\"\n",
    "@schema\n",
    "class RawStack(dj.Computed):\n",
    "    definition = \"\"\"\n",
    "    -> BrainStackInfo\n",
    "    \"\"\"\n",
    "        \n",
    "    class Slice(dj.Part):\n",
    "        definition = \"\"\"\n",
    "        -> RawStack\n",
    "        slice_num : int           # (int) the slice's number\n",
    "        -----------\n",
    "        slice_name : varchar(80)  # (Str) the slice's name\n",
    "        slice_img  : blob         # (Img) the raw slice\n",
    "        \"\"\"\n",
    "\n",
    "    def make(self, key):\n",
    "        # Making test image\n",
    "        file = open('sorted_filenames.txt')\n",
    "        file_list = file.read().split('\\n')\n",
    "        image = np.zeros((100,80))\n",
    "        \n",
    "        self.insert1(key)\n",
    "        RawStack.Slice().insert([\n",
    "                dict(key, \n",
    "                     slice_num = file_list[i][1+file_list[i].index(' '):], \n",
    "                     slice_name = file_list[i][:file_list[i].index(' ')], \n",
    "                     slice_img=image)\n",
    "                for i in range(0,len(file_list))  ], \n",
    "                    skip_duplicates=True)\n",
    "@schema\n",
    "class ProcessedStack(dj.Computed):\n",
    "    definition = \"\"\"\n",
    "    -> BrainStackInfo\n",
    "    \"\"\"\n",
    "        \n",
    "    class Slice(dj.Part):\n",
    "        definition = \"\"\"\n",
    "        -> ProcessedStack\n",
    "        slice_num : int           # (int) the slice's number\n",
    "        -----------\n",
    "        slice_name : varchar(80)  # (Str) the slice's name\n",
    "        slice_img  : blob         # (Img) the raw slice\n",
    "        \"\"\"\n",
    "\n",
    "    def make(self, key):\n",
    "        # Making test image\n",
    "        file = open('sorted_filenames.txt')\n",
    "        file_list = file.read().split('\\n')\n",
    "        image = np.ones((100,80))\n",
    "        \n",
    "        self.insert1(key)\n",
    "        ProcessedStack.Slice().insert([\n",
    "                dict(key, \n",
    "                     slice_num = file_list[i][1+file_list[i].index(' '):], \n",
    "                     slice_name = file_list[i][:file_list[i].index(' ')], \n",
    "                     slice_img=image)\n",
    "                for i in range(0,len(file_list))  ], \n",
    "                    skip_duplicates=True)"
   ]
  },
  {
   "cell_type": "code",
   "execution_count": null,
   "metadata": {
    "collapsed": true
   },
   "outputs": [],
   "source": [
    "@schema\n",
    "class Classifier(dj.Manual):\n",
    "    definition = \"\"\"\n",
    "    classifier_id  : int           # \n",
    "    -------\n",
    "    classifier_param_1 : int\n",
    "    classifier_param_2 : varchar(20)\n",
    "    \"\"\""
   ]
  },
  {
   "cell_type": "code",
   "execution_count": 187,
   "metadata": {
    "collapsed": true
   },
   "outputs": [],
   "source": [
    "mouse_name = '2018-0129 04'\n",
    "\n",
    "Mouse.insert1(dict(mouse=mouse_name,\n",
    "                   date_of_birth='2017-12-05',\n",
    "                   sex='M',\n",
    "                   genotype='C57',\n",
    "                   weight='24.4')\n",
    "                 ,skip_duplicates=True)\n",
    "Injection.insert1(dict(mouse=mouse_name,\n",
    "                       injection_number=1,\n",
    "                       injection_date='2018-02-14',\n",
    "                       injection_type='Ntb',\n",
    "                       assessment='Good injection.')\n",
    "                 ,skip_duplicates=True)\n",
    "Histology.insert1((mouse_name,\n",
    "                   'brain',\n",
    "                   '20',\n",
    "                   'Sagittal',\n",
    "                   '??')\n",
    "                 ,skip_duplicates=True)\n",
    "BrainStackInfo.insert1(dict(mouse=mouse_name,\n",
    "                            stack_name='UCSD001',\n",
    "                            slides='125',\n",
    "                            sections='500',\n",
    "                            channels=1)\n",
    "                 ,skip_duplicates=True)\n",
    "RawStack.populate(  )\n",
    "ProcessedStack.populate(  )"
   ]
  },
  {
   "cell_type": "code",
   "execution_count": 170,
   "metadata": {
    "scrolled": true
   },
   "outputs": [
    {
     "data": {
      "text/plain": [
       "array([('2018-0129 04', datetime.date(2017, 12, 5), 'M', 'C57')],\n",
       "      dtype=[('mouse', 'O'), ('date_of_birth', 'O'), ('sex', 'O'), ('genotype', 'O')])"
      ]
     },
     "execution_count": 170,
     "metadata": {},
     "output_type": "execute_result"
    }
   ],
   "source": [
    "(Mouse()&dict(mouse=mouse_name)).fetch( )"
   ]
  },
  {
   "cell_type": "code",
   "execution_count": 51,
   "metadata": {},
   "outputs": [
    {
     "data": {
      "text/plain": [
       "('2018-0129 04', 'Ntb', 'Good injection.')"
      ]
     },
     "execution_count": 51,
     "metadata": {},
     "output_type": "execute_result"
    }
   ],
   "source": [
    "(Injection()&dict(mouse=mouse_name)).fetch()[0]"
   ]
  },
  {
   "cell_type": "code",
   "execution_count": null,
   "metadata": {
    "collapsed": true
   },
   "outputs": [],
   "source": [
    "RawStack.Slice()"
   ]
  },
  {
   "cell_type": "code",
   "execution_count": 190,
   "metadata": {},
   "outputs": [
    {
     "data": {
      "image/svg+xml": [
       "<svg height=\"302pt\" viewBox=\"0.00 0.00 224.09 302.50\" width=\"224pt\" xmlns=\"http://www.w3.org/2000/svg\" xmlns:xlink=\"http://www.w3.org/1999/xlink\">\n",
       "<g class=\"graph\" id=\"graph0\" transform=\"scale(1 1) rotate(0) translate(4 298.499)\">\n",
       "<title>%3</title>\n",
       "<polygon fill=\"#ffffff\" points=\"-4,4 -4,-298.499 220.0884,-298.499 220.0884,4 -4,4\" stroke=\"transparent\"/>\n",
       "<!-- Injection -->\n",
       "<g class=\"node\" id=\"node1\">\n",
       "<title>Injection</title>\n",
       "<g id=\"a_node1\"><a xlink:title=\"→ Mouse\r",
       "injection_number     \r",
       "------------------------------\r",
       "injection_date       \r",
       "injection_type       \r",
       "assessment=&quot;&quot;        \r",
       "\">\n",
       "<polygon fill=\"#00ff00\" fill-opacity=\"0.188235\" points=\"63.5506,-223.499 3.1584,-223.499 3.1584,-188.499 63.5506,-188.499 63.5506,-223.499\" stroke=\"#00ff00\" stroke-opacity=\"0.188235\"/>\n",
       "<text fill=\"#006400\" font-family=\"arial\" font-size=\"12.00\" text-anchor=\"middle\" x=\"33.3545\" y=\"-203.2984\">Injection</text>\n",
       "</a>\n",
       "</g>\n",
       "</g>\n",
       "<!-- RawStack.Slice -->\n",
       "<g class=\"node\" id=\"node2\">\n",
       "<title>RawStack.Slice</title>\n",
       "<g id=\"a_node2\"><a xlink:title=\"→ RawStack\r",
       "slice_num            \r",
       "------------------------------\r",
       "slice_name           \r",
       "slice_img            \r",
       "\">\n",
       "<polygon fill=\"transparent\" points=\"216.3236,-19.7551 130.3854,-19.7551 130.3854,.2561 216.3236,.2561 216.3236,-19.7551\" stroke=\"transparent\"/>\n",
       "<text fill=\"#000000\" font-family=\"arial\" font-size=\"10.00\" text-anchor=\"middle\" x=\"173.3545\" y=\"-7.499\">RawStack.Slice</text>\n",
       "</a>\n",
       "</g>\n",
       "</g>\n",
       "<!-- Clasifier -->\n",
       "<g class=\"node\" id=\"node3\">\n",
       "<title>Clasifier</title>\n",
       "<g id=\"a_node3\"><a xlink:title=\"classifier_id        \r",
       "------------------------------\r",
       "classifier_param_1   \r",
       "classifier_param_2   \r",
       "\">\n",
       "<polygon fill=\"#00ff00\" fill-opacity=\"0.188235\" points=\"177.1973,-294.499 117.5117,-294.499 117.5117,-259.499 177.1973,-259.499 177.1973,-294.499\" stroke=\"#00ff00\" stroke-opacity=\"0.188235\"/>\n",
       "<text fill=\"#006400\" font-family=\"arial\" font-size=\"12.00\" text-anchor=\"middle\" x=\"147.3545\" y=\"-274.2984\">Clasifier</text>\n",
       "</a>\n",
       "</g>\n",
       "</g>\n",
       "<!-- Mouse -->\n",
       "<g class=\"node\" id=\"node4\">\n",
       "<title>Mouse</title>\n",
       "<g id=\"a_node4\"><a xlink:title=\"mouse                \r",
       "------------------------------\r",
       "date_of_birth        \r",
       "sex                  \r",
       "genotype             \r",
       "weight               \r",
       "\">\n",
       "<polygon fill=\"#00ff00\" fill-opacity=\"0.188235\" points=\"99.3721,-294.499 47.3369,-294.499 47.3369,-259.499 99.3721,-259.499 99.3721,-294.499\" stroke=\"#00ff00\" stroke-opacity=\"0.188235\"/>\n",
       "<text fill=\"#006400\" font-family=\"arial\" font-size=\"12.00\" text-anchor=\"middle\" x=\"73.3545\" y=\"-274.2984\">Mouse</text>\n",
       "</a>\n",
       "</g>\n",
       "</g>\n",
       "<!-- Mouse&#45;&gt;Injection -->\n",
       "<g class=\"edge\" id=\"edge1\">\n",
       "<title>Mouse-&gt;Injection</title>\n",
       "<path d=\"M63.4668,-259.4485C57.3592,-248.6074 49.5441,-234.7356 43.4062,-223.8408\" fill=\"none\" stroke=\"#000000\" stroke-opacity=\"0.250980\" stroke-width=\".75\"/>\n",
       "</g>\n",
       "<!-- Histology -->\n",
       "<g class=\"node\" id=\"node7\">\n",
       "<title>Histology</title>\n",
       "<g id=\"a_node7\"><a xlink:title=\"→ Mouse\r",
       "------------------------------\r",
       "region               \r",
       "thickness            \r",
       "orientation          \r",
       "counter_stain        \r",
       "\">\n",
       "<polygon fill=\"#00ff00\" fill-opacity=\"0.188235\" points=\"147.209,-223.499 81.5,-223.499 81.5,-188.499 147.209,-188.499 147.209,-223.499\" stroke=\"#00ff00\" stroke-opacity=\"0.188235\"/>\n",
       "<text fill=\"#006400\" font-family=\"arial\" font-size=\"12.00\" text-anchor=\"middle\" x=\"114.3545\" y=\"-203.2984\">Histology</text>\n",
       "</a>\n",
       "</g>\n",
       "</g>\n",
       "<!-- Mouse&#45;&gt;Histology -->\n",
       "<g class=\"edge\" id=\"edge2\">\n",
       "<title>Mouse-&gt;Histology</title>\n",
       "<path d=\"M83.4893,-259.4485C89.7497,-248.6074 97.7601,-234.7356 104.0515,-223.8408\" fill=\"none\" stroke=\"#000000\" stroke-opacity=\"0.250980\" stroke-width=\"2\"/>\n",
       "</g>\n",
       "<!-- ProcessedStack -->\n",
       "<g class=\"node\" id=\"node5\">\n",
       "<title>ProcessedStack</title>\n",
       "<g id=\"a_node5\"><a xlink:title=\"→ BrainStackInfo\r",
       "\">\n",
       "<ellipse cx=\"56.3545\" cy=\"-68.499\" fill=\"#ff0000\" fill-opacity=\"0.125490\" rx=\"12.963\" ry=\"13\" stroke=\"#ff0000\" stroke-opacity=\"0.125490\"/>\n",
       "<text fill=\"#7f0000\" font-family=\"arial\" font-size=\"12.00\" text-anchor=\"middle\" x=\"56.3545\" y=\"-65.7984\">ProcessedStack</text>\n",
       "</a>\n",
       "</g>\n",
       "</g>\n",
       "<!-- ProcessedStack.Slice -->\n",
       "<g class=\"node\" id=\"node8\">\n",
       "<title>ProcessedStack.Slice</title>\n",
       "<g id=\"a_node8\"><a xlink:title=\"→ ProcessedStack\r",
       "slice_num            \r",
       "------------------------------\r",
       "slice_name           \r",
       "slice_img            \r",
       "\">\n",
       "<polygon fill=\"transparent\" points=\"112.5639,-19.7551 .1451,-19.7551 .1451,.2561 112.5639,.2561 112.5639,-19.7551\" stroke=\"transparent\"/>\n",
       "<text fill=\"#000000\" font-family=\"arial\" font-size=\"10.00\" text-anchor=\"middle\" x=\"56.3545\" y=\"-7.499\">ProcessedStack.Slice</text>\n",
       "</a>\n",
       "</g>\n",
       "</g>\n",
       "<!-- ProcessedStack&#45;&gt;ProcessedStack.Slice -->\n",
       "<g class=\"edge\" id=\"edge3\">\n",
       "<title>ProcessedStack-&gt;ProcessedStack.Slice</title>\n",
       "<path d=\"M56.3545,-55.4606C56.3545,-44.6431 56.3545,-29.4915 56.3545,-19.6491\" fill=\"none\" stroke=\"#000000\" stroke-opacity=\"0.250980\" stroke-width=\".75\"/>\n",
       "</g>\n",
       "<!-- BrainStackInfo -->\n",
       "<g class=\"node\" id=\"node6\">\n",
       "<title>BrainStackInfo</title>\n",
       "<g id=\"a_node6\"><a xlink:title=\"→ Histology\r",
       "------------------------------\r",
       "stack_name           \r",
       "slides               \r",
       "sections             \r",
       "channels             \r",
       "UNIQUE INDEX (stack_name)\r",
       "\">\n",
       "<polygon fill=\"#00ff00\" fill-opacity=\"0.188235\" points=\"161.3955,-152.499 67.3135,-152.499 67.3135,-117.499 161.3955,-117.499 161.3955,-152.499\" stroke=\"#00ff00\" stroke-opacity=\"0.188235\"/>\n",
       "<text fill=\"#006400\" font-family=\"arial\" font-size=\"12.00\" text-anchor=\"middle\" x=\"114.3545\" y=\"-132.2984\">BrainStackInfo</text>\n",
       "</a>\n",
       "</g>\n",
       "</g>\n",
       "<!-- BrainStackInfo&#45;&gt;ProcessedStack -->\n",
       "<g class=\"edge\" id=\"edge4\">\n",
       "<title>BrainStackInfo-&gt;ProcessedStack</title>\n",
       "<path d=\"M98.8116,-117.1782C87.9396,-104.713 73.8255,-88.5304 64.9262,-78.327\" fill=\"none\" stroke=\"#000000\" stroke-opacity=\"0.250980\" stroke-width=\"2\"/>\n",
       "</g>\n",
       "<!-- RawStack -->\n",
       "<g class=\"node\" id=\"node9\">\n",
       "<title>RawStack</title>\n",
       "<g id=\"a_node9\"><a xlink:title=\"→ BrainStackInfo\r",
       "\">\n",
       "<ellipse cx=\"173.3545\" cy=\"-68.499\" fill=\"#ff0000\" fill-opacity=\"0.125490\" rx=\"13.0033\" ry=\"13\" stroke=\"#ff0000\" stroke-opacity=\"0.125490\"/>\n",
       "<text fill=\"#7f0000\" font-family=\"arial\" font-size=\"12.00\" text-anchor=\"middle\" x=\"173.3545\" y=\"-65.7984\">RawStack</text>\n",
       "</a>\n",
       "</g>\n",
       "</g>\n",
       "<!-- BrainStackInfo&#45;&gt;RawStack -->\n",
       "<g class=\"edge\" id=\"edge5\">\n",
       "<title>BrainStackInfo-&gt;RawStack</title>\n",
       "<path d=\"M130.1654,-117.1782C141.2248,-104.713 155.5823,-88.5304 164.635,-78.327\" fill=\"none\" stroke=\"#000000\" stroke-opacity=\"0.250980\" stroke-width=\"2\"/>\n",
       "</g>\n",
       "<!-- Histology&#45;&gt;BrainStackInfo -->\n",
       "<g class=\"edge\" id=\"edge6\">\n",
       "<title>Histology-&gt;BrainStackInfo</title>\n",
       "<path d=\"M114.3545,-188.4485C114.3545,-177.6074 114.3545,-163.7356 114.3545,-152.8408\" fill=\"none\" stroke=\"#000000\" stroke-opacity=\"0.250980\" stroke-width=\"2\"/>\n",
       "</g>\n",
       "<!-- RawStack&#45;&gt;RawStack.Slice -->\n",
       "<g class=\"edge\" id=\"edge7\">\n",
       "<title>RawStack-&gt;RawStack.Slice</title>\n",
       "<path d=\"M173.3545,-55.4606C173.3545,-44.6431 173.3545,-29.4915 173.3545,-19.6491\" fill=\"none\" stroke=\"#000000\" stroke-opacity=\"0.250980\" stroke-width=\".75\"/>\n",
       "</g>\n",
       "</g>\n",
       "</svg>"
      ],
      "text/plain": [
       "<datajoint.erd.ERD at 0x1159fe828>"
      ]
     },
     "execution_count": 190,
     "metadata": {},
     "output_type": "execute_result"
    }
   ],
   "source": [
    "dj.ERD(schema)"
   ]
  },
  {
   "cell_type": "code",
   "execution_count": null,
   "metadata": {
    "collapsed": true
   },
   "outputs": [],
   "source": []
  }
 ],
 "metadata": {
  "kernelspec": {
   "display_name": "py_37_env",
   "language": "python",
   "name": "py_37_env"
  },
  "language_info": {
   "codemirror_mode": {
    "name": "ipython",
    "version": 3
   },
   "file_extension": ".py",
   "mimetype": "text/x-python",
   "name": "python",
   "nbconvert_exporter": "python",
   "pygments_lexer": "ipython3",
   "version": "3.7.0"
  }
 },
 "nbformat": 4,
 "nbformat_minor": 2
}
