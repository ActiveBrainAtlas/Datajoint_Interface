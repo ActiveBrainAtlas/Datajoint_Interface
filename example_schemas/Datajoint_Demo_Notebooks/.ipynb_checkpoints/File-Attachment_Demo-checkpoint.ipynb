{
 "cells": [
  {
   "cell_type": "markdown",
   "metadata": {},
   "source": [
    "# Attachments and configurable blobs\n",
    "This notebooks demonstrates the use of DataJoint's support for storing complex datatypes (blobs) and file attachments.\n",
    "\n",
    "__blob__ in the context of DataJoint refers to an attribute that can store complex data structures such as numeric arrays.\n",
    "\n",
    "__attachment__ refers to an attribute that can store an entire file with its filename, etc.\n",
    "\n",
    "These features are currently in pre-release. To enable them, use the following upgrade command\n",
    "\n",
    "&nbsp;&nbsp;&nbsp;&nbsp;&nbsp;```$ pip3 install --upgrade --pre datajoint```\n",
    "\n",
    "We also assume that the datajoint credentials are already saved and the S3 credentials are saved in \"```./s3-creds.json```\". If you do not have these credentials, please obtain them before the demo"
   ]
  },
  {
   "cell_type": "markdown",
   "metadata": {},
   "source": [
    "## Imports and create the schema common_attach"
   ]
  },
  {
   "cell_type": "code",
   "execution_count": 1,
   "metadata": {},
   "outputs": [
    {
     "ename": "ModuleNotFoundError",
     "evalue": "No module named 'imageio'",
     "output_type": "error",
     "traceback": [
      "\u001b[0;31m---------------------------------------------------------------------------\u001b[0m",
      "\u001b[0;31mModuleNotFoundError\u001b[0m                       Traceback (most recent call last)",
      "\u001b[0;32m<ipython-input-1-2cc8f5612dcb>\u001b[0m in \u001b[0;36m<module>\u001b[0;34m\u001b[0m\n\u001b[1;32m      3\u001b[0m \u001b[0;32mfrom\u001b[0m \u001b[0mmatplotlib\u001b[0m \u001b[0;32mimport\u001b[0m \u001b[0mpyplot\u001b[0m \u001b[0;32mas\u001b[0m \u001b[0mplt\u001b[0m\u001b[0;34m\u001b[0m\u001b[0m\n\u001b[1;32m      4\u001b[0m \u001b[0;32mimport\u001b[0m \u001b[0mos\u001b[0m\u001b[0;34m\u001b[0m\u001b[0m\n\u001b[0;32m----> 5\u001b[0;31m \u001b[0;32mimport\u001b[0m \u001b[0mimageio\u001b[0m\u001b[0;34m\u001b[0m\u001b[0m\n\u001b[0m\u001b[1;32m      6\u001b[0m \u001b[0;32mimport\u001b[0m \u001b[0mrequests\u001b[0m\u001b[0;34m\u001b[0m\u001b[0m\n\u001b[1;32m      7\u001b[0m \u001b[0;32mfrom\u001b[0m \u001b[0mipywidgets\u001b[0m \u001b[0;32mimport\u001b[0m \u001b[0mImage\u001b[0m\u001b[0;34m\u001b[0m\u001b[0m\n",
      "\u001b[0;31mModuleNotFoundError\u001b[0m: No module named 'imageio'"
     ]
    }
   ],
   "source": [
    "%matplotlib inline\n",
    "from IPython import display\n",
    "from matplotlib import pyplot as plt\n",
    "import os\n",
    "import imageio\n",
    "import requests\n",
    "from ipywidgets import Image\n",
    "import ipywidgets\n",
    "\n",
    "import datajoint as dj"
   ]
  },
  {
   "cell_type": "code",
   "execution_count": 2,
   "metadata": {},
   "outputs": [
    {
     "ename": "NameError",
     "evalue": "name 'dj' is not defined",
     "output_type": "error",
     "traceback": [
      "\u001b[0;31m---------------------------------------------------------------------------\u001b[0m",
      "\u001b[0;31mNameError\u001b[0m                                 Traceback (most recent call last)",
      "\u001b[0;32m<ipython-input-2-a55ba0c7a349>\u001b[0m in \u001b[0;36m<module>\u001b[0;34m\u001b[0m\n\u001b[0;32m----> 1\u001b[0;31m \u001b[0mschema\u001b[0m \u001b[0;34m=\u001b[0m \u001b[0mdj\u001b[0m\u001b[0;34m.\u001b[0m\u001b[0mschema\u001b[0m\u001b[0;34m(\u001b[0m\u001b[0;34m'common_demo_attach'\u001b[0m\u001b[0;34m)\u001b[0m\u001b[0;34m\u001b[0m\u001b[0m\n\u001b[0m",
      "\u001b[0;31mNameError\u001b[0m: name 'dj' is not defined"
     ]
    }
   ],
   "source": [
    "schema = dj.schema('common_demo_attach')"
   ]
  },
  {
   "cell_type": "markdown",
   "metadata": {
    "collapsed": true
   },
   "source": [
    "## Lookup of images on the web\n",
    "We create a lookup table, WebImage to point to some images available on the web"
   ]
  },
  {
   "cell_type": "code",
   "execution_count": null,
   "metadata": {
    "collapsed": true
   },
   "outputs": [],
   "source": [
    "@schema\n",
    "class WebImage(dj.Lookup):\n",
    "    definition = \"\"\"\n",
    "    # A reference to a web image\n",
    "    image_number : int\n",
    "    ---\n",
    "    image_name : varchar(30)\n",
    "    image_description : varchar(1024)\n",
    "    image_url : varchar(1024)\n",
    "    \n",
    "    unique index(image_name)\n",
    "    \"\"\"\n",
    "    contents = [\n",
    "        (0, \"pyramindal neuron\", \n",
    "         \n",
    "         'Coronal section containing the chronically imaged pyramidal neuron \"dow\" '\\\n",
    "         '(visualized by green GFP) does not stain for GABA (visualized by antibody staining in red). '\\\n",
    "         'Confocal image stack, overlay of GFP and GABA channels. Scale bar: 100 um',\n",
    "         \n",
    "         \"https://upload.wikimedia.org/wikipedia/commons/d/dc/PLoSBiol4.e126.Fig6fNeuron.jpg\"\n",
    "        ),\n",
    "        (1, \"striatal neuron\", \n",
    "         \n",
    "         \"Mouse spiny striatal projection neuron expressing a transgenic fluorescent protein \"\\\n",
    "         \"(colored yellow) delivered by a recombinant virus (AAV). \"\\\n",
    "         \"The striatal interneuron are stainerd in green for the neurokinin-1 receptor.\",\n",
    "         \n",
    "         \"https://upload.wikimedia.org/wikipedia/commons/e/e8/Striatal_neuron_in_an_interneuron_cage.jpg\"\n",
    "        )\n",
    "    ]\n"
   ]
  },
  {
   "cell_type": "code",
   "execution_count": null,
   "metadata": {
    "collapsed": true
   },
   "outputs": [],
   "source": [
    "WebImage()"
   ]
  },
  {
   "cell_type": "markdown",
   "metadata": {},
   "source": [
    "## Preview the images directly from the web¶"
   ]
  },
  {
   "cell_type": "code",
   "execution_count": null,
   "metadata": {
    "collapsed": true
   },
   "outputs": [],
   "source": [
    "Image.from_url((WebImage & 'image_number=0').fetch1('image_url'))"
   ]
  },
  {
   "cell_type": "code",
   "execution_count": null,
   "metadata": {
    "collapsed": true
   },
   "outputs": [],
   "source": [
    "Image.from_url((WebImage & 'image_number=1').fetch1('image_url'))"
   ]
  },
  {
   "cell_type": "markdown",
   "metadata": {},
   "source": [
    "## Configure external stores\n",
    "The following is a configuration defining two external stores. This should only be done once for all users and the configuration file must be saved and provided to all users.\n",
    "\n",
    "The first store is named `-shared` and is hosted on amazon S3 using the credentials stored in s3-creds.json.\n",
    "\n",
    "The second store is named `-local` and it uses the local path `./dj-store`.\n",
    "\n",
    "Now these repositories can be used for blobs and attachments."
   ]
  },
  {
   "cell_type": "code",
   "execution_count": null,
   "metadata": {
    "collapsed": true
   },
   "outputs": [],
   "source": [
    "## Storage configuration\n",
    "\n",
    "# load S3 credentials\n",
    "import json\n",
    "with open('s3-creds.json') as f:\n",
    "    s3_creds = json.load(f)\n",
    " \n",
    "# set up stores\n",
    "dj.config['stores'] = {\n",
    "        \n",
    "    '-shared': {    #  store in s3\n",
    "        'protocol' : 's3',\n",
    "        'endpoint' : 's3.amazonaws.com',\n",
    "        'bucket' : 'mousebrainatlas-datajoint',\n",
    "        'location' : 'dj-store',\n",
    "        **s3_creds\n",
    "    },\n",
    "    \n",
    "    '-local': {  # store in files\n",
    "        'protocol' : 'file',\n",
    "        'location' : os.path.abspath('./dj-store')\n",
    "    }\n",
    "}"
   ]
  },
  {
   "cell_type": "code",
   "execution_count": null,
   "metadata": {
    "collapsed": true
   },
   "outputs": [],
   "source": []
  }
 ],
 "metadata": {
  "kernelspec": {
   "display_name": "Python_3",
   "language": "python",
   "name": "python_3"
  },
  "language_info": {
   "codemirror_mode": {
    "name": "ipython",
    "version": 3
   },
   "file_extension": ".py",
   "mimetype": "text/x-python",
   "name": "python",
   "nbconvert_exporter": "python",
   "pygments_lexer": "ipython3",
   "version": "3.7.0"
  }
 },
 "nbformat": 4,
 "nbformat_minor": 2
}
