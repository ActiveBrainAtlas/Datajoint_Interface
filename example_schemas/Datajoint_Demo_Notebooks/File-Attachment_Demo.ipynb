{
 "cells": [
  {
   "cell_type": "code",
   "execution_count": null,
   "metadata": {
    "collapsed": true
   },
   "outputs": [],
   "source": [
    "# https://nbviewer.jupyter.org/github/dimitri-yatsenko/Datajoint_Interface/blob/master/demo/AttachmentDemo.ipynb"
   ]
  },
  {
   "cell_type": "markdown",
   "metadata": {},
   "source": [
    "# Attachments and configurable blobs\n",
    "This notebooks demonstrates the use of DataJoint's support for storing complex datatypes (blobs) and file attachments.\n",
    "\n",
    "__blob__ in the context of DataJoint refers to an attribute that can store complex data structures such as numeric arrays.\n",
    "\n",
    "__attachment__ refers to an attribute that can store an entire file with its filename, etc.\n",
    "\n",
    "These features are currently in pre-release. To enable them, use the following upgrade command\n",
    "\n",
    "&nbsp;&nbsp;&nbsp;&nbsp;&nbsp;```$ pip3 install --upgrade --pre datajoint```\n",
    "\n",
    "We also assume that the datajoint credentials are already saved and the S3 credentials are saved in \"```./s3-creds.json```\". If you do not have these credentials, please obtain them before the demo"
   ]
  },
  {
   "cell_type": "markdown",
   "metadata": {},
   "source": [
    "## Imports and create the schema common_attach"
   ]
  },
  {
   "cell_type": "code",
   "execution_count": 11,
   "metadata": {},
   "outputs": [
    {
     "name": "stdout",
     "output_type": "stream",
     "text": [
      "/bin/sh: imageio: command not found\r\n"
     ]
    }
   ],
   "source": [
    "! which imageio"
   ]
  },
  {
   "cell_type": "code",
   "execution_count": 8,
   "metadata": {},
   "outputs": [
    {
     "name": "stdout",
     "output_type": "stream",
     "text": [
      "/usr/local/bin/python3\r\n"
     ]
    }
   ],
   "source": [
    "! which python3"
   ]
  },
  {
   "cell_type": "code",
   "execution_count": 1,
   "metadata": {},
   "outputs": [
    {
     "ename": "ModuleNotFoundError",
     "evalue": "No module named 'imageio'",
     "output_type": "error",
     "traceback": [
      "\u001b[0;31m---------------------------------------------------------------------------\u001b[0m",
      "\u001b[0;31mModuleNotFoundError\u001b[0m                       Traceback (most recent call last)",
      "\u001b[0;32m<ipython-input-1-2cc8f5612dcb>\u001b[0m in \u001b[0;36m<module>\u001b[0;34m\u001b[0m\n\u001b[1;32m      3\u001b[0m \u001b[0;32mfrom\u001b[0m \u001b[0mmatplotlib\u001b[0m \u001b[0;32mimport\u001b[0m \u001b[0mpyplot\u001b[0m \u001b[0;32mas\u001b[0m \u001b[0mplt\u001b[0m\u001b[0;34m\u001b[0m\u001b[0m\n\u001b[1;32m      4\u001b[0m \u001b[0;32mimport\u001b[0m \u001b[0mos\u001b[0m\u001b[0;34m\u001b[0m\u001b[0m\n\u001b[0;32m----> 5\u001b[0;31m \u001b[0;32mimport\u001b[0m \u001b[0mimageio\u001b[0m\u001b[0;34m\u001b[0m\u001b[0m\n\u001b[0m\u001b[1;32m      6\u001b[0m \u001b[0;32mimport\u001b[0m \u001b[0mrequests\u001b[0m\u001b[0;34m\u001b[0m\u001b[0m\n\u001b[1;32m      7\u001b[0m \u001b[0;32mfrom\u001b[0m \u001b[0mipywidgets\u001b[0m \u001b[0;32mimport\u001b[0m \u001b[0mImage\u001b[0m\u001b[0;34m\u001b[0m\u001b[0m\n",
      "\u001b[0;31mModuleNotFoundError\u001b[0m: No module named 'imageio'"
     ]
    }
   ],
   "source": [
    "%matplotlib inline\n",
    "from IPython import display\n",
    "from matplotlib import pyplot as plt\n",
    "import os\n",
    "import imageio\n",
    "import requests\n",
    "from ipywidgets import Image\n",
    "import ipywidgets\n",
    "\n",
    "import datajoint as dj"
   ]
  },
  {
   "cell_type": "code",
   "execution_count": 2,
   "metadata": {},
   "outputs": [
    {
     "ename": "NameError",
     "evalue": "name 'dj' is not defined",
     "output_type": "error",
     "traceback": [
      "\u001b[0;31m---------------------------------------------------------------------------\u001b[0m",
      "\u001b[0;31mNameError\u001b[0m                                 Traceback (most recent call last)",
      "\u001b[0;32m<ipython-input-2-a55ba0c7a349>\u001b[0m in \u001b[0;36m<module>\u001b[0;34m\u001b[0m\n\u001b[0;32m----> 1\u001b[0;31m \u001b[0mschema\u001b[0m \u001b[0;34m=\u001b[0m \u001b[0mdj\u001b[0m\u001b[0;34m.\u001b[0m\u001b[0mschema\u001b[0m\u001b[0;34m(\u001b[0m\u001b[0;34m'common_demo_attach'\u001b[0m\u001b[0;34m)\u001b[0m\u001b[0;34m\u001b[0m\u001b[0m\n\u001b[0m",
      "\u001b[0;31mNameError\u001b[0m: name 'dj' is not defined"
     ]
    }
   ],
   "source": [
    "schema = dj.schema('common_demo_attach')"
   ]
  },
  {
   "cell_type": "markdown",
   "metadata": {
    "collapsed": true
   },
   "source": [
    "## Lookup of images on the web\n",
    "We create a lookup table, WebImage to point to some images available on the web"
   ]
  },
  {
   "cell_type": "code",
   "execution_count": null,
   "metadata": {
    "collapsed": true
   },
   "outputs": [],
   "source": [
    "@schema\n",
    "class WebImage(dj.Lookup):\n",
    "    definition = \"\"\"\n",
    "    # A reference to a web image\n",
    "    image_number : int\n",
    "    ---\n",
    "    image_name : varchar(30)\n",
    "    image_description : varchar(1024)\n",
    "    image_url : varchar(1024)\n",
    "    \n",
    "    unique index(image_name)\n",
    "    \"\"\"\n",
    "    contents = [\n",
    "        (0, \"pyramindal neuron\", \n",
    "         \n",
    "         'Coronal section containing the chronically imaged pyramidal neuron \"dow\" '\\\n",
    "         '(visualized by green GFP) does not stain for GABA (visualized by antibody staining in red). '\\\n",
    "         'Confocal image stack, overlay of GFP and GABA channels. Scale bar: 100 um',\n",
    "         \n",
    "         \"https://upload.wikimedia.org/wikipedia/commons/d/dc/PLoSBiol4.e126.Fig6fNeuron.jpg\"\n",
    "        ),\n",
    "        (1, \"striatal neuron\", \n",
    "         \n",
    "         \"Mouse spiny striatal projection neuron expressing a transgenic fluorescent protein \"\\\n",
    "         \"(colored yellow) delivered by a recombinant virus (AAV). \"\\\n",
    "         \"The striatal interneuron are stainerd in green for the neurokinin-1 receptor.\",\n",
    "         \n",
    "         \"https://upload.wikimedia.org/wikipedia/commons/e/e8/Striatal_neuron_in_an_interneuron_cage.jpg\"\n",
    "        )\n",
    "    ]\n"
   ]
  },
  {
   "cell_type": "code",
   "execution_count": null,
   "metadata": {
    "collapsed": true
   },
   "outputs": [],
   "source": [
    "WebImage()"
   ]
  },
  {
   "cell_type": "markdown",
   "metadata": {},
   "source": [
    "## Preview the images directly from the web¶"
   ]
  },
  {
   "cell_type": "code",
   "execution_count": null,
   "metadata": {
    "collapsed": true
   },
   "outputs": [],
   "source": [
    "Image.from_url((WebImage & 'image_number=0').fetch1('image_url'))"
   ]
  },
  {
   "cell_type": "code",
   "execution_count": null,
   "metadata": {
    "collapsed": true
   },
   "outputs": [],
   "source": [
    "Image.from_url((WebImage & 'image_number=1').fetch1('image_url'))"
   ]
  },
  {
   "cell_type": "markdown",
   "metadata": {},
   "source": [
    "## Configure external stores\n",
    "The following is a configuration defining two external stores. This should only be done once for all users and the configuration file must be saved and provided to all users.\n",
    "\n",
    "The first store is named `-shared` and is hosted on amazon S3 using the credentials stored in s3-creds.json.\n",
    "\n",
    "The second store is named `-local` and it uses the local path `./dj-store`.\n",
    "\n",
    "Now these repositories can be used for blobs and attachments."
   ]
  },
  {
   "cell_type": "code",
   "execution_count": null,
   "metadata": {
    "collapsed": true
   },
   "outputs": [],
   "source": [
    "## Storage configuration\n",
    "\n",
    "# load S3 credentials\n",
    "import json\n",
    "with open('s3-creds.json') as f:\n",
    "    s3_creds = json.load(f)\n",
    " \n",
    "# set up stores\n",
    "dj.config['stores'] = {\n",
    "        \n",
    "    '-shared': {    #  store in s3\n",
    "        'protocol' : 's3',\n",
    "        'endpoint' : 's3.amazonaws.com',\n",
    "        'bucket' : 'mousebrainatlas-datajoint',\n",
    "        'location' : 'dj-store',\n",
    "        **s3_creds\n",
    "    },\n",
    "    \n",
    "    '-local': {  # store in files\n",
    "        'protocol' : 'file',\n",
    "        'location' : os.path.abspath('./dj-store')\n",
    "    }\n",
    "}"
   ]
  },
  {
   "cell_type": "markdown",
   "metadata": {
    "collapsed": true
   },
   "source": [
    "## Define a table with attachments\n",
    "Now we can use the stores to define attachment attributes in the form attribute_name : attach-store # comment where the store is either -local or -shared as defined above.\n",
    "\n",
    "Let's define the table DownloadFile that automatically downloads and attaches files from WebImage and stores the attachments in the shared store."
   ]
  },
  {
   "cell_type": "code",
   "execution_count": null,
   "metadata": {
    "collapsed": true
   },
   "outputs": [],
   "source": [
    "@schema\n",
    "class OriginalFile(dj.Imported):\n",
    "    definition = \"\"\"\n",
    "    -> WebImage\n",
    "    ---\n",
    "    image_file : attach-shared  \n",
    "    \"\"\"\n",
    "    \n",
    "    def make(self, key):\n",
    "        # get the URL\n",
    "        url = (WebImage & key).fetch1('image_url')\n",
    "        \n",
    "        # download the file from the web\n",
    "        local_file = os.path.join(os.path.abspath('.'), url.split('/')[-1])\n",
    "        with open(local_file, 'wb') as f:\n",
    "            f.write(requests.get(url).content)\n",
    "            \n",
    "        # attach the file\n",
    "        self.insert1(dict(key, image_file=local_file))\n",
    "        \n",
    "        # delete the downloaded file\n",
    "        os.remove(local_file)"
   ]
  },
  {
   "cell_type": "code",
   "execution_count": null,
   "metadata": {
    "collapsed": true
   },
   "outputs": [],
   "source": [
    "# perform the download\n",
    "OriginalFile.populate()"
   ]
  },
  {
   "cell_type": "code",
   "execution_count": null,
   "metadata": {
    "collapsed": true
   },
   "outputs": [],
   "source": [
    "# preview downloaded attachment\n",
    "file = (OriginalFile & 'image_number=1').fetch1('image_file')\n",
    "Image.from_file(file)\n",
    "os.remove(file)"
   ]
  },
  {
   "cell_type": "markdown",
   "metadata": {},
   "source": [
    "## Extract images into blobs\n",
    "Now let's define another class that extracts imags from attached files and stores as blobs in the local store."
   ]
  },
  {
   "cell_type": "code",
   "execution_count": null,
   "metadata": {
    "collapsed": true
   },
   "outputs": [],
   "source": [
    "# Declare a table with a configurable blob\n",
    "@schema\n",
    "class Slide(dj.Computed):\n",
    "    definition = \"\"\"\n",
    "    -> OriginalFile\n",
    "    ---\n",
    "    image_array : blob-local  # array in specified store\n",
    "    \"\"\"\n",
    "    \n",
    "    def make(self, key):\n",
    "        # get the attached file\n",
    "        file = (OriginalFile & key).fetch1('image_file')\n",
    "        \n",
    "        # save image data\n",
    "        self.insert1(dict(key, image_array=imageio.imread(file)))\n",
    "        \n",
    "        # remove the downloaded file\n",
    "        os.remove(file)\n"
   ]
  },
  {
   "cell_type": "code",
   "execution_count": null,
   "metadata": {
    "collapsed": true
   },
   "outputs": [],
   "source": [
    "Slide.populate()"
   ]
  },
  {
   "cell_type": "code",
   "execution_count": null,
   "metadata": {
    "collapsed": true
   },
   "outputs": [],
   "source": [
    "Slide()"
   ]
  },
  {
   "cell_type": "code",
   "execution_count": null,
   "metadata": {
    "collapsed": true
   },
   "outputs": [],
   "source": [
    "# Plot image form a blob\n",
    "plt.imshow((Slide & 'image_number=0').fetch1('image_array'));"
   ]
  },
  {
   "cell_type": "markdown",
   "metadata": {},
   "source": [
    "## Caching\n",
    "By default, the data from blobs and attachments are retrieved from remote stores with every fetch command. For repeated queries, a cache folder may be specified to improve performance and reduce cost of operations. After the first fetch of a given blob or attachment, it will be read from the cache."
   ]
  },
  {
   "cell_type": "code",
   "execution_count": null,
   "metadata": {
    "collapsed": true
   },
   "outputs": [],
   "source": [
    "# configure the cache\n",
    "dj.config['cache'] = './dj-cache'"
   ]
  },
  {
   "cell_type": "code",
   "execution_count": null,
   "metadata": {
    "collapsed": true
   },
   "outputs": [],
   "source": [
    "# clear the cache for the timing test\n",
    "import shutil\n",
    "if os.path.isdir(dj.config['cache']):\n",
    "    shutil.rmtree(dj.config['cache'])"
   ]
  },
  {
   "cell_type": "code",
   "execution_count": null,
   "metadata": {
    "collapsed": true
   },
   "outputs": [],
   "source": [
    "%%timeit -n1 -r1\n",
    "\n",
    "# first time no cache\n",
    "files = OriginalFile.fetch('image_file')"
   ]
  },
  {
   "cell_type": "code",
   "execution_count": null,
   "metadata": {
    "collapsed": true
   },
   "outputs": [],
   "source": [
    "%%timeit -n1 -r1\n",
    "\n",
    "# now with cache\n",
    "files = OriginalFile.fetch('image_file')"
   ]
  },
  {
   "cell_type": "markdown",
   "metadata": {},
   "source": [
    "## Deleting\n",
    "Deleting from tables using external storage is just as simple and transaction-safe as with all other kinds of attributes. Simply use the delete method:"
   ]
  },
  {
   "cell_type": "code",
   "execution_count": null,
   "metadata": {
    "collapsed": true
   },
   "outputs": [],
   "source": [
    "(WebImage & 'image_number=0').delete()"
   ]
  },
  {
   "cell_type": "markdown",
   "metadata": {},
   "source": [
    "## Cleanup\n",
    "For the sake of performance, deleting from tables does not immediately remove the data from external storage. The data must cleared periodically at non-critical times.\n",
    "\n",
    "The current contents of external storage can be inspected by querying schema.external:"
   ]
  },
  {
   "cell_type": "code",
   "execution_count": null,
   "metadata": {
    "collapsed": true
   },
   "outputs": [],
   "source": [
    "schema.external\n"
   ]
  },
  {
   "cell_type": "code",
   "execution_count": null,
   "metadata": {
    "collapsed": true
   },
   "outputs": [],
   "source": [
    "schema.external.delete_garbage()\n"
   ]
  },
  {
   "cell_type": "code",
   "execution_count": null,
   "metadata": {
    "collapsed": true
   },
   "outputs": [],
   "source": [
    "schema.external.clean_store('local')\n"
   ]
  },
  {
   "cell_type": "code",
   "execution_count": null,
   "metadata": {
    "collapsed": true
   },
   "outputs": [],
   "source": [
    "schema.external.clean_store('shared')\n"
   ]
  },
  {
   "cell_type": "code",
   "execution_count": null,
   "metadata": {
    "collapsed": true
   },
   "outputs": [],
   "source": []
  }
 ],
 "metadata": {
  "kernelspec": {
   "display_name": "Python_3",
   "language": "python",
   "name": "python_3"
  },
  "language_info": {
   "codemirror_mode": {
    "name": "ipython",
    "version": 3
   },
   "file_extension": ".py",
   "mimetype": "text/x-python",
   "name": "python",
   "nbconvert_exporter": "python",
   "pygments_lexer": "ipython3",
   "version": "3.7.0"
  }
 },
 "nbformat": 4,
 "nbformat_minor": 2
}
