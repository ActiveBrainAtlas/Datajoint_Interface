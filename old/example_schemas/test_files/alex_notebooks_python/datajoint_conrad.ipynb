{
 "cells": [
  {
   "cell_type": "code",
   "execution_count": 2,
   "metadata": {},
   "outputs": [
    {
     "name": "stdout",
     "output_type": "stream",
     "text": [
      "Connecting alex@ucsd-demo-db.datajoint.io:3306\n"
     ]
    },
    {
     "data": {
      "text/plain": [
       "DataJoint connection (connected) alex@ucsd-demo-db.datajoint.io:3306"
      ]
     },
     "execution_count": 2,
     "metadata": {},
     "output_type": "execute_result"
    }
   ],
   "source": [
    "import datajoint as dj\n",
    "import matplotlib as plt\n",
    "# Connect to datajoint server\n",
    "dj.conn()"
   ]
  },
  {
   "cell_type": "code",
   "execution_count": 3,
   "metadata": {
    "collapsed": true
   },
   "outputs": [],
   "source": [
    "# if it starts with your name, only you can access: 'alex_schema'\n",
    "# if it starts with 'common', everyone has access by default.\n",
    "schema = dj.schema('common_test')"
   ]
  },
  {
   "cell_type": "code",
   "execution_count": 4,
   "metadata": {
    "collapsed": true
   },
   "outputs": [],
   "source": [
    "schema.spawn_missing_classes()"
   ]
  },
  {
   "cell_type": "code",
   "execution_count": 5,
   "metadata": {},
   "outputs": [
    {
     "data": {
      "text/html": [
       "\n",
       "        \n",
       "        <style type=\"text/css\">\n",
       "            .Relation{\n",
       "                border-collapse:collapse;\n",
       "            }\n",
       "            .Relation th{\n",
       "                background: #A0A0A0; color: #ffffff; padding:4px; border:#f0e0e0 1px solid;\n",
       "                font-weight: normal; font-family: monospace; font-size: 100%;\n",
       "            }\n",
       "            .Relation td{\n",
       "                padding:4px; border:#f0e0e0 1px solid; font-size:100%;\n",
       "            }\n",
       "            .Relation tr:nth-child(odd){\n",
       "                background: #ffffff;\n",
       "            }\n",
       "            .Relation tr:nth-child(even){\n",
       "                background: #f3f1ff;\n",
       "            }\n",
       "            /* Tooltip container */\n",
       "            .djtooltip {\n",
       "            }\n",
       "            /* Tooltip text */\n",
       "            .djtooltip .djtooltiptext {\n",
       "                visibility: hidden;\n",
       "                width: 120px;\n",
       "                background-color: black;\n",
       "                color: #fff;\n",
       "                text-align: center;\n",
       "                padding: 5px 0;\n",
       "                border-radius: 6px;\n",
       "                /* Position the tooltip text - see examples below! */\n",
       "                position: absolute;\n",
       "                z-index: 1;\n",
       "            }\n",
       "            #primary {\n",
       "                font-weight: bold;\n",
       "                color: black;\n",
       "            }\n",
       "\n",
       "            #nonprimary {\n",
       "                font-weight: normal;\n",
       "                color: white;\n",
       "            }\n",
       "\n",
       "            /* Show the tooltip text when you mouse over the tooltip container */\n",
       "            .djtooltip:hover .djtooltiptext {\n",
       "                visibility: visible;\n",
       "            }\n",
       "        </style>\n",
       "        \n",
       "        <b></b>\n",
       "            <div style=\"max-height:1000px;max-width:1500px;overflow:auto;\">\n",
       "            <table border=\"1\" class=\"Relation\">\n",
       "                <thead> <tr style=\"text-align: right;\"> <th> <div class=\"djtooltip\">\n",
       "                                <p id=\"primary\">mouse</p>\n",
       "                                <span class=\"djtooltiptext\">unique mouse id</span>\n",
       "                            </div></th><th><div class=\"djtooltip\">\n",
       "                                <p id=\"primary\">session</p>\n",
       "                                <span class=\"djtooltiptext\"></span>\n",
       "                            </div></th><th><div class=\"djtooltip\">\n",
       "                                <p id=\"nonprimary\">path_to_mat</p>\n",
       "                                <span class=\"djtooltiptext\">Two photon tiff file</span>\n",
       "                            </div></th><th><div class=\"djtooltip\">\n",
       "                                <p id=\"nonprimary\">type</p>\n",
       "                                <span class=\"djtooltiptext\"></span>\n",
       "                            </div> </th> </tr> </thead>\n",
       "                <tbody> <tr> <td>CF_D2_03</td>\n",
       "<td>0</td>\n",
       "<td>/media/conrad/USB DISK/Feedback animals for papers/Analysis objects/d2_animal_structs_5.mat</td>\n",
       "<td>baseline</td></tr><tr><td>CF_D2_03</td>\n",
       "<td>1</td>\n",
       "<td>/media/conrad/USB DISK/Feedback animals for papers/Analysis objects/d2_animal_structs_5.mat</td>\n",
       "<td>fbd1</td></tr><tr><td>CF_D2_03</td>\n",
       "<td>2</td>\n",
       "<td>/media/conrad/USB DISK/Feedback animals for papers/Analysis objects/d2_animal_structs_5.mat</td>\n",
       "<td>fbd2</td></tr><tr><td>CF_D2_03</td>\n",
       "<td>3</td>\n",
       "<td>/media/conrad/USB DISK/Feedback animals for papers/Analysis objects/d2_animal_structs_5.mat</td>\n",
       "<td>post</td> </tr> </tbody>\n",
       "            </table>\n",
       "            \n",
       "            <p>4 tuples</p></div>\n",
       "            "
      ],
      "text/plain": [
       "*mouse       *session    path_to_mat    type        \n",
       "+----------+ +---------+ +------------+ +----------+\n",
       "CF_D2_03     0           /media/conrad/ baseline    \n",
       "CF_D2_03     1           /media/conrad/ fbd1        \n",
       "CF_D2_03     2           /media/conrad/ fbd2        \n",
       "CF_D2_03     3           /media/conrad/ post        \n",
       " (4 tuples)"
      ]
     },
     "execution_count": 5,
     "metadata": {},
     "output_type": "execute_result"
    }
   ],
   "source": [
    "Session()"
   ]
  },
  {
   "cell_type": "code",
   "execution_count": 55,
   "metadata": {},
   "outputs": [
    {
     "data": {
      "image/svg+xml": [
       "<svg height=\"247pt\" viewBox=\"0.00 0.00 218.52 247.00\" width=\"219pt\" xmlns=\"http://www.w3.org/2000/svg\" xmlns:xlink=\"http://www.w3.org/1999/xlink\">\n",
       "<g class=\"graph\" id=\"graph0\" transform=\"scale(1 1) rotate(0) translate(4 243)\">\n",
       "<title>%3</title>\n",
       "<polygon fill=\"#ffffff\" points=\"-4,4 -4,-243 214.5228,-243 214.5228,4 -4,4\" stroke=\"transparent\"/>\n",
       "<!-- Behavior -->\n",
       "<g class=\"node\" id=\"node1\">\n",
       "<title>Behavior</title>\n",
       "<g id=\"a_node1\"><a xlink:title=\"→ Session\r",
       "------------------------------\r",
       "licking              \r",
       "velocity             \r",
       "time                 \r",
       "\">\n",
       "<ellipse cx=\"77.0137\" cy=\"-79.5\" fill=\"#00007f\" fill-opacity=\"0.250980\" rx=\"40.4872\" ry=\"17.5\" stroke=\"#00007f\" stroke-opacity=\"0.250980\"/>\n",
       "<text fill=\"#00007f\" font-family=\"arial\" font-size=\"12.00\" text-anchor=\"middle\" x=\"77.0137\" y=\"-76.7994\">Behavior</text>\n",
       "</a>\n",
       "</g>\n",
       "</g>\n",
       "<!-- Corr -->\n",
       "<g class=\"node\" id=\"node4\">\n",
       "<title>Corr</title>\n",
       "<g id=\"a_node4\"><a xlink:title=\"→ Behavior\r",
       "------------------------------\r",
       "corr                 \r",
       "\">\n",
       "<ellipse cx=\"77.0137\" cy=\"-13\" fill=\"#ff0000\" fill-opacity=\"0.125490\" rx=\"13.1107\" ry=\"13\" stroke=\"#ff0000\" stroke-opacity=\"0.125490\"/>\n",
       "<text fill=\"#7f0000\" font-family=\"arial\" font-size=\"12.00\" text-anchor=\"middle\" x=\"77.0137\" y=\"-10.2994\">Corr</text>\n",
       "</a>\n",
       "</g>\n",
       "</g>\n",
       "<!-- Behavior&#45;&gt;Corr -->\n",
       "<g class=\"edge\" id=\"edge1\">\n",
       "<title>Behavior-&gt;Corr</title>\n",
       "<path d=\"M77.0137,-61.6792C77.0137,-50.4451 77.0137,-36.1917 77.0137,-26.0168\" fill=\"none\" stroke=\"#000000\" stroke-opacity=\"0.250980\" stroke-width=\"2\"/>\n",
       "</g>\n",
       "<!-- Mouse -->\n",
       "<g class=\"node\" id=\"node2\">\n",
       "<title>Mouse</title>\n",
       "<g id=\"a_node2\"><a xlink:title=\"mouse                \r",
       "------------------------------\r",
       "dob                  \r",
       "iacuc_barcode        \r",
       "sex                  \r",
       "genotype             \r",
       "UNIQUE INDEX (iacuc_barcode)\r",
       "\">\n",
       "<polygon fill=\"#00ff00\" fill-opacity=\"0.188235\" points=\"108.0313,-239 55.9961,-239 55.9961,-204 108.0313,-204 108.0313,-239\" stroke=\"#00ff00\" stroke-opacity=\"0.188235\"/>\n",
       "<text fill=\"#006400\" font-family=\"arial\" font-size=\"12.00\" text-anchor=\"middle\" x=\"82.0137\" y=\"-218.7994\">Mouse</text>\n",
       "</a>\n",
       "</g>\n",
       "</g>\n",
       "<!-- MouseAlias -->\n",
       "<g class=\"node\" id=\"node5\">\n",
       "<title>MouseAlias</title>\n",
       "<g id=\"a_node5\"><a xlink:title=\"→ Mouse\r",
       "------------------------------\r",
       "alias                \r",
       "\">\n",
       "<polygon fill=\"#00ff00\" fill-opacity=\"0.188235\" points=\"78.041,-168 -.0137,-168 -.0137,-133 78.041,-133 78.041,-168\" stroke=\"#00ff00\" stroke-opacity=\"0.188235\"/>\n",
       "<text fill=\"#006400\" font-family=\"arial\" font-size=\"12.00\" text-anchor=\"middle\" x=\"39.0137\" y=\"-147.7994\">MouseAlias</text>\n",
       "</a>\n",
       "</g>\n",
       "</g>\n",
       "<!-- Mouse&#45;&gt;MouseAlias -->\n",
       "<g class=\"edge\" id=\"edge2\">\n",
       "<title>Mouse-&gt;MouseAlias</title>\n",
       "<path d=\"M71.3845,-203.9494C64.8187,-193.1083 56.4175,-179.2366 49.8193,-168.3418\" fill=\"none\" stroke=\"#000000\" stroke-opacity=\"0.250980\" stroke-width=\"2\"/>\n",
       "</g>\n",
       "<!-- Session -->\n",
       "<g class=\"node\" id=\"node6\">\n",
       "<title>Session</title>\n",
       "<g id=\"a_node6\"><a xlink:title=\"→ Mouse\r",
       "session              \r",
       "------------------------------\r",
       "path_to_mat          \r",
       "type                 \r",
       "\">\n",
       "<polygon fill=\"#00ff00\" fill-opacity=\"0.188235\" points=\"154.2059,-168 95.8215,-168 95.8215,-133 154.2059,-133 154.2059,-168\" stroke=\"#00ff00\" stroke-opacity=\"0.188235\"/>\n",
       "<text fill=\"#006400\" font-family=\"arial\" font-size=\"12.00\" text-anchor=\"middle\" x=\"125.0137\" y=\"-147.7994\">Session</text>\n",
       "</a>\n",
       "</g>\n",
       "</g>\n",
       "<!-- Mouse&#45;&gt;Session -->\n",
       "<g class=\"edge\" id=\"edge3\">\n",
       "<title>Mouse-&gt;Session</title>\n",
       "<path d=\"M92.6429,-203.9494C99.2086,-193.1083 107.6098,-179.2366 114.2081,-168.3418\" fill=\"none\" stroke=\"#000000\" stroke-opacity=\"0.250980\" stroke-width=\".75\"/>\n",
       "</g>\n",
       "<!-- Imaging -->\n",
       "<g class=\"node\" id=\"node3\">\n",
       "<title>Imaging</title>\n",
       "<g id=\"a_node3\"><a xlink:title=\"→ Session\r",
       "------------------------------\r",
       "fret                 \r",
       "t                    \r",
       "\">\n",
       "<ellipse cx=\"173.0137\" cy=\"-79.5\" fill=\"#00007f\" fill-opacity=\"0.250980\" rx=\"37.5182\" ry=\"17.5\" stroke=\"#00007f\" stroke-opacity=\"0.250980\"/>\n",
       "<text fill=\"#00007f\" font-family=\"arial\" font-size=\"12.00\" text-anchor=\"middle\" x=\"173.0137\" y=\"-76.7994\">Imaging</text>\n",
       "</a>\n",
       "</g>\n",
       "</g>\n",
       "<!-- Session&#45;&gt;Behavior -->\n",
       "<g class=\"edge\" id=\"edge4\">\n",
       "<title>Session-&gt;Behavior</title>\n",
       "<path d=\"M113.1485,-132.9494C105.5972,-121.7798 95.871,-107.3931 88.4118,-96.3598\" fill=\"none\" stroke=\"#000000\" stroke-opacity=\"0.250980\" stroke-width=\"2\"/>\n",
       "</g>\n",
       "<!-- Session&#45;&gt;Imaging -->\n",
       "<g class=\"edge\" id=\"edge5\">\n",
       "<title>Session-&gt;Imaging</title>\n",
       "<path d=\"M136.8788,-132.9494C144.4301,-121.7798 154.1564,-107.3931 161.6155,-96.3598\" fill=\"none\" stroke=\"#000000\" stroke-opacity=\"0.250980\" stroke-width=\"2\"/>\n",
       "</g>\n",
       "</g>\n",
       "</svg>"
      ],
      "text/plain": [
       "<datajoint.erd.ERD at 0x11a4fda90>"
      ]
     },
     "execution_count": 55,
     "metadata": {},
     "output_type": "execute_result"
    }
   ],
   "source": [
    "dj.ERD(schema)"
   ]
  },
  {
   "cell_type": "markdown",
   "metadata": {},
   "source": [
    "# Importing Session data from Conrad"
   ]
  },
  {
   "cell_type": "code",
   "execution_count": 20,
   "metadata": {},
   "outputs": [
    {
     "data": {
      "text/html": [
       "\n",
       "        \n",
       "        <style type=\"text/css\">\n",
       "            .Relation{\n",
       "                border-collapse:collapse;\n",
       "            }\n",
       "            .Relation th{\n",
       "                background: #A0A0A0; color: #ffffff; padding:4px; border:#f0e0e0 1px solid;\n",
       "                font-weight: normal; font-family: monospace; font-size: 100%;\n",
       "            }\n",
       "            .Relation td{\n",
       "                padding:4px; border:#f0e0e0 1px solid; font-size:100%;\n",
       "            }\n",
       "            .Relation tr:nth-child(odd){\n",
       "                background: #ffffff;\n",
       "            }\n",
       "            .Relation tr:nth-child(even){\n",
       "                background: #f3f1ff;\n",
       "            }\n",
       "            /* Tooltip container */\n",
       "            .djtooltip {\n",
       "            }\n",
       "            /* Tooltip text */\n",
       "            .djtooltip .djtooltiptext {\n",
       "                visibility: hidden;\n",
       "                width: 120px;\n",
       "                background-color: black;\n",
       "                color: #fff;\n",
       "                text-align: center;\n",
       "                padding: 5px 0;\n",
       "                border-radius: 6px;\n",
       "                /* Position the tooltip text - see examples below! */\n",
       "                position: absolute;\n",
       "                z-index: 1;\n",
       "            }\n",
       "            #primary {\n",
       "                font-weight: bold;\n",
       "                color: black;\n",
       "            }\n",
       "\n",
       "            #nonprimary {\n",
       "                font-weight: normal;\n",
       "                color: white;\n",
       "            }\n",
       "\n",
       "            /* Show the tooltip text when you mouse over the tooltip container */\n",
       "            .djtooltip:hover .djtooltiptext {\n",
       "                visibility: visible;\n",
       "            }\n",
       "        </style>\n",
       "        \n",
       "        <b></b>\n",
       "            <div style=\"max-height:1000px;max-width:1500px;overflow:auto;\">\n",
       "            <table border=\"1\" class=\"Relation\">\n",
       "                <thead> <tr style=\"text-align: right;\"> <th> <div class=\"djtooltip\">\n",
       "                                <p id=\"primary\">mouse</p>\n",
       "                                <span class=\"djtooltiptext\">unique mouse id</span>\n",
       "                            </div></th><th><div class=\"djtooltip\">\n",
       "                                <p id=\"primary\">session</p>\n",
       "                                <span class=\"djtooltiptext\"></span>\n",
       "                            </div></th><th><div class=\"djtooltip\">\n",
       "                                <p id=\"nonprimary\">path_to_mat</p>\n",
       "                                <span class=\"djtooltiptext\">Two photon tiff file</span>\n",
       "                            </div></th><th><div class=\"djtooltip\">\n",
       "                                <p id=\"nonprimary\">type</p>\n",
       "                                <span class=\"djtooltiptext\"></span>\n",
       "                            </div> </th> </tr> </thead>\n",
       "                <tbody> <tr> <td>CF_D2_03</td>\n",
       "<td>0</td>\n",
       "<td>/media/conrad/USB DISK/Feedback animals for papers/Analysis objects/d2_animal_structs_5.mat</td>\n",
       "<td>baseline</td> </tr> </tbody>\n",
       "            </table>\n",
       "            \n",
       "            <p>1 tuples</p></div>\n",
       "            "
      ],
      "text/plain": [
       "*mouse       *session    path_to_mat    type        \n",
       "+----------+ +---------+ +------------+ +----------+\n",
       "CF_D2_03     0           /media/conrad/ baseline    \n",
       " (1 tuples)"
      ]
     },
     "execution_count": 20,
     "metadata": {},
     "output_type": "execute_result"
    }
   ],
   "source": [
    "Session() & dict(session=0)"
   ]
  },
  {
   "cell_type": "code",
   "execution_count": 28,
   "metadata": {},
   "outputs": [
    {
     "name": "stdout",
     "output_type": "stream",
     "text": [
      "PRINT THE RAW DATA\n",
      "______________________________________\n",
      "[('CF_D2_03', 0, '/media/conrad/USB DISK/Feedback animals for papers/Analysis objects/d2_animal_structs_5.mat', 'baseline')\n",
      " ('CF_D2_03', 1, '/media/conrad/USB DISK/Feedback animals for papers/Analysis objects/d2_animal_structs_5.mat', 'fbd1')\n",
      " ('CF_D2_03', 2, '/media/conrad/USB DISK/Feedback animals for papers/Analysis objects/d2_animal_structs_5.mat', 'fbd2')\n",
      " ('CF_D2_03', 3, '/media/conrad/USB DISK/Feedback animals for papers/Analysis objects/d2_animal_structs_5.mat', 'post')]\n",
      "\n",
      "PRINT DATA FROM SESSION 0\n",
      "______________________________________\n",
      "*mouse       *session    path_to_mat    type        \n",
      "+----------+ +---------+ +------------+ +----------+\n",
      "CF_D2_03     0           /media/conrad/ baseline    \n",
      " (1 tuples)\n",
      "\n",
      "PRINT FETCHED DATA FROM SESSION 0\n",
      "______________________________________\n",
      "[('CF_D2_03', 0, '/media/conrad/USB DISK/Feedback animals for papers/Analysis objects/d2_animal_structs_5.mat', 'baseline')]\n"
     ]
    }
   ],
   "source": [
    "data = Session.fetch()\n",
    "print('PRINT THE RAW DATA\\n______________________________________')\n",
    "print(data)\n",
    "print()\n",
    "\n",
    "data_session0 = Session() & dict(session=0)\n",
    "print('PRINT DATA FROM SESSION 0\\n______________________________________')\n",
    "print(data_session0)\n",
    "print('PRINT FETCHED DATA FROM SESSION 0\\n______________________________________')\n",
    "print(data_session0.fetch())"
   ]
  },
  {
   "cell_type": "code",
   "execution_count": null,
   "metadata": {
    "collapsed": true
   },
   "outputs": [],
   "source": []
  },
  {
   "cell_type": "markdown",
   "metadata": {},
   "source": [
    "# Importing Behavior data from Conrad"
   ]
  },
  {
   "cell_type": "code",
   "execution_count": 6,
   "metadata": {},
   "outputs": [
    {
     "data": {
      "text/html": [
       "\n",
       "        \n",
       "        <style type=\"text/css\">\n",
       "            .Relation{\n",
       "                border-collapse:collapse;\n",
       "            }\n",
       "            .Relation th{\n",
       "                background: #A0A0A0; color: #ffffff; padding:4px; border:#f0e0e0 1px solid;\n",
       "                font-weight: normal; font-family: monospace; font-size: 100%;\n",
       "            }\n",
       "            .Relation td{\n",
       "                padding:4px; border:#f0e0e0 1px solid; font-size:100%;\n",
       "            }\n",
       "            .Relation tr:nth-child(odd){\n",
       "                background: #ffffff;\n",
       "            }\n",
       "            .Relation tr:nth-child(even){\n",
       "                background: #f3f1ff;\n",
       "            }\n",
       "            /* Tooltip container */\n",
       "            .djtooltip {\n",
       "            }\n",
       "            /* Tooltip text */\n",
       "            .djtooltip .djtooltiptext {\n",
       "                visibility: hidden;\n",
       "                width: 120px;\n",
       "                background-color: black;\n",
       "                color: #fff;\n",
       "                text-align: center;\n",
       "                padding: 5px 0;\n",
       "                border-radius: 6px;\n",
       "                /* Position the tooltip text - see examples below! */\n",
       "                position: absolute;\n",
       "                z-index: 1;\n",
       "            }\n",
       "            #primary {\n",
       "                font-weight: bold;\n",
       "                color: black;\n",
       "            }\n",
       "\n",
       "            #nonprimary {\n",
       "                font-weight: normal;\n",
       "                color: white;\n",
       "            }\n",
       "\n",
       "            /* Show the tooltip text when you mouse over the tooltip container */\n",
       "            .djtooltip:hover .djtooltiptext {\n",
       "                visibility: visible;\n",
       "            }\n",
       "        </style>\n",
       "        \n",
       "        <b></b>\n",
       "            <div style=\"max-height:1000px;max-width:1500px;overflow:auto;\">\n",
       "            <table border=\"1\" class=\"Relation\">\n",
       "                <thead> <tr style=\"text-align: right;\"> <th> <div class=\"djtooltip\">\n",
       "                                <p id=\"primary\">mouse</p>\n",
       "                                <span class=\"djtooltiptext\">unique mouse id</span>\n",
       "                            </div></th><th><div class=\"djtooltip\">\n",
       "                                <p id=\"primary\">session</p>\n",
       "                                <span class=\"djtooltiptext\"></span>\n",
       "                            </div></th><th><div class=\"djtooltip\">\n",
       "                                <p id=\"nonprimary\">licking</p>\n",
       "                                <span class=\"djtooltiptext\"></span>\n",
       "                            </div></th><th><div class=\"djtooltip\">\n",
       "                                <p id=\"nonprimary\">velocity</p>\n",
       "                                <span class=\"djtooltiptext\"></span>\n",
       "                            </div></th><th><div class=\"djtooltip\">\n",
       "                                <p id=\"nonprimary\">time</p>\n",
       "                                <span class=\"djtooltiptext\"></span>\n",
       "                            </div> </th> </tr> </thead>\n",
       "                <tbody> <tr> <td>CF_D2_03</td>\n",
       "<td>0</td>\n",
       "<td>=BLOB=</td>\n",
       "<td>=BLOB=</td>\n",
       "<td>=BLOB=</td></tr><tr><td>CF_D2_03</td>\n",
       "<td>1</td>\n",
       "<td>=BLOB=</td>\n",
       "<td>=BLOB=</td>\n",
       "<td>=BLOB=</td></tr><tr><td>CF_D2_03</td>\n",
       "<td>2</td>\n",
       "<td>=BLOB=</td>\n",
       "<td>=BLOB=</td>\n",
       "<td>=BLOB=</td></tr><tr><td>CF_D2_03</td>\n",
       "<td>3</td>\n",
       "<td>=BLOB=</td>\n",
       "<td>=BLOB=</td>\n",
       "<td>=BLOB=</td> </tr> </tbody>\n",
       "            </table>\n",
       "            \n",
       "            <p>4 tuples</p></div>\n",
       "            "
      ],
      "text/plain": [
       "*mouse       *session    licking    velocity   time      \n",
       "+----------+ +---------+ +--------+ +--------+ +--------+\n",
       "CF_D2_03     0           =BLOB=     =BLOB=     =BLOB=    \n",
       "CF_D2_03     1           =BLOB=     =BLOB=     =BLOB=    \n",
       "CF_D2_03     2           =BLOB=     =BLOB=     =BLOB=    \n",
       "CF_D2_03     3           =BLOB=     =BLOB=     =BLOB=    \n",
       " (4 tuples)"
      ]
     },
     "execution_count": 6,
     "metadata": {},
     "output_type": "execute_result"
    }
   ],
   "source": [
    "Behavior()"
   ]
  },
  {
   "cell_type": "code",
   "execution_count": 37,
   "metadata": {},
   "outputs": [
    {
     "ename": "SyntaxError",
     "evalue": "Missing parentheses in call to 'print'. Did you mean print(behavior_dic)? (<ipython-input-37-2339b49432f8>, line 2)",
     "output_type": "error",
     "traceback": [
      "\u001b[0;36m  File \u001b[0;32m\"<ipython-input-37-2339b49432f8>\"\u001b[0;36m, line \u001b[0;32m2\u001b[0m\n\u001b[0;31m    print behavior_dic\u001b[0m\n\u001b[0m                     ^\u001b[0m\n\u001b[0;31mSyntaxError\u001b[0m\u001b[0;31m:\u001b[0m Missing parentheses in call to 'print'. Did you mean print(behavior_dic)?\n"
     ]
    }
   ],
   "source": [
    "behavior_dic = (Behavior() & dict(session=0)).fetch( as_dict=True )\n",
    "print()"
   ]
  },
  {
   "cell_type": "code",
   "execution_count": null,
   "metadata": {
    "collapsed": true
   },
   "outputs": [],
   "source": [
    "plt(behavior_dic[])"
   ]
  }
 ],
 "metadata": {
  "kernelspec": {
   "display_name": "Python_3",
   "language": "python",
   "name": "python_3"
  },
  "language_info": {
   "codemirror_mode": {
    "name": "ipython",
    "version": 3
   },
   "file_extension": ".py",
   "mimetype": "text/x-python",
   "name": "python",
   "nbconvert_exporter": "python",
   "pygments_lexer": "ipython3",
   "version": "3.7.0"
  }
 },
 "nbformat": 4,
 "nbformat_minor": 2
}
