{
 "cells": [
  {
   "cell_type": "code",
   "execution_count": 17,
   "metadata": {},
   "outputs": [
    {
     "name": "stdout",
     "output_type": "stream",
     "text": [
      "Proceed to delete entire schema `litao_common_atlas_test`? [yes, No]: yes\n"
     ]
    }
   ],
   "source": [
    "import atlas_schema\n",
    "atlas_schema.schema.drop()"
   ]
  },
  {
   "cell_type": "code",
   "execution_count": 76,
   "metadata": {
    "scrolled": false
   },
   "outputs": [],
   "source": [
    "from sqlalchemy import create_engine\n",
    "from sqlalchemy.orm import sessionmaker, Session\n",
    "from sqlalchemy.ext.automap import automap_base\n",
    "    \n",
    "# Connect to sqlalchemy\n",
    "user = 'dbadmin'\n",
    "password = 'western-data-surf-hemisphere'\n",
    "host = 'ucsd-demo-db.datajoint.io'\n",
    "database = 'edward_test'\n",
    "connection_string = 'mysql+pymysql://{}:{}@{}/{}'.format(user, password, host, database)\n",
    "engine = create_engine(connection_string, echo=False)\n",
    "DBSession = sessionmaker(bind=engine)\n",
    "session = DBSession()\n",
    "\n",
    "# Get the table definitions\n",
    "Base = automap_base()\n",
    "Base.prepare(engine, reflect=True)\n",
    "tables = {''.join(word.title() for word in table_name.split('_')): table for table_name, table in Base.classes.items()}"
   ]
  },
  {
   "cell_type": "code",
   "execution_count": 79,
   "metadata": {},
   "outputs": [
    {
     "name": "stdout",
     "output_type": "stream",
     "text": [
      "injection_virus.id None\n",
      "injection_virus.animal_id None\n",
      "injection_virus.injection_id None\n",
      "injection_virus.virus_id None\n"
     ]
    }
   ],
   "source": [
    "from sqlalchemy.schema import *\n",
    "metadata = MetaData()\n",
    "# animal = Table('animal', metadata, autoload=True, autoload_with=engine)\n",
    "organvirus = Table('injection_virus', metadata, autoload=True, autoload_with=engine)\n",
    "\n",
    "for c in virus.columns:\n",
    "    print(c, c.default)"
   ]
  },
  {
   "cell_type": "code",
   "execution_count": null,
   "metadata": {},
   "outputs": [],
   "source": []
  }
 ],
 "metadata": {
  "kernelspec": {
   "display_name": "Python 3",
   "language": "python",
   "name": "python3"
  },
  "language_info": {
   "codemirror_mode": {
    "name": "ipython",
    "version": 3
   },
   "file_extension": ".py",
   "mimetype": "text/x-python",
   "name": "python",
   "nbconvert_exporter": "python",
   "pygments_lexer": "ipython3",
   "version": "3.6.9"
  }
 },
 "nbformat": 4,
 "nbformat_minor": 4
}
