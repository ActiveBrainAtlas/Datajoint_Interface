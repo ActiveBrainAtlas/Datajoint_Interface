{
 "cells": [
  {
   "cell_type": "markdown",
   "metadata": {},
   "source": [
    "## Imports\n",
    "utilities.py contains a number of useful functions including loading credentials from a json file, retrieving files from S3, and defining thecurrent list of brains that are associated with the Active Atlas."
   ]
  },
  {
   "cell_type": "code",
   "execution_count": 1,
   "metadata": {
    "collapsed": true
   },
   "outputs": [],
   "source": [
    "import datajoint as dj\n",
    "import numpy as np\n",
    "import json\n",
    "from utilities import *\n",
    "from subprocess import call"
   ]
  },
  {
   "cell_type": "markdown",
   "metadata": {},
   "source": [
    "## Load Credentials, Connect to Database\n",
    "User must specify their own filepath to their aws S3 credentials and Datajoint credentials in json format."
   ]
  },
  {
   "cell_type": "code",
   "execution_count": 9,
   "metadata": {},
   "outputs": [
    {
     "name": "stdout",
     "output_type": "stream",
     "text": [
      "/Users/newberry/code/git_projects/Datajoint_Interface/project_schemas/atlas_schema_python\r\n"
     ]
    }
   ],
   "source": [
    "! pwd ~"
   ]
  },
  {
   "cell_type": "code",
   "execution_count": 10,
   "metadata": {},
   "outputs": [],
   "source": [
    "# Load AWS Credentials\n",
    "# `creds` needs the following fields: 'access_key', 'secret_access_key'\n",
    "# aws_fp = '/mnt/c/Users/Alex/Documents/json_credentials/alex_aws_credentials.json'\n",
    "aws_fp = '/Users/newberry/Desktop/atlas_data/alex_aws_credentials.json'\n",
    "creds = load_aws_creds( fp=aws_fp )"
   ]
  },
  {
   "cell_type": "code",
   "execution_count": null,
   "metadata": {
    "collapsed": true
   },
   "outputs": [],
   "source": [
    "# Load Datajoint Credentials\n",
    "# `dj_creds` needs the following fields: 'user', 'passwd'\n",
    "dj_fp = '/mnt/c/Users/Alex/Documents/json_credentials/datajoint_db_credentials.json'\n",
    "dj_creds = load_dj_creds( fp=dj_fp )"
   ]
  },
  {
   "cell_type": "code",
   "execution_count": null,
   "metadata": {},
   "outputs": [],
   "source": [
    "dj.config['database.user'] = dj_creds['user']\n",
    "dj.config['database.password'] = dj_creds['passwd']\n",
    "dj.config['database.host'] =  'ucsd-demo-db.datajoint.io'\n",
    "dj.config['database.port'] = 3306\n",
    "\n",
    "# Connect to datajoint server\n",
    "dj.conn()"
   ]
  },
  {
   "cell_type": "code",
   "execution_count": 11,
   "metadata": {},
   "outputs": [
    {
     "name": "stdout",
     "output_type": "stream",
     "text": [
      "Connecting alex@ucsd-demo-db.datajoint.io:3306\n"
     ]
    },
    {
     "data": {
      "text/plain": [
       "DataJoint connection (connected) alex@ucsd-demo-db.datajoint.io:3306"
      ]
     },
     "execution_count": 11,
     "metadata": {},
     "output_type": "execute_result"
    }
   ],
   "source": [
    "# Connect to datajoint server\n",
    "dj.conn()"
   ]
  },
  {
   "cell_type": "code",
   "execution_count": 12,
   "metadata": {
    "collapsed": true
   },
   "outputs": [],
   "source": [
    "# Define which schema you're using\n",
    "schema = dj.schema('common_atlas_v2')\n",
    "schema.spawn_missing_classes()"
   ]
  },
  {
   "cell_type": "code",
   "execution_count": 13,
   "metadata": {},
   "outputs": [
    {
     "data": {
      "image/svg+xml": [
       "<svg height=\"247pt\" viewBox=\"0.00 0.00 295.00 247.00\" width=\"295pt\" xmlns=\"http://www.w3.org/2000/svg\" xmlns:xlink=\"http://www.w3.org/1999/xlink\">\n",
       "<g class=\"graph\" id=\"graph0\" transform=\"scale(1 1) rotate(0) translate(4 243)\">\n",
       "<title>%3</title>\n",
       "<polygon fill=\"#ffffff\" points=\"-4,4 -4,-243 291,-243 291,4 -4,4\" stroke=\"transparent\"/>\n",
       "<!-- Histology -->\n",
       "<g class=\"node\" id=\"node1\">\n",
       "<title>Histology</title>\n",
       "<g id=\"a_node1\"><a xlink:title=\"→ Mouse\r",
       "------------------------------\r",
       "region               \r",
       "thickness            \r",
       "orientation          \r",
       "counter_stain        \r",
       "lab                  \r",
       "series               \r",
       "\">\n",
       "<polygon fill=\"#00ff00\" fill-opacity=\"0.188235\" points=\"122.5,-168 56.5,-168 56.5,-133 122.5,-133 122.5,-168\" stroke=\"#00ff00\" stroke-opacity=\"0.188235\"/>\n",
       "<text fill=\"#006400\" font-family=\"arial\" font-size=\"12.00\" text-anchor=\"middle\" x=\"89.5\" y=\"-147.4\">Histology</text>\n",
       "</a>\n",
       "</g>\n",
       "</g>\n",
       "<!-- BrainStack -->\n",
       "<g class=\"node\" id=\"node5\">\n",
       "<title>BrainStack</title>\n",
       "<g id=\"a_node5\"><a xlink:title=\"→ Histology\r",
       "------------------------------\r",
       "stack_name           \r",
       "num_slices           \r",
       "num_valid_slices     \r",
       "channels             \r",
       "sorted_filenames     \r",
       "human_annotated      \r",
       "planar_resolution_um \r",
       "section_thickness_um \r",
       "UNIQUE INDEX (stack_name)\r",
       "\">\n",
       "<polygon fill=\"#00ff00\" fill-opacity=\"0.188235\" points=\"127,-97 52,-97 52,-62 127,-62 127,-97\" stroke=\"#00ff00\" stroke-opacity=\"0.188235\"/>\n",
       "<text fill=\"#006400\" font-family=\"arial\" font-size=\"12.00\" text-anchor=\"middle\" x=\"89.5\" y=\"-76.4\">BrainStack</text>\n",
       "</a>\n",
       "</g>\n",
       "</g>\n",
       "<!-- Histology&#45;&gt;BrainStack -->\n",
       "<g class=\"edge\" id=\"edge1\">\n",
       "<title>Histology-&gt;BrainStack</title>\n",
       "<path d=\"M89.5,-132.9494C89.5,-122.1083 89.5,-108.2366 89.5,-97.3418\" fill=\"none\" stroke=\"#000000\" stroke-opacity=\"0.250980\" stroke-width=\"2\"/>\n",
       "</g>\n",
       "<!-- RawSlices -->\n",
       "<g class=\"node\" id=\"node2\">\n",
       "<title>RawSlices</title>\n",
       "<g id=\"a_node2\"><a xlink:title=\"→ BrainStack\r",
       "------------------------------\r",
       "aws_bucket           \r",
       "raw_stack            \r",
       "\">\n",
       "<ellipse cx=\"36.5\" cy=\"-13\" fill=\"#ff0000\" fill-opacity=\"0.125490\" rx=\"13\" ry=\"13\" stroke=\"#ff0000\" stroke-opacity=\"0.125490\"/>\n",
       "<text fill=\"#7f0000\" font-family=\"arial\" font-size=\"12.00\" text-anchor=\"middle\" x=\"36.5\" y=\"-9.9\">RawSlices</text>\n",
       "</a>\n",
       "</g>\n",
       "</g>\n",
       "<!-- Injection -->\n",
       "<g class=\"node\" id=\"node3\">\n",
       "<title>Injection</title>\n",
       "<g id=\"a_node3\"><a xlink:title=\"→ Mouse\r",
       "injection_number     \r",
       "------------------------------\r",
       "injection_date       \r",
       "injection_type       \r",
       "injection_length     \r",
       "assessment=&quot;&quot;        \r",
       "\">\n",
       "<polygon fill=\"#00ff00\" fill-opacity=\"0.188235\" points=\"202,-168 141,-168 141,-133 202,-133 202,-168\" stroke=\"#00ff00\" stroke-opacity=\"0.188235\"/>\n",
       "<text fill=\"#006400\" font-family=\"arial\" font-size=\"12.00\" text-anchor=\"middle\" x=\"171.5\" y=\"-147.4\">Injection</text>\n",
       "</a>\n",
       "</g>\n",
       "</g>\n",
       "<!-- Perfusion -->\n",
       "<g class=\"node\" id=\"node4\">\n",
       "<title>Perfusion</title>\n",
       "<g id=\"a_node4\"><a xlink:title=\"→ Mouse\r",
       "------------------------------\r",
       "injection_date       \r",
       "post_fixation_condition_hours \r",
       "date_frozen          \r",
       "date_sectioned       \r",
       "injection_type       \r",
       "perfusion_lab        \r",
       "assessment=&quot;&quot;        \r",
       "\">\n",
       "<polygon fill=\"#00ff00\" fill-opacity=\"0.188235\" points=\"287,-168 220,-168 220,-133 287,-133 287,-168\" stroke=\"#00ff00\" stroke-opacity=\"0.188235\"/>\n",
       "<text fill=\"#006400\" font-family=\"arial\" font-size=\"12.00\" text-anchor=\"middle\" x=\"253.5\" y=\"-147.4\">Perfusion</text>\n",
       "</a>\n",
       "</g>\n",
       "</g>\n",
       "<!-- BrainStack&#45;&gt;RawSlices -->\n",
       "<g class=\"edge\" id=\"edge2\">\n",
       "<title>BrainStack-&gt;RawSlices</title>\n",
       "<path d=\"M75.297,-61.6792C65.4849,-49.3679 52.7829,-33.4304 44.6362,-23.2086\" fill=\"none\" stroke=\"#000000\" stroke-opacity=\"0.250980\" stroke-width=\"2\"/>\n",
       "</g>\n",
       "<!-- ProcessedSlices -->\n",
       "<g class=\"node\" id=\"node7\">\n",
       "<title>ProcessedSlices</title>\n",
       "<g id=\"a_node7\"><a xlink:title=\"→ BrainStack\r",
       "------------------------------\r",
       "aws_bucket           \r",
       "processed_stack      \r",
       "\">\n",
       "<ellipse cx=\"143.5\" cy=\"-13\" fill=\"#ff0000\" fill-opacity=\"0.125490\" rx=\"13\" ry=\"13\" stroke=\"#ff0000\" stroke-opacity=\"0.125490\"/>\n",
       "<text fill=\"#7f0000\" font-family=\"arial\" font-size=\"12.00\" text-anchor=\"middle\" x=\"143.5\" y=\"-9.9\">ProcessedSlices</text>\n",
       "</a>\n",
       "</g>\n",
       "</g>\n",
       "<!-- BrainStack&#45;&gt;ProcessedSlices -->\n",
       "<g class=\"edge\" id=\"edge3\">\n",
       "<title>BrainStack-&gt;ProcessedSlices</title>\n",
       "<path d=\"M103.971,-61.6792C113.9682,-49.3679 126.9099,-33.4304 135.2103,-23.2086\" fill=\"none\" stroke=\"#000000\" stroke-opacity=\"0.250980\" stroke-width=\"2\"/>\n",
       "</g>\n",
       "<!-- Mouse -->\n",
       "<g class=\"node\" id=\"node6\">\n",
       "<title>Mouse</title>\n",
       "<g id=\"a_node6\"><a xlink:title=\"mouse                \r",
       "------------------------------\r",
       "date_of_birth        \r",
       "sex                  \r",
       "genotype             \r",
       "weight               \r",
       "bred                 \r",
       "\">\n",
       "<polygon fill=\"#00ff00\" fill-opacity=\"0.188235\" points=\"198,-239 145,-239 145,-204 198,-204 198,-239\" stroke=\"#00ff00\" stroke-opacity=\"0.188235\"/>\n",
       "<text fill=\"#006400\" font-family=\"arial\" font-size=\"12.00\" text-anchor=\"middle\" x=\"171.5\" y=\"-218.4\">Mouse</text>\n",
       "</a>\n",
       "</g>\n",
       "</g>\n",
       "<!-- Mouse&#45;&gt;Histology -->\n",
       "<g class=\"edge\" id=\"edge4\">\n",
       "<title>Mouse-&gt;Histology</title>\n",
       "<path d=\"M151.2303,-203.9494C138.6148,-193.0262 122.4458,-179.0262 109.8207,-168.0947\" fill=\"none\" stroke=\"#000000\" stroke-opacity=\"0.250980\" stroke-width=\"2\"/>\n",
       "</g>\n",
       "<!-- Mouse&#45;&gt;Injection -->\n",
       "<g class=\"edge\" id=\"edge5\">\n",
       "<title>Mouse-&gt;Injection</title>\n",
       "<path d=\"M171.5,-203.9494C171.5,-193.1083 171.5,-179.2366 171.5,-168.3418\" fill=\"none\" stroke=\"#000000\" stroke-opacity=\"0.250980\" stroke-width=\".75\"/>\n",
       "</g>\n",
       "<!-- Mouse&#45;&gt;Perfusion -->\n",
       "<g class=\"edge\" id=\"edge6\">\n",
       "<title>Mouse-&gt;Perfusion</title>\n",
       "<path d=\"M191.7697,-203.9494C204.3852,-193.0262 220.5542,-179.0262 233.1793,-168.0947\" fill=\"none\" stroke=\"#000000\" stroke-opacity=\"0.250980\" stroke-width=\"2\"/>\n",
       "</g>\n",
       "</g>\n",
       "</svg>"
      ],
      "text/plain": [
       "<datajoint.erd.ERD at 0x114923940>"
      ]
     },
     "execution_count": 13,
     "metadata": {},
     "output_type": "execute_result"
    }
   ],
   "source": [
    "dj.ERD(schema)"
   ]
  },
  {
   "cell_type": "markdown",
   "metadata": {},
   "source": [
    "## Printing all table headers (every stack in the db)"
   ]
  },
  {
   "cell_type": "code",
   "execution_count": 24,
   "metadata": {},
   "outputs": [
    {
     "name": "stdout",
     "output_type": "stream",
     "text": [
      "mouse                : char(18)                     # Name for lab mouse, max 8 chars\n",
      "---\n",
      "date_of_birth        : date                         # (date) the mouse's date of birth\n",
      "sex                  : enum('M','F')                # (M/F) either 'M' for male, 'F' for female\n",
      "genotype             : varchar(10)                  # (Str) indicating the genotype\n",
      "weight               : double                       # (int) weight of the mouse in grams. -1 if unknown\n",
      "bred                 : varchar(20)                  # (Str) Vendor where the mouse was bred (bred in house, purchased by vendor)\n",
      "\n"
     ]
    },
    {
     "data": {
      "text/plain": [
       "OrderedDict([('mouse', 'MD585'),\n",
       "             ('stack_name', 'MD585'),\n",
       "             ('num_slices', 447),\n",
       "             ('num_valid_slices', 439),\n",
       "             ('channels', 1),\n",
       "             ('sorted_filenames',\n",
       "              'Placeholder 1|Placeholder 2|MD585-N3-2015.07.16-19.48.34_MD585_1_0007 3|MD585-IHC3-2015.07.16-15.26.44_MD585_1_0007 4|MD585-N3-2015.07.16-19.48.34_MD585_2_0008 5|MD585-IHC3-2015.07.16-15.26.44_MD585_2_0008 6|MD585-N4-2015.07.16-19.50.10_MD585_1_0010 7|Placeholder 8|MD585-N4-2015.07.16-19.50.10_MD585_2_0011 9|MD585-IHC4-2015.07.18-07.01.12_MD585_1_0010 10|MD585-N4-2015.07.16-19.50.10_MD585_3_0012 11|MD585-IHC4-2015.07.18-07.01.12_MD585_2_0011 12|MD585-N5-2015.07.16-19.53.21_MD585_1_0013 13|MD585-IHC5-2015.07.18-07.03.14_MD585_1_0013 14|MD585-N5-2015.07.16-19.53.21_MD585_2_0014 15|MD585-IHC5-2015.07.18-07.03.14_MD585_2_0014 16|MD585-N5-2015.07.16-19.53.21_MD585_3_0015 17|MD585-IHC5-2015.07.18-07.03.14_MD585_3_0015 18|MD585-N6-2015.07.16-19.56.32_MD585_1_0016 19|MD585-IHC6-2015.07.16-14.42.32_MD585_1_0016 20|MD585-N6-2015.07.16-19.56.32_MD585_2_0017 21|MD585-IHC6-2015.07.16-14.42.32_MD585_2_0017 22|MD585-N6-2015.07.16-19.56.32_MD585_3_0018 23|MD585-IHC6-2015.07.16-14.42.32_MD585_3_0018 24|MD585-N7-2015.07.30-14.44.48_MD585_1_0019 25|MD585-IHC7-2015.07.30-15.58.19_MD585_1_0019 26|MD585-N7-2015.07.30-14.44.48_MD585_2_0020 27|MD585-IHC7-2015.07.30-15.58.19_MD585_2_0020 28|MD585-N7-2015.07.30-14.44.48_MD585_3_0021 29|MD585-IHC7-2015.07.30-15.58.19_MD585_3_0021 30|MD585-N8-2015.07.16-20.04.27_MD585_1_0022 31|MD585-IHC8-2015.07.16-14.49.14_MD585_1_0022 32|MD585-N8-2015.07.16-20.04.27_MD585_2_0023 33|MD585-IHC8-2015.07.16-14.49.14_MD585_2_0023 34|MD585-N8-2015.07.16-20.04.27_MD585_3_0024 35|MD585-IHC8-2015.07.16-14.49.14_MD585_3_0024 36|MD585-N9-2015.07.16-20.07.50_MD585_1_0025 37|MD585-IHC9-2015.07.16-14.52.36_MD585_1_0025 38|MD585-N9-2015.07.16-20.07.50_MD585_2_0026 39|MD585-IHC9-2015.07.16-14.52.36_MD585_2_0026 40|MD585-N9-2015.07.16-20.07.50_MD585_3_0027 41|MD585-IHC9-2015.07.16-14.52.36_MD585_3_0027 42|MD585-N10-2015.07.16-20.11.10_MD585_1_0028 43|MD585-IHC10-2015.07.16-14.55.58_MD585_1_0028 44|MD585-N10-2015.07.16-20.11.10_MD585_2_0029 45|MD585-IHC10-2015.07.16-14.55.58_MD585_2_0029 46|MD585-N10-2015.07.16-20.11.10_MD585_3_0030 47|MD585-IHC10-2015.07.16-14.55.58_MD585_3_0030 48|MD585-N11-2015.07.16-20.14.31_MD585_1_0031 49|MD585-IHC11-2015.07.16-14.59.21_MD585_1_0031 50|MD585-N11-2015.07.16-20.14.31_MD585_2_0032 51|MD585-IHC11-2015.07.16-14.59.21_MD585_2_0032 52|MD585-N11-2015.07.16-20.14.31_MD585_3_0033 53|MD585-IHC11-2015.07.16-14.59.21_MD585_3_0033 54|MD585-N12-2015.07.16-20.17.57_MD585_1_0034 55|MD585-IHC12-2015.07.16-15.02.57_MD585_1_0034 56|MD585-N12-2015.07.16-20.17.57_MD585_2_0035 57|MD585-IHC12-2015.07.16-15.02.57_MD585_2_0035 58|MD585-N12-2015.07.16-20.17.57_MD585_3_0036 59|MD585-IHC12-2015.07.16-15.02.57_MD585_3_0036 60|MD585-N13-2015.07.16-20.21.30_MD585_1_0037 61|MD585-IHC13-2015.07.30-16.01.36_MD585_1_0037 62|MD585-N13-2015.07.16-20.21.30_MD585_2_0038 63|MD585-IHC13-2015.07.30-16.01.36_MD585_2_0038 64|MD585-N13-2015.07.16-20.21.30_MD585_3_0039 65|MD585-IHC13-2015.07.30-16.01.36_MD585_3_0039 66|MD585-N14-2015.07.16-20.25.09_MD585_1_0040 67|MD585-IHC14-2015.07.16-15.11.04_MD585_1_0040 68|MD585-N14-2015.07.16-20.25.09_MD585_2_0041 69|MD585-IHC14-2015.07.16-15.11.04_MD585_2_0041 70|MD585-N14-2015.07.16-20.25.09_MD585_3_0042 71|MD585-IHC14-2015.07.16-15.11.04_MD585_3_0042 72|MD585-N15-2016.03.07-17.56.36_MD585_1_0043 73|MD585-IHC15-2015.07.16-15.14.52_MD585_1_0043 74|MD585-N15-2016.03.07-17.56.36_MD585_2_0044 75|MD585-IHC15-2015.07.30-16.05.22_MD585_2_0044 76|MD585-N15-2016.03.07-17.56.36_MD585_3_0045 77|MD585-IHC15-2015.07.16-15.14.52_MD585_3_0045 78|Placeholder 79|MD585-IHC16-2015.08.19-13.14.51_MD585_1_0046 80|MD585-N16-2015.07.16-20.32.33_MD585_1_0046 81|MD585-IHC16-2015.08.19-13.14.51_MD585_2_0047 82|MD585-N16-2015.07.16-20.32.33_MD585_2_0047 83|MD585-IHC16-2015.08.19-13.14.51_MD585_3_0048 84|MD585-N17-2015.07.16-20.35.23_MD585_1_0049 85|MD585-IHC17-2015.07.16-15.32.03_MD585_1_0049 86|MD585-N17-2015.07.16-20.35.23_MD585_2_0050 87|MD585-IHC17-2015.07.16-15.32.03_MD585_2_0050 88|MD585-N17-2015.07.16-20.35.23_MD585_3_0051 89|MD585-IHC17-2015.07.16-15.32.03_MD585_3_0051 90|MD585-N18-2015.07.16-20.39.16_MD585_1_0052 91|MD585-IHC18-2015.07.16-15.35.58_MD585_1_0052 92|MD585-N18-2015.07.16-20.39.16_MD585_2_0053 93|MD585-IHC18-2015.07.16-15.35.58_MD585_2_0053 94|MD585-N18-2015.07.16-20.39.16_MD585_3_0054 95|MD585-IHC18-2015.07.16-15.35.58_MD585_3_0054 96|MD585-N19-2015.07.16-20.43.18_MD585_1_0055 97|MD585-IHC19-2015.07.16-15.39.52_MD585_1_0055 98|MD585-N19-2015.07.16-20.43.18_MD585_2_0056 99|MD585-IHC19-2015.07.16-15.39.52_MD585_2_0056 100|MD585-N19-2015.07.16-20.43.18_MD585_3_0057 101|MD585-IHC19-2015.07.16-15.39.52_MD585_3_0057 102|MD585-N20-2015.07.16-20.47.19_MD585_1_0058 103|MD585-IHC20-2015.07.16-15.43.53_MD585_1_0058 104|MD585-N20-2015.07.16-20.47.19_MD585_2_0059 105|MD585-IHC20-2015.07.16-15.43.53_MD585_2_0059 106|MD585-N20-2015.07.16-20.47.19_MD585_3_0060 107|MD585-IHC20-2015.07.16-15.43.53_MD585_3_0060 108|MD585-N21-2015.07.18-07.06.33_MD585_1_0061 109|MD585-IHC21-2015.07.16-15.47.52_MD585_1_0061 110|MD585-N21-2015.07.18-07.06.33_MD585_2_0062 111|MD585-IHC21-2015.07.16-15.47.52_MD585_2_0062 112|MD585-N21-2015.07.18-07.06.33_MD585_3_0063 113|MD585-IHC21-2015.07.16-15.47.52_MD585_3_0063 114|MD585-N22-2015.07.18-07.10.40_MD585_1_0064 115|MD585-IHC22-2015.07.16-15.51.54_MD585_1_0064 116|MD585-N22-2015.07.18-07.10.40_MD585_2_0065 117|Placeholder 118|MD585-N22-2015.07.18-07.10.40_MD585_3_0066 119|MD585-IHC22-2015.07.16-15.51.54_MD585_3_0066 120|MD585-N23-2015.07.16-20.51.24_MD585_1_0067 121|MD585-IHC23-2015.08.19-13.18.49_MD585_1_0067 122|MD585-N23-2015.07.16-20.51.24_MD585_2_0068 123|MD585-IHC23-2015.08.19-13.18.49_MD585_2_0068 124|MD585-N23-2015.07.16-20.51.24_MD585_3_0069 125|MD585-IHC23-2015.08.19-13.18.49_MD585_3_0069 126|MD585-N24-2015.08.19-15.29.12_MD585_1_0070 127|MD585-IHC24-2015.07.18-07.14.51_MD585_1_0070 128|MD585-N24-2015.08.19-15.29.12_MD585_2_0071 129|MD585-IHC24-2015.07.18-07.14.51_MD585_2_0071 130|MD585-N24-2015.08.19-15.29.12_MD585_3_0072 131|MD585-IHC24-2015.07.18-07.14.51_MD585_3_0072 132|MD585-N25-2015.08.19-15.33.31_MD585_1_0073 133|MD585-IHC25-2015.07.18-07.19.12_MD585_1_0073 134|MD585-N25-2015.08.19-15.33.31_MD585_2_0074 135|MD585-IHC25-2015.07.18-07.19.12_MD585_2_0074 136|MD585-N25-2015.08.19-15.33.31_MD585_3_0075 137|MD585-IHC25-2015.07.18-07.19.12_MD585_3_0075 138|MD585-N26-2015.08.19-15.37.53_MD585_1_0076 139|MD585-IHC26-2015.08.19-13.23.15_MD585_1_0076 140|MD585-N26-2015.08.19-15.37.53_MD585_2_0077 141|MD585-IHC26-2015.08.19-13.23.15_MD585_2_0077 142|MD585-N26-2015.08.19-15.37.53_MD585_3_0078 143|MD585-IHC26-2015.08.19-13.23.15_MD585_3_0078 144|MD585-N27-2015.08.19-15.42.30_MD585_1_0079 145|MD585-IHC27-2015.08.19-13.28.05_MD585_1_0079 146|MD585-N27-2015.08.19-15.42.30_MD585_2_0080 147|MD585-IHC27-2015.08.19-13.28.05_MD585_2_0080 148|MD585-N27-2015.08.19-15.42.30_MD585_3_0081 149|MD585-IHC27-2015.08.19-13.28.05_MD585_3_0081 150|MD585-N28-2015.08.19-15.47.09_MD585_1_0082 151|MD585-IHC28-2015.08.19-13.33.04_MD585_1_0082 152|MD585-N28-2015.08.19-15.47.09_MD585_2_0083 153|MD585-IHC28-2015.08.19-13.33.04_MD585_2_0083 154|MD585-N28-2015.08.19-15.47.09_MD585_3_0084 155|MD585-IHC28-2015.08.19-13.33.04_MD585_3_0084 156|MD585-N29-2015.08.19-15.51.55_MD585_1_0085 157|MD585-IHC29-2015.08.19-13.38.04_MD585_1_0085 158|MD585-N29-2015.07.30-15.11.04_MD585_2_0086 159|MD585-IHC29-2015.08.19-13.38.04_MD585_2_0086 160|MD585-N29-2015.08.19-15.51.55_MD585_3_0087 161|MD585-IHC29-2015.08.19-13.38.04_MD585_3_0087 162|MD585-N30-2015.08.19-15.56.52_MD585_1_0088 163|MD585-IHC30-2015.08.19-13.43.06_MD585_1_0088 164|MD585-N30-2015.08.19-15.56.52_MD585_2_0089 165|MD585-IHC30-2015.08.19-13.43.06_MD585_2_0089 166|MD585-N30-2015.08.19-15.56.52_MD585_3_0090 167|MD585-IHC30-2015.08.19-13.43.06_MD585_3_0090 168|MD585-N31-2015.08.19-16.01.47_MD585_1_0091 169|MD585-IHC31-2015.08.19-13.48.12_MD585_1_0091 170|MD585-N31-2015.08.19-16.01.47_MD585_2_0092 171|MD585-IHC31-2015.08.19-13.48.12_MD585_2_0092 172|MD585-N31-2015.08.19-16.01.47_MD585_3_0093 173|MD585-IHC31-2015.08.19-13.48.12_MD585_3_0093 174|MD585-N32-2015.08.19-16.07.10_MD585_1_0094 175|MD585-IHC32-2015.08.19-13.53.29_MD585_1_0094 176|MD585-N32-2015.08.19-16.07.10_MD585_2_0095 177|MD585-IHC32-2015.08.19-13.53.29_MD585_2_0095 178|MD585-N32-2015.08.19-16.07.10_MD585_3_0096 179|MD585-IHC32-2015.08.19-13.53.29_MD585_3_0096 180|MD585-N33-2015.07.16-21.37.52_MD585_1_0097 181|MD585-IHC33-2015.07.16-16.33.07_MD585_1_0097 182|MD585-N33-2015.07.16-21.37.52_MD585_2_0098 183|MD585-IHC33-2015.07.16-16.33.07_MD585_2_0098 184|MD585-N33-2015.07.16-21.37.52_MD585_3_0099 185|MD585-IHC33-2015.07.16-16.33.07_MD585_3_0099 186|MD585-N34-2015.07.16-21.43.03_MD585_1_0100 187|MD585-IHC34-2015.07.16-16.38.23_MD585_1_0100 188|MD585-N34-2015.07.16-21.43.03_MD585_2_0101 189|MD585-IHC34-2015.07.16-16.38.23_MD585_2_0101 190|MD585-N34-2015.07.16-21.43.03_MD585_3_0102 191|MD585-IHC34-2015.07.16-16.38.23_MD585_3_0102 192|MD585-N35-2015.07.16-21.48.15_MD585_1_0103 193|MD585-IHC35-2015.07.16-16.43.41_MD585_1_0103 194|MD585-N35-2015.07.16-21.48.15_MD585_2_0104 195|MD585-IHC35-2015.07.16-16.43.41_MD585_2_0104 196|MD585-N35-2015.07.16-21.48.15_MD585_3_0105 197|MD585-IHC35-2015.07.16-16.43.41_MD585_3_0105 198|MD585-N36-2015.07.16-21.53.31_MD585_1_0106 199|MD585-IHC36-2015.08.19-13.58.57_MD585_1_0106 200|MD585-N36-2015.07.16-21.53.31_MD585_2_0107 201|MD585-IHC36-2015.08.19-13.58.57_MD585_2_0107 202|MD585-N36-2015.07.16-21.53.31_MD585_3_0108 203|MD585-IHC36-2015.08.19-13.58.57_MD585_3_0108 204|MD585-N37-2015.07.16-21.59.03_MD585_1_0109 205|MD585-IHC37-2015.08.19-14.04.32_MD585_1_0109 206|MD585-N37-2015.07.16-21.59.03_MD585_2_0110 207|MD585-IHC37-2015.08.19-14.04.32_MD585_2_0110 208|MD585-N37-2015.07.16-21.59.03_MD585_3_0111 209|MD585-IHC37-2015.08.19-14.04.32_MD585_3_0111 210|MD585-N38-2015.07.16-22.04.12_MD585_1_0112 211|MD585-IHC38-2015.07.16-17.00.35_MD585_1_0112 212|MD585-N38-2015.07.16-22.04.12_MD585_2_0113 213|MD585-IHC38-2015.07.16-17.00.35_MD585_2_0113 214|MD585-N38-2015.07.16-22.04.12_MD585_3_0114 215|MD585-IHC38-2015.07.16-17.00.35_MD585_3_0114 216|MD585-N39-2015.07.16-22.09.19_MD585_1_0115 217|MD585-IHC39-2015.08.19-14.10.09_MD585_1_0115 218|MD585-N39-2015.07.16-22.09.19_MD585_2_0116 219|MD585-IHC39-2015.08.19-14.10.09_MD585_2_0116 220|MD585-N39-2015.07.16-22.09.19_MD585_3_0117 221|MD585-IHC39-2015.08.19-14.10.09_MD585_3_0117 222|MD585-N40-2015.07.16-22.14.28_MD585_1_0118 223|MD585-IHC40-2015.08.19-14.15.44_MD585_1_0118 224|MD585-N40-2015.07.16-22.14.28_MD585_2_0119 225|MD585-IHC40-2015.08.19-14.15.44_MD585_2_0119 226|MD585-N40-2015.07.16-22.14.28_MD585_3_0120 227|MD585-IHC40-2015.08.19-14.15.44_MD585_3_0120 228|MD585-N41-2015.07.16-22.19.30_MD585_1_0121 229|MD585-IHC41-2015.08.19-14.21.09_MD585_1_0121 230|MD585-N41-2015.07.16-22.19.30_MD585_2_0122 231|MD585-IHC41-2015.08.19-14.21.09_MD585_2_0122 232|MD585-N41-2015.07.16-22.19.30_MD585_3_0123 233|MD585-IHC41-2015.08.19-14.21.09_MD585_3_0123 234|MD585-N42-2015.07.16-22.24.42_MD585_1_0124 235|MD585-IHC42-2015.08.19-14.26.30_MD585_1_0124 236|MD585-N42-2015.07.16-22.24.42_MD585_2_0125 237|MD585-IHC42-2015.08.19-14.26.30_MD585_2_0125 238|MD585-N42-2015.07.16-22.24.42_MD585_3_0126 239|MD585-IHC42-2015.08.19-14.26.30_MD585_3_0126 240|MD585-N43-2015.07.16-22.29.50_MD585_1_0127 241|MD585-IHC43-2015.08.19-14.32.02_MD585_1_0127 242|MD585-N43-2015.07.16-22.29.50_MD585_2_0128 243|MD585-IHC43-2015.08.19-14.32.02_MD585_2_0128 244|MD585-N43-2015.07.16-22.29.50_MD585_3_0129 245|MD585-IHC43-2015.08.19-14.32.02_MD585_3_0129 246|MD585-N44-2015.07.16-22.35.02_MD585_1_0130 247|MD585-IHC44-2015.08.19-14.37.23_MD585_1_0130 248|MD585-N44-2015.07.16-22.35.02_MD585_2_0131 249|MD585-IHC44-2015.08.19-14.37.23_MD585_2_0131 250|MD585-N44-2015.07.16-22.35.02_MD585_3_0132 251|MD585-IHC44-2015.08.19-14.37.23_MD585_3_0132 252|MD585-N45-2015.07.16-22.40.26_MD585_1_0133 253|MD585-IHC45-2015.08.19-14.42.34_MD585_1_0133 254|MD585-N45-2015.07.16-22.40.26_MD585_2_0134 255|MD585-IHC45-2015.08.19-14.42.34_MD585_2_0134 256|MD585-N45-2015.07.16-22.40.26_MD585_3_0135 257|MD585-IHC45-2015.08.19-14.42.34_MD585_3_0135 258|MD585-N46-2015.07.16-22.45.37_MD585_1_0136 259|MD585-IHC46-2015.08.19-14.47.51_MD585_1_0136 260|MD585-N46-2015.07.16-22.45.37_MD585_2_0137 261|MD585-IHC46-2015.08.19-14.47.51_MD585_2_0137 262|MD585-N46-2015.07.16-22.45.37_MD585_3_0138 263|MD585-IHC46-2015.08.19-14.47.51_MD585_3_0138 264|MD585-N47-2015.07.16-22.50.52_MD585_1_0139 265|MD585-IHC47-2015.08.19-14.53.04_MD585_1_0139 266|MD585-N47-2015.07.16-22.50.52_MD585_2_0140 267|MD585-IHC47-2015.08.19-14.53.04_MD585_2_0140 268|MD585-N47-2015.07.16-22.50.52_MD585_3_0141 269|MD585-IHC47-2015.08.19-14.53.04_MD585_3_0141 270|MD585-N48-2015.07.16-22.56.02_MD585_1_0142 271|MD585-IHC48-2015.08.19-14.58.14_MD585_1_0142 272|MD585-N48-2015.07.16-22.56.02_MD585_2_0143 273|MD585-IHC48-2015.08.19-14.58.14_MD585_2_0143 274|MD585-N48-2015.07.16-22.56.02_MD585_3_0144 275|MD585-IHC48-2015.08.19-14.58.14_MD585_3_0144 276|MD585-N49-2015.07.16-23.01.02_MD585_1_0145 277|MD585-IHC49-2015.07.16-17.58.21_MD585_3_0147 278|MD585-N49-2015.07.16-23.01.02_MD585_2_0146 279|MD585-IHC49-2015.07.16-17.58.21_MD585_2_0146 280|MD585-N49-2015.07.16-23.01.02_MD585_3_0147 281|MD585-IHC49-2015.07.16-17.58.21_MD585_1_0145 282|MD585-N50-2015.07.16-23.05.49_MD585_1_0148 283|MD585-IHC50-2015.07.16-18.02.54_MD585_3_0150 284|MD585-N50-2015.07.16-23.05.49_MD585_2_0149 285|MD585-IHC50-2015.07.16-18.02.54_MD585_2_0149 286|MD585-N50-2015.07.16-23.05.49_MD585_3_0150 287|MD585-IHC50-2015.07.16-18.02.54_MD585_1_0148 288|MD585-N51-2015.07.16-23.10.35_MD585_1_0151 289|MD585-IHC51-2015.08.19-15.03.10_MD585_1_0151 290|MD585-N51-2015.07.16-23.10.35_MD585_2_0152 291|MD585-IHC51-2015.08.19-15.03.10_MD585_2_0152 292|MD585-N51-2015.07.16-23.10.35_MD585_3_0153 293|MD585-IHC51-2015.08.19-15.03.10_MD585_3_0153 294|MD585-N52-2015.08.19-16.12.22_MD585_1_0154 295|MD585-IHC52-2015.08.19-15.07.35_MD585_1_0154 296|MD585-N52-2015.08.19-16.12.22_MD585_2_0155 297|MD585-IHC52-2015.08.19-15.07.35_MD585_2_0155 298|Placeholder 299|MD585-IHC52-2015.08.19-15.07.35_MD585_3_0156 300|MD585-N53-2015.08.19-16.16.47_MD585_1_0157 301|MD585-IHC53-2015.08.19-15.12.08_MD585_1_0157 302|MD585-N53-2015.08.19-16.16.47_MD585_2_0158 303|MD585-IHC53-2015.08.19-15.12.08_MD585_2_0158 304|MD585-N53-2015.08.19-16.16.47_MD585_3_0159 305|MD585-IHC53-2015.08.19-15.12.08_MD585_3_0159 306|MD585-N54-2015.08.19-16.21.14_MD585_1_0160 307|MD585-IHC54-2015.08.19-15.16.31_MD585_1_0160 308|MD585-N54-2015.08.19-16.21.14_MD585_2_0161 309|MD585-IHC54-2015.08.19-15.16.31_MD585_2_0161 310|MD585-N54-2015.08.19-16.21.14_MD585_3_0162 311|MD585-IHC54-2015.08.19-15.16.31_MD585_3_0162 312|MD585-N55-2015.08.19-16.25.32_MD585_1_0163 313|MD585-IHC55-2015.08.19-15.21.01_MD585_1_0163 314|MD585-N55-2015.08.19-16.25.32_MD585_2_0164 315|MD585-IHC55-2015.08.19-15.21.01_MD585_2_0164 316|MD585-N55-2015.08.19-16.25.32_MD585_3_0165 317|MD585-IHC55-2015.08.19-15.21.01_MD585_3_0165 318|MD585-N56-2015.07.16-23.31.53_MD585_1_0166 319|MD585-IHC56-2015.07.16-18.29.48_MD585_1_0166 320|MD585-N56-2015.07.16-23.31.53_MD585_2_0167 321|MD585-IHC56-2015.07.16-18.29.48_MD585_2_0167 322|MD585-N56-2015.07.16-23.31.53_MD585_3_0168 323|MD585-IHC56-2015.07.16-18.29.48_MD585_3_0168 324|MD585-N57-2015.07.16-23.36.08_MD585_1_0169 325|MD585-IHC57-2015.07.16-18.33.52_MD585_1_0169 326|MD585-N57-2015.07.16-23.36.08_MD585_2_0170 327|MD585-IHC57-2015.07.16-18.33.52_MD585_2_0170 328|MD585-N57-2015.07.16-23.36.08_MD585_3_0171 329|MD585-IHC57-2015.07.16-18.33.52_MD585_3_0171 330|MD585-N58-2015.07.16-23.40.18_MD585_1_0172 331|MD585-IHC58-2015.07.16-18.38.08_MD585_1_0172 332|MD585-N58-2015.07.16-23.40.18_MD585_2_0173 333|MD585-IHC58-2015.07.16-18.38.08_MD585_2_0173 334|MD585-N58-2015.07.16-23.40.18_MD585_3_0174 335|MD585-IHC58-2015.07.16-18.38.08_MD585_3_0174 336|MD585-N59-2015.07.16-23.44.31_MD585_3_0177 337|MD585-IHC59-2015.07.16-18.42.14_MD585_1_0175 338|MD585-N59-2015.07.16-23.44.31_MD585_2_0176 339|MD585-IHC59-2015.07.16-18.42.14_MD585_2_0176 340|MD585-N59-2015.07.16-23.44.31_MD585_1_0175 341|MD585-IHC59-2015.07.16-18.42.14_MD585_3_0177 342|MD585-N60-2015.07.16-23.48.44_MD585_1_0178 343|MD585-IHC60-2015.08.19-15.25.07_MD585_1_0178 344|MD585-N60-2015.07.16-23.48.44_MD585_2_0179 345|MD585-IHC60-2015.08.19-15.25.07_MD585_2_0179 346|MD585-N60-2015.07.16-23.48.44_MD585_3_0180 347|MD585-IHC60-2015.08.19-15.25.07_MD585_3_0180 348|MD585-N61-2015.07.16-23.52.50_MD585_1_0181 349|MD585-IHC61-2015.07.16-18.50.40_MD585_3_0183 350|MD585-N61-2015.07.16-23.52.50_MD585_2_0182 351|MD585-IHC61-2015.07.16-18.50.40_MD585_2_0182 352|MD585-N61-2015.07.16-23.52.50_MD585_3_0183 353|MD585-IHC61-2015.07.16-18.50.40_MD585_1_0181 354|MD585-N62-2015.07.16-23.57.03_MD585_1_0184 355|MD585-IHC62-2015.07.16-18.54.56_MD585_1_0184 356|MD585-N62-2015.07.16-23.57.03_MD585_2_0185 357|MD585-IHC62-2015.07.16-18.54.56_MD585_2_0185 358|MD585-N62-2015.07.16-23.57.03_MD585_3_0186 359|MD585-IHC62-2015.07.16-18.54.56_MD585_3_0186 360|MD585-N63-2015.07.17-00.01.19_MD585_1_0187 361|MD585-IHC63-2015.07.16-18.59.13_MD585_1_0187 362|MD585-N63-2015.07.17-00.01.19_MD585_2_0188 363|MD585-IHC63-2015.07.16-18.59.13_MD585_2_0188 364|MD585-N63-2015.07.17-00.01.19_MD585_3_0189 365|MD585-IHC63-2015.07.16-18.59.13_MD585_3_0189 366|MD585-N64-2015.07.17-00.05.25_MD585_1_0190 367|MD585-IHC64-2015.07.16-19.03.18_MD585_1_0190 368|MD585-N64-2015.07.17-00.05.25_MD585_2_0191 369|MD585-IHC64-2015.07.16-19.03.18_MD585_2_0191 370|MD585-N64-2015.07.17-00.05.25_MD585_3_0192 371|MD585-IHC64-2015.07.16-19.03.18_MD585_3_0192 372|MD585-N65-2015.07.17-00.09.30_MD585_1_0193 373|MD585-IHC65-2015.07.16-19.07.14_MD585_1_0193 374|MD585-N65-2015.07.17-00.09.30_MD585_2_0194 375|MD585-IHC65-2015.07.16-19.07.14_MD585_2_0194 376|MD585-N65-2015.07.17-00.09.30_MD585_3_0195 377|MD585-IHC65-2015.07.16-19.07.14_MD585_3_0195 378|MD585-N66-2015.07.17-00.13.23_MD585_1_0196 379|MD585-IHC66-2015.07.16-19.11.12_MD585_1_0196 380|MD585-N66-2015.07.17-00.13.23_MD585_2_0197 381|MD585-IHC66-2015.07.16-19.11.12_MD585_2_0197 382|MD585-N66-2015.07.17-00.13.23_MD585_3_0198 383|MD585-IHC66-2015.07.16-19.11.12_MD585_3_0198 384|MD585-N67-2015.07.17-00.17.19_MD585_1_0199 385|MD585-IHC67-2015.07.16-19.15.10_MD585_1_0199 386|MD585-N67-2015.07.17-00.17.19_MD585_2_0200 387|MD585-IHC67-2015.07.16-19.15.10_MD585_2_0200 388|MD585-N67-2015.07.17-00.17.19_MD585_3_0201 389|MD585-IHC67-2015.07.16-19.15.10_MD585_3_0201 390|MD585-N68-2015.07.17-00.20.58_MD585_1_0202 391|MD585-IHC68-2015.07.16-19.18.44_MD585_1_0202 392|MD585-N68-2015.07.17-00.20.58_MD585_2_0203 393|MD585-IHC68-2015.07.16-19.18.44_MD585_2_0203 394|MD585-N68-2015.07.17-00.20.58_MD585_3_0204 395|MD585-IHC68-2015.07.16-19.18.44_MD585_3_0204 396|MD585-N69-2015.07.17-00.24.44_MD585_3_0207 397|MD585-IHC69-2015.07.16-19.22.29_MD585_1_0205 398|MD585-N69-2015.07.17-00.24.44_MD585_2_0206 399|MD585-IHC69-2015.07.16-19.22.29_MD585_2_0206 400|MD585-N69-2015.07.17-00.24.44_MD585_1_0205 401|MD585-IHC69-2015.07.16-19.22.29_MD585_3_0207 402|MD585-N70-2015.08.19-16.29.51_MD585_1_0208 403|MD585-IHC70-2015.07.16-19.26.09_MD585_3_0210 404|MD585-N70-2015.08.19-16.29.51_MD585_2_0209 405|MD585-IHC70-2015.07.16-19.26.09_MD585_2_0209 406|MD585-N70-2015.08.19-16.29.51_MD585_3_0210 407|MD585-IHC70-2015.07.16-19.26.09_MD585_1_0208 408|MD585-N71-2015.07.17-00.31.56_MD585_1_0211 409|MD585-IHC71-2015.07.16-19.30.50_MD585_1_0211 410|MD585-N71-2015.07.17-00.31.56_MD585_2_0212 411|MD585-IHC71-2015.07.16-19.30.50_MD585_2_0212 412|MD585-N71-2015.07.17-00.31.56_MD585_3_0213 413|MD585-IHC71-2015.07.16-19.30.50_MD585_3_0213 414|Placeholder 415|MD585-IHC72-2015.07.16-19.34.02_MD585_1_0214 416|MD585-N72-2015.07.17-00.35.17_MD585_3_0216 417|MD585-IHC72-2015.07.16-19.34.02_MD585_2_0215 418|MD585-N72-2015.07.17-00.35.17_MD585_2_0215 419|MD585-IHC72-2015.07.16-19.34.02_MD585_3_0216 420|MD585-N73-2015.07.17-00.37.23_MD585_1_0217 421|MD585-IHC73-2015.07.16-19.37.11_MD585_1_0217 422|MD585-N73-2015.07.17-00.37.23_MD585_2_0218 423|MD585-IHC73-2015.07.16-19.37.11_MD585_2_0218 424|MD585-N73-2015.07.17-00.37.23_MD585_3_0219 425|MD585-IHC73-2015.07.16-19.37.11_MD585_3_0219 426|MD585-N74-2015.07.17-00.40.33_MD585_1_0220 427|MD585-IHC74-2015.07.16-19.40.17_MD585_1_0220 428|MD585-N74-2015.07.17-00.40.33_MD585_2_0221 429|MD585-IHC74-2015.07.16-19.40.17_MD585_2_0221 430|MD585-N74-2015.07.17-00.40.33_MD585_3_0222 431|MD585-IHC74-2015.07.16-19.40.17_MD585_3_0222 432|MD585-N75-2015.07.17-00.43.32_MD585_1_0223 433|MD585-IHC75-2015.07.16-19.43.20_MD585_1_0223 434|MD585-N75-2015.07.17-00.43.32_MD585_2_0224 435|MD585-IHC75-2015.07.16-19.43.20_MD585_2_0224 436|MD585-N75-2015.07.17-00.43.32_MD585_3_0225 437|MD585-IHC75-2015.07.16-19.43.20_MD585_3_0225 438|MD585-N76-2015.07.17-00.46.27_MD585_1_0226 439|MD585-IHC76-2015.07.16-19.46.08_MD585_1_0226 440|MD585-N76-2015.07.17-00.46.27_MD585_2_0227 441|MD585-IHC76-2015.07.16-19.46.08_MD585_2_0227 442|MD585-N76-2015.07.17-00.46.27_MD585_3_0228 443|MD585-IHC76-2015.07.16-19.46.08_MD585_3_0228 444|MD585-N77-2015.07.17-00.48.48_MD585_1_0229 445|MD585-N77-2015.07.17-00.48.48_MD585_2_0230 446|'),\n",
       "             ('human_annotated', 1),\n",
       "             ('planar_resolution_um', -1.0),\n",
       "             ('section_thickness_um', 20.0)])"
      ]
     },
     "execution_count": 24,
     "metadata": {},
     "output_type": "execute_result"
    }
   ],
   "source": [
    "Mouse.describe()\n",
    "\n",
    "(BrainStack()&dict(mouse='MD585')).fetch( as_dict=True )[0]"
   ]
  },
  {
   "cell_type": "code",
   "execution_count": 19,
   "metadata": {},
   "outputs": [
    {
     "name": "stdout",
     "output_type": "stream",
     "text": [
      "-> Histology\n",
      "---\n",
      "stack_name           : varchar(10)                  # (Str) unique designation for each mouse\n",
      "num_slices           : int                          # (int) total number of histology slices\n",
      "num_valid_slices     : int                          \n",
      "channels             : int                          # (int) number of channels for each slice\n",
      "sorted_filenames     : varchar(50000)               # (Str) the sorted_filenames.txt file for each brain\n",
      "human_annotated      : tinyint                      # (bool) does this stack have human annotations\n",
      "planar_resolution_um : double                       # (double) 0.325 for AxioScanner, 0.46 from CSHL\n",
      "section_thickness_um : double                       # (double) typically 20um\n",
      "UNIQUE INDEX (stack_name)\n",
      "\n",
      "-> BrainStack\n",
      "---\n",
      "aws_bucket           : varchar(40)                  # (Str) the name of the bucket the files are stored on\n",
      "processed_stack      : varchar(50000)               # (Str) a sequence of each filepath of files stored on S3 seperated by '|'\n",
      "\n"
     ]
    },
    {
     "data": {
      "text/plain": [
       "\"-> BrainStack\\n---\\naws_bucket           : varchar(40)                  # (Str) the name of the bucket the files are stored on\\nprocessed_stack      : varchar(50000)               # (Str) a sequence of each filepath of files stored on S3 seperated by '|'\\n\""
      ]
     },
     "execution_count": 19,
     "metadata": {},
     "output_type": "execute_result"
    }
   ],
   "source": [
    "BrainStack.describe()\n",
    "\n",
    "\n",
    "ProcessedSlices.describe()"
   ]
  },
  {
   "cell_type": "code",
   "execution_count": 14,
   "metadata": {},
   "outputs": [
    {
     "name": "stdout",
     "output_type": "stream",
     "text": [
      "CHATM2\n",
      "CHATM3\n",
      "CSHL2\n",
      "MD175\n",
      "MD585\n",
      "MD589\n",
      "MD590\n",
      "MD591\n",
      "MD592\n",
      "MD593\n",
      "MD594\n",
      "MD595\n",
      "MD598\n",
      "MD599\n",
      "MD602\n",
      "MD603\n",
      "MD635\n",
      "MD636\n",
      "MD639\n",
      "MD642\n",
      "MD652\n",
      "MD653\n",
      "MD657\n",
      "MD658\n",
      "MD661\n",
      "MD662\n",
      "UCSD001\n"
     ]
    }
   ],
   "source": [
    "brainStackTables = (BrainStack()).fetch( as_dict=True )\n",
    "for brainStackTable in brainStackTables:\n",
    "    print( brainStackTable['mouse'] )"
   ]
  },
  {
   "cell_type": "markdown",
   "metadata": {},
   "source": [
    "## Load dictionary of brain names from utilities.py"
   ]
  },
  {
   "cell_type": "code",
   "execution_count": 21,
   "metadata": {},
   "outputs": [
    {
     "name": "stdout",
     "output_type": "stream",
     "text": [
      "['MD585', 'MD589', 'MD590', 'MD591', 'MD592', 'MD593', 'MD594', 'MD595', 'MD598', 'MD599', 'MD602', 'MD603', 'CHATM2', 'CHATM3', 'CSHL2', 'MD658', 'MD661', 'MD662', 'MD635', 'MD636', 'MD639', 'MD642', 'MD652', 'MD653', 'MD657', 'MD175', 'UCSD001']\n"
     ]
    }
   ],
   "source": [
    "# From utilities.py\n",
    "all_stacks = list( brain_names_dic.keys() )\n",
    "print( all_stacks )"
   ]
  },
  {
   "cell_type": "markdown",
   "metadata": {},
   "source": [
    "## List all Section-names & Section-numbers for a given stack\n",
    "#### - Example displaying MD585 sections\n",
    "`Placeholder` indicates a damaged section, not used in the pipeline"
   ]
  },
  {
   "cell_type": "code",
   "execution_count": 22,
   "metadata": {},
   "outputs": [
    {
     "name": "stdout",
     "output_type": "stream",
     "text": [
      "Keys for <STACK>_stack_info:\n",
      "odict_keys(['mouse', 'stack_name', 'num_slices', 'num_valid_slices', 'channels', 'sorted_filenames', 'human_annotated', 'planar_resolution_um', 'section_thickness_um'])\n"
     ]
    }
   ],
   "source": [
    "stack = 'MD585'\n",
    "MD585_stack_info = (BrainStack()&dict(mouse=stack)).fetch( as_dict=True )[0]\n",
    "print( 'Keys for <STACK>_stack_info:')\n",
    "print( MD585_stack_info.keys() )\n",
    "\n",
    "# `MD585_sections` contains a list of every filename, <space>, and the section number\n",
    "#    If filename == 'Placeholder' then the section is unusable and not used in the pipeline\n",
    "MD585_sections = MD585_stack_info['sorted_filenames'].split('|')"
   ]
  },
  {
   "cell_type": "markdown",
   "metadata": {},
   "source": [
    "## Access Raw Data\n",
    "#### - Example accessing MD585 data"
   ]
  },
  {
   "cell_type": "code",
   "execution_count": 23,
   "metadata": {
    "scrolled": false
   },
   "outputs": [
    {
     "name": "stdout",
     "output_type": "stream",
     "text": [
      "CHATM2\n",
      "  - Has no raw data on S3\n",
      "CHATM3\n",
      "  - Has no raw data on S3\n",
      "CSHL2\n",
      "  - Has no raw data on S3\n",
      "MD639\n",
      "  - Has no raw data on S3\n",
      "MD175\n",
      "  - Has no raw data on S3\n"
     ]
    }
   ],
   "source": [
    "# Going through each brain, prints out brains that do NOT have raw data\n",
    "for stack in all_stacks:\n",
    "    # rawstack_info keys: ['mouse', 'aws_bucket', 'processed_stack']\n",
    "    raw_stack_info = (RawSlices()&dict(mouse=stack)).fetch( as_dict=True )[0]\n",
    "    if raw_stack_info['raw_stack']=='':\n",
    "        print(raw_stack_info['mouse'])\n",
    "        print( '  - Has no raw data on S3' )"
   ]
  },
  {
   "cell_type": "code",
   "execution_count": 24,
   "metadata": {},
   "outputs": [
    {
     "name": "stdout",
     "output_type": "stream",
     "text": [
      "The 100th slice of MD585 with the bucket appended to the front:\n",
      "\n",
      "mousebrainatlas-rawdata://CSHL_data/MD585/MD585-IHC42-2015.08.19-14.26.30_MD585_1_0124_lossless.jp2\n"
     ]
    }
   ],
   "source": [
    "stack = 'MD585'\n",
    "# Load RawStack table (as dict) for a particular stack\n",
    "raw_stack_info = (RawSlices()&dict(mouse=stack)).fetch( as_dict=True )[0]\n",
    "\n",
    "bucket =  raw_stack_info['aws_bucket']\n",
    "filename_list = raw_stack_info['raw_stack'].split('|')\n",
    "\n",
    "print( 'The 100th slice of '+stack+' with the bucket appended to the front:\\n' )\n",
    "fp = bucket + '://' + filename_list[100]\n",
    "print( fp )"
   ]
  },
  {
   "cell_type": "markdown",
   "metadata": {},
   "source": [
    "## Access Processed Data\n",
    "#### - Example accessing MD585 data"
   ]
  },
  {
   "cell_type": "code",
   "execution_count": 25,
   "metadata": {
    "scrolled": true
   },
   "outputs": [
    {
     "name": "stdout",
     "output_type": "stream",
     "text": [
      "CHATM2\n",
      "  - Has no processed data on S3\n",
      "CHATM3\n",
      "  - Has no processed data on S3\n",
      "CSHL2\n",
      "  - Has no processed data on S3\n",
      "MD636\n",
      "  - Has no processed data on S3\n",
      "MD639\n",
      "  - Has no processed data on S3\n",
      "MD175\n",
      "  - Has no processed data on S3\n",
      "UCSD001\n",
      "  - Has no processed data on S3\n"
     ]
    }
   ],
   "source": [
    "# Going through each brain, prints out brains that do NOT have processed data\n",
    "for stack in all_stacks:\n",
    "    # rawstack_info keys: ['mouse', 'aws_bucket', 'processed_stack']\n",
    "    processed_stack_info = (ProcessedSlices()&dict(mouse=stack)).fetch( as_dict=True )[0]\n",
    "    if processed_stack_info['processed_stack']=='':\n",
    "        print(processed_stack_info['mouse'])\n",
    "        print( '  - Has no processed data on S3' )"
   ]
  },
  {
   "cell_type": "code",
   "execution_count": 26,
   "metadata": {},
   "outputs": [
    {
     "name": "stdout",
     "output_type": "stream",
     "text": [
      "The 100th slice of MD585 with the bucket appended to the front:\n",
      "\n",
      "mousebrainatlas-data/CSHL_data_processed/MD585/MD585_prep2_lossless/MD585-IHC50-2015.07.16-18.02.54_MD585_2_0149_prep2_lossless.tif\n"
     ]
    }
   ],
   "source": [
    "stack = 'MD585'\n",
    "# Load ProcessedStack table (as dict) for a particular stack\n",
    "processed_stack_info = (ProcessedSlices()&dict(mouse=stack)).fetch( as_dict=True )[0]\n",
    "\n",
    "bucket =  processed_stack_info['aws_bucket']\n",
    "filename_list = processed_stack_info['processed_stack'].split('|')\n",
    "\n",
    "print( 'The 100th slice of '+stack+' with the bucket appended to the front:\\n' )\n",
    "fp = bucket + '/' + filename_list[100]\n",
    "print( fp )"
   ]
  },
  {
   "cell_type": "markdown",
   "metadata": {},
   "source": [
    "# Download Images from S3 to Local Computer\n",
    "(Relies on `bucket` and `filename_list` from previous cell)"
   ]
  },
  {
   "cell_type": "code",
   "execution_count": 29,
   "metadata": {
    "collapsed": true
   },
   "outputs": [],
   "source": [
    "from subprocess import call\n",
    "\n",
    "# `fp` includes the S3 bucket as shown belows\n",
    "def download_from_s3(local_root, fp):\n",
    "    s3_url = \"s3://\"+fp\n",
    "    local_fp = local_root+fp\n",
    "    \n",
    "    print('Downloading file to ' + local_fp)\n",
    "\n",
    "    call([\"aws\",\\\n",
    "          \"s3\",\\\n",
    "          \"cp\",\\\n",
    "          s3_url,\\\n",
    "          local_fp])"
   ]
  },
  {
   "cell_type": "code",
   "execution_count": 30,
   "metadata": {},
   "outputs": [
    {
     "name": "stdout",
     "output_type": "stream",
     "text": [
      "Downloading file to /mnt/c/Users/Alex/Documents/mousebrainatlas-data/CSHL_data_processed/MD585/MD585_prep2_lossless/MD585-N22-2015.07.18-07.10.40_MD585_1_0064_prep2_lossless.tif\n",
      "Downloading file to /mnt/c/Users/Alex/Documents/mousebrainatlas-data/CSHL_data_processed/MD585/MD585_prep2_lossless/MD585-N22-2015.07.18-07.10.40_MD585_2_0065_prep2_lossless.tif\n"
     ]
    }
   ],
   "source": [
    "stack = 'MD585'\n",
    "# Contains all information on downloading processed files (post-preprocessing images)\n",
    "processed_stack_info = (ProcessedSlices()&dict(mouse=stack)).fetch( as_dict=True )[0]\n",
    "bucket =  processed_stack_info['aws_bucket']\n",
    "filename_list = processed_stack_info['processed_stack'].split('|')\n",
    "num_slices = len(filename_list)\n",
    "\n",
    "# Using `download_from_s3` on my desktop to download first 10 files of MD585\n",
    "#   and then display a downsampled version of it\n",
    "local_root_alex_pc = \"/mnt/c/Users/Alex/Documents/\"\n",
    "\n",
    "# Downloading valid sections 150-151\n",
    "for i in range(150,152):\n",
    "    fp = bucket+'/'+filename_list[i]\n",
    "    download_from_s3( local_root_alex_pc, fp)"
   ]
  },
  {
   "cell_type": "code",
   "execution_count": null,
   "metadata": {
    "collapsed": true
   },
   "outputs": [],
   "source": []
  }
 ],
 "metadata": {
  "kernelspec": {
   "display_name": "Python_3",
   "language": "python",
   "name": "python_3"
  },
  "language_info": {
   "codemirror_mode": {
    "name": "ipython",
    "version": 3
   },
   "file_extension": ".py",
   "mimetype": "text/x-python",
   "name": "python",
   "nbconvert_exporter": "python",
   "pygments_lexer": "ipython3",
   "version": "3.7.0"
  }
 },
 "nbformat": 4,
 "nbformat_minor": 2
}
