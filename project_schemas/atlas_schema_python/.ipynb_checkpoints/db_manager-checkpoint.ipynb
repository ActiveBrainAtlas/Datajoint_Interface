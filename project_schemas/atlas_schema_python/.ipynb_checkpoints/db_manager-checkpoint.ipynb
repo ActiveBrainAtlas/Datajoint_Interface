{
 "cells": [
  {
   "cell_type": "code",
   "execution_count": 74,
   "metadata": {
    "scrolled": true
   },
   "outputs": [
    {
     "name": "stdout",
     "output_type": "stream",
     "text": [
      "{'host': 'ucsd-demo-db.datajoint.io', 'port': 3306, 'user': 'dbadmin', 'passwd': 'western-data-surf-hemisphere', 'db': 'demodb'}\n",
      "\n",
      "\n",
      "\n",
      "---------------  show tables\n",
      "(('Tables_in_alex_test', 253, None, 256, 256, 0, False),)\n",
      "\n",
      "('#person',)\n",
      "('~log',)\n",
      "('mouse',)\n",
      "('surgery',)\n",
      "\n",
      "\n"
     ]
    }
   ],
   "source": [
    "import pymysql\n",
    "import json\n",
    "import sys\n",
    "from pprint import pprint\n",
    "\n",
    "# alex\n",
    "# qqqqqqq\n",
    "# ucsd-demo-db.datajoint.io\n",
    "\n",
    "alex_laptop_cred_fp = '/Users/newberry/Desktop/atlas_data/alex_local_db_credentials.json'\n",
    "alex_desktop_cred_fp = '/mnt/c/Users/Alex/Documents/json_credentials/datajoint_db_credentials.json'\n",
    "\n",
    "#with open(alex_laptop_cred_fp) as f: # Alex laptop\n",
    "with open(alex_desktop_cred_fp) as f: # Alex desktop\n",
    "    creds = json.load(f)\n",
    "print(creds)\n",
    "print('\\n\\n')\n",
    "# db = alex_test, common_atlas, common_test\n",
    "# Establish connection to the database\n",
    "conn = pymysql.connect(host=creds['host'], port=creds['port'], user=creds['user'], passwd=creds['passwd'], db = 'alex_test')\n",
    "\n",
    "\n",
    "def print_sql_command_output( command='show tables' ):\n",
    "    # Create a connection cursor\n",
    "    cur = conn.cursor()\n",
    "    # Execute a mySql command\n",
    "    cur.execute(command)\n",
    "    \n",
    "    # Print out the commands output\n",
    "    print('---------------  '+command)\n",
    "    print(cur.description)\n",
    "    print()\n",
    "\n",
    "    for row in cur:\n",
    "        print(row)\n",
    "    print('\\n')\n",
    "    cur.close()\n",
    "\n",
    "\n",
    "print_sql_command_output(command='show tables')"
   ]
  },
  {
   "cell_type": "code",
   "execution_count": 75,
   "metadata": {},
   "outputs": [
    {
     "name": "stdout",
     "output_type": "stream",
     "text": [
      "---------------  SELECT * FROM surgery\n",
      "(('mouse', 254, None, 40, 40, 0, False), ('surgery_number', 1, None, 3, 3, 0, False), ('username', 253, None, 64, 64, 0, False), ('surgery_date', 10, None, 10, 10, 0, False), ('surgery_description', 253, None, 4000, 4000, 0, False))\n",
      "\n",
      "('1', 1, 'alex', datetime.date(2018, 11, 11), 'Nothing to say.')\n",
      "('1', 2, 'alex', datetime.date(2018, 11, 12), 'Surgery went horribly, horribly wrong. That poor mouse.')\n",
      "('1', 3, 'david', datetime.date(2018, 11, 14), 'Surgery was chillin')\n",
      "\n",
      "\n"
     ]
    }
   ],
   "source": [
    "print_sql_command_output(command='SELECT * FROM surgery')"
   ]
  },
  {
   "cell_type": "code",
   "execution_count": 78,
   "metadata": {},
   "outputs": [
    {
     "name": "stdout",
     "output_type": "stream",
     "text": [
      "---------------  show processlist\n",
      "(('Id', 8, None, 21, 21, 0, False), ('User', 253, None, 64, 64, 31, False), ('Host', 253, None, 256, 256, 31, False), ('db', 253, None, 256, 256, 31, True), ('Command', 253, None, 64, 64, 31, False), ('Time', 3, None, 7, 7, 0, False), ('State', 253, None, 120, 120, 31, True), ('Info', 253, None, 400, 400, 31, True))\n",
      "\n",
      "(1, 'rdsadmin', 'localhost', None, 'Sleep', 2, 'delayed send ok done', None)\n",
      "(3, 'rdsadmin', 'localhost', None, 'Sleep', 1, 'cleaned up', None)\n",
      "(4, 'rdsadmin', 'localhost', None, 'Sleep', 3, 'cleaned up', None)\n",
      "(6, 'rdsadmin', 'localhost', None, 'Sleep', 68, 'delayed send ok done', None)\n",
      "(11616, 'rdsadmin', 'localhost', None, 'Sleep', 0, 'cleaned up', None)\n",
      "(13541, 'alex', '76.192.162.103:65423', None, 'Sleep', 227, 'cleaned up', None)\n",
      "(13544, 'dbadmin', '76.192.162.103:65456', 'alex_test', 'Query', 0, 'init', 'show processlist')\n",
      "\n",
      "\n",
      "---------------  show grants\n",
      "(('Grants for dbadmin@%', 253, None, 4096, 4096, 31, False),)\n",
      "\n",
      "(\"GRANT SELECT, INSERT, UPDATE, DELETE, CREATE, DROP, RELOAD, PROCESS, REFERENCES, INDEX, ALTER, SHOW DATABASES, CREATE TEMPORARY TABLES, LOCK TABLES, EXECUTE, REPLICATION SLAVE, REPLICATION CLIENT, CREATE VIEW, SHOW VIEW, CREATE ROUTINE, ALTER ROUTINE, CREATE USER, EVENT, TRIGGER, LOAD FROM S3, SELECT INTO S3, INVOKE LAMBDA ON *.* TO 'dbadmin'@'%' IDENTIFIED BY PASSWORD '*AAD5282851DD25BD30C27DB64EBA59D6DA44F753' WITH GRANT OPTION\",)\n",
      "\n",
      "\n",
      "---------------  show grants FOR alex\n",
      "(('Grants for alex@%', 253, None, 4096, 4096, 31, False),)\n",
      "\n",
      "(\"GRANT USAGE ON *.* TO 'alex'@'%' IDENTIFIED BY PASSWORD '*8F4E65EB3D28FBCB72FFEF92B72F8325864C4E94'\",)\n",
      "(\"GRANT ALL PRIVILEGES ON `common\\\\_%`.* TO 'alex'@'%'\",)\n",
      "(\"GRANT ALL PRIVILEGES ON `alex\\\\_%`.* TO 'alex'@'%'\",)\n",
      "\n",
      "\n"
     ]
    }
   ],
   "source": [
    "command = 'show processlist'\n",
    "print_sql_command_output(command=command)\n",
    "\n",
    "command = 'show grants'\n",
    "print_sql_command_output(command=command)\n",
    "\n",
    "command = 'show grants FOR alex'\n",
    "print_sql_command_output(command=command)"
   ]
  },
  {
   "cell_type": "code",
   "execution_count": 77,
   "metadata": {},
   "outputs": [
    {
     "name": "stdout",
     "output_type": "stream",
     "text": [
      "---------------  show grants FOR alex\n",
      "(('Grants for alex@%', 253, None, 4096, 4096, 31, False),)\n",
      "\n",
      "(\"GRANT USAGE ON *.* TO 'alex'@'%' IDENTIFIED BY PASSWORD '*8F4E65EB3D28FBCB72FFEF92B72F8325864C4E94'\",)\n",
      "(\"GRANT ALL PRIVILEGES ON `common\\\\_%`.* TO 'alex'@'%'\",)\n",
      "(\"GRANT ALL PRIVILEGES ON `alex\\\\_%`.* TO 'alex'@'%'\",)\n",
      "\n",
      "\n"
     ]
    }
   ],
   "source": [
    "command = 'show grants FOR alex'\n",
    "print_sql_command_output(command=command)"
   ]
  },
  {
   "cell_type": "code",
   "execution_count": null,
   "metadata": {
    "collapsed": true
   },
   "outputs": [],
   "source": []
  }
 ],
 "metadata": {
  "kernelspec": {
   "display_name": "Python 3",
   "language": "python",
   "name": "python3"
  },
  "language_info": {
   "codemirror_mode": {
    "name": "ipython",
    "version": 3
   },
   "file_extension": ".py",
   "mimetype": "text/x-python",
   "name": "python",
   "nbconvert_exporter": "python",
   "pygments_lexer": "ipython3",
   "version": "3.6.7"
  }
 },
 "nbformat": 4,
 "nbformat_minor": 2
}
