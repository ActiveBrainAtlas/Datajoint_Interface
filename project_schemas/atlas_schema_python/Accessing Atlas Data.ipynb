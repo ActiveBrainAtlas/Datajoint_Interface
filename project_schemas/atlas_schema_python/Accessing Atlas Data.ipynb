{
 "cells": [
  {
   "cell_type": "markdown",
   "metadata": {},
   "source": [
    "## Connect to DataJoint server\n",
    "#### Downloading data from S3 will require your own AWS credentials"
   ]
  },
  {
   "cell_type": "code",
   "execution_count": 3,
   "metadata": {},
   "outputs": [
    {
     "data": {
      "text/plain": [
       "DataJoint connection (connected) alex@ucsd-demo-db.datajoint.io:3306"
      ]
     },
     "execution_count": 3,
     "metadata": {},
     "output_type": "execute_result"
    }
   ],
   "source": [
    "import datajoint as dj\n",
    "import numpy as np\n",
    "import json\n",
    "from utilities import *\n",
    "from subprocess import call\n",
    "\n",
    "# Connect to datajoint server\n",
    "dj.conn()"
   ]
  },
  {
   "cell_type": "code",
   "execution_count": 4,
   "metadata": {},
   "outputs": [],
   "source": [
    "# Define which schema you're using\n",
    "schema = dj.schema('common_atlas')\n",
    "schema.spawn_missing_classes()"
   ]
  },
  {
   "cell_type": "markdown",
   "metadata": {},
   "source": [
    "## Load dictionary of brain names from utilities.py"
   ]
  },
  {
   "cell_type": "code",
   "execution_count": 5,
   "metadata": {},
   "outputs": [
    {
     "name": "stdout",
     "output_type": "stream",
     "text": [
      "['MD585', 'MD589', 'MD590', 'MD591', 'MD592', 'MD593', 'MD594', 'MD595', 'MD598', 'MD599', 'MD602', 'MD603', 'CHATM2', 'CHATM3', 'CSHL2', 'MD658', 'MD661', 'MD662', 'MD635', 'MD636', 'MD639', 'MD642', 'MD652', 'MD653', 'MD657', 'MD175', 'UCSD001']\n"
     ]
    }
   ],
   "source": [
    "# From utilities.py\n",
    "all_stacks = list( brain_names_dic.keys() )\n",
    "print( all_stacks )"
   ]
  },
  {
   "cell_type": "markdown",
   "metadata": {},
   "source": [
    "## List all Section-names & Section-numbers for a given stack\n",
    "#### - Example displaying MD585 sections\n",
    "`Placeholder` indicates a damaged section, not used in the pipeline"
   ]
  },
  {
   "cell_type": "code",
   "execution_count": 6,
   "metadata": {},
   "outputs": [
    {
     "name": "stdout",
     "output_type": "stream",
     "text": [
      "Keys for <STACK>_stack_info:\n",
      "odict_keys(['mouse', 'stack_name', 'num_slices', 'num_valid_slices', 'channels', 'sorted_filenames', 'human_annotated', 'planar_resolution_um', 'section_thickness_um'])\n"
     ]
    }
   ],
   "source": [
    "stack = 'MD585'\n",
    "MD585_stack_info = (BrainStackInfo()&dict(mouse=stack)).fetch( as_dict=True )[0]\n",
    "print( 'Keys for <STACK>_stack_info:')\n",
    "print( MD585_stack_info.keys() )\n",
    "\n",
    "# `MD585_sections` contains a list of every filename, <space>, and the section number\n",
    "#    If filename == 'Placeholder' then the section is unusable and not used in the pipeline\n",
    "MD585_sections = MD585_stack_info['sorted_filenames'].split('|')"
   ]
  },
  {
   "cell_type": "markdown",
   "metadata": {},
   "source": [
    "## Access Raw Data\n",
    "#### - Example accessing MD585 data"
   ]
  },
  {
   "cell_type": "code",
   "execution_count": 7,
   "metadata": {
    "scrolled": false
   },
   "outputs": [
    {
     "name": "stdout",
     "output_type": "stream",
     "text": [
      "CHATM2\n",
      "  - Has no raw data on S3\n",
      "CHATM3\n",
      "  - Has no raw data on S3\n",
      "CSHL2\n",
      "  - Has no raw data on S3\n",
      "MD639\n",
      "  - Has no raw data on S3\n",
      "MD175\n",
      "  - Has no raw data on S3\n"
     ]
    }
   ],
   "source": [
    "# Going through each brain, prints out brains that do NOT have raw data\n",
    "for stack in all_stacks:\n",
    "    # rawstack_info keys: ['mouse', 'aws_bucket', 'processed_stack']\n",
    "    raw_stack_info = (RawStack()&dict(mouse=stack)).fetch( as_dict=True )[0]\n",
    "    if raw_stack_info['raw_stack']=='':\n",
    "        print(raw_stack_info['mouse'])\n",
    "        print( '  - Has no raw data on S3' )"
   ]
  },
  {
   "cell_type": "code",
   "execution_count": 8,
   "metadata": {},
   "outputs": [
    {
     "name": "stdout",
     "output_type": "stream",
     "text": [
      "The 100th slice of MD585 with the bucket appended to the front:\n",
      "\n",
      "mousebrainatlas-rawdata://CSHL_data/MD585/MD585-IHC42-2015.08.19-14.26.30_MD585_1_0124_lossless.jp2\n"
     ]
    }
   ],
   "source": [
    "stack = 'MD585'\n",
    "# Load RawStack table (as dict) for a particular stack\n",
    "raw_stack_info = (RawStack()&dict(mouse=stack)).fetch( as_dict=True )[0]\n",
    "\n",
    "bucket =  raw_stack_info['aws_bucket']\n",
    "filename_list = raw_stack_info['raw_stack'].split('|')\n",
    "\n",
    "print( 'The 100th slice of '+stack+' with the bucket appended to the front:\\n' )\n",
    "fp = bucket + '://' + filename_list[100]\n",
    "print( fp )"
   ]
  },
  {
   "cell_type": "markdown",
   "metadata": {},
   "source": [
    "## Access Processed Data\n",
    "#### - Example accessing MD585 data"
   ]
  },
  {
   "cell_type": "code",
   "execution_count": 9,
   "metadata": {
    "scrolled": true
   },
   "outputs": [
    {
     "name": "stdout",
     "output_type": "stream",
     "text": [
      "CHATM2\n",
      "  - Has no processed data on S3\n",
      "CHATM3\n",
      "  - Has no processed data on S3\n",
      "CSHL2\n",
      "  - Has no processed data on S3\n",
      "MD636\n",
      "  - Has no processed data on S3\n",
      "MD639\n",
      "  - Has no processed data on S3\n",
      "MD175\n",
      "  - Has no processed data on S3\n",
      "UCSD001\n",
      "  - Has no processed data on S3\n"
     ]
    }
   ],
   "source": [
    "# Going through each brain, prints out brains that do NOT have processed data\n",
    "for stack in all_stacks:\n",
    "    # rawstack_info keys: ['mouse', 'aws_bucket', 'processed_stack']\n",
    "    processed_stack_info = (ProcessedStack()&dict(mouse=stack)).fetch( as_dict=True )[0]\n",
    "    if processed_stack_info['processed_stack']=='':\n",
    "        print(processed_stack_info['mouse'])\n",
    "        print( '  - Has no processed data on S3' )"
   ]
  },
  {
   "cell_type": "code",
   "execution_count": 10,
   "metadata": {},
   "outputs": [
    {
     "name": "stdout",
     "output_type": "stream",
     "text": [
      "The 100th slice of MD585 with the bucket appended to the front:\n",
      "\n",
      "mousebrainatlas-data/CSHL_data_processed/MD585/MD585_prep2_lossless/MD585-IHC50-2015.07.16-18.02.54_MD585_2_0149_prep2_lossless.tif\n"
     ]
    }
   ],
   "source": [
    "stack = 'MD585'\n",
    "# Load ProcessedStack table (as dict) for a particular stack\n",
    "processed_stack_info = (ProcessedStack()&dict(mouse=stack)).fetch( as_dict=True )[0]\n",
    "\n",
    "bucket =  processed_stack_info['aws_bucket']\n",
    "filename_list = processed_stack_info['processed_stack'].split('|')\n",
    "\n",
    "print( 'The 100th slice of '+stack+' with the bucket appended to the front:\\n' )\n",
    "fp = bucket + '/' + filename_list[100]\n",
    "print( fp )"
   ]
  },
  {
   "cell_type": "markdown",
   "metadata": {},
   "source": [
    "# Download Images from S3 to Local Computer\n",
    "(Relies on `bucket` and `filename_list` from previous cell)"
   ]
  },
  {
   "cell_type": "code",
   "execution_count": 11,
   "metadata": {},
   "outputs": [],
   "source": [
    "from subprocess import call\n",
    "\n",
    "# `fp` includes the S3 bucket as shown belows\n",
    "def download_from_s3(local_root, fp):\n",
    "    s3_url = \"s3://\"+fp\n",
    "    local_fp = local_root+fp\n",
    "    \n",
    "    print('Downloading file to ' + local_fp)\n",
    "\n",
    "    call([\"aws\",\\\n",
    "          \"s3\",\\\n",
    "          \"cp\",\\\n",
    "          s3_url,\\\n",
    "          local_fp])"
   ]
  },
  {
   "cell_type": "code",
   "execution_count": 13,
   "metadata": {},
   "outputs": [],
   "source": [
    "stack = 'MD585'\n",
    "# Contains all information on downloading processed files (post-preprocessing images)\n",
    "processed_stack_info = (ProcessedStack()&dict(mouse=stack)).fetch( as_dict=True )[0]\n",
    "bucket =  processed_stack_info['aws_bucket']\n",
    "filename_list = processed_stack_info['processed_stack'].split('|')\n",
    "num_slices = len(filename_list)\n",
    "\n",
    "# Using `download_from_s3` on my desktop to download first 10 files of MD585\n",
    "#   and then display a downsampled version of it\n",
    "local_root_alex_pc = \"/mnt/c/Users/Alex/Documents/\"\n",
    "\n",
    "# Downloading valid sections 150-151\n",
    "for i in range(150,152):\n",
    "    fp = bucket+'/'+filename_list[i]\n",
    "    download_from_s3( local_root_alex_pc, fp)"
   ]
  },
  {
   "cell_type": "code",
   "execution_count": 14,
   "metadata": {},
   "outputs": [
    {
     "data": {
      "image/svg+xml": [
       "<svg height=\"247pt\" viewBox=\"0.00 0.00 307.68 247.00\" width=\"308pt\" xmlns=\"http://www.w3.org/2000/svg\" xmlns:xlink=\"http://www.w3.org/1999/xlink\">\n",
       "<g class=\"graph\" id=\"graph0\" transform=\"scale(1 1) rotate(0) translate(4 243)\">\n",
       "<title>%3</title>\n",
       "<polygon fill=\"#ffffff\" points=\"-4,4 -4,-243 303.6838,-243 303.6838,4 -4,4\" stroke=\"transparent\"/>\n",
       "<!-- BrainStackInfo -->\n",
       "<g class=\"node\" id=\"node1\">\n",
       "<title>BrainStackInfo</title>\n",
       "<g id=\"a_node1\"><a xlink:title=\"→ Histology\r",
       "------------------------------\r",
       "stack_name           \r",
       "num_slices           \r",
       "num_valid_slices     \r",
       "channels             \r",
       "sorted_filenames     \r",
       "human_annotated      \r",
       "planar_resolution_um \r",
       "section_thickness_um \r",
       "UNIQUE INDEX (stack_name)\r",
       "\">\n",
       "<polygon fill=\"#00ff00\" fill-opacity=\"0.188235\" points=\"243.3608,-97 149.3176,-97 149.3176,-62 243.3608,-62 243.3608,-97\" stroke=\"#00ff00\" stroke-opacity=\"0.188235\"/>\n",
       "<text fill=\"#006400\" font-family=\"arial\" font-size=\"12.00\" text-anchor=\"middle\" x=\"196.3392\" y=\"-75.9\">BrainStackInfo</text>\n",
       "</a>\n",
       "</g>\n",
       "</g>\n",
       "<!-- RawStack -->\n",
       "<g class=\"node\" id=\"node4\">\n",
       "<title>RawStack</title>\n",
       "<g id=\"a_node4\"><a xlink:title=\"→ BrainStackInfo\r",
       "------------------------------\r",
       "aws_bucket           \r",
       "raw_stack            \r",
       "\">\n",
       "<ellipse cx=\"144.3392\" cy=\"-13\" fill=\"#ff0000\" fill-opacity=\"0.125490\" rx=\"13.0009\" ry=\"13\" stroke=\"#ff0000\" stroke-opacity=\"0.125490\"/>\n",
       "<text fill=\"#7f0000\" font-family=\"arial\" font-size=\"12.00\" text-anchor=\"middle\" x=\"144.3392\" y=\"-9.4\">RawStack</text>\n",
       "</a>\n",
       "</g>\n",
       "</g>\n",
       "<!-- BrainStackInfo&#45;&gt;RawStack -->\n",
       "<g class=\"edge\" id=\"edge1\">\n",
       "<title>BrainStackInfo-&gt;RawStack</title>\n",
       "<path d=\"M182.4042,-61.6792C172.8976,-49.5218 160.626,-33.8283 152.6237,-23.5946\" fill=\"none\" stroke=\"#000000\" stroke-opacity=\"0.250980\" stroke-width=\"2\"/>\n",
       "</g>\n",
       "<!-- ProcessedStack -->\n",
       "<g class=\"node\" id=\"node5\">\n",
       "<title>ProcessedStack</title>\n",
       "<g id=\"a_node5\"><a xlink:title=\"→ BrainStackInfo\r",
       "------------------------------\r",
       "aws_bucket           \r",
       "processed_stack      \r",
       "\">\n",
       "<ellipse cx=\"248.3392\" cy=\"-13\" fill=\"#ff0000\" fill-opacity=\"0.125490\" rx=\"12.9608\" ry=\"13\" stroke=\"#ff0000\" stroke-opacity=\"0.125490\"/>\n",
       "<text fill=\"#7f0000\" font-family=\"arial\" font-size=\"12.00\" text-anchor=\"middle\" x=\"248.3392\" y=\"-9.4\">ProcessedStack</text>\n",
       "</a>\n",
       "</g>\n",
       "</g>\n",
       "<!-- BrainStackInfo&#45;&gt;ProcessedStack -->\n",
       "<g class=\"edge\" id=\"edge2\">\n",
       "<title>BrainStackInfo-&gt;ProcessedStack</title>\n",
       "<path d=\"M210.2742,-61.6792C219.7808,-49.5218 232.0524,-33.8283 240.0547,-23.5946\" fill=\"none\" stroke=\"#000000\" stroke-opacity=\"0.250980\" stroke-width=\"2\"/>\n",
       "</g>\n",
       "<!-- Perfusion -->\n",
       "<g class=\"node\" id=\"node2\">\n",
       "<title>Perfusion</title>\n",
       "<g id=\"a_node2\"><a xlink:title=\"→ Mouse\r",
       "------------------------------\r",
       "injection_date       \r",
       "post_fixation_condition_hours \r",
       "date_frozen          \r",
       "date_sectioned       \r",
       "injection_type       \r",
       "perfusion_lab        \r",
       "assessment=&quot;&quot;        \r",
       "\">\n",
       "<polygon fill=\"#00ff00\" fill-opacity=\"0.188235\" points=\"66.5184,-168 .16,-168 .16,-133 66.5184,-133 66.5184,-168\" stroke=\"#00ff00\" stroke-opacity=\"0.188235\"/>\n",
       "<text fill=\"#006400\" font-family=\"arial\" font-size=\"12.00\" text-anchor=\"middle\" x=\"33.3392\" y=\"-146.9\">Perfusion</text>\n",
       "</a>\n",
       "</g>\n",
       "</g>\n",
       "<!-- Injection -->\n",
       "<g class=\"node\" id=\"node3\">\n",
       "<title>Injection</title>\n",
       "<g id=\"a_node3\"><a xlink:title=\"→ Mouse\r",
       "injection_number     \r",
       "------------------------------\r",
       "injection_date       \r",
       "injection_type       \r",
       "injection_length     \r",
       "assessment=&quot;&quot;        \r",
       "\">\n",
       "<polygon fill=\"#00ff00\" fill-opacity=\"0.188235\" points=\"145.5184,-168 85.16,-168 85.16,-133 145.5184,-133 145.5184,-168\" stroke=\"#00ff00\" stroke-opacity=\"0.188235\"/>\n",
       "<text fill=\"#006400\" font-family=\"arial\" font-size=\"12.00\" text-anchor=\"middle\" x=\"115.3392\" y=\"-146.9\">Injection</text>\n",
       "</a>\n",
       "</g>\n",
       "</g>\n",
       "<!-- Mouse -->\n",
       "<g class=\"node\" id=\"node6\">\n",
       "<title>Mouse</title>\n",
       "<g id=\"a_node6\"><a xlink:title=\"mouse                \r",
       "------------------------------\r",
       "date_of_birth        \r",
       "sex                  \r",
       "genotype             \r",
       "weight               \r",
       "bred                 \r",
       "\">\n",
       "<polygon fill=\"#00ff00\" fill-opacity=\"0.188235\" points=\"141.3464,-239 89.332,-239 89.332,-204 141.3464,-204 141.3464,-239\" stroke=\"#00ff00\" stroke-opacity=\"0.188235\"/>\n",
       "<text fill=\"#006400\" font-family=\"arial\" font-size=\"12.00\" text-anchor=\"middle\" x=\"115.3392\" y=\"-217.9\">Mouse</text>\n",
       "</a>\n",
       "</g>\n",
       "</g>\n",
       "<!-- Mouse&#45;&gt;Perfusion -->\n",
       "<g class=\"edge\" id=\"edge3\">\n",
       "<title>Mouse-&gt;Perfusion</title>\n",
       "<path d=\"M95.0695,-203.9494C82.454,-193.0262 66.285,-179.0262 53.6599,-168.0947\" fill=\"none\" stroke=\"#000000\" stroke-opacity=\"0.250980\" stroke-width=\"2\"/>\n",
       "</g>\n",
       "<!-- Mouse&#45;&gt;Injection -->\n",
       "<g class=\"edge\" id=\"edge4\">\n",
       "<title>Mouse-&gt;Injection</title>\n",
       "<path d=\"M115.3392,-203.9494C115.3392,-193.1083 115.3392,-179.2366 115.3392,-168.3418\" fill=\"none\" stroke=\"#000000\" stroke-opacity=\"0.250980\" stroke-width=\".75\"/>\n",
       "</g>\n",
       "<!-- Histology -->\n",
       "<g class=\"node\" id=\"node7\">\n",
       "<title>Histology</title>\n",
       "<g id=\"a_node7\"><a xlink:title=\"→ Mouse\r",
       "------------------------------\r",
       "region               \r",
       "thickness            \r",
       "orientation          \r",
       "counter_stain        \r",
       "lab                  \r",
       "series               \r",
       "\">\n",
       "<polygon fill=\"#00ff00\" fill-opacity=\"0.188235\" points=\"229.1757,-168 163.5027,-168 163.5027,-133 229.1757,-133 229.1757,-168\" stroke=\"#00ff00\" stroke-opacity=\"0.188235\"/>\n",
       "<text fill=\"#006400\" font-family=\"arial\" font-size=\"12.00\" text-anchor=\"middle\" x=\"196.3392\" y=\"-146.9\">Histology</text>\n",
       "</a>\n",
       "</g>\n",
       "</g>\n",
       "<!-- Mouse&#45;&gt;Histology -->\n",
       "<g class=\"edge\" id=\"edge5\">\n",
       "<title>Mouse-&gt;Histology</title>\n",
       "<path d=\"M135.3617,-203.9494C147.8234,-193.0262 163.7952,-179.0262 176.2663,-168.0947\" fill=\"none\" stroke=\"#000000\" stroke-opacity=\"0.250980\" stroke-width=\"2\"/>\n",
       "</g>\n",
       "<!-- Histology&#45;&gt;BrainStackInfo -->\n",
       "<g class=\"edge\" id=\"edge6\">\n",
       "<title>Histology-&gt;BrainStackInfo</title>\n",
       "<path d=\"M196.3392,-132.9494C196.3392,-122.1083 196.3392,-108.2366 196.3392,-97.3418\" fill=\"none\" stroke=\"#000000\" stroke-opacity=\"0.250980\" stroke-width=\"2\"/>\n",
       "</g>\n",
       "</g>\n",
       "</svg>"
      ],
      "text/plain": [
       "<datajoint.erd.ERD at 0x7f73f7435160>"
      ]
     },
     "execution_count": 14,
     "metadata": {},
     "output_type": "execute_result"
    }
   ],
   "source": [
    "dj.ERD(schema)"
   ]
  },
  {
   "cell_type": "code",
   "execution_count": null,
   "metadata": {},
   "outputs": [],
   "source": []
  }
 ],
 "metadata": {
  "kernelspec": {
   "display_name": "Python 3",
   "language": "python",
   "name": "python3"
  },
  "language_info": {
   "codemirror_mode": {
    "name": "ipython",
    "version": 3
   },
   "file_extension": ".py",
   "mimetype": "text/x-python",
   "name": "python",
   "nbconvert_exporter": "python",
   "pygments_lexer": "ipython3",
   "version": "3.6.7"
  }
 },
 "nbformat": 4,
 "nbformat_minor": 2
}
