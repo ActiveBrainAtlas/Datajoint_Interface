{
 "cells": [
  {
   "cell_type": "markdown",
   "metadata": {},
   "source": [
    "## Connect to DataJoint server\n",
    "#### Downloading data from S3 will require your own AWS credentials"
   ]
  },
  {
   "cell_type": "code",
   "execution_count": 1,
   "metadata": {},
   "outputs": [
    {
     "name": "stdout",
     "output_type": "stream",
     "text": [
      "Connecting alex@ucsd-demo-db.datajoint.io:3306\n"
     ]
    },
    {
     "data": {
      "text/plain": [
       "DataJoint connection (connected) alex@ucsd-demo-db.datajoint.io:3306"
      ]
     },
     "execution_count": 1,
     "metadata": {},
     "output_type": "execute_result"
    }
   ],
   "source": [
    "import datajoint as dj\n",
    "import numpy as np\n",
    "import json\n",
    "from utilities import *\n",
    "# Connect to datajoint server\n",
    "dj.conn()"
   ]
  },
  {
   "cell_type": "code",
   "execution_count": 2,
   "metadata": {},
   "outputs": [],
   "source": [
    "# Define which schema you're using\n",
    "schema = dj.schema('common_atlas')\n",
    "schema.spawn_missing_classes()"
   ]
  },
  {
   "cell_type": "markdown",
   "metadata": {},
   "source": [
    "## Load dictionary of brain names from utilities.py"
   ]
  },
  {
   "cell_type": "code",
   "execution_count": 3,
   "metadata": {},
   "outputs": [
    {
     "name": "stdout",
     "output_type": "stream",
     "text": [
      "['MD585', 'MD589', 'MD590', 'MD591', 'MD592', 'MD593', 'MD594', 'MD595', 'MD598', 'MD599', 'MD602', 'MD603', 'CHATM2', 'CHATM3', 'CSHL2', 'MD658', 'MD661', 'MD662', 'MD635', 'MD636', 'MD639', 'MD642', 'MD652', 'MD653', 'MD657', 'MD175', 'UCSD001']\n"
     ]
    }
   ],
   "source": [
    "# From utilities.py\n",
    "all_stacks = list( brain_names_dic.keys() )\n",
    "print( all_stacks )"
   ]
  },
  {
   "cell_type": "markdown",
   "metadata": {},
   "source": [
    "## Access Raw Data\n",
    "#### - Example accessing MD585 data"
   ]
  },
  {
   "cell_type": "code",
   "execution_count": 13,
   "metadata": {
    "scrolled": false
   },
   "outputs": [
    {
     "name": "stdout",
     "output_type": "stream",
     "text": [
      "CHATM2\n",
      "  - Has no raw data on S3\n",
      "CHATM3\n",
      "  - Has no raw data on S3\n",
      "CSHL2\n",
      "  - Has no raw data on S3\n",
      "MD639\n",
      "  - Has no raw data on S3\n",
      "MD175\n",
      "  - Has no raw data on S3\n"
     ]
    }
   ],
   "source": [
    "# Going through each brain, prints out brains that do NOT have raw data\n",
    "for stack in all_stacks:\n",
    "    # rawstack_info keys: ['mouse', 'aws_bucket', 'processed_stack']\n",
    "    raw_stack_info = (RawStack()&dict(mouse=stack)).fetch( as_dict=True )[0]\n",
    "    if raw_stack_info['raw_stack']=='':\n",
    "        print(raw_stack_info['mouse'])\n",
    "        print( '  - Has no raw data on S3' )"
   ]
  },
  {
   "cell_type": "code",
   "execution_count": 26,
   "metadata": {},
   "outputs": [
    {
     "name": "stdout",
     "output_type": "stream",
     "text": [
      "The 100th slice of MD585 with the bucket appended to the front:\n",
      "\n",
      "mousebrainatlas-rawdata://CSHL_data/MD585/MD585-IHC42-2015.08.19-14.26.30_MD585_1_0124_lossless.jp2\n"
     ]
    }
   ],
   "source": [
    "stack = 'MD585'\n",
    "raw_stack_info = (RawStack()&dict(mouse=stack)).fetch( as_dict=True )[0]\n",
    "\n",
    "bucket =  raw_stack_info['aws_bucket']\n",
    "filename_list = raw_stack_info['raw_stack'].split('|')\n",
    "\n",
    "print( 'The 100th slice of '+stack+' with the bucket appended to the front:\\n' )\n",
    "fp = bucket + '://' + filename_list[100]\n",
    "print( fp )"
   ]
  },
  {
   "cell_type": "markdown",
   "metadata": {},
   "source": [
    "## Access Processed Data\n",
    "#### - Example accessing MD585 data"
   ]
  },
  {
   "cell_type": "code",
   "execution_count": 14,
   "metadata": {
    "scrolled": true
   },
   "outputs": [
    {
     "name": "stdout",
     "output_type": "stream",
     "text": [
      "CHATM2\n",
      "  - Has no processed data on S3\n",
      "CHATM3\n",
      "  - Has no processed data on S3\n",
      "CSHL2\n",
      "  - Has no processed data on S3\n",
      "MD636\n",
      "  - Has no processed data on S3\n",
      "MD639\n",
      "  - Has no processed data on S3\n",
      "MD175\n",
      "  - Has no processed data on S3\n",
      "UCSD001\n",
      "  - Has no processed data on S3\n"
     ]
    }
   ],
   "source": [
    "# Going through each brain, prints out brains that do NOT have processed data\n",
    "for stack in all_stacks:\n",
    "    # rawstack_info keys: ['mouse', 'aws_bucket', 'processed_stack']\n",
    "    processed_stack_info = (ProcessedStack()&dict(mouse=stack)).fetch( as_dict=True )[0]\n",
    "    if processed_stack_info['processed_stack']=='':\n",
    "        print(processed_stack_info['mouse'])\n",
    "        print( '  - Has no processed data on S3' )"
   ]
  },
  {
   "cell_type": "code",
   "execution_count": 25,
   "metadata": {},
   "outputs": [
    {
     "name": "stdout",
     "output_type": "stream",
     "text": [
      "The 100th slice of MD585 with the bucket appended to the front:\n",
      "\n",
      "mousebrainatlas-data://CSHL_data_processed/MD585/MD585_prep2_lossless/MD585-IHC50-2015.07.16-18.02.54_MD585_2_0149_prep2_lossless.tif\n"
     ]
    }
   ],
   "source": [
    "stack = 'MD585'\n",
    "processed_stack_info = (ProcessedStack()&dict(mouse=stack)).fetch( as_dict=True )[0]\n",
    "\n",
    "bucket =  processed_stack_info['aws_bucket']\n",
    "filename_list = processed_stack_info['processed_stack'].split('|')\n",
    "\n",
    "print( 'The 100th slice of '+stack+' with the bucket appended to the front:\\n' )\n",
    "fp = bucket + '://' + filename_list[100]\n",
    "print( fp )"
   ]
  },
  {
   "cell_type": "markdown",
   "metadata": {},
   "source": [
    "# Retrieving and viewing image from S3\n",
    "(Relies on `bucket` and `filename_list` from previous cell)"
   ]
  },
  {
   "cell_type": "code",
   "execution_count": null,
   "metadata": {},
   "outputs": [],
   "source": [
    "from minio import Minio\n",
    "\n",
    "# CHANGE THIS LINE TO ACCESS S3\n",
    "with open('/path_to_aws_credentials/aws_credentials.json') as f:\n",
    "        creds = json.load(f)\n",
    "\n",
    "def get_client():\n",
    "    return Minio( 's3.amazonaws.com', secure=True, **creds)\n",
    "\n",
    "client = get_client()"
   ]
  },
  {
   "cell_type": "code",
   "execution_count": 32,
   "metadata": {},
   "outputs": [
    {
     "ename": "TypeError",
     "evalue": "'HTTPResponse' object is not subscriptable",
     "output_type": "error",
     "traceback": [
      "\u001b[0;31m---------------------------------------------------------------------------\u001b[0m",
      "\u001b[0;31mTypeError\u001b[0m                                 Traceback (most recent call last)",
      "\u001b[0;32m<ipython-input-32-a1c1d222e668>\u001b[0m in \u001b[0;36m<module>\u001b[0;34m\u001b[0m\n\u001b[1;32m      1\u001b[0m \u001b[0;31m# Load the lossless, processed image from S3\u001b[0m\u001b[0;34m\u001b[0m\u001b[0;34m\u001b[0m\u001b[0;34m\u001b[0m\u001b[0m\n\u001b[1;32m      2\u001b[0m \u001b[0mlossless_processed_image\u001b[0m \u001b[0;34m=\u001b[0m \u001b[0mclient\u001b[0m\u001b[0;34m.\u001b[0m\u001b[0mget_object\u001b[0m\u001b[0;34m(\u001b[0m\u001b[0mbucket\u001b[0m\u001b[0;34m,\u001b[0m \u001b[0mfilename_list\u001b[0m\u001b[0;34m[\u001b[0m\u001b[0;36m100\u001b[0m\u001b[0;34m]\u001b[0m\u001b[0;34m)\u001b[0m\u001b[0;34m\u001b[0m\u001b[0;34m\u001b[0m\u001b[0m\n\u001b[0;32m----> 3\u001b[0;31m \u001b[0mthumbnail_processed_image\u001b[0m \u001b[0;34m=\u001b[0m \u001b[0mlossless_processed_image\u001b[0m\u001b[0;34m[\u001b[0m\u001b[0;34m:\u001b[0m\u001b[0;34m:\u001b[0m\u001b[0;36m32\u001b[0m\u001b[0;34m,\u001b[0m\u001b[0;34m:\u001b[0m\u001b[0;34m:\u001b[0m\u001b[0;36m32\u001b[0m\u001b[0;34m]\u001b[0m\u001b[0;34m\u001b[0m\u001b[0;34m\u001b[0m\u001b[0m\n\u001b[0m\u001b[1;32m      4\u001b[0m \u001b[0;32mdel\u001b[0m \u001b[0mlossless_processed_image\u001b[0m\u001b[0;34m\u001b[0m\u001b[0;34m\u001b[0m\u001b[0m\n",
      "\u001b[0;31mTypeError\u001b[0m: 'HTTPResponse' object is not subscriptable"
     ]
    }
   ],
   "source": [
    "# Load the lossless, processed image from S3\n",
    "lossless_processed_image = client.get_object(bucket, filename_list[100])\n",
    "thumbnail_processed_image = lossless_processed_image[::32,::32]\n",
    "del lossless_processed_image"
   ]
  },
  {
   "cell_type": "code",
   "execution_count": 38,
   "metadata": {},
   "outputs": [
    {
     "data": {
      "text/plain": [
       "{'headers': HTTPHeaderDict({'x-amz-id-2': 'x2HU370axOwBMsyiEbVVhFBO8a+dRZpdBpjbnaPfWYcLEuIO37u3R275p6b80N2hJ+G1W7OFtnU=', 'x-amz-request-id': 'E28B3A93CF0C8AD7', 'Date': 'Thu, 03 Jan 2019 03:56:39 GMT', 'Last-Modified': 'Sat, 18 Mar 2017 20:15:23 GMT', 'x-amz-restore': 'ongoing-request=\"false\", expiry-date=\"Sat, 05 Jan 2019 00:00:00 GMT\"', 'ETag': '\"dd61808df3f6dbe1b10a8444f6dd675a-147\"', 'x-amz-storage-class': 'GLACIER', 'Accept-Ranges': 'bytes', 'Content-Type': 'image/jp2', 'Content-Length': '1232394417', 'Server': 'AmazonS3'}),\n",
       " 'status': 200,\n",
       " 'version': 11,\n",
       " 'reason': 'OK',\n",
       " 'strict': 0,\n",
       " 'decode_content': True,\n",
       " 'retries': Retry(total=5, connect=None, read=None, redirect=None, status=None),\n",
       " 'enforce_content_length': False,\n",
       " '_decoder': None,\n",
       " '_body': None,\n",
       " '_fp': <http.client.HTTPResponse at 0x7f14de29cf28>,\n",
       " '_original_response': <http.client.HTTPResponse at 0x7f14de29cf28>,\n",
       " '_fp_bytes_read': 0,\n",
       " 'msg': None,\n",
       " '_request_url': None,\n",
       " '_pool': <urllib3.connectionpool.HTTPSConnectionPool at 0x7f14de29ca20>,\n",
       " '_connection': <urllib3.connection.VerifiedHTTPSConnection at 0x7f14de29c630>,\n",
       " 'chunked': False,\n",
       " 'chunk_left': None,\n",
       " 'length_remaining': 1232394417}"
      ]
     },
     "execution_count": 38,
     "metadata": {},
     "output_type": "execute_result"
    }
   ],
   "source": [
    "lossless_processed_image.__dict__"
   ]
  },
  {
   "cell_type": "code",
   "execution_count": null,
   "metadata": {},
   "outputs": [],
   "source": [
    "client = get_s3_client()\n",
    "objects = client.list_objects(BaseImage.bucket_name, prefix='MD657/')\n",
    "cls.insert(\n",
    "        dict(image_id=i, image_location=obj.object_name, filesize=obj.size) \n",
    "        for i, obj in enumerate(objects) if obj.object_name.endswith('.jp2'))"
   ]
  },
  {
   "cell_type": "code",
   "execution_count": 71,
   "metadata": {},
   "outputs": [
    {
     "name": "stdout",
     "output_type": "stream",
     "text": [
      "0\n",
      "0.900864\n"
     ]
    }
   ],
   "source": [
    "objects = client.list_objects('mousebraindata-open', prefix='MD657/MD657-F1-2017.02.17-17.39.26_MD657_1_0001.png')\n",
    "for i, obj in enumerate(objects):\n",
    "    print(i)\n",
    "    print(obj.size/1000000)"
   ]
  },
  {
   "cell_type": "code",
   "execution_count": 5,
   "metadata": {},
   "outputs": [],
   "source": [
    "img = client.get_object('mousebraindata-open', 'MD657/MD657-F1-2017.02.17-17.39.26_MD657_1_0001.png')"
   ]
  },
  {
   "cell_type": "code",
   "execution_count": 6,
   "metadata": {},
   "outputs": [
    {
     "data": {
      "text/plain": [
       "{'headers': HTTPHeaderDict({'x-amz-id-2': 'xtSLHGcqk+7tWiqwiMGNJ62CvES/GNXb2jZqeTBhjz//Ga+r4Oaf8P7XlvuT4Q2JAzx6/otjsPI=', 'x-amz-request-id': 'DA4506291EAA3552', 'Date': 'Thu, 03 Jan 2019 21:04:02 GMT', 'Last-Modified': 'Wed, 29 Aug 2018 04:16:33 GMT', 'ETag': '\"2ea51d17c3b6ad95209ec65aa59325cc\"', 'Accept-Ranges': 'bytes', 'Content-Type': 'image/png', 'Content-Length': '900864', 'Server': 'AmazonS3'}),\n",
       " 'status': 200,\n",
       " 'version': 11,\n",
       " 'reason': 'OK',\n",
       " 'strict': 0,\n",
       " 'decode_content': True,\n",
       " 'retries': Retry(total=5, connect=None, read=None, redirect=None, status=None),\n",
       " 'enforce_content_length': False,\n",
       " '_decoder': None,\n",
       " '_body': None,\n",
       " '_fp': <http.client.HTTPResponse at 0x7f6840fe35c0>,\n",
       " '_original_response': <http.client.HTTPResponse at 0x7f6840fe35c0>,\n",
       " '_fp_bytes_read': 0,\n",
       " 'msg': None,\n",
       " '_request_url': None,\n",
       " '_pool': <urllib3.connectionpool.HTTPSConnectionPool at 0x7f67f650fb70>,\n",
       " '_connection': <urllib3.connection.VerifiedHTTPSConnection at 0x7f67f650f358>,\n",
       " 'chunked': False,\n",
       " 'chunk_left': None,\n",
       " 'length_remaining': 900864}"
      ]
     },
     "execution_count": 6,
     "metadata": {},
     "output_type": "execute_result"
    }
   ],
   "source": [
    "img.__dict__"
   ]
  },
  {
   "cell_type": "code",
   "execution_count": 7,
   "metadata": {},
   "outputs": [],
   "source": [
    "img_data = img.data"
   ]
  },
  {
   "cell_type": "code",
   "execution_count": 8,
   "metadata": {},
   "outputs": [
    {
     "data": {
      "text/plain": [
       "False"
      ]
     },
     "execution_count": 8,
     "metadata": {},
     "output_type": "execute_result"
    }
   ],
   "source": [
    "img.chunked"
   ]
  },
  {
   "cell_type": "code",
   "execution_count": 40,
   "metadata": {},
   "outputs": [],
   "source": [
    "#img_data # 738 x 664"
   ]
  },
  {
   "cell_type": "code",
   "execution_count": 11,
   "metadata": {},
   "outputs": [],
   "source": [
    "dt = np.dtype(int)\n",
    "dt = dt.newbyteorder('>')\n",
    "data = np.frombuffer(img_data, dtype=dt)"
   ]
  },
  {
   "cell_type": "code",
   "execution_count": 12,
   "metadata": {},
   "outputs": [
    {
     "data": {
      "text/plain": [
       "(112608,)"
      ]
     },
     "execution_count": 12,
     "metadata": {},
     "output_type": "execute_result"
    }
   ],
   "source": [
    "np.shape(data)"
   ]
  },
  {
   "cell_type": "code",
   "execution_count": 13,
   "metadata": {},
   "outputs": [
    {
     "data": {
      "text/plain": [
       "array([-8552249625308161526,          57064047698,        3169685865112,\n",
       "       ...,  6140657129700226223,  7635279566734360576,\n",
       "        5279712195050102914])"
      ]
     },
     "execution_count": 13,
     "metadata": {},
     "output_type": "execute_result"
    }
   ],
   "source": [
    "data"
   ]
  },
  {
   "cell_type": "code",
   "execution_count": 92,
   "metadata": {},
   "outputs": [
    {
     "name": "stdout",
     "output_type": "stream",
     "text": [
      "--2019-01-02 21:05:59--  https://s3-us-west-1.amazonaws.com/mousebraindata-open/MD657/MD657-F1-2017.02.17-17.39.26_MD657_1_0001_lossy.jp2\n",
      "Resolving s3-us-west-1.amazonaws.com (s3-us-west-1.amazonaws.com)... 52.219.20.17\n",
      "Connecting to s3-us-west-1.amazonaws.com (s3-us-west-1.amazonaws.com)|52.219.20.17|:443... connected.\n",
      "HTTP request sent, awaiting response... 403 Forbidden\n",
      "2019-01-02 21:05:59 ERROR 403: Forbidden.\n",
      "\n"
     ]
    }
   ],
   "source": [
    "s3_http_prefix = 'https://s3-us-west-1.amazonaws.com/mousebraindata-open/'\n",
    "url = s3_http_prefix + 'MD657/MD657-F1-2017.02.17-17.39.26_MD657_1_0001_lossy.jp2'\n",
    "\n",
    "! wget -N -P /'./' $url"
   ]
  },
  {
   "cell_type": "code",
   "execution_count": 38,
   "metadata": {},
   "outputs": [],
   "source": [
    "from PIL import Image\n",
    "img = client.get_object('mousebraindata-open', 'MD657/MD657-F1-2017.02.17-17.39.26_MD657_1_0001.png')\n",
    "img_data = img.data\n",
    "img_test = Image.frombytes('L', (738,664), img_data, 'raw')\n",
    "#img_test"
   ]
  },
  {
   "cell_type": "code",
   "execution_count": 79,
   "metadata": {
    "scrolled": false
   },
   "outputs": [],
   "source": [
    "from PIL import Image\n",
    "img = client.get_object('mousebraindata-open', 'MD657/MD657-F1-2017.02.17-17.39.26_MD657_1_0001.tif')\n",
    "img_data = img.data\n",
    "img_test = Image.frombytes('L', (738,664), img_data)\n",
    "img_test\n",
    "\n",
    "data = np.asarray( img_test, dtype=\"int32\" )"
   ]
  },
  {
   "cell_type": "code",
   "execution_count": 1,
   "metadata": {},
   "outputs": [
    {
     "ename": "NameError",
     "evalue": "name 'data' is not defined",
     "output_type": "error",
     "traceback": [
      "\u001b[0;31m---------------------------------------------------------------------------\u001b[0m",
      "\u001b[0;31mNameError\u001b[0m                                 Traceback (most recent call last)",
      "\u001b[0;32m<ipython-input-1-26985d923818>\u001b[0m in \u001b[0;36m<module>\u001b[0;34m\u001b[0m\n\u001b[1;32m      1\u001b[0m \u001b[0;31m# Normalize data\u001b[0m\u001b[0;34m\u001b[0m\u001b[0;34m\u001b[0m\u001b[0;34m\u001b[0m\u001b[0m\n\u001b[0;32m----> 2\u001b[0;31m \u001b[0mdata\u001b[0m \u001b[0;34m=\u001b[0m \u001b[0mdata\u001b[0m\u001b[0;34m\u001b[0m\u001b[0;34m\u001b[0m\u001b[0m\n\u001b[0m",
      "\u001b[0;31mNameError\u001b[0m: name 'data' is not defined"
     ]
    }
   ],
   "source": [
    "# Normalize data\n",
    "data = data"
   ]
  },
  {
   "cell_type": "code",
   "execution_count": 81,
   "metadata": {},
   "outputs": [],
   "source": [
    "maxN = max(data[0])\n",
    "for i in range(np.shape(data)[0]):\n",
    "    if max(data[i])>maxN:\n",
    "        maxN = max(data[i])"
   ]
  },
  {
   "cell_type": "code",
   "execution_count": 86,
   "metadata": {},
   "outputs": [
    {
     "ename": "LookupError",
     "evalue": "'base64' is not a text encoding; use codecs.decode() to handle arbitrary codecs",
     "output_type": "error",
     "traceback": [
      "\u001b[0;31m---------------------------------------------------------------------------\u001b[0m",
      "\u001b[0;31mLookupError\u001b[0m                               Traceback (most recent call last)",
      "\u001b[0;32m<ipython-input-86-b76dc56bd4be>\u001b[0m in \u001b[0;36m<module>\u001b[0;34m\u001b[0m\n\u001b[1;32m      1\u001b[0m \u001b[0mfh\u001b[0m \u001b[0;34m=\u001b[0m \u001b[0mopen\u001b[0m\u001b[0;34m(\u001b[0m\u001b[0;34m\"TEST.png\"\u001b[0m\u001b[0;34m,\u001b[0m \u001b[0;34m\"wb\"\u001b[0m\u001b[0;34m)\u001b[0m\u001b[0;34m\u001b[0m\u001b[0;34m\u001b[0m\u001b[0m\n\u001b[0;32m----> 2\u001b[0;31m \u001b[0mfh\u001b[0m\u001b[0;34m.\u001b[0m\u001b[0mwrite\u001b[0m\u001b[0;34m(\u001b[0m\u001b[0mimg_data\u001b[0m\u001b[0;34m.\u001b[0m\u001b[0mdecode\u001b[0m\u001b[0;34m(\u001b[0m\u001b[0;34m'base64'\u001b[0m\u001b[0;34m)\u001b[0m\u001b[0;34m)\u001b[0m\u001b[0;34m\u001b[0m\u001b[0;34m\u001b[0m\u001b[0m\n\u001b[0m\u001b[1;32m      3\u001b[0m \u001b[0mfh\u001b[0m\u001b[0;34m.\u001b[0m\u001b[0mclose\u001b[0m\u001b[0;34m(\u001b[0m\u001b[0;34m)\u001b[0m\u001b[0;34m\u001b[0m\u001b[0;34m\u001b[0m\u001b[0m\n",
      "\u001b[0;31mLookupError\u001b[0m: 'base64' is not a text encoding; use codecs.decode() to handle arbitrary codecs"
     ]
    }
   ],
   "source": [
    "fh = open(\"TEST.png\", \"wb\")\n",
    "fh.write(img_data.decode('base64'))\n",
    "fh.close()"
   ]
  },
  {
   "cell_type": "code",
   "execution_count": 45,
   "metadata": {},
   "outputs": [],
   "source": [
    "import subprocess\n",
    "\n",
    "\n",
    "def download_to_demo(fp):\n",
    "    fn = 'MD657/MD657-F1-2017.02.17-17.39.26_MD657_1_0001.tif'\n",
    "    \n",
    "    bucket = 'mousebraindata-open'\n",
    "    s3_http_prefix = 'https://s3-us-west-1.amazonaws.com/'+bucket+'/'\n",
    "    \n",
    "    url = s3_http_prefix + fn\n",
    "    local_fp = fp + fn\n",
    "    \n",
    "#     subprocess.call(['wget','-N','-P',local_fp,url])\n",
    "    print('wget','-N','-P',local_fp,url)\n",
    "    ! wget -N -P \\\n",
    "    /mnt/c/Users/Alex/Documents/MD657/MD657-F1-2017.02.17-17.39.26_MD657_1_0001.tif \\\n",
    "    https://s3-us-west-1.amazonaws.com/mousebraindata-open/MD657/MD657-F1-2017.02.17-17.39.26_MD657_1_0001.tif\n",
    "    #execute_command('wget -N -P \\\"%s\\\" \\\"%s\\\"' % (local_fp, url))\n",
    "    return local_fp"
   ]
  },
  {
   "cell_type": "code",
   "execution_count": 46,
   "metadata": {},
   "outputs": [
    {
     "name": "stdout",
     "output_type": "stream",
     "text": [
      "wget -N -P /mnt/c/Users/Alex/Documents/MD657/MD657-F1-2017.02.17-17.39.26_MD657_1_0001.tif https://s3-us-west-1.amazonaws.com/mousebraindata-open/MD657/MD657-F1-2017.02.17-17.39.26_MD657_1_0001.tif\n",
      "--2019-01-06 18:42:45--  https://s3-us-west-1.amazonaws.com/mousebraindata-open/MD657/MD657-F1-2017.02.17-17.39.26_MD657_1_0001.tif\n",
      "Resolving s3-us-west-1.amazonaws.com (s3-us-west-1.amazonaws.com)... 52.219.20.1\n",
      "Connecting to s3-us-west-1.amazonaws.com (s3-us-west-1.amazonaws.com)|52.219.20.1|:443... connected.\n",
      "HTTP request sent, awaiting response... 403 Forbidden\n",
      "2019-01-06 18:42:45 ERROR 403: Forbidden.\n",
      "\n"
     ]
    },
    {
     "data": {
      "text/plain": [
       "'/mnt/c/Users/Alex/Documents/MD657/MD657-F1-2017.02.17-17.39.26_MD657_1_0001.tif'"
      ]
     },
     "execution_count": 46,
     "metadata": {},
     "output_type": "execute_result"
    }
   ],
   "source": [
    "download_to_demo('/mnt/c/Users/Alex/Documents/')"
   ]
  },
  {
   "cell_type": "code",
   "execution_count": 13,
   "metadata": {},
   "outputs": [
    {
     "data": {
      "text/plain": [
       "0"
      ]
     },
     "execution_count": 13,
     "metadata": {},
     "output_type": "execute_result"
    }
   ],
   "source": [
    "from subprocess import call\n",
    "call([\"ls\"])"
   ]
  },
  {
   "cell_type": "code",
   "execution_count": 24,
   "metadata": {},
   "outputs": [
    {
     "name": "stdout",
     "output_type": "stream",
     "text": [
      " .ipynb_checkpoints\t       config.ipynb\t\t    db_manager.ipynb\r\n",
      "'Accessing Atlas Data.ipynb'   creator_atlas.ipynb\t    dj_local_conf.json\r\n",
      " TEST.png\t\t       creator_atlas_neu.ipynb\t    tests.ipynb\r\n",
      " __pycache__\t\t       data_retriever_atlas.ipynb   utilities.py\r\n"
     ]
    }
   ],
   "source": [
    "! ls -A"
   ]
  },
  {
   "cell_type": "code",
   "execution_count": 16,
   "metadata": {},
   "outputs": [
    {
     "data": {
      "text/plain": [
       "0"
      ]
     },
     "execution_count": 16,
     "metadata": {},
     "output_type": "execute_result"
    }
   ],
   "source": [
    "import subprocess\n",
    "subprocess.call(['ls'])"
   ]
  },
  {
   "cell_type": "code",
   "execution_count": 49,
   "metadata": {},
   "outputs": [
    {
     "ename": "CalledProcessError",
     "evalue": "Command '['aws', 's3']' returned non-zero exit status 255.",
     "output_type": "error",
     "traceback": [
      "\u001b[0;31m---------------------------------------------------------------------------\u001b[0m",
      "\u001b[0;31mCalledProcessError\u001b[0m                        Traceback (most recent call last)",
      "\u001b[0;32m<ipython-input-49-eb88f14a1198>\u001b[0m in \u001b[0;36m<module>\u001b[0;34m\u001b[0m\n\u001b[0;32m----> 1\u001b[0;31m \u001b[0msubprocess\u001b[0m\u001b[0;34m.\u001b[0m\u001b[0mcheck_output\u001b[0m\u001b[0;34m(\u001b[0m\u001b[0;34m[\u001b[0m\u001b[0;34m'aws'\u001b[0m\u001b[0;34m,\u001b[0m\u001b[0;34m's3'\u001b[0m\u001b[0;34m]\u001b[0m\u001b[0;34m)\u001b[0m\u001b[0;34m\u001b[0m\u001b[0;34m\u001b[0m\u001b[0m\n\u001b[0m",
      "\u001b[0;32m/usr/lib/python3.6/subprocess.py\u001b[0m in \u001b[0;36mcheck_output\u001b[0;34m(timeout, *popenargs, **kwargs)\u001b[0m\n\u001b[1;32m    334\u001b[0m \u001b[0;34m\u001b[0m\u001b[0m\n\u001b[1;32m    335\u001b[0m     return run(*popenargs, stdout=PIPE, timeout=timeout, check=True,\n\u001b[0;32m--> 336\u001b[0;31m                **kwargs).stdout\n\u001b[0m\u001b[1;32m    337\u001b[0m \u001b[0;34m\u001b[0m\u001b[0m\n\u001b[1;32m    338\u001b[0m \u001b[0;34m\u001b[0m\u001b[0m\n",
      "\u001b[0;32m/usr/lib/python3.6/subprocess.py\u001b[0m in \u001b[0;36mrun\u001b[0;34m(input, timeout, check, *popenargs, **kwargs)\u001b[0m\n\u001b[1;32m    416\u001b[0m         \u001b[0;32mif\u001b[0m \u001b[0mcheck\u001b[0m \u001b[0;32mand\u001b[0m \u001b[0mretcode\u001b[0m\u001b[0;34m:\u001b[0m\u001b[0;34m\u001b[0m\u001b[0;34m\u001b[0m\u001b[0m\n\u001b[1;32m    417\u001b[0m             raise CalledProcessError(retcode, process.args,\n\u001b[0;32m--> 418\u001b[0;31m                                      output=stdout, stderr=stderr)\n\u001b[0m\u001b[1;32m    419\u001b[0m     \u001b[0;32mreturn\u001b[0m \u001b[0mCompletedProcess\u001b[0m\u001b[0;34m(\u001b[0m\u001b[0mprocess\u001b[0m\u001b[0;34m.\u001b[0m\u001b[0margs\u001b[0m\u001b[0;34m,\u001b[0m \u001b[0mretcode\u001b[0m\u001b[0;34m,\u001b[0m \u001b[0mstdout\u001b[0m\u001b[0;34m,\u001b[0m \u001b[0mstderr\u001b[0m\u001b[0;34m)\u001b[0m\u001b[0;34m\u001b[0m\u001b[0;34m\u001b[0m\u001b[0m\n\u001b[1;32m    420\u001b[0m \u001b[0;34m\u001b[0m\u001b[0m\n",
      "\u001b[0;31mCalledProcessError\u001b[0m: Command '['aws', 's3']' returned non-zero exit status 255."
     ]
    }
   ],
   "source": [
    "subprocess.check_output(['aws','s3'])"
   ]
  },
  {
   "cell_type": "code",
   "execution_count": 51,
   "metadata": {},
   "outputs": [
    {
     "name": "stdout",
     "output_type": "stream",
     "text": [
      "\r\n",
      "usage: aws [options] <command> <subcommand> [parameters]\r\n",
      "aws: error: too few arguments\r\n"
     ]
    }
   ],
   "source": [
    "! aws s3"
   ]
  },
  {
   "cell_type": "code",
   "execution_count": null,
   "metadata": {},
   "outputs": [],
   "source": []
  }
 ],
 "metadata": {
  "kernelspec": {
   "display_name": "Python 3",
   "language": "python",
   "name": "python3"
  },
  "language_info": {
   "codemirror_mode": {
    "name": "ipython",
    "version": 3
   },
   "file_extension": ".py",
   "mimetype": "text/x-python",
   "name": "python",
   "nbconvert_exporter": "python",
   "pygments_lexer": "ipython3",
   "version": "3.6.7"
  }
 },
 "nbformat": 4,
 "nbformat_minor": 2
}
