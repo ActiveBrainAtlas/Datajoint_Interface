{
 "cells": [
  {
   "cell_type": "markdown",
   "metadata": {},
   "source": [
    "## Connect to DataJoint server\n",
    "#### Downloading data from S3 will require your own AWS credentials"
   ]
  },
  {
   "cell_type": "code",
   "execution_count": 4,
   "metadata": {},
   "outputs": [
    {
     "name": "stdout",
     "output_type": "stream",
     "text": [
      "Connecting alex@ucsd-demo-db.datajoint.io:3306\n"
     ]
    },
    {
     "data": {
      "text/plain": [
       "DataJoint connection (connected) alex@ucsd-demo-db.datajoint.io:3306"
      ]
     },
     "execution_count": 4,
     "metadata": {},
     "output_type": "execute_result"
    }
   ],
   "source": [
    "import datajoint as dj\n",
    "import numpy as np\n",
    "import json\n",
    "from utilities import *\n",
    "from subprocess import call\n",
    "\n",
    "# Connect to datajoint server\n",
    "dj.conn()"
   ]
  },
  {
   "cell_type": "code",
   "execution_count": 5,
   "metadata": {
    "collapsed": true
   },
   "outputs": [],
   "source": [
    "# Define which schema you're using\n",
    "schema = dj.schema('common_atlas_v2')\n",
    "schema.spawn_missing_classes()"
   ]
  },
  {
   "cell_type": "code",
   "execution_count": 6,
   "metadata": {},
   "outputs": [
    {
     "data": {
      "image/svg+xml": [
       "<svg height=\"247pt\" viewBox=\"0.00 0.00 296.00 247.00\" width=\"296pt\" xmlns=\"http://www.w3.org/2000/svg\" xmlns:xlink=\"http://www.w3.org/1999/xlink\">\n",
       "<g class=\"graph\" id=\"graph0\" transform=\"scale(1 1) rotate(0) translate(4 243)\">\n",
       "<title>%3</title>\n",
       "<polygon fill=\"#ffffff\" points=\"-4,4 -4,-243 292,-243 292,4 -4,4\" stroke=\"transparent\"/>\n",
       "<!-- Injection -->\n",
       "<g class=\"node\" id=\"node1\">\n",
       "<title>Injection</title>\n",
       "<g id=\"a_node1\"><a xlink:title=\"→ Mouse\r",
       "injection_number     \r",
       "------------------------------\r",
       "injection_date       \r",
       "injection_type       \r",
       "injection_length     \r",
       "assessment=&quot;&quot;        \r",
       "\">\n",
       "<polygon fill=\"#00ff00\" fill-opacity=\"0.188235\" points=\"61,-168 0,-168 0,-133 61,-133 61,-168\" stroke=\"#00ff00\" stroke-opacity=\"0.188235\"/>\n",
       "<text fill=\"#006400\" font-family=\"arial\" font-size=\"12.00\" text-anchor=\"middle\" x=\"30.5\" y=\"-147.4\">Injection</text>\n",
       "</a>\n",
       "</g>\n",
       "</g>\n",
       "<!-- ProcessedSlices -->\n",
       "<g class=\"node\" id=\"node2\">\n",
       "<title>ProcessedSlices</title>\n",
       "<g id=\"a_node2\"><a xlink:title=\"→ BrainStack\r",
       "------------------------------\r",
       "aws_bucket           \r",
       "processed_stack      \r",
       "\">\n",
       "<ellipse cx=\"144.5\" cy=\"-13\" fill=\"#ff0000\" fill-opacity=\"0.125490\" rx=\"13\" ry=\"13\" stroke=\"#ff0000\" stroke-opacity=\"0.125490\"/>\n",
       "<text fill=\"#7f0000\" font-family=\"arial\" font-size=\"12.00\" text-anchor=\"middle\" x=\"144.5\" y=\"-9.9\">ProcessedSlices</text>\n",
       "</a>\n",
       "</g>\n",
       "</g>\n",
       "<!-- Perfusion -->\n",
       "<g class=\"node\" id=\"node3\">\n",
       "<title>Perfusion</title>\n",
       "<g id=\"a_node3\"><a xlink:title=\"→ Mouse\r",
       "------------------------------\r",
       "injection_date       \r",
       "post_fixation_condition_hours \r",
       "date_frozen          \r",
       "date_sectioned       \r",
       "injection_type       \r",
       "perfusion_lab        \r",
       "assessment=&quot;&quot;        \r",
       "\">\n",
       "<polygon fill=\"#00ff00\" fill-opacity=\"0.188235\" points=\"146,-168 79,-168 79,-133 146,-133 146,-168\" stroke=\"#00ff00\" stroke-opacity=\"0.188235\"/>\n",
       "<text fill=\"#006400\" font-family=\"arial\" font-size=\"12.00\" text-anchor=\"middle\" x=\"112.5\" y=\"-147.4\">Perfusion</text>\n",
       "</a>\n",
       "</g>\n",
       "</g>\n",
       "<!-- Mouse -->\n",
       "<g class=\"node\" id=\"node4\">\n",
       "<title>Mouse</title>\n",
       "<g id=\"a_node4\"><a xlink:title=\"mouse                \r",
       "------------------------------\r",
       "date_of_birth        \r",
       "sex                  \r",
       "genotype             \r",
       "weight               \r",
       "bred                 \r",
       "\">\n",
       "<polygon fill=\"#00ff00\" fill-opacity=\"0.188235\" points=\"139,-239 86,-239 86,-204 139,-204 139,-239\" stroke=\"#00ff00\" stroke-opacity=\"0.188235\"/>\n",
       "<text fill=\"#006400\" font-family=\"arial\" font-size=\"12.00\" text-anchor=\"middle\" x=\"112.5\" y=\"-218.4\">Mouse</text>\n",
       "</a>\n",
       "</g>\n",
       "</g>\n",
       "<!-- Mouse&#45;&gt;Injection -->\n",
       "<g class=\"edge\" id=\"edge1\">\n",
       "<title>Mouse-&gt;Injection</title>\n",
       "<path d=\"M92.2303,-203.9494C79.6148,-193.0262 63.4458,-179.0262 50.8207,-168.0947\" fill=\"none\" stroke=\"#000000\" stroke-opacity=\"0.250980\" stroke-width=\".75\"/>\n",
       "</g>\n",
       "<!-- Mouse&#45;&gt;Perfusion -->\n",
       "<g class=\"edge\" id=\"edge2\">\n",
       "<title>Mouse-&gt;Perfusion</title>\n",
       "<path d=\"M112.5,-203.9494C112.5,-193.1083 112.5,-179.2366 112.5,-168.3418\" fill=\"none\" stroke=\"#000000\" stroke-opacity=\"0.250980\" stroke-width=\"2\"/>\n",
       "</g>\n",
       "<!-- Histology -->\n",
       "<g class=\"node\" id=\"node6\">\n",
       "<title>Histology</title>\n",
       "<g id=\"a_node6\"><a xlink:title=\"→ Mouse\r",
       "------------------------------\r",
       "region               \r",
       "thickness            \r",
       "orientation          \r",
       "counter_stain        \r",
       "lab                  \r",
       "series               \r",
       "\">\n",
       "<polygon fill=\"#00ff00\" fill-opacity=\"0.188235\" points=\"230.5,-168 164.5,-168 164.5,-133 230.5,-133 230.5,-168\" stroke=\"#00ff00\" stroke-opacity=\"0.188235\"/>\n",
       "<text fill=\"#006400\" font-family=\"arial\" font-size=\"12.00\" text-anchor=\"middle\" x=\"197.5\" y=\"-147.4\">Histology</text>\n",
       "</a>\n",
       "</g>\n",
       "</g>\n",
       "<!-- Mouse&#45;&gt;Histology -->\n",
       "<g class=\"edge\" id=\"edge3\">\n",
       "<title>Mouse-&gt;Histology</title>\n",
       "<path d=\"M133.5112,-203.9494C146.5883,-193.0262 163.3489,-179.0262 176.4359,-168.0947\" fill=\"none\" stroke=\"#000000\" stroke-opacity=\"0.250980\" stroke-width=\"2\"/>\n",
       "</g>\n",
       "<!-- BrainStack -->\n",
       "<g class=\"node\" id=\"node5\">\n",
       "<title>BrainStack</title>\n",
       "<g id=\"a_node5\"><a xlink:title=\"→ Histology\r",
       "------------------------------\r",
       "stack_name           \r",
       "num_slices           \r",
       "num_valid_slices     \r",
       "channels             \r",
       "sorted_filenames     \r",
       "human_annotated      \r",
       "planar_resolution_um \r",
       "section_thickness_um \r",
       "UNIQUE INDEX (stack_name)\r",
       "\">\n",
       "<polygon fill=\"#00ff00\" fill-opacity=\"0.188235\" points=\"235,-97 160,-97 160,-62 235,-62 235,-97\" stroke=\"#00ff00\" stroke-opacity=\"0.188235\"/>\n",
       "<text fill=\"#006400\" font-family=\"arial\" font-size=\"12.00\" text-anchor=\"middle\" x=\"197.5\" y=\"-76.4\">BrainStack</text>\n",
       "</a>\n",
       "</g>\n",
       "</g>\n",
       "<!-- BrainStack&#45;&gt;ProcessedSlices -->\n",
       "<g class=\"edge\" id=\"edge4\">\n",
       "<title>BrainStack-&gt;ProcessedSlices</title>\n",
       "<path d=\"M183.297,-61.6792C173.4849,-49.3679 160.7829,-33.4304 152.6362,-23.2086\" fill=\"none\" stroke=\"#000000\" stroke-opacity=\"0.250980\" stroke-width=\"2\"/>\n",
       "</g>\n",
       "<!-- RawSlices -->\n",
       "<g class=\"node\" id=\"node7\">\n",
       "<title>RawSlices</title>\n",
       "<g id=\"a_node7\"><a xlink:title=\"→ BrainStack\r",
       "------------------------------\r",
       "aws_bucket           \r",
       "raw_stack            \r",
       "\">\n",
       "<ellipse cx=\"251.5\" cy=\"-13\" fill=\"#ff0000\" fill-opacity=\"0.125490\" rx=\"13\" ry=\"13\" stroke=\"#ff0000\" stroke-opacity=\"0.125490\"/>\n",
       "<text fill=\"#7f0000\" font-family=\"arial\" font-size=\"12.00\" text-anchor=\"middle\" x=\"251.5\" y=\"-9.9\">RawSlices</text>\n",
       "</a>\n",
       "</g>\n",
       "</g>\n",
       "<!-- BrainStack&#45;&gt;RawSlices -->\n",
       "<g class=\"edge\" id=\"edge5\">\n",
       "<title>BrainStack-&gt;RawSlices</title>\n",
       "<path d=\"M211.971,-61.6792C221.9682,-49.3679 234.9099,-33.4304 243.2103,-23.2086\" fill=\"none\" stroke=\"#000000\" stroke-opacity=\"0.250980\" stroke-width=\"2\"/>\n",
       "</g>\n",
       "<!-- Histology&#45;&gt;BrainStack -->\n",
       "<g class=\"edge\" id=\"edge6\">\n",
       "<title>Histology-&gt;BrainStack</title>\n",
       "<path d=\"M197.5,-132.9494C197.5,-122.1083 197.5,-108.2366 197.5,-97.3418\" fill=\"none\" stroke=\"#000000\" stroke-opacity=\"0.250980\" stroke-width=\"2\"/>\n",
       "</g>\n",
       "</g>\n",
       "</svg>"
      ],
      "text/plain": [
       "<datajoint.erd.ERD at 0x11cb54cc0>"
      ]
     },
     "execution_count": 6,
     "metadata": {},
     "output_type": "execute_result"
    }
   ],
   "source": [
    "dj.ERD(schema)"
   ]
  },
  {
   "cell_type": "markdown",
   "metadata": {},
   "source": [
    "## Printing all table headers (every stack in the db)"
   ]
  },
  {
   "cell_type": "code",
   "execution_count": 14,
   "metadata": {},
   "outputs": [
    {
     "name": "stdout",
     "output_type": "stream",
     "text": [
      "CHATM2\n",
      "CHATM3\n",
      "CSHL2\n",
      "MD175\n",
      "MD585\n",
      "MD589\n",
      "MD590\n",
      "MD591\n",
      "MD592\n",
      "MD593\n",
      "MD594\n",
      "MD595\n",
      "MD598\n",
      "MD599\n",
      "MD602\n",
      "MD603\n",
      "MD635\n",
      "MD636\n",
      "MD639\n",
      "MD642\n",
      "MD652\n",
      "MD653\n",
      "MD657\n",
      "MD658\n",
      "MD661\n",
      "MD662\n",
      "UCSD001\n"
     ]
    }
   ],
   "source": [
    "brainStackTables = (BrainStack()).fetch( as_dict=True )\n",
    "for brainStackTable in brainStackTables:\n",
    "    print( brainStackTable['mouse'] )"
   ]
  },
  {
   "cell_type": "markdown",
   "metadata": {},
   "source": [
    "## Load dictionary of brain names from utilities.py"
   ]
  },
  {
   "cell_type": "code",
   "execution_count": 3,
   "metadata": {},
   "outputs": [
    {
     "name": "stdout",
     "output_type": "stream",
     "text": [
      "['MD585', 'MD589', 'MD590', 'MD591', 'MD592', 'MD593', 'MD594', 'MD595', 'MD598', 'MD599', 'MD602', 'MD603', 'CHATM2', 'CHATM3', 'CSHL2', 'MD658', 'MD661', 'MD662', 'MD635', 'MD636', 'MD639', 'MD642', 'MD652', 'MD653', 'MD657', 'MD175', 'UCSD001']\n"
     ]
    }
   ],
   "source": [
    "# From utilities.py\n",
    "all_stacks = list( brain_names_dic.keys() )\n",
    "print( all_stacks )"
   ]
  },
  {
   "cell_type": "markdown",
   "metadata": {},
   "source": [
    "## List all Section-names & Section-numbers for a given stack\n",
    "#### - Example displaying MD585 sections\n",
    "`Placeholder` indicates a damaged section, not used in the pipeline"
   ]
  },
  {
   "cell_type": "code",
   "execution_count": 4,
   "metadata": {},
   "outputs": [
    {
     "name": "stdout",
     "output_type": "stream",
     "text": [
      "Keys for <STACK>_stack_info:\n",
      "odict_keys(['mouse', 'stack_name', 'num_slices', 'num_valid_slices', 'channels', 'sorted_filenames', 'human_annotated', 'planar_resolution_um', 'section_thickness_um'])\n"
     ]
    }
   ],
   "source": [
    "stack = 'MD585'\n",
    "MD585_stack_info = (BrainStack()&dict(mouse=stack)).fetch( as_dict=True )[0]\n",
    "print( 'Keys for <STACK>_stack_info:')\n",
    "print( MD585_stack_info.keys() )\n",
    "\n",
    "# `MD585_sections` contains a list of every filename, <space>, and the section number\n",
    "#    If filename == 'Placeholder' then the section is unusable and not used in the pipeline\n",
    "MD585_sections = MD585_stack_info['sorted_filenames'].split('|')"
   ]
  },
  {
   "cell_type": "markdown",
   "metadata": {},
   "source": [
    "## Access Raw Data\n",
    "#### - Example accessing MD585 data"
   ]
  },
  {
   "cell_type": "code",
   "execution_count": 5,
   "metadata": {
    "scrolled": false
   },
   "outputs": [
    {
     "name": "stdout",
     "output_type": "stream",
     "text": [
      "CHATM2\n",
      "  - Has no raw data on S3\n",
      "CHATM3\n",
      "  - Has no raw data on S3\n",
      "CSHL2\n",
      "  - Has no raw data on S3\n",
      "MD639\n",
      "  - Has no raw data on S3\n",
      "MD175\n",
      "  - Has no raw data on S3\n"
     ]
    }
   ],
   "source": [
    "# Going through each brain, prints out brains that do NOT have raw data\n",
    "for stack in all_stacks:\n",
    "    # rawstack_info keys: ['mouse', 'aws_bucket', 'processed_stack']\n",
    "    raw_stack_info = (RawSlices()&dict(mouse=stack)).fetch( as_dict=True )[0]\n",
    "    if raw_stack_info['raw_stack']=='':\n",
    "        print(raw_stack_info['mouse'])\n",
    "        print( '  - Has no raw data on S3' )"
   ]
  },
  {
   "cell_type": "code",
   "execution_count": 6,
   "metadata": {},
   "outputs": [
    {
     "name": "stdout",
     "output_type": "stream",
     "text": [
      "The 100th slice of MD585 with the bucket appended to the front:\n",
      "\n",
      "mousebrainatlas-rawdata://CSHL_data/MD585/MD585-IHC42-2015.08.19-14.26.30_MD585_1_0124_lossless.jp2\n"
     ]
    }
   ],
   "source": [
    "stack = 'MD585'\n",
    "# Load RawStack table (as dict) for a particular stack\n",
    "raw_stack_info = (RawSlices()&dict(mouse=stack)).fetch( as_dict=True )[0]\n",
    "\n",
    "bucket =  raw_stack_info['aws_bucket']\n",
    "filename_list = raw_stack_info['raw_stack'].split('|')\n",
    "\n",
    "print( 'The 100th slice of '+stack+' with the bucket appended to the front:\\n' )\n",
    "fp = bucket + '://' + filename_list[100]\n",
    "print( fp )"
   ]
  },
  {
   "cell_type": "markdown",
   "metadata": {},
   "source": [
    "## Access Processed Data\n",
    "#### - Example accessing MD585 data"
   ]
  },
  {
   "cell_type": "code",
   "execution_count": 7,
   "metadata": {
    "scrolled": true
   },
   "outputs": [
    {
     "name": "stdout",
     "output_type": "stream",
     "text": [
      "CHATM2\n",
      "  - Has no processed data on S3\n",
      "CHATM3\n",
      "  - Has no processed data on S3\n",
      "CSHL2\n",
      "  - Has no processed data on S3\n",
      "MD636\n",
      "  - Has no processed data on S3\n",
      "MD639\n",
      "  - Has no processed data on S3\n",
      "MD175\n",
      "  - Has no processed data on S3\n",
      "UCSD001\n",
      "  - Has no processed data on S3\n"
     ]
    }
   ],
   "source": [
    "# Going through each brain, prints out brains that do NOT have processed data\n",
    "for stack in all_stacks:\n",
    "    # rawstack_info keys: ['mouse', 'aws_bucket', 'processed_stack']\n",
    "    processed_stack_info = (ProcessedSlices()&dict(mouse=stack)).fetch( as_dict=True )[0]\n",
    "    if processed_stack_info['processed_stack']=='':\n",
    "        print(processed_stack_info['mouse'])\n",
    "        print( '  - Has no processed data on S3' )"
   ]
  },
  {
   "cell_type": "code",
   "execution_count": 8,
   "metadata": {},
   "outputs": [
    {
     "name": "stdout",
     "output_type": "stream",
     "text": [
      "The 100th slice of MD585 with the bucket appended to the front:\n",
      "\n",
      "mousebrainatlas-data/CSHL_data_processed/MD585/MD585_prep2_lossless/MD585-IHC50-2015.07.16-18.02.54_MD585_2_0149_prep2_lossless.tif\n"
     ]
    }
   ],
   "source": [
    "stack = 'MD585'\n",
    "# Load ProcessedStack table (as dict) for a particular stack\n",
    "processed_stack_info = (ProcessedSlices()&dict(mouse=stack)).fetch( as_dict=True )[0]\n",
    "\n",
    "bucket =  processed_stack_info['aws_bucket']\n",
    "filename_list = processed_stack_info['processed_stack'].split('|')\n",
    "\n",
    "print( 'The 100th slice of '+stack+' with the bucket appended to the front:\\n' )\n",
    "fp = bucket + '/' + filename_list[100]\n",
    "print( fp )"
   ]
  },
  {
   "cell_type": "markdown",
   "metadata": {},
   "source": [
    "# Download Images from S3 to Local Computer\n",
    "(Relies on `bucket` and `filename_list` from previous cell)"
   ]
  },
  {
   "cell_type": "code",
   "execution_count": 9,
   "metadata": {
    "collapsed": true
   },
   "outputs": [],
   "source": [
    "from subprocess import call\n",
    "\n",
    "# `fp` includes the S3 bucket as shown belows\n",
    "def download_from_s3(local_root, fp):\n",
    "    s3_url = \"s3://\"+fp\n",
    "    local_fp = local_root+fp\n",
    "    \n",
    "    print('Downloading file to ' + local_fp)\n",
    "\n",
    "    call([\"aws\",\\\n",
    "          \"s3\",\\\n",
    "          \"cp\",\\\n",
    "          s3_url,\\\n",
    "          local_fp])"
   ]
  },
  {
   "cell_type": "code",
   "execution_count": 10,
   "metadata": {},
   "outputs": [
    {
     "name": "stdout",
     "output_type": "stream",
     "text": [
      "Downloading file to /mnt/c/Users/Alex/Documents/mousebrainatlas-data/CSHL_data_processed/MD585/MD585_prep2_lossless/MD585-N22-2015.07.18-07.10.40_MD585_1_0064_prep2_lossless.tif\n",
      "Downloading file to /mnt/c/Users/Alex/Documents/mousebrainatlas-data/CSHL_data_processed/MD585/MD585_prep2_lossless/MD585-N22-2015.07.18-07.10.40_MD585_2_0065_prep2_lossless.tif\n"
     ]
    },
    {
     "name": "stderr",
     "output_type": "stream",
     "text": [
      "\n",
      "KeyboardInterrupt\n",
      "\n"
     ]
    }
   ],
   "source": [
    "stack = 'MD585'\n",
    "# Contains all information on downloading processed files (post-preprocessing images)\n",
    "processed_stack_info = (ProcessedSlices()&dict(mouse=stack)).fetch( as_dict=True )[0]\n",
    "bucket =  processed_stack_info['aws_bucket']\n",
    "filename_list = processed_stack_info['processed_stack'].split('|')\n",
    "num_slices = len(filename_list)\n",
    "\n",
    "# Using `download_from_s3` on my desktop to download first 10 files of MD585\n",
    "#   and then display a downsampled version of it\n",
    "local_root_alex_pc = \"/mnt/c/Users/Alex/Documents/\"\n",
    "\n",
    "# Downloading valid sections 150-151\n",
    "for i in range(150,152):\n",
    "    fp = bucket+'/'+filename_list[i]\n",
    "    download_from_s3( local_root_alex_pc, fp)"
   ]
  },
  {
   "cell_type": "code",
   "execution_count": null,
   "metadata": {
    "collapsed": true
   },
   "outputs": [],
   "source": []
  }
 ],
 "metadata": {
  "kernelspec": {
   "display_name": "Python_3",
   "language": "python",
   "name": "python_3"
  },
  "language_info": {
   "codemirror_mode": {
    "name": "ipython",
    "version": 3
   },
   "file_extension": ".py",
   "mimetype": "text/x-python",
   "name": "python",
   "nbconvert_exporter": "python",
   "pygments_lexer": "ipython3",
   "version": "3.7.0"
  }
 },
 "nbformat": 4,
 "nbformat_minor": 2
}
