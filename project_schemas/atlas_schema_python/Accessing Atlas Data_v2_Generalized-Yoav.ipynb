{
 "cells": [
  {
   "cell_type": "markdown",
   "metadata": {},
   "source": [
    "## Imports\n",
    "utilities.py contains a number of useful functions including loading credentials from a json file, retrieving files from S3, and defining thecurrent list of brains that are associated with the Active Atlas."
   ]
  },
  {
   "cell_type": "code",
   "execution_count": 1,
   "metadata": {
    "ExecuteTime": {
     "end_time": "2019-02-16T18:29:20.121559Z",
     "start_time": "2019-02-16T18:29:19.018201Z"
    }
   },
   "outputs": [],
   "source": [
    "import datajoint as dj\n",
    "import numpy as np\n",
    "import json\n",
    "from utilities import *\n",
    "from subprocess import call"
   ]
  },
  {
   "cell_type": "markdown",
   "metadata": {},
   "source": [
    "## Load Credentials, Connect to Database\n",
    "User must specify their own filepath to their aws S3 credentials and Datajoint credentials in json format."
   ]
  },
  {
   "cell_type": "code",
   "execution_count": 20,
   "metadata": {
    "ExecuteTime": {
     "end_time": "2019-02-16T18:44:31.600752Z",
     "start_time": "2019-02-16T18:44:31.596042Z"
    }
   },
   "outputs": [
    {
     "name": "stdout",
     "output_type": "stream",
     "text": [
      "Writing credFiles.yaml\n"
     ]
    }
   ],
   "source": [
    "%%writefile credFiles.yaml\n",
    "aws_fp: /Users/yoavfreund/VaultBrain/s3-creds.json\n",
    "dj_fp: /Users/yoavfreund/VaultBrain/dj_local_conf.json"
   ]
  },
  {
   "cell_type": "code",
   "execution_count": 22,
   "metadata": {
    "ExecuteTime": {
     "end_time": "2019-02-16T18:45:38.483520Z",
     "start_time": "2019-02-16T18:45:38.478165Z"
    }
   },
   "outputs": [
    {
     "data": {
      "text/plain": [
       "{'aws_fp': '/Users/yoavfreund/VaultBrain/s3-creds.json',\n",
       " 'dj_fp': '/Users/yoavfreund/VaultBrain/dj_local_conf.json'}"
      ]
     },
     "execution_count": 22,
     "metadata": {},
     "output_type": "execute_result"
    }
   ],
   "source": [
    "import yaml\n",
    "credFiles=yaml.load(open('credFiles.yaml','r'))\n",
    "credFiles"
   ]
  },
  {
   "cell_type": "code",
   "execution_count": 23,
   "metadata": {
    "ExecuteTime": {
     "end_time": "2019-02-16T18:48:01.512678Z",
     "start_time": "2019-02-16T18:48:01.509379Z"
    }
   },
   "outputs": [],
   "source": [
    "# Load AWS Credentials\n",
    "# `creds` needs the following fields: 'access_key', 'secret_access_key'\n",
    "creds = load_aws_creds( fp=credFiles['aws_fp'] )"
   ]
  },
  {
   "cell_type": "code",
   "execution_count": 24,
   "metadata": {
    "ExecuteTime": {
     "end_time": "2019-02-16T18:48:02.426682Z",
     "start_time": "2019-02-16T18:48:02.422685Z"
    }
   },
   "outputs": [],
   "source": [
    "# Load Datajoint Credentials\n",
    "# `dj_creds` needs the following fields: 'user', 'passwd'\n",
    "dj_creds = load_dj_creds(fp=credFiles['dj_fp'])"
   ]
  },
  {
   "cell_type": "code",
   "execution_count": 26,
   "metadata": {
    "ExecuteTime": {
     "end_time": "2019-02-16T18:50:07.597947Z",
     "start_time": "2019-02-16T18:50:07.563941Z"
    }
   },
   "outputs": [
    {
     "data": {
      "text/plain": [
       "DataJoint connection (connected) yoav@ucsd-demo-db.datajoint.io:3306"
      ]
     },
     "execution_count": 26,
     "metadata": {},
     "output_type": "execute_result"
    }
   ],
   "source": [
    "dj.config['database.user'] = dj_creds['database.user']\n",
    "dj.config['database.password'] = dj_creds['database.password']\n",
    "dj.config['database.host'] =  dj_creds['database.host']\n",
    "dj.config['database.port'] = dj_creds['database.port']\n",
    "\n",
    "# Connect to datajoint server\n",
    "dj.conn()"
   ]
  },
  {
   "cell_type": "code",
   "execution_count": 5,
   "metadata": {
    "ExecuteTime": {
     "end_time": "2019-02-16T18:29:26.810019Z",
     "start_time": "2019-02-16T18:29:26.369072Z"
    }
   },
   "outputs": [],
   "source": [
    "# Define which schema you're using\n",
    "schema = dj.schema('common_atlas_v2')\n",
    "schema.spawn_missing_classes()"
   ]
  },
  {
   "cell_type": "code",
   "execution_count": 27,
   "metadata": {
    "ExecuteTime": {
     "end_time": "2019-02-16T18:52:50.058579Z",
     "start_time": "2019-02-16T18:52:49.345058Z"
    },
    "scrolled": true
   },
   "outputs": [
    {
     "name": "stdout",
     "output_type": "stream",
     "text": [
      "['dot', '-Tsvg', '/var/folders/80/c2kfvdvx5cx570r4vlzqgb840000gq/T/tmpbr4all9h'] return code: -11\n",
      "\n",
      "stdout, stderr:\n",
      " b''\n",
      "b''\n",
      "\n"
     ]
    },
    {
     "ename": "AssertionError",
     "evalue": "-11",
     "output_type": "error",
     "traceback": [
      "\u001b[0;31m---------------------------------------------------------------------------\u001b[0m",
      "\u001b[0;31mAssertionError\u001b[0m                            Traceback (most recent call last)",
      "\u001b[0;32m/Library/Frameworks/Python.framework/Versions/3.7/lib/python3.7/site-packages/IPython/core/formatters.py\u001b[0m in \u001b[0;36m__call__\u001b[0;34m(self, obj)\u001b[0m\n\u001b[1;32m    343\u001b[0m             \u001b[0mmethod\u001b[0m \u001b[0;34m=\u001b[0m \u001b[0mget_real_method\u001b[0m\u001b[0;34m(\u001b[0m\u001b[0mobj\u001b[0m\u001b[0;34m,\u001b[0m \u001b[0mself\u001b[0m\u001b[0;34m.\u001b[0m\u001b[0mprint_method\u001b[0m\u001b[0;34m)\u001b[0m\u001b[0;34m\u001b[0m\u001b[0m\n\u001b[1;32m    344\u001b[0m             \u001b[0;32mif\u001b[0m \u001b[0mmethod\u001b[0m \u001b[0;32mis\u001b[0m \u001b[0;32mnot\u001b[0m \u001b[0;32mNone\u001b[0m\u001b[0;34m:\u001b[0m\u001b[0;34m\u001b[0m\u001b[0m\n\u001b[0;32m--> 345\u001b[0;31m                 \u001b[0;32mreturn\u001b[0m \u001b[0mmethod\u001b[0m\u001b[0;34m(\u001b[0m\u001b[0;34m)\u001b[0m\u001b[0;34m\u001b[0m\u001b[0m\n\u001b[0m\u001b[1;32m    346\u001b[0m             \u001b[0;32mreturn\u001b[0m \u001b[0;32mNone\u001b[0m\u001b[0;34m\u001b[0m\u001b[0m\n\u001b[1;32m    347\u001b[0m         \u001b[0;32melse\u001b[0m\u001b[0;34m:\u001b[0m\u001b[0;34m\u001b[0m\u001b[0m\n",
      "\u001b[0;32m/Library/Frameworks/Python.framework/Versions/3.7/lib/python3.7/site-packages/datajoint/erd.py\u001b[0m in \u001b[0;36m_repr_svg_\u001b[0;34m(self)\u001b[0m\n\u001b[1;32m    315\u001b[0m \u001b[0;34m\u001b[0m\u001b[0m\n\u001b[1;32m    316\u001b[0m         \u001b[0;32mdef\u001b[0m \u001b[0m_repr_svg_\u001b[0m\u001b[0;34m(\u001b[0m\u001b[0mself\u001b[0m\u001b[0;34m)\u001b[0m\u001b[0;34m:\u001b[0m\u001b[0;34m\u001b[0m\u001b[0m\n\u001b[0;32m--> 317\u001b[0;31m             \u001b[0;32mreturn\u001b[0m \u001b[0mself\u001b[0m\u001b[0;34m.\u001b[0m\u001b[0mmake_svg\u001b[0m\u001b[0;34m(\u001b[0m\u001b[0;34m)\u001b[0m\u001b[0;34m.\u001b[0m\u001b[0m_repr_svg_\u001b[0m\u001b[0;34m(\u001b[0m\u001b[0;34m)\u001b[0m\u001b[0;34m\u001b[0m\u001b[0m\n\u001b[0m\u001b[1;32m    318\u001b[0m \u001b[0;34m\u001b[0m\u001b[0m\n\u001b[1;32m    319\u001b[0m         \u001b[0;32mdef\u001b[0m \u001b[0mdraw\u001b[0m\u001b[0;34m(\u001b[0m\u001b[0mself\u001b[0m\u001b[0;34m)\u001b[0m\u001b[0;34m:\u001b[0m\u001b[0;34m\u001b[0m\u001b[0m\n",
      "\u001b[0;32m/Library/Frameworks/Python.framework/Versions/3.7/lib/python3.7/site-packages/datajoint/erd.py\u001b[0m in \u001b[0;36mmake_svg\u001b[0;34m(self)\u001b[0m\n\u001b[1;32m    306\u001b[0m         \u001b[0;32mdef\u001b[0m \u001b[0mmake_svg\u001b[0m\u001b[0;34m(\u001b[0m\u001b[0mself\u001b[0m\u001b[0;34m)\u001b[0m\u001b[0;34m:\u001b[0m\u001b[0;34m\u001b[0m\u001b[0m\n\u001b[1;32m    307\u001b[0m             \u001b[0;32mfrom\u001b[0m \u001b[0mIPython\u001b[0m\u001b[0;34m.\u001b[0m\u001b[0mdisplay\u001b[0m \u001b[0;32mimport\u001b[0m \u001b[0mSVG\u001b[0m\u001b[0;34m\u001b[0m\u001b[0m\n\u001b[0;32m--> 308\u001b[0;31m             \u001b[0;32mreturn\u001b[0m \u001b[0mSVG\u001b[0m\u001b[0;34m(\u001b[0m\u001b[0mself\u001b[0m\u001b[0;34m.\u001b[0m\u001b[0mmake_dot\u001b[0m\u001b[0;34m(\u001b[0m\u001b[0;34m)\u001b[0m\u001b[0;34m.\u001b[0m\u001b[0mcreate_svg\u001b[0m\u001b[0;34m(\u001b[0m\u001b[0;34m)\u001b[0m\u001b[0;34m)\u001b[0m\u001b[0;34m\u001b[0m\u001b[0m\n\u001b[0m\u001b[1;32m    309\u001b[0m \u001b[0;34m\u001b[0m\u001b[0m\n\u001b[1;32m    310\u001b[0m         \u001b[0;32mdef\u001b[0m \u001b[0mmake_png\u001b[0m\u001b[0;34m(\u001b[0m\u001b[0mself\u001b[0m\u001b[0;34m)\u001b[0m\u001b[0;34m:\u001b[0m\u001b[0;34m\u001b[0m\u001b[0m\n",
      "\u001b[0;32m/Library/Frameworks/Python.framework/Versions/3.7/lib/python3.7/site-packages/pydot.py\u001b[0m in \u001b[0;36mnew_method\u001b[0;34m(f, prog, encoding)\u001b[0m\n\u001b[1;32m   1660\u001b[0m                 \u001b[0;34m\"\"\"Refer to docstring of method `create`.\"\"\"\u001b[0m\u001b[0;34m\u001b[0m\u001b[0m\n\u001b[1;32m   1661\u001b[0m                 return self.create(\n\u001b[0;32m-> 1662\u001b[0;31m                     format=f, prog=prog, encoding=encoding)\n\u001b[0m\u001b[1;32m   1663\u001b[0m             \u001b[0mname\u001b[0m \u001b[0;34m=\u001b[0m \u001b[0;34m'create_{fmt}'\u001b[0m\u001b[0;34m.\u001b[0m\u001b[0mformat\u001b[0m\u001b[0;34m(\u001b[0m\u001b[0mfmt\u001b[0m\u001b[0;34m=\u001b[0m\u001b[0mfrmt\u001b[0m\u001b[0;34m)\u001b[0m\u001b[0;34m\u001b[0m\u001b[0m\n\u001b[1;32m   1664\u001b[0m             \u001b[0mself\u001b[0m\u001b[0;34m.\u001b[0m\u001b[0m__setattr__\u001b[0m\u001b[0;34m(\u001b[0m\u001b[0mname\u001b[0m\u001b[0;34m,\u001b[0m \u001b[0mnew_method\u001b[0m\u001b[0;34m)\u001b[0m\u001b[0;34m\u001b[0m\u001b[0m\n",
      "\u001b[0;32m/Library/Frameworks/Python.framework/Versions/3.7/lib/python3.7/site-packages/pydot.py\u001b[0m in \u001b[0;36mcreate\u001b[0;34m(self, prog, format, encoding)\u001b[0m\n\u001b[1;32m   1882\u001b[0m                      \u001b[0mout\u001b[0m\u001b[0;34m=\u001b[0m\u001b[0mstdout_data\u001b[0m\u001b[0;34m,\u001b[0m\u001b[0;34m\u001b[0m\u001b[0m\n\u001b[1;32m   1883\u001b[0m                      err=stderr_data))\n\u001b[0;32m-> 1884\u001b[0;31m         \u001b[0;32massert\u001b[0m \u001b[0mp\u001b[0m\u001b[0;34m.\u001b[0m\u001b[0mreturncode\u001b[0m \u001b[0;34m==\u001b[0m \u001b[0;36m0\u001b[0m\u001b[0;34m,\u001b[0m \u001b[0mp\u001b[0m\u001b[0;34m.\u001b[0m\u001b[0mreturncode\u001b[0m\u001b[0;34m\u001b[0m\u001b[0m\n\u001b[0m\u001b[1;32m   1885\u001b[0m         \u001b[0;32mreturn\u001b[0m \u001b[0mstdout_data\u001b[0m\u001b[0;34m\u001b[0m\u001b[0m\n",
      "\u001b[0;31mAssertionError\u001b[0m: -11"
     ]
    },
    {
     "data": {
      "text/plain": [
       "<datajoint.erd.ERD at 0x11f88bb70>"
      ]
     },
     "execution_count": 27,
     "metadata": {},
     "output_type": "execute_result"
    }
   ],
   "source": [
    "#dj.ERD(schema)"
   ]
  },
  {
   "cell_type": "markdown",
   "metadata": {},
   "source": [
    "## Printing all table headers (every stack in the db)"
   ]
  },
  {
   "cell_type": "code",
   "execution_count": 29,
   "metadata": {
    "ExecuteTime": {
     "end_time": "2019-02-16T18:56:46.489758Z",
     "start_time": "2019-02-16T18:56:45.849848Z"
    }
   },
   "outputs": [
    {
     "ename": "AttributeError",
     "evalue": "'numpy.ndarray' object has no attribute 'describe'",
     "output_type": "error",
     "traceback": [
      "\u001b[0;31m---------------------------------------------------------------------------\u001b[0m",
      "\u001b[0;31mAttributeError\u001b[0m                            Traceback (most recent call last)",
      "\u001b[0;32m<ipython-input-29-c73d238edc6b>\u001b[0m in \u001b[0;36m<module>\u001b[0;34m\u001b[0m\n\u001b[1;32m      1\u001b[0m \u001b[0mbrainStackTables\u001b[0m \u001b[0;34m=\u001b[0m \u001b[0;34m(\u001b[0m\u001b[0mBrainStack\u001b[0m\u001b[0;34m(\u001b[0m\u001b[0;34m)\u001b[0m\u001b[0;34m)\u001b[0m\u001b[0;34m.\u001b[0m\u001b[0mfetch\u001b[0m\u001b[0;34m(\u001b[0m \u001b[0mas_dict\u001b[0m\u001b[0;34m=\u001b[0m\u001b[0;32mFalse\u001b[0m \u001b[0;34m)\u001b[0m\u001b[0;34m\u001b[0m\u001b[0m\n\u001b[0;32m----> 2\u001b[0;31m \u001b[0mbrainStackTables\u001b[0m\u001b[0;34m.\u001b[0m\u001b[0mdescribe\u001b[0m\u001b[0;34m(\u001b[0m\u001b[0;34m)\u001b[0m\u001b[0;34m\u001b[0m\u001b[0m\n\u001b[0m",
      "\u001b[0;31mAttributeError\u001b[0m: 'numpy.ndarray' object has no attribute 'describe'"
     ]
    }
   ],
   "source": [
    "brainStackTables = (BrainStack()).fetch( as_dict=False )\n",
    "brainStackTables.describe()"
   ]
  },
  {
   "cell_type": "code",
   "execution_count": 7,
   "metadata": {
    "ExecuteTime": {
     "end_time": "2019-02-16T18:29:30.833138Z",
     "start_time": "2019-02-16T18:29:30.199239Z"
    }
   },
   "outputs": [
    {
     "name": "stdout",
     "output_type": "stream",
     "text": [
      "CHATM2\n",
      "CHATM3\n",
      "CSHL2\n",
      "MD175\n",
      "MD585\n",
      "MD589\n",
      "MD590\n",
      "MD591\n",
      "MD592\n",
      "MD593\n",
      "MD594\n",
      "MD595\n",
      "MD598\n",
      "MD599\n",
      "MD602\n",
      "MD603\n",
      "MD635\n",
      "MD636\n",
      "MD639\n",
      "MD642\n",
      "MD652\n",
      "MD653\n",
      "MD657\n",
      "MD658\n",
      "MD661\n",
      "MD662\n",
      "UCSD001\n"
     ]
    }
   ],
   "source": [
    "brainStackTables = (BrainStack()).fetch( as_dict=True )\n",
    "for brainStackTable in brainStackTables:\n",
    "    print( brainStackTable['mouse'] )"
   ]
  },
  {
   "cell_type": "code",
   "execution_count": 18,
   "metadata": {
    "ExecuteTime": {
     "end_time": "2019-02-16T18:40:20.375519Z",
     "start_time": "2019-02-16T18:40:20.367415Z"
    }
   },
   "outputs": [
    {
     "ename": "AttributeError",
     "evalue": "'collections.OrderedDict' object has no attribute 'describe'",
     "output_type": "error",
     "traceback": [
      "\u001b[0;31m---------------------------------------------------------------------------\u001b[0m",
      "\u001b[0;31mAttributeError\u001b[0m                            Traceback (most recent call last)",
      "\u001b[0;32m<ipython-input-18-22cbda9f3251>\u001b[0m in \u001b[0;36m<module>\u001b[0;34m\u001b[0m\n\u001b[0;32m----> 1\u001b[0;31m \u001b[0mbrainStackTables\u001b[0m\u001b[0;34m[\u001b[0m\u001b[0;36m0\u001b[0m\u001b[0;34m]\u001b[0m\u001b[0;34m.\u001b[0m\u001b[0mdescribe\u001b[0m\u001b[0;34m\u001b[0m\u001b[0m\n\u001b[0m",
      "\u001b[0;31mAttributeError\u001b[0m: 'collections.OrderedDict' object has no attribute 'describe'"
     ]
    }
   ],
   "source": [
    "brainStackTables[0].describe"
   ]
  },
  {
   "cell_type": "code",
   "execution_count": 8,
   "metadata": {
    "ExecuteTime": {
     "end_time": "2019-02-16T18:29:34.866811Z",
     "start_time": "2019-02-16T18:29:34.863332Z"
    }
   },
   "outputs": [
    {
     "name": "stdout",
     "output_type": "stream",
     "text": [
      "['MD585', 'MD589', 'MD590', 'MD591', 'MD592', 'MD593', 'MD594', 'MD595', 'MD598', 'MD599', 'MD602', 'MD603', 'CHATM2', 'CHATM3', 'CSHL2', 'MD658', 'MD661', 'MD662', 'MD635', 'MD636', 'MD639', 'MD642', 'MD652', 'MD653', 'MD657', 'MD175', 'UCSD001']\n"
     ]
    }
   ],
   "source": [
    "# From utilities.py\n",
    "all_stacks = list( brain_names_dic.keys() )\n",
    "print( all_stacks )"
   ]
  },
  {
   "cell_type": "markdown",
   "metadata": {},
   "source": [
    "## List all Section-names & Section-numbers for a given stack\n",
    "#### - Example displaying MD585 sections\n",
    "`Placeholder` indicates a damaged section, not used in the pipeline"
   ]
  },
  {
   "cell_type": "code",
   "execution_count": 9,
   "metadata": {
    "ExecuteTime": {
     "end_time": "2019-02-16T18:29:39.259955Z",
     "start_time": "2019-02-16T18:29:39.095443Z"
    }
   },
   "outputs": [
    {
     "name": "stdout",
     "output_type": "stream",
     "text": [
      "Keys for <STACK>_stack_info:\n",
      "odict_keys(['mouse', 'stack_name', 'num_slices', 'num_valid_slices', 'channels', 'sorted_filenames', 'human_annotated', 'planar_resolution_um', 'section_thickness_um'])\n"
     ]
    }
   ],
   "source": [
    "stack = 'MD585'\n",
    "MD585_stack_info = (BrainStack()&dict(mouse=stack)).fetch( as_dict=True )[0]\n",
    "print( 'Keys for <STACK>_stack_info:')\n",
    "print( MD585_stack_info.keys() )\n",
    "\n",
    "# `MD585_sections` contains a list of every filename, <space>, and the section number\n",
    "#    If filename == 'Placeholder' then the section is unusable and not used in the pipeline\n",
    "MD585_sections = MD585_stack_info['sorted_filenames'].split('|')"
   ]
  },
  {
   "cell_type": "markdown",
   "metadata": {},
   "source": [
    "## Access Raw Data\n",
    "#### - Example accessing MD585 data"
   ]
  },
  {
   "cell_type": "code",
   "execution_count": 10,
   "metadata": {
    "ExecuteTime": {
     "end_time": "2019-02-16T18:30:02.883863Z",
     "start_time": "2019-02-16T18:29:59.015306Z"
    },
    "scrolled": false
   },
   "outputs": [
    {
     "name": "stdout",
     "output_type": "stream",
     "text": [
      "CHATM2\n",
      "  - Has no raw data on S3\n",
      "CHATM3\n",
      "  - Has no raw data on S3\n",
      "CSHL2\n",
      "  - Has no raw data on S3\n",
      "MD639\n",
      "  - Has no raw data on S3\n",
      "MD175\n",
      "  - Has no raw data on S3\n"
     ]
    }
   ],
   "source": [
    "# Going through each brain, prints out brains that do NOT have raw data\n",
    "for stack in all_stacks:\n",
    "    # rawstack_info keys: ['mouse', 'aws_bucket', 'processed_stack']\n",
    "    raw_stack_info = (RawSlices()&dict(mouse=stack)).fetch( as_dict=True )[0]\n",
    "    if raw_stack_info['raw_stack']=='':\n",
    "        print(raw_stack_info['mouse'])\n",
    "        print( '  - Has no raw data on S3' )"
   ]
  },
  {
   "cell_type": "code",
   "execution_count": 11,
   "metadata": {
    "ExecuteTime": {
     "end_time": "2019-02-16T18:30:10.291711Z",
     "start_time": "2019-02-16T18:30:10.143526Z"
    }
   },
   "outputs": [
    {
     "name": "stdout",
     "output_type": "stream",
     "text": [
      "The 100th slice of MD585 with the bucket appended to the front:\n",
      "\n",
      "mousebrainatlas-rawdata://CSHL_data/MD585/MD585-IHC42-2015.08.19-14.26.30_MD585_1_0124_lossless.jp2\n"
     ]
    }
   ],
   "source": [
    "stack = 'MD585'\n",
    "# Load RawStack table (as dict) for a particular stack\n",
    "raw_stack_info = (RawSlices()&dict(mouse=stack)).fetch( as_dict=True )[0]\n",
    "\n",
    "bucket =  raw_stack_info['aws_bucket']\n",
    "filename_list = raw_stack_info['raw_stack'].split('|')\n",
    "\n",
    "print( 'The 100th slice of '+stack+' with the bucket appended to the front:\\n' )\n",
    "fp = bucket + '://' + filename_list[100]\n",
    "print( fp )"
   ]
  },
  {
   "cell_type": "markdown",
   "metadata": {},
   "source": [
    "## Access Processed Data\n",
    "#### - Example accessing MD585 data"
   ]
  },
  {
   "cell_type": "code",
   "execution_count": 13,
   "metadata": {
    "ExecuteTime": {
     "end_time": "2019-02-16T18:31:30.810565Z",
     "start_time": "2019-02-16T18:31:27.712444Z"
    },
    "scrolled": true
   },
   "outputs": [
    {
     "name": "stdout",
     "output_type": "stream",
     "text": [
      "MD585  - File on S3:  ['CSHL_data_processed/MD585/MD585_prep2_lossless/MD585-IHC16-2015.08.19-13.14.51_MD585_3_0048_prep2_lossless.tif', 'CSHL_data_processed/MD585/MD585_prep2_lossless/MD585-IHC17-2015.07.16-15.32.03_MD585_1_0049_prep2_lossless.tif', 'CSHL_data_processed/MD585/MD585_prep2_lossless/MD585-IHC17-2015.07.16-15.32.03_MD585_2_0050_prep2_lossless.tif', 'CSHL_data_processed/MD585/MD585_prep2_lossless/MD585-IHC17-2015.07.16-15.32.03_MD585_3_0051_prep2_lossless.tif']\n",
      "MD589  - File on S3:  ['CSHL_data_processed/MD589/MD589_prep2_lossless/MD589-IHC16-2015.07.30-22.20.07_MD589_3_0048_prep2_lossless.tif', 'CSHL_data_processed/MD589/MD589_prep2_lossless/MD589-IHC17-2015.07.30-22.23.59_MD589_1_0049_prep2_lossless.tif', 'CSHL_data_processed/MD589/MD589_prep2_lossless/MD589-IHC17-2015.07.30-22.23.59_MD589_2_0050_prep2_lossless.tif', 'CSHL_data_processed/MD589/MD589_prep2_lossless/MD589-IHC17-2015.07.30-22.23.59_MD589_3_0051_prep2_lossless.tif']\n",
      "MD590  - File on S3:  ['CSHL_data_processed/MD590/MD590_prep2_lossless/MD590-IHC17-2015.08.10-19.09.09_MD590_1_0051_prep2_lossless.tif', 'CSHL_data_processed/MD590/MD590_prep2_lossless/MD590-IHC17-2015.08.10-19.09.09_MD590_2_0050_prep2_lossless.tif', 'CSHL_data_processed/MD590/MD590_prep2_lossless/MD590-IHC18-2015.08.10-19.13.20_MD590_1_0054_prep2_lossless.tif', 'CSHL_data_processed/MD590/MD590_prep2_lossless/MD590-IHC18-2015.08.10-19.13.20_MD590_2_0053_prep2_lossless.tif']\n",
      "MD591  - File on S3:  ['CSHL_data_processed/MD591/MD591_prep2_lossless/MD591-IHC17-2015.08.28-04.23.47_MD591_1_0049_prep2_lossless.tif', 'CSHL_data_processed/MD591/MD591_prep2_lossless/MD591-IHC17-2015.08.28-04.23.47_MD591_2_0050_prep2_lossless.tif', 'CSHL_data_processed/MD591/MD591_prep2_lossless/MD591-IHC17-2015.08.28-04.23.47_MD591_3_0051_prep2_lossless.tif', 'CSHL_data_processed/MD591/MD591_prep2_lossless/MD591-IHC18-2015.08.28-04.28.05_MD591_1_0052_prep2_lossless.tif']\n",
      "MD592  - File on S3:  ['CSHL_data_processed/MD592/MD592_prep2_lossless/MD592-IHC16-2015.08.25-21.16.45_MD592_2_0047_prep2_lossless.tif', 'CSHL_data_processed/MD592/MD592_prep2_lossless/MD592-IHC16-2015.08.25-21.16.45_MD592_3_0048_prep2_lossless.tif', 'CSHL_data_processed/MD592/MD592_prep2_lossless/MD592-IHC17-2015.08.27-02.29.00_MD592_1_0049_prep2_lossless.tif', 'CSHL_data_processed/MD592/MD592_prep2_lossless/MD592-IHC17-2015.08.27-02.29.00_MD592_2_0050_prep2_lossless.tif']\n",
      "MD593  - File on S3:  ['CSHL_data_processed/MD593/MD593_prep2_lossless/MD593-IHC15-2015.08.25-14.46.05_MD593_1_0045_prep2_lossless.tif', 'CSHL_data_processed/MD593/MD593_prep2_lossless/MD593-IHC16-2015.08.25-14.51.12_MD593_1_0048_prep2_lossless.tif', 'CSHL_data_processed/MD593/MD593_prep2_lossless/MD593-IHC16-2015.08.25-14.51.12_MD593_2_0047_prep2_lossless.tif', 'CSHL_data_processed/MD593/MD593_prep2_lossless/MD593-IHC16-2015.08.25-14.51.12_MD593_3_0046_prep2_lossless.tif']\n",
      "MD594  - File on S3:  ['CSHL_data_processed/MD594/MD594_prep2_lossless/MD594-IHC16-2015.08.26-16.11.01_MD594_1_0046_prep2_lossless.tif', 'CSHL_data_processed/MD594/MD594_prep2_lossless/MD594-IHC16-2015.08.26-16.11.01_MD594_2_0047_prep2_lossless.tif', 'CSHL_data_processed/MD594/MD594_prep2_lossless/MD594-IHC16-2015.08.26-16.11.01_MD594_3_0048_prep2_lossless.tif', 'CSHL_data_processed/MD594/MD594_prep2_lossless/MD594-IHC17-2015.08.26-16.15.19_MD594_1_0049_prep2_lossless.tif']\n",
      "MD595  - File on S3:  ['CSHL_data_processed/MD595/MD595_prep2_lossless/MD595-IHC12-2015.09.15-01.21.39_MD595_2_0035_prep2_lossless.tif', 'CSHL_data_processed/MD595/MD595_prep2_lossless/MD595-IHC12-2015.09.15-01.21.39_MD595_3_0036_prep2_lossless.tif', 'CSHL_data_processed/MD595/MD595_prep2_lossless/MD595-IHC13-2015.09.15-01.25.33_MD595_1_0037_prep2_lossless.tif', 'CSHL_data_processed/MD595/MD595_prep2_lossless/MD595-IHC13-2015.09.15-01.25.33_MD595_2_0038_prep2_lossless.tif']\n",
      "MD598  - File on S3:  ['CSHL_data_processed/MD598/MD598_prep2_lossless/MD598-IHC18-2015.09.29-23.17.22_MD598_3_0054_prep2_lossless.tif', 'CSHL_data_processed/MD598/MD598_prep2_lossless/MD598-IHC19-2015.09.29-23.21.48_MD598_1_0055_prep2_lossless.tif', 'CSHL_data_processed/MD598/MD598_prep2_lossless/MD598-IHC19-2015.09.29-23.21.48_MD598_2_0056_prep2_lossless.tif', 'CSHL_data_processed/MD598/MD598_prep2_lossless/MD598-IHC19-2015.09.29-23.21.48_MD598_3_0057_prep2_lossless.tif']\n",
      "MD599  - File on S3:  ['CSHL_data_processed/MD599/MD599_prep2_lossless/MD599-IHC19-2015.10.03-04.26.46_MD599_3_0057_prep2_lossless.tif', 'CSHL_data_processed/MD599/MD599_prep2_lossless/MD599-IHC20-2015.10.03-04.31.43_MD599_1_0058_prep2_lossless.tif', 'CSHL_data_processed/MD599/MD599_prep2_lossless/MD599-IHC20-2015.10.03-04.31.43_MD599_2_0059_prep2_lossless.tif', 'CSHL_data_processed/MD599/MD599_prep2_lossless/MD599-IHC20-2015.10.03-04.31.43_MD599_3_0060_prep2_lossless.tif']\n",
      "MD602  - File on S3:  ['CSHL_data_processed/MD602/MD602_prep2_lossless/MD602-IHC19-2015.12.01-22.47.08_MD602_2_0056_prep2_lossless.tif', 'CSHL_data_processed/MD602/MD602_prep2_lossless/MD602-IHC19-2015.12.01-22.47.08_MD602_3_0057_prep2_lossless.tif', 'CSHL_data_processed/MD602/MD602_prep2_lossless/MD602-IHC20-2015.12.01-22.52.05_MD602_1_0058_prep2_lossless.tif', 'CSHL_data_processed/MD602/MD602_prep2_lossless/MD602-IHC20-2015.12.01-22.52.05_MD602_2_0059_prep2_lossless.tif']\n",
      "MD603  - File on S3:  ['CSHL_data_processed/MD603/MD603_prep2_lossless/MD603-IHC11-2015.12.03-14.10.59_MD603_1_0033_prep2_lossless.tif', 'CSHL_data_processed/MD603/MD603_prep2_lossless/MD603-IHC11-2015.12.03-14.10.59_MD603_2_0032_prep2_lossless.tif', 'CSHL_data_processed/MD603/MD603_prep2_lossless/MD603-IHC11-2015.12.03-14.10.59_MD603_3_0031_prep2_lossless.tif', 'CSHL_data_processed/MD603/MD603_prep2_lossless/MD603-IHC12-2015.12.03-14.14.53_MD603_1_0036_prep2_lossless.tif']\n",
      "CHATM2  - Has no processed data on S3\n",
      "CHATM3  - Has no processed data on S3\n",
      "CSHL2  - Has no processed data on S3\n",
      "MD658  - File on S3:  ['CSHL_data_processed/MD658/MD658_prep2_lossless/MD658-F18-2017.04.04-19.29.18_MD658_2_0053_prep2_lossless.tif', 'CSHL_data_processed/MD658/MD658_prep2_lossless/MD658-F18-2017.04.04-19.29.18_MD658_3_0054_prep2_lossless.tif', 'CSHL_data_processed/MD658/MD658_prep2_lossless/MD658-F19-2017.04.04-19.44.45_MD658_3_0057_prep2_lossless.tif', 'CSHL_data_processed/MD658/MD658_prep2_lossless/MD658-F19-2017.04.12-19.31.00_MD658_1_0055_prep2_lossless.tif']\n",
      "MD661  - File on S3:  ['CSHL_data_processed/MD661/MD661_prep2_lossless/MD662&661-F100-2017.06.06-21.40.10_MD661_1_0298_prep2_lossless.tif', 'CSHL_data_processed/MD661/MD661_prep2_lossless/MD662&661-F100-2017.06.06-21.40.10_MD661_2_0299_prep2_lossless.tif', 'CSHL_data_processed/MD661/MD661_prep2_lossless/MD662&661-F101-2017.06.06-22.05.45_MD661_1_0301_prep2_lossless.tif', 'CSHL_data_processed/MD661/MD661_prep2_lossless/MD662&661-F101-2017.06.06-22.05.45_MD661_2_0302_prep2_lossless.tif']\n",
      "MD662  - File on S3:  ['CSHL_data_processed/MD662/MD662_prep2_lossless/MD662&661-F100-2017.06.06-21.40.10_MD662_1_0298_prep2_lossless.tif', 'CSHL_data_processed/MD662/MD662_prep2_lossless/MD662&661-F100-2017.06.06-21.40.10_MD662_2_0299_prep2_lossless.tif', 'CSHL_data_processed/MD662/MD662_prep2_lossless/MD662&661-F101-2017.06.06-22.05.45_MD662_1_0301_prep2_lossless.tif', 'CSHL_data_processed/MD662/MD662_prep2_lossless/MD662&661-F101-2017.06.06-22.05.45_MD662_2_0302_prep2_lossless.tif']\n",
      "MD635  - File on S3:  ['CSHL_data_processed/MD635/MD635_prep2_lossless/MD635-F100-2016.05.19-20.25.22_MD635_1_0298_prep2_lossless.tif', 'CSHL_data_processed/MD635/MD635_prep2_lossless/MD635-F100-2016.05.19-20.25.22_MD635_2_0299_prep2_lossless.tif', 'CSHL_data_processed/MD635/MD635_prep2_lossless/MD635-F101-2016.05.19-20.44.28_MD635_1_0301_prep2_lossless.tif', 'CSHL_data_processed/MD635/MD635_prep2_lossless/MD635-F101-2016.05.19-20.44.28_MD635_2_0302_prep2_lossless.tif']\n",
      "MD636  - Has no processed data on S3\n",
      "MD639  - Has no processed data on S3\n",
      "MD642  - File on S3:  ['CSHL_data_processed/MD642/MD642_prep2_lossless/MD642-F14-2017.01.14-01.26.25_MD642_2_0041_prep2_lossless.tif', 'CSHL_data_processed/MD642/MD642_prep2_lossless/MD642-F14-2017.01.14-01.26.25_MD642_3_0042_prep2_lossless.tif', 'CSHL_data_processed/MD642/MD642_prep2_lossless/MD642-F15-2017.01.14-01.41.14_MD642_1_0043_prep2_lossless.tif', 'CSHL_data_processed/MD642/MD642_prep2_lossless/MD642-F15-2017.01.14-01.41.14_MD642_2_0044_prep2_lossless.tif']\n"
     ]
    },
    {
     "name": "stdout",
     "output_type": "stream",
     "text": [
      "MD652  - File on S3:  ['CSHL_data_processed/MD652/MD652_prep2_lossless/MD652-F15-2016.12.16-20.45.52_MD652_3_0045_prep2_lossless.tif', 'CSHL_data_processed/MD652/MD652_prep2_lossless/MD652-F16-2016.12.16-21.00.10_MD652_1_0046_prep2_lossless.tif', 'CSHL_data_processed/MD652/MD652_prep2_lossless/MD652-F16-2016.12.16-21.00.10_MD652_2_0047_prep2_lossless.tif', 'CSHL_data_processed/MD652/MD652_prep2_lossless/MD652-F16-2016.12.16-21.00.10_MD652_3_0048_prep2_lossless.tif']\n",
      "MD653  - File on S3:  ['CSHL_data_processed/MD653/MD653_prep2_lossless/MD653-F15-2016.12.20-21.04.12_MD653_1_0043_prep2_lossless.tif', 'CSHL_data_processed/MD653/MD653_prep2_lossless/MD653-F15-2016.12.20-21.04.12_MD653_2_0044_prep2_lossless.tif', 'CSHL_data_processed/MD653/MD653_prep2_lossless/MD653-F15-2016.12.20-21.04.12_MD653_3_0045_prep2_lossless.tif', 'CSHL_data_processed/MD653/MD653_prep2_lossless/MD653-F16-2016.12.20-21.19.34_MD653_1_0046_prep2_lossless.tif']\n",
      "MD657  - File on S3:  ['CSHL_data_processed/MD657/MD657_prep2_lossless/MD657-F13-2017.02.17-20.12.13_MD657_3_0039_prep2_lossless.tif', 'CSHL_data_processed/MD657/MD657_prep2_lossless/MD657-F14-2017.02.17-20.29.47_MD657_1_0040_prep2_lossless.tif', 'CSHL_data_processed/MD657/MD657_prep2_lossless/MD657-F14-2017.02.17-20.29.47_MD657_2_0041_prep2_lossless.tif', 'CSHL_data_processed/MD657/MD657_prep2_lossless/MD657-F14-2017.02.17-20.29.47_MD657_3_0042_prep2_lossless.tif']\n",
      "MD175  - Has no processed data on S3\n",
      "UCSD001  - Has no processed data on S3\n"
     ]
    }
   ],
   "source": [
    "# Going through each brain, prints out brains that do NOT have processed data\n",
    "for stack in all_stacks:\n",
    "    # rawstack_info keys: ['mouse', 'aws_bucket', 'processed_stack']\n",
    "    processed_stack_info = (ProcessedSlices()&dict(mouse=stack)).fetch( as_dict=True )[0]\n",
    "    print(processed_stack_info['mouse'], end='')\n",
    "    if processed_stack_info['processed_stack']=='':\n",
    "        print( '  - Has no processed data on S3' )\n",
    "    else:\n",
    "        print( '  - File on S3: ', processed_stack_info['processed_stack'].split('|')[:4])\n",
    "        "
   ]
  },
  {
   "cell_type": "code",
   "execution_count": 16,
   "metadata": {
    "ExecuteTime": {
     "end_time": "2019-02-16T18:22:15.233313Z",
     "start_time": "2019-02-16T18:22:15.079567Z"
    }
   },
   "outputs": [
    {
     "name": "stdout",
     "output_type": "stream",
     "text": [
      "The 100th slice of MD585 with the bucket appended to the front:\n",
      "\n",
      "mousebrainatlas-data/CSHL_data_processed/MD585/MD585_prep2_lossless/MD585-IHC50-2015.07.16-18.02.54_MD585_2_0149_prep2_lossless.tif\n"
     ]
    }
   ],
   "source": [
    "stack = 'MD585'\n",
    "# Load ProcessedStack table (as dict) for a particular stack\n",
    "processed_stack_info = (ProcessedSlices()&dict(mouse=stack)).fetch( as_dict=True )[0]\n",
    "\n",
    "bucket =  processed_stack_info['aws_bucket']\n",
    "filename_list = processed_stack_info['processed_stack'].split('|')\n",
    "\n",
    "print( 'The 100th slice of '+stack+' with the bucket appended to the front:\\n' )\n",
    "fp = bucket + '/' + filename_list[100]\n",
    "print( fp )"
   ]
  },
  {
   "cell_type": "markdown",
   "metadata": {},
   "source": [
    "# Download Images from S3 to Local Computer\n",
    "(Relies on `bucket` and `filename_list` from previous cell)"
   ]
  },
  {
   "cell_type": "code",
   "execution_count": 3,
   "metadata": {
    "ExecuteTime": {
     "end_time": "2019-02-16T18:27:21.643517Z",
     "start_time": "2019-02-16T18:27:21.639936Z"
    }
   },
   "outputs": [],
   "source": [
    "from subprocess import call\n",
    "\n",
    "# `fp` includes the S3 bucket as shown belows\n",
    "def download_from_s3(local_root, fp):\n",
    "    s3_url = \"s3://\"+fp\n",
    "    local_fp = local_root+fp\n",
    "    \n",
    "    print('Downloading file to ' + local_fp)\n",
    "\n",
    "    call([\"aws\",\\\n",
    "          \"s3\",\\\n",
    "          \"cp\",\\\n",
    "          s3_url,\\\n",
    "          local_fp]) # need to check whether download worked."
   ]
  },
  {
   "cell_type": "code",
   "execution_count": 18,
   "metadata": {
    "ExecuteTime": {
     "end_time": "2019-02-16T18:22:53.734828Z",
     "start_time": "2019-02-16T18:22:51.039782Z"
    }
   },
   "outputs": [
    {
     "name": "stdout",
     "output_type": "stream",
     "text": [
      "Downloading file to /mnt/c/Users/Alex/Documents/mousebrainatlas-data/CSHL_data_processed/MD585/MD585_prep2_lossless/MD585-N22-2015.07.18-07.10.40_MD585_1_0064_prep2_lossless.tif\n",
      "Downloading file to /mnt/c/Users/Alex/Documents/mousebrainatlas-data/CSHL_data_processed/MD585/MD585_prep2_lossless/MD585-N22-2015.07.18-07.10.40_MD585_2_0065_prep2_lossless.tif\n"
     ]
    }
   ],
   "source": [
    "stack = 'MD585'\n",
    "# Contains all information on downloading processed files (post-preprocessing images)\n",
    "processed_stack_info = (ProcessedSlices()&dict(mouse=stack)).fetch( as_dict=True )[0]\n",
    "bucket =  processed_stack_info['aws_bucket']\n",
    "filename_list = processed_stack_info['processed_stack'].split('|')\n",
    "num_slices = len(filename_list)\n",
    "\n",
    "# Using `download_from_s3` on my desktop to download first 10 files of MD585\n",
    "#   and then display a downsampled version of it\n",
    "local_root_alex_pc = \"/mnt/c/Users/Alex/Documents/\"\n",
    "\n",
    "# Downloading valid sections 150-151\n",
    "for i in range(150,152):\n",
    "    fp = bucket+'/'+filename_list[i]\n",
    "    download_from_s3( local_root_alex_pc, fp)"
   ]
  },
  {
   "cell_type": "code",
   "execution_count": null,
   "metadata": {
    "collapsed": true
   },
   "outputs": [],
   "source": []
  }
 ],
 "metadata": {
  "hide_input": false,
  "kernelspec": {
   "display_name": "Python 3",
   "language": "python",
   "name": "python3"
  },
  "language_info": {
   "codemirror_mode": {
    "name": "ipython",
    "version": 3
   },
   "file_extension": ".py",
   "mimetype": "text/x-python",
   "name": "python",
   "nbconvert_exporter": "python",
   "pygments_lexer": "ipython3",
   "version": "3.7.0"
  },
  "toc": {
   "base_numbering": 1,
   "nav_menu": {},
   "number_sections": true,
   "sideBar": true,
   "skip_h1_title": false,
   "title_cell": "Table of Contents",
   "title_sidebar": "Contents",
   "toc_cell": false,
   "toc_position": {},
   "toc_section_display": true,
   "toc_window_display": false
  }
 },
 "nbformat": 4,
 "nbformat_minor": 2
}
