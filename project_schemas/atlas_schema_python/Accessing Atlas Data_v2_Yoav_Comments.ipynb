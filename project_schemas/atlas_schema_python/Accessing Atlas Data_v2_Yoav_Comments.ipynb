{
 "cells": [
  {
   "cell_type": "markdown",
   "metadata": {},
   "source": [
    "## Connect to DataJoint server\n",
    "#### Downloading data from S3 will require your own AWS credentials"
   ]
  },
  {
   "cell_type": "code",
   "execution_count": 5,
   "metadata": {
    "ExecuteTime": {
     "end_time": "2019-02-16T01:51:05.690559Z",
     "start_time": "2019-02-16T01:51:05.297341Z"
    }
   },
   "outputs": [
    {
     "name": "stdout",
     "output_type": "stream",
     "text": [
      "Connecting alex@ucsd-demo-db.datajoint.io:3306\n"
     ]
    },
    {
     "data": {
      "text/plain": [
       "DataJoint connection (connected) alex@ucsd-demo-db.datajoint.io:3306"
      ]
     },
     "execution_count": 5,
     "metadata": {},
     "output_type": "execute_result"
    }
   ],
   "source": [
    "import datajoint as dj\n",
    "import numpy as np\n",
    "import json\n",
    "#utilities.py has various paths specific to alex hard-coded.\n",
    "#from utilities import *\n",
    "from subprocess import call\n",
    "\n",
    "# Connect to datajoint server\n",
    "dj.conn()"
   ]
  },
  {
   "cell_type": "code",
   "execution_count": 13,
   "metadata": {
    "ExecuteTime": {
     "end_time": "2019-02-16T01:55:02.907404Z",
     "start_time": "2019-02-16T01:55:02.556558Z"
    }
   },
   "outputs": [],
   "source": [
    "# Define which schema you're using\n",
    "schema = dj.schema('common_atlas_v2')\n",
    "schema.spawn_missing_classes()"
   ]
  },
  {
   "cell_type": "code",
   "execution_count": 14,
   "metadata": {
    "ExecuteTime": {
     "end_time": "2019-02-16T01:55:05.113752Z",
     "start_time": "2019-02-16T01:55:05.111166Z"
    }
   },
   "outputs": [],
   "source": [
    "#dj.ERD(schema)"
   ]
  },
  {
   "cell_type": "markdown",
   "metadata": {},
   "source": [
    "## Printing all table headers (every stack in the db)"
   ]
  },
  {
   "cell_type": "code",
   "execution_count": 32,
   "metadata": {
    "ExecuteTime": {
     "end_time": "2019-02-16T02:13:09.561133Z",
     "start_time": "2019-02-16T02:13:09.017054Z"
    }
   },
   "outputs": [
    {
     "data": {
      "text/plain": [
       "OrderedDict([('mouse', 'CHATM2'),\n",
       "             ('stack_name', 'CHATM2'),\n",
       "             ('num_slices', 328),\n",
       "             ('num_valid_slices', 235),\n",
       "             ('channels', 2),\n",
       "             ('sorted_filenames',\n",
       "              'CHATM2_slide01_2018_01_18-S1 001|CHATM2_slide02_2018_01_18-S1 002|CHATM2_slide01_2018_01_18-S2 003|CHATM2_slide02_2018_01_18-S2 004|CHATM2_slide01_2018_01_18-S3 005|CHATM2_slide02_2018_01_18-S3 006|CHATM2_slide03_2018_01_18-S1 007|CHATM2_slide04_2018_01_18-S1 008|CHATM2_slide03_2018_01_18-S2 009|CHATM2_slide04_2018_01_18-S2 010|CHATM2_slide03_2018_01_18-S3 011|CHATM2_slide04_2018_01_18-S3 012|CHATM2_slide05_2018_01_18-S1 013|CHATM2_slide06_2018_01_18-S1 014|CHATM2_slide05_2018_01_18-S2 015|CHATM2_slide06_2018_01_18-S2 016|CHATM2_slide05_2018_01_18-S3 017|CHATM2_slide06_2018_01_18-S3 018|CHATM2_slide07_2018_01_18-S1 019|CHATM2_slide08_2018_01_18-S1 020|CHATM2_slide07_2018_01_18-S2 021|CHATM2_slide08_2018_01_18-S2 022|CHATM2_slide07_2018_01_18-S3 023|CHATM2_slide08_2018_01_18-S3 024|CHATM2_slide09_2018_01_18-S1 025|CHATM2_slide10_2018_01_18-S1 026|CHATM2_slide09_2018_01_18-S2 027|CHATM2_slide10_2018_01_18-S2 028|CHATM2_slide09_2018_01_18-S3 029|CHATM2_slide10_2018_01_18-S3 030|CHATM2_slide11_2018_01_18-S1 031|CHATM2_slide12_2018_01_18-S1 032|CHATM2_slide11_2018_01_18-S2 033|CHATM2_slide12_2018_01_18-S2 034|CHATM2_slide11_2018_01_18-S3 035|CHATM2_slide12_2018_01_18-S3 036|CHATM2_slide13_2018_01_19-S1 037|CHATM2_slide14_2018_01_18-S1 038|CHATM2_slide13_2018_01_19-S2 039|CHATM2_slide14_2018_01_18-S2 040|CHATM2_slide13_2018_01_19-S3 041|CHATM2_slide14_2018_01_18-S3 042|CHATM2_slide15_2018_01_18-S1 043|CHATM2_slide16_2018_01_18-S1 044|CHATM2_slide15_2018_01_18-S2 045|CHATM2_slide16_2018_01_18-S2 046|CHATM2_slide15_2018_01_18-S3 047|CHATM2_slide16_2018_01_18-S3 048|CHATM2_slide17_2018_01_18-S1 049|CHATM2_slide18_2018_01_18-S1 050|CHATM2_slide17_2018_01_18-S2 051|CHATM2_slide18_2018_01_18-S2 052|CHATM2_slide17_2018_01_18-S3 053|CHATM2_slide18_2018_01_18-S3 054|CHATM2_slide19_2018_01_18-S1 055|CHATM2_slide20_2018_01_18-S1 056|CHATM2_slide19_2018_01_18-S2 057|CHATM2_slide20_2018_01_18-S2 058|CHATM2_slide19_2018_01_18-S3 059|CHATM2_slide20_2018_01_18-S3 060|CHATM2_slide21_2018_01_18-S1 061|CHATM2_slide22_2018_01_19-S1 062|CHATM2_slide21_2018_01_18-S2 063|CHATM2_slide22_2018_01_19-S2 064|CHATM2_slide21_2018_01_18-S3 065|CHATM2_slide22_2018_01_19-S3 066|CHATM2_slide23_2018_01_18-S1 067|CHATM2_slide24_2018_01_18-S1 068|CHATM2_slide23_2018_01_18-S2 069|CHATM2_slide24_2018_01_18-S2 070|CHATM2_slide23_2018_01_18-S3 071|CHATM2_slide24_2018_01_18-S3 072|CHATM2_slide25_2018_01_18-S1 073|CHATM2_slide26_2018_01_18-S1 074|CHATM2_slide25_2018_01_18-S2 075|CHATM2_slide26_2018_01_18-S2 076|CHATM2_slide25_2018_01_18-S3 077|CHATM2_slide26_2018_01_18-S3 078|CHATM2_slide27_2018_01_18-S1 079|CHATM2_slide28_2018_01_18-S1 080|CHATM2_slide27_2018_01_18-S2 081|CHATM2_slide28_2018_01_18-S2 082|CHATM2_slide27_2018_01_18-S3 083|CHATM2_slide28_2018_01_18-S3 084|CHATM2_slide29_2018_01_18-S1 085|CHATM2_slide30_2018_01_18-S1 086|CHATM2_slide29_2018_01_18-S2 087|CHATM2_slide30_2018_01_18-S2 088|CHATM2_slide29_2018_01_18-S3 089|CHATM2_slide30_2018_01_18-S3 090|Placeholder 091|CHATM2_slide32_2018_01_20-S1 092|CHATM2_slide31_2018_01_19-S2 093|CHATM2_slide32_2018_01_20-S2 094|CHATM2_slide31_2018_01_19-S3 095|CHATM2_slide32_2018_01_20-S3 096|CHATM2_slide33_2018_01_20-S1 097|CHATM2_slide34_2018_01_20-S1 098|CHATM2_slide33_2018_01_20-S2 099|CHATM2_slide34_2018_01_20-S2 100|CHATM2_slide33_2018_01_20-S3 101|CHATM2_slide34_2018_01_20-S3 102|CHATM2_slide35_2018_01_20-S1 103|CHATM2_slide36_2018_01_22-S1 104|CHATM2_slide35_2018_01_20-S2 105|CHATM2_slide36_2018_01_22-S2 106|Placeholder 107|CHATM2_slide36_2018_01_22-S3 108|CHATM2_slide37_2018_01_22-S1 109|CHATM2_slide38_2018_01_22-S1 110|CHATM2_slide37_2018_01_22-S2 111|CHATM2_slide38_2018_01_22-S2 112|CHATM2_slide37_2018_01_22-S3 113|CHATM2_slide38_2018_01_22-S3 114|CHATM2_slide39_2018_01_22-S1 115|Placeholder 116|CHATM2_slide39_2018_01_22-S2 117|Placeholder 118|CHATM2_slide39_2018_01_22-S3 119|Placeholder 120|CHATM2_slide41_2018_01_22-S1 121|CHATM2_slide42_2018_01_22-S1 122|CHATM2_slide41_2018_01_22-S2 123|CHATM2_slide42_2018_01_22-S2 124|CHATM2_slide41_2018_01_22-S3 125|CHATM2_slide42_2018_01_22-S3 126|CHATM2_slide43_2018_01_22-S1 127|CHATM2_slide44_2018_01_22-S1 128|CHATM2_slide43_2018_01_22-S2 129|CHATM2_slide44_2018_01_22-S2 130|CHATM2_slide43_2018_01_22-S3 131|CHATM2_slide44_2018_01_22-S3 132|CHATM2_slide45_2018_01_22-S1 133|CHATM2_slide46_2018_01_22-S1 134|CHATM2_slide45_2018_01_22-S2 135|CHATM2_slide46_2018_01_22-S2 136|CHATM2_slide45_2018_01_22-S3 137|CHATM2_slide46_2018_01_22-S3 138|Placeholder 139|CHATM2_slide48_2018_01_22-S1 140|Placeholder 141|CHATM2_slide48_2018_01_22-S2 142|Placeholder 143|CHATM2_slide48_2018_01_22-S3 144|CHATM2_slide49_2018_01_22-S1 145|CHATM2_slide50_2018_01_22-S1 146|CHATM2_slide49_2018_01_22-S2 147|CHATM2_slide50_2018_01_22-S2 148|Placeholder 149|CHATM2_slide50_2018_01_22-S3 150|CHATM2_slide51_2018_01_22-S1 151|CHATM2_slide52_2018_01_22-S1 152|CHATM2_slide51_2018_01_22-S2 153|CHATM2_slide52_2018_01_22-S2 154|CHATM2_slide51_2018_01_22-S3 155|CHATM2_slide52_2018_01_22-S3 156|CHATM2_slide53_2018_01_22-S1 157|CHATM2_slide54_2018_01_22-S1 158|CHATM2_slide53_2018_01_22-S2 159|CHATM2_slide54_2018_01_22-S2 160|CHATM2_slide53_2018_01_22-S3 161|CHATM2_slide54_2018_01_22-S3 162|CHATM2_slide55_2018_01_22-S1 163|CHATM2_slide56_2018_01_22-S1 164|CHATM2_slide55_2018_01_22-S2 165|CHATM2_slide56_2018_01_22-S2 166|CHATM2_slide55_2018_01_22-S3 167|CHATM2_slide56_2018_01_22-S3 168|CHATM2_slide57_2018_01_22-S1 169|CHATM2_slide58_2018_01_22-S1 170|CHATM2_slide57_2018_01_22-S2 171|CHATM2_slide58_2018_01_22-S2 172|CHATM2_slide57_2018_01_22-S3 173|Placeholder 174|Placeholder 175|Placeholder 176|Placeholder 177|Placeholder 178|Placeholder 179|Placeholder 180|Placeholder 181|Placeholder 182|Placeholder 183|Placeholder 184|CHATM2_slide62_2018_02_14-S1 185|Placeholder 186|CHATM2_slide62_2018_02_14-S2 187|Placeholder 188|CHATM2_slide62_2018_02_14-S3 189|Placeholder 190|CHATM2_slide64_2018_02_15-S1 191|Placeholder 192|CHATM2_slide64_2018_02_15-S2 193|Placeholder 194|CHATM2_slide64_2018_02_15-S3 195|Placeholder 196|CHATM2_slide66_2018_02_14-S1 197|Placeholder 198|CHATM2_slide66_2018_02_14-S2 199|Placeholder 200|CHATM2_slide66_2018_02_14-S3 201|Placeholder 202|CHATM2_slide68_2018_02_14-S1 203|Placeholder 204|CHATM2_slide68_2018_02_14-S2 205|Placeholder 206|Placeholder 207|Placeholder 208|CHATM2_slide70_2018_02_14-S1 209|Placeholder 210|CHATM2_slide70_2018_02_14-S2 211|Placeholder 212|CHATM2_slide70_2018_02_14-S3 213|Placeholder 214|CHATM2_slide72_2018_02_14-S1 215|Placeholder 216|CHATM2_slide72_2018_02_14-S2 217|Placeholder 218|CHATM2_slide72_2018_02_14-S3 219|Placeholder 220|CHATM2_slide74_2018_02_14-S1 221|Placeholder 222|CHATM2_slide74_2018_02_14-S2 223|Placeholder 224|CHATM2_slide74_2018_02_14-S3 225|Placeholder 226|CHATM2_slide76_2018_02_14-S1 227|Placeholder 228|CHATM2_slide76_2018_02_14-S2 229|Placeholder 230|CHATM2_slide76_2018_02_14-S3 231|Placeholder 232|CHATM2_slide78_2018_02_14-S1 233|Placeholder 234|CHATM2_slide78_2018_02_14-S2 235|Placeholder 236|CHATM2_slide78_2018_02_14-S3 237|Placeholder 238|CHATM2_slide80_2018_02_14-S1 239|Placeholder 240|CHATM2_slide80_2018_02_14-S2 241|Placeholder 242|CHATM2_slide80_2018_02_14-S3 243|Placeholder 244|CHATM2_slide82_2018_02_14-S1 245|Placeholder 246|CHATM2_slide82_2018_02_14-S2 247|Placeholder 248|CHATM2_slide82_2018_02_14-S3 249|Placeholder 250|CHATM2_slide84_2018_02_14-S1 251|Placeholder 252|CHATM2_slide84_2018_02_14-S2 253|Placeholder 254|CHATM2_slide84_2018_02_14-S3 255|Placeholder 256|CHATM2_slide86_2018_02_13-S1 257|Placeholder 258|CHATM2_slide86_2018_02_13-S2 259|Placeholder 260|CHATM2_slide86_2018_02_13-S3 261|Placeholder 262|CHATM2_slide88_2018_02_13-S1 263|Placeholder 264|CHATM2_slide88_2018_02_13-S2 265|Placeholder 266|CHATM2_slide88_2018_02_13-S3 267|Placeholder 268|CHATM2_slide90_2018_02_13-S1 269|Placeholder 270|CHATM2_slide90_2018_02_13-S2 271|Placeholder 272|CHATM2_slide90_2018_02_13-S3 273|Placeholder 274|CHATM2_slide92_2018_02_13-S1 275|Placeholder 276|CHATM2_slide92_2018_02_13-S2 277|Placeholder 278|CHATM2_slide92_2018_02_13-S3 279|Placeholder 280|CHATM2_slide94_2018_02_13-S1 281|Placeholder 282|CHATM2_slide94_2018_02_13-S2 283|Placeholder 284|CHATM2_slide94_2018_02_13-S3 285|Placeholder 286|CHATM2_slide96_2018_02_13-S1 287|Placeholder 288|CHATM2_slide96_2018_02_13-S2 289|Placeholder 290|CHATM2_slide96_2018_02_13-S3 291|Placeholder 292|CHATM2_slide98_2018_02_13-S1 293|Placeholder 294|CHATM2_slide98_2018_02_13-S2 295|Placeholder 296|CHATM2_slide98_2018_02_13-S3 297|Placeholder 298|CHATM2_slide100_2018_02_13-S1 299|Placeholder 300|CHATM2_slide100_2018_02_13-S2 301|Placeholder 302|CHATM2_slide100_2018_02_13-S3 303|Placeholder 304|CHATM2_slide102_2018_02_13-S1 305|Placeholder 306|CHATM2_slide102_2018_02_13-S2 307|Placeholder 308|CHATM2_slide102_2018_02_13-S3 309|Placeholder 310|CHATM2_slide104_2018_02_13-S1 311|Placeholder 312|CHATM2_slide104_2018_02_13-S2 313|Placeholder 314|CHATM2_slide104_2018_02_13-S3 315|Placeholder 316|CHATM2_slide106_2018_02_13-S1 317|Placeholder 318|CHATM2_slide106_2018_02_13-S2 319|Placeholder 320|CHATM2_slide106_2018_02_13-S3 321|Placeholder 322|CHATM2_slide108_2018_02_13-S1 323|Placeholder 324|CHATM2_slide108_2018_02_13-S2 325|Placeholder 326|CHATM2_slide108_2018_02_13-S3 327|'),\n",
       "             ('human_annotated', 0),\n",
       "             ('planar_resolution_um', -1.0),\n",
       "             ('section_thickness_um', 20.0)])"
      ]
     },
     "execution_count": 32,
     "metadata": {},
     "output_type": "execute_result"
    }
   ],
   "source": [
    "brainStackTables = (BrainStack()).fetch( as_dict=True)\n",
    "brainStackTables[0]"
   ]
  },
  {
   "cell_type": "code",
   "execution_count": 33,
   "metadata": {
    "ExecuteTime": {
     "end_time": "2019-02-16T02:13:44.272910Z",
     "start_time": "2019-02-16T02:13:44.268792Z"
    }
   },
   "outputs": [
    {
     "name": "stdout",
     "output_type": "stream",
     "text": [
      "odict_keys(['mouse', 'stack_name', 'num_slices', 'num_valid_slices', 'channels', 'sorted_filenames', 'human_annotated', 'planar_resolution_um', 'section_thickness_um'])\n"
     ]
    }
   ],
   "source": [
    "for brainStackTable in brainStackTables:\n",
    "    print( brainStackTable.keys() )\n",
    "    break\n"
   ]
  },
  {
   "cell_type": "markdown",
   "metadata": {},
   "source": [
    "## Load dictionary of brain names from utilities.py"
   ]
  },
  {
   "cell_type": "code",
   "execution_count": 21,
   "metadata": {
    "ExecuteTime": {
     "end_time": "2019-02-16T01:58:41.527796Z",
     "start_time": "2019-02-16T01:58:41.516964Z"
    }
   },
   "outputs": [
    {
     "ename": "FileNotFoundError",
     "evalue": "[Errno 2] No such file or directory: '/Users/newberry/Desktop/atlas_data/alex_aws_credentials.json'",
     "output_type": "error",
     "traceback": [
      "\u001b[0;31m---------------------------------------------------------------------------\u001b[0m",
      "\u001b[0;31mFileNotFoundError\u001b[0m                         Traceback (most recent call last)",
      "\u001b[0;32m<ipython-input-21-bc993023ad66>\u001b[0m in \u001b[0;36m<module>\u001b[0;34m\u001b[0m\n\u001b[0;32m----> 1\u001b[0;31m \u001b[0;32mfrom\u001b[0m \u001b[0mutilities\u001b[0m\u001b[0;34m.\u001b[0m\u001b[0mpy\u001b[0m \u001b[0;32mimport\u001b[0m \u001b[0mbrain_names_dic\u001b[0m\u001b[0;34m\u001b[0m\u001b[0m\n\u001b[0m\u001b[1;32m      2\u001b[0m \u001b[0mall_stacks\u001b[0m \u001b[0;34m=\u001b[0m \u001b[0mlist\u001b[0m\u001b[0;34m(\u001b[0m \u001b[0mbrain_names_dic\u001b[0m\u001b[0;34m.\u001b[0m\u001b[0mkeys\u001b[0m\u001b[0;34m(\u001b[0m\u001b[0;34m)\u001b[0m \u001b[0;34m)\u001b[0m\u001b[0;34m\u001b[0m\u001b[0m\n\u001b[1;32m      3\u001b[0m \u001b[0mprint\u001b[0m\u001b[0;34m(\u001b[0m \u001b[0mall_stacks\u001b[0m \u001b[0;34m)\u001b[0m\u001b[0;34m\u001b[0m\u001b[0m\n",
      "\u001b[0;32m~/projects/Datajoint_Interface/project_schemas/atlas_schema_python/utilities.py\u001b[0m in \u001b[0;36m<module>\u001b[0;34m\u001b[0m\n\u001b[1;32m     12\u001b[0m     \u001b[0mcred_root_fp\u001b[0m \u001b[0;34m=\u001b[0m \u001b[0;34m'/Users/newberry/Desktop/atlas_data/'\u001b[0m\u001b[0;34m\u001b[0m\u001b[0m\n\u001b[1;32m     13\u001b[0m     \u001b[0;31m# load S3 access_key and secret_key\u001b[0m\u001b[0;34m\u001b[0m\u001b[0;34m\u001b[0m\u001b[0m\n\u001b[0;32m---> 14\u001b[0;31m     \u001b[0;32mwith\u001b[0m \u001b[0mopen\u001b[0m\u001b[0;34m(\u001b[0m\u001b[0mcred_root_fp\u001b[0m \u001b[0;34m+\u001b[0m \u001b[0;34m'alex_aws_credentials.json'\u001b[0m\u001b[0;34m)\u001b[0m \u001b[0;32mas\u001b[0m \u001b[0mf\u001b[0m\u001b[0;34m:\u001b[0m\u001b[0;34m\u001b[0m\u001b[0m\n\u001b[0m\u001b[1;32m     15\u001b[0m         \u001b[0mcreds\u001b[0m \u001b[0;34m=\u001b[0m \u001b[0mjson\u001b[0m\u001b[0;34m.\u001b[0m\u001b[0mload\u001b[0m\u001b[0;34m(\u001b[0m\u001b[0mf\u001b[0m\u001b[0;34m)\u001b[0m\u001b[0;34m\u001b[0m\u001b[0m\n\u001b[1;32m     16\u001b[0m     \u001b[0;31m# LOAD DataBase admin Credentials\u001b[0m\u001b[0;34m\u001b[0m\u001b[0;34m\u001b[0m\u001b[0m\n",
      "\u001b[0;31mFileNotFoundError\u001b[0m: [Errno 2] No such file or directory: '/Users/newberry/Desktop/atlas_data/alex_aws_credentials.json'"
     ]
    }
   ],
   "source": [
    "from utilities.py import brain_names_dic\n",
    "all_stacks = list( brain_names_dic.keys() )\n",
    "print( all_stacks )"
   ]
  },
  {
   "cell_type": "markdown",
   "metadata": {},
   "source": [
    "## List all Section-names & Section-numbers for a given stack\n",
    "#### - Example displaying MD585 sections\n",
    "`Placeholder` indicates a damaged section, not used in the pipeline"
   ]
  },
  {
   "cell_type": "code",
   "execution_count": 34,
   "metadata": {
    "ExecuteTime": {
     "end_time": "2019-02-16T02:14:19.701845Z",
     "start_time": "2019-02-16T02:14:19.548033Z"
    }
   },
   "outputs": [
    {
     "name": "stdout",
     "output_type": "stream",
     "text": [
      "Keys for <STACK>_stack_info:\n",
      "odict_keys(['mouse', 'stack_name', 'num_slices', 'num_valid_slices', 'channels', 'sorted_filenames', 'human_annotated', 'planar_resolution_um', 'section_thickness_um'])\n"
     ]
    }
   ],
   "source": [
    "stack = 'MD585'\n",
    "MD585_stack_info = (BrainStack()&dict(mouse=stack)).fetch( as_dict=True )[0]\n",
    "print( 'Keys for <STACK>_stack_info:')\n",
    "print( MD585_stack_info.keys() )\n",
    "\n",
    "# `MD585_sections` contains a list of every filename, <space>, and the section number\n",
    "#    If filename == 'Placeholder' then the section is unusable and not used in the pipeline\n",
    "MD585_sections = MD585_stack_info['sorted_filenames'].split('|')"
   ]
  },
  {
   "cell_type": "markdown",
   "metadata": {},
   "source": [
    "## Access Raw Data\n",
    "#### - Example accessing MD585 data"
   ]
  },
  {
   "cell_type": "code",
   "execution_count": 18,
   "metadata": {
    "ExecuteTime": {
     "end_time": "2019-02-16T01:55:45.405841Z",
     "start_time": "2019-02-16T01:55:45.394984Z"
    },
    "scrolled": false
   },
   "outputs": [
    {
     "ename": "NameError",
     "evalue": "name 'all_stacks' is not defined",
     "output_type": "error",
     "traceback": [
      "\u001b[0;31m---------------------------------------------------------------------------\u001b[0m",
      "\u001b[0;31mNameError\u001b[0m                                 Traceback (most recent call last)",
      "\u001b[0;32m<ipython-input-18-4ede80b8fe13>\u001b[0m in \u001b[0;36m<module>\u001b[0;34m\u001b[0m\n\u001b[1;32m      1\u001b[0m \u001b[0;31m# Going through each brain, prints out brains that do NOT have raw data\u001b[0m\u001b[0;34m\u001b[0m\u001b[0;34m\u001b[0m\u001b[0m\n\u001b[0;32m----> 2\u001b[0;31m \u001b[0;32mfor\u001b[0m \u001b[0mstack\u001b[0m \u001b[0;32min\u001b[0m \u001b[0mall_stacks\u001b[0m\u001b[0;34m:\u001b[0m\u001b[0;34m\u001b[0m\u001b[0m\n\u001b[0m\u001b[1;32m      3\u001b[0m     \u001b[0;31m# rawstack_info keys: ['mouse', 'aws_bucket', 'processed_stack']\u001b[0m\u001b[0;34m\u001b[0m\u001b[0;34m\u001b[0m\u001b[0m\n\u001b[1;32m      4\u001b[0m     \u001b[0mraw_stack_info\u001b[0m \u001b[0;34m=\u001b[0m \u001b[0;34m(\u001b[0m\u001b[0mRawSlices\u001b[0m\u001b[0;34m(\u001b[0m\u001b[0;34m)\u001b[0m\u001b[0;34m&\u001b[0m\u001b[0mdict\u001b[0m\u001b[0;34m(\u001b[0m\u001b[0mmouse\u001b[0m\u001b[0;34m=\u001b[0m\u001b[0mstack\u001b[0m\u001b[0;34m)\u001b[0m\u001b[0;34m)\u001b[0m\u001b[0;34m.\u001b[0m\u001b[0mfetch\u001b[0m\u001b[0;34m(\u001b[0m \u001b[0mas_dict\u001b[0m\u001b[0;34m=\u001b[0m\u001b[0;32mTrue\u001b[0m \u001b[0;34m)\u001b[0m\u001b[0;34m[\u001b[0m\u001b[0;36m0\u001b[0m\u001b[0;34m]\u001b[0m\u001b[0;34m\u001b[0m\u001b[0m\n\u001b[1;32m      5\u001b[0m     \u001b[0;32mif\u001b[0m \u001b[0mraw_stack_info\u001b[0m\u001b[0;34m[\u001b[0m\u001b[0;34m'raw_stack'\u001b[0m\u001b[0;34m]\u001b[0m\u001b[0;34m==\u001b[0m\u001b[0;34m''\u001b[0m\u001b[0;34m:\u001b[0m\u001b[0;34m\u001b[0m\u001b[0m\n",
      "\u001b[0;31mNameError\u001b[0m: name 'all_stacks' is not defined"
     ]
    }
   ],
   "source": [
    "# Going through each brain, prints out brains that do NOT have raw data\n",
    "for stack in all_stacks:\n",
    "    # rawstack_info keys: ['mouse', 'aws_bucket', 'processed_stack']\n",
    "    raw_stack_info = (RawSlices()&dict(mouse=stack)).fetch( as_dict=True )[0]\n",
    "    if raw_stack_info['raw_stack']=='':\n",
    "        print(raw_stack_info['mouse'])\n",
    "        print( '  - Has no raw data on S3' )"
   ]
  },
  {
   "cell_type": "code",
   "execution_count": 19,
   "metadata": {
    "ExecuteTime": {
     "end_time": "2019-02-16T01:55:49.876550Z",
     "start_time": "2019-02-16T01:55:49.617956Z"
    }
   },
   "outputs": [
    {
     "name": "stdout",
     "output_type": "stream",
     "text": [
      "The 100th slice of MD585 with the bucket appended to the front:\n",
      "\n",
      "mousebrainatlas-rawdata://CSHL_data/MD585/MD585-IHC42-2015.08.19-14.26.30_MD585_1_0124_lossless.jp2\n"
     ]
    }
   ],
   "source": [
    "stack = 'MD585'\n",
    "# Load RawStack table (as dict) for a particular stack\n",
    "raw_stack_info = (RawSlices()&dict(mouse=stack)).fetch( as_dict=True )[0]\n",
    "\n",
    "bucket =  raw_stack_info['aws_bucket']\n",
    "filename_list = raw_stack_info['raw_stack'].split('|')\n",
    "\n",
    "print( 'The 100th slice of '+stack+' with the bucket appended to the front:\\n' )\n",
    "fp = bucket + '://' + filename_list[100]\n",
    "print( fp )"
   ]
  },
  {
   "cell_type": "markdown",
   "metadata": {},
   "source": [
    "## Access Processed Data\n",
    "#### - Example accessing MD585 data"
   ]
  },
  {
   "cell_type": "code",
   "execution_count": 20,
   "metadata": {
    "ExecuteTime": {
     "end_time": "2019-02-16T01:55:59.027928Z",
     "start_time": "2019-02-16T01:55:59.017475Z"
    },
    "scrolled": true
   },
   "outputs": [
    {
     "ename": "NameError",
     "evalue": "name 'all_stacks' is not defined",
     "output_type": "error",
     "traceback": [
      "\u001b[0;31m---------------------------------------------------------------------------\u001b[0m",
      "\u001b[0;31mNameError\u001b[0m                                 Traceback (most recent call last)",
      "\u001b[0;32m<ipython-input-20-3e325d9ed588>\u001b[0m in \u001b[0;36m<module>\u001b[0;34m\u001b[0m\n\u001b[1;32m      1\u001b[0m \u001b[0;31m# Going through each brain, prints out brains that do NOT have processed data\u001b[0m\u001b[0;34m\u001b[0m\u001b[0;34m\u001b[0m\u001b[0m\n\u001b[0;32m----> 2\u001b[0;31m \u001b[0;32mfor\u001b[0m \u001b[0mstack\u001b[0m \u001b[0;32min\u001b[0m \u001b[0mall_stacks\u001b[0m\u001b[0;34m:\u001b[0m\u001b[0;34m\u001b[0m\u001b[0m\n\u001b[0m\u001b[1;32m      3\u001b[0m     \u001b[0;31m# rawstack_info keys: ['mouse', 'aws_bucket', 'processed_stack']\u001b[0m\u001b[0;34m\u001b[0m\u001b[0;34m\u001b[0m\u001b[0m\n\u001b[1;32m      4\u001b[0m     \u001b[0mprocessed_stack_info\u001b[0m \u001b[0;34m=\u001b[0m \u001b[0;34m(\u001b[0m\u001b[0mProcessedSlices\u001b[0m\u001b[0;34m(\u001b[0m\u001b[0;34m)\u001b[0m\u001b[0;34m&\u001b[0m\u001b[0mdict\u001b[0m\u001b[0;34m(\u001b[0m\u001b[0mmouse\u001b[0m\u001b[0;34m=\u001b[0m\u001b[0mstack\u001b[0m\u001b[0;34m)\u001b[0m\u001b[0;34m)\u001b[0m\u001b[0;34m.\u001b[0m\u001b[0mfetch\u001b[0m\u001b[0;34m(\u001b[0m \u001b[0mas_dict\u001b[0m\u001b[0;34m=\u001b[0m\u001b[0;32mTrue\u001b[0m \u001b[0;34m)\u001b[0m\u001b[0;34m[\u001b[0m\u001b[0;36m0\u001b[0m\u001b[0;34m]\u001b[0m\u001b[0;34m\u001b[0m\u001b[0m\n\u001b[1;32m      5\u001b[0m     \u001b[0;32mif\u001b[0m \u001b[0mprocessed_stack_info\u001b[0m\u001b[0;34m[\u001b[0m\u001b[0;34m'processed_stack'\u001b[0m\u001b[0;34m]\u001b[0m\u001b[0;34m==\u001b[0m\u001b[0;34m''\u001b[0m\u001b[0;34m:\u001b[0m\u001b[0;34m\u001b[0m\u001b[0m\n",
      "\u001b[0;31mNameError\u001b[0m: name 'all_stacks' is not defined"
     ]
    }
   ],
   "source": [
    "# Going through each brain, prints out brains that do NOT have processed data\n",
    "for stack in all_stacks:\n",
    "    # rawstack_info keys: ['mouse', 'aws_bucket', 'processed_stack']\n",
    "    processed_stack_info = (ProcessedSlices()&dict(mouse=stack)).fetch( as_dict=True )[0]\n",
    "    if processed_stack_info['processed_stack']=='':\n",
    "        print(processed_stack_info['mouse'])\n",
    "        print( '  - Has no processed data on S3' )"
   ]
  },
  {
   "cell_type": "code",
   "execution_count": 8,
   "metadata": {},
   "outputs": [
    {
     "name": "stdout",
     "output_type": "stream",
     "text": [
      "The 100th slice of MD585 with the bucket appended to the front:\n",
      "\n",
      "mousebrainatlas-data/CSHL_data_processed/MD585/MD585_prep2_lossless/MD585-IHC50-2015.07.16-18.02.54_MD585_2_0149_prep2_lossless.tif\n"
     ]
    }
   ],
   "source": [
    "stack = 'MD585'\n",
    "# Load ProcessedStack table (as dict) for a particular stack\n",
    "processed_stack_info = (ProcessedSlices()&dict(mouse=stack)).fetch( as_dict=True )[0]\n",
    "\n",
    "bucket =  processed_stack_info['aws_bucket']\n",
    "filename_list = processed_stack_info['processed_stack'].split('|')\n",
    "\n",
    "print( 'The 100th slice of '+stack+' with the bucket appended to the front:\\n' )\n",
    "fp = bucket + '/' + filename_list[100]\n",
    "print( fp )"
   ]
  },
  {
   "cell_type": "markdown",
   "metadata": {},
   "source": [
    "# Download Images from S3 to Local Computer\n",
    "(Relies on `bucket` and `filename_list` from previous cell)"
   ]
  },
  {
   "cell_type": "code",
   "execution_count": 9,
   "metadata": {
    "collapsed": true
   },
   "outputs": [],
   "source": [
    "from subprocess import call\n",
    "\n",
    "# `fp` includes the S3 bucket as shown belows\n",
    "def download_from_s3(local_root, fp):\n",
    "    s3_url = \"s3://\"+fp\n",
    "    local_fp = local_root+fp\n",
    "    \n",
    "    print('Downloading file to ' + local_fp)\n",
    "\n",
    "    call([\"aws\",\\\n",
    "          \"s3\",\\\n",
    "          \"cp\",\\\n",
    "          s3_url,\\\n",
    "          local_fp])"
   ]
  },
  {
   "cell_type": "code",
   "execution_count": 10,
   "metadata": {},
   "outputs": [
    {
     "name": "stdout",
     "output_type": "stream",
     "text": [
      "Downloading file to /mnt/c/Users/Alex/Documents/mousebrainatlas-data/CSHL_data_processed/MD585/MD585_prep2_lossless/MD585-N22-2015.07.18-07.10.40_MD585_1_0064_prep2_lossless.tif\n",
      "Downloading file to /mnt/c/Users/Alex/Documents/mousebrainatlas-data/CSHL_data_processed/MD585/MD585_prep2_lossless/MD585-N22-2015.07.18-07.10.40_MD585_2_0065_prep2_lossless.tif\n"
     ]
    },
    {
     "name": "stderr",
     "output_type": "stream",
     "text": [
      "\n",
      "KeyboardInterrupt\n",
      "\n"
     ]
    }
   ],
   "source": [
    "stack = 'MD585'\n",
    "# Contains all information on downloading processed files (post-preprocessing images)\n",
    "processed_stack_info = (ProcessedSlices()&dict(mouse=stack)).fetch( as_dict=True )[0]\n",
    "bucket =  processed_stack_info['aws_bucket']\n",
    "filename_list = processed_stack_info['processed_stack'].split('|')\n",
    "num_slices = len(filename_list)\n",
    "\n",
    "# Using `download_from_s3` on my desktop to download first 10 files of MD585\n",
    "#   and then display a downsampled version of it\n",
    "local_root_alex_pc = \"/mnt/c/Users/Alex/Documents/\"\n",
    "\n",
    "# Downloading valid sections 150-151\n",
    "for i in range(150,152):\n",
    "    fp = bucket+'/'+filename_list[i]\n",
    "    download_from_s3( local_root_alex_pc, fp)"
   ]
  },
  {
   "cell_type": "code",
   "execution_count": null,
   "metadata": {
    "collapsed": true
   },
   "outputs": [],
   "source": []
  }
 ],
 "metadata": {
  "hide_input": false,
  "kernelspec": {
   "display_name": "Python 3",
   "language": "python",
   "name": "python3"
  },
  "language_info": {
   "codemirror_mode": {
    "name": "ipython",
    "version": 3
   },
   "file_extension": ".py",
   "mimetype": "text/x-python",
   "name": "python",
   "nbconvert_exporter": "python",
   "pygments_lexer": "ipython3",
   "version": "3.7.0"
  },
  "toc": {
   "base_numbering": 1,
   "nav_menu": {},
   "number_sections": true,
   "sideBar": true,
   "skip_h1_title": false,
   "title_cell": "Table of Contents",
   "title_sidebar": "Contents",
   "toc_cell": false,
   "toc_position": {},
   "toc_section_display": true,
   "toc_window_display": false
  }
 },
 "nbformat": 4,
 "nbformat_minor": 2
}
