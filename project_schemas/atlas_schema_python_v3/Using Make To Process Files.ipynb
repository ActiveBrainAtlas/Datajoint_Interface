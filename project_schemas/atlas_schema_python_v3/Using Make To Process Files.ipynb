{
 "cells": [
  {
   "cell_type": "markdown",
   "metadata": {},
   "source": [
    "## Imports\n",
    "utilities.py contains a number of useful functions including loading credentials from a json file, retrieving files from S3, and defining thecurrent list of brains that are associated with the Active Atlas."
   ]
  },
  {
   "cell_type": "code",
   "execution_count": 45,
   "metadata": {
    "ExecuteTime": {
     "end_time": "2019-02-20T18:56:09.837590Z",
     "start_time": "2019-02-20T18:56:09.832424Z"
    }
   },
   "outputs": [],
   "source": [
    "import datajoint as dj  # automatically loads dj.config from the file `dj_local_conf.json` if it exists\n",
    "import numpy as np\n",
    "import json\n",
    "from subprocess import call\n",
    "import yaml\n",
    "import sys, os\n",
    "import pandas as pd\n",
    "\n",
    "sys.path.append('./lib')\n",
    "from utilities import *\n",
    "from initialization_of_db import *"
   ]
  },
  {
   "cell_type": "markdown",
   "metadata": {},
   "source": [
    "## Load Credentials, Connect to Database\n",
    "User needs to supply credentials to connect to the dj server and to S3.\n",
    "\n",
    "1. The master file is in `setup/credFiles.yaml`. This file contains pointers to the dj and S3 credentials. A typical contant is \n",
    "``` yaml\n",
    "aws_fp: /Users/yoavfreund/VaultBrain/s3-creds.json\n",
    "dj_fp: /Users/yoavfreund/VaultBrain/dj_local_conf.json\n",
    "```\n",
    "\n",
    "2. A redacted content of the json file `aws_fp` is:\n",
    "```json\n",
    "{\"access_key\": \"XXXX\", \n",
    "\"secret_key\": \"SSSSSSS\"}\n",
    "```\n",
    "\n",
    "3. A redacted content of the json file `dj_fp` is \n",
    "```json\n",
    "{\n",
    "    \"database.host\": \"ucsd-demo-db.datajoint.io\",\n",
    "    \"database.password\": \"XXXXXXXXXXX\",\n",
    "    \"database.user\": \"yoav\",\n",
    "    \"database.port\": 3306,\n",
    "    \"database.reconnect\": false,\n",
    "    \"connection.init_function\": null,\n",
    "    \"connection.charset\": \"\",\n",
    "    \"loglevel\": \"INFO\",\n",
    "    \"safemode\": true,\n",
    "    \"display.limit\": 7,\n",
    "    \"display.width\": 14,\n",
    "    \"display.show_tuple_count\": true,\n",
    "    \"history\": [\n",
    "        \"No config file found, using default settings.\",\n",
    "        \"Updated from config file: dj_local_conf.json\"\n",
    "    ]\n",
    "}\n",
    "```"
   ]
  },
  {
   "cell_type": "code",
   "execution_count": 46,
   "metadata": {
    "ExecuteTime": {
     "end_time": "2019-02-20T18:56:11.331511Z",
     "start_time": "2019-02-20T18:56:11.326365Z"
    }
   },
   "outputs": [
    {
     "name": "stdout",
     "output_type": "stream",
     "text": [
      "Overwriting /Users/yoavfreund/VaultBrain/creds.yaml\n"
     ]
    }
   ],
   "source": [
    "%%writefile /Users/yoavfreund/VaultBrain/creds.yaml\n",
    "aws_fp: /Users/yoavfreund/VaultBrain/s3-creds.json\n",
    "dj_fp: /Users/yoavfreund/VaultBrain/dj_local_conf.json\n",
    "    "
   ]
  },
  {
   "cell_type": "code",
   "execution_count": 47,
   "metadata": {
    "ExecuteTime": {
     "end_time": "2019-02-20T18:56:12.621716Z",
     "start_time": "2019-02-20T18:56:12.613435Z"
    }
   },
   "outputs": [],
   "source": [
    "# Load Datajoint Credentials\n",
    "# `dj_creds` needs the following fields: 'user', 'passwd'\n",
    "# Then set necessary fields in dj.config\n",
    "\n",
    "credFiles='/Users/yoavfreund/VaultBrain/credFiles.yaml'\n",
    "# Cannot directly set 'dj.config' equal to the json file as it is a special datajoint object\n",
    "dj.config['database.host'] = get_dj_creds(credFiles)['database.host']\n",
    "dj.config['database.user'] = get_dj_creds(credFiles)['database.user']\n",
    "dj.config['database.port'] = get_dj_creds(credFiles)['database.port']\n",
    "dj.config['database.password'] = get_dj_creds(credFiles)['database.password']\n",
    "\n",
    "# Will save a json file in this directory (ignored by git) with credentials. Won't need to load them again\n",
    "dj.config.save_local()"
   ]
  },
  {
   "cell_type": "code",
   "execution_count": 48,
   "metadata": {
    "ExecuteTime": {
     "end_time": "2019-02-20T18:56:14.915037Z",
     "start_time": "2019-02-20T18:56:13.807560Z"
    }
   },
   "outputs": [
    {
     "data": {
      "text/plain": [
       "DataJoint connection (connected) yoav@ucsd-demo-db.datajoint.io:3306"
      ]
     },
     "execution_count": 48,
     "metadata": {},
     "output_type": "execute_result"
    }
   ],
   "source": [
    "# Connect to datajoint server\n",
    "dj.conn()"
   ]
  },
  {
   "cell_type": "code",
   "execution_count": 49,
   "metadata": {
    "ExecuteTime": {
     "end_time": "2019-02-20T18:56:18.948218Z",
     "start_time": "2019-02-20T18:56:18.845087Z"
    }
   },
   "outputs": [],
   "source": [
    "# Define which schema you're using\n",
    "schema = dj.schema('common_atlas_v3')\n",
    "schema.spawn_missing_classes()\n",
    "\n",
    "#dj.ERD(schema)"
   ]
  },
  {
   "cell_type": "code",
   "execution_count": 50,
   "metadata": {
    "ExecuteTime": {
     "end_time": "2019-02-20T18:56:20.066042Z",
     "start_time": "2019-02-20T18:56:19.909130Z"
    }
   },
   "outputs": [
    {
     "name": "stdout",
     "output_type": "stream",
     "text": [
      "________ Mouse ________\n",
      "mouse                : char(18)                     # Name for lab mouse, max 8 chars\n",
      "---\n",
      "date_of_birth        : date                         # (date) the mouse's date of birth\n",
      "sex                  : enum('M','F')                # (M/F) either 'M' for male, 'F' for female\n",
      "genotype             : enum('C57','U')              # (Lookup) indicating the genotype\n",
      "weight               : double                       # (int) weight of the mouse in grams. -1 if unknown\n",
      "bred                 : varchar(20)                  # (Str) Vendor where the mouse was bred (bred in house,     #purchased by vendor)\n",
      "\n",
      "________ Histology ________\n",
      "-> Mouse\n",
      "---\n",
      "region               : varchar(10)                  # (Str) [UNSURE]\n",
      "thickness            : int                          # (int) thickness of each slice in microns\n",
      "orientation          : enum('sagittal','coronal','horozontal') # (Str) horizontal, sagittal, coronal\n",
      "counter_stain        : varchar(30)                  # (Str) what stain was used on the brain (thionin or NeuroTrace)\n",
      "lab                  : varchar(20)                  # (Str) Which lab did the histology\n",
      "series               : enum('all','every other','unknown') # Every section OR alternate sections\n",
      "\n",
      "________ Stack ________\n",
      "-> Histology\n",
      "---\n",
      "stack_name           : varchar(10)                  # (Str) unique designation for each mouse\n",
      "num_slices           : int                          # (int) total number of histology slices\n",
      "num_valid_slices     : int                          # (int) total number of useable histology slices\n",
      "channels             : int                          # (int) number of channels for each slice\n",
      "human_annotated      : tinyint                      # (bool) does this stack have human annotations\n",
      "planar_resolution_um : double                       # (double) 0.325 for AxioScanner, 0.46 from CSHL\n",
      "section_thickness_um : double                       # (double) typically 20um\n",
      "UNIQUE INDEX (stack_name)\n",
      "\n",
      "________ Slice ________\n",
      "-> Stack\n",
      "slice_num            : int                          # (int) the unique index of the brain slice. Thickness found in Histology table\n",
      "---\n",
      "slice_name           : varchar(100)                 # (str) the name of the slice. Naming scheme may vary from lab to lab\n",
      "valid                : tinyint                      # (bool) if false, the slice does not exist\n",
      "raw_s3_fp            : varchar(200)                 # (str)\n",
      "processed_s3_fp      : varchar(200)                 # (str)\n",
      "\n"
     ]
    }
   ],
   "source": [
    "print('________ Mouse ________')\n",
    "Mouse.describe()\n",
    "print('________ Histology ________')\n",
    "Histology.describe()\n",
    "print('________ Stack ________')\n",
    "Stack.describe()\n",
    "print('________ Slice ________')\n",
    "Slice.describe();"
   ]
  },
  {
   "cell_type": "markdown",
   "metadata": {},
   "source": [
    "## extracting rows as pandas dataframe"
   ]
  },
  {
   "cell_type": "code",
   "execution_count": 51,
   "metadata": {
    "ExecuteTime": {
     "end_time": "2019-02-20T18:56:23.697523Z",
     "start_time": "2019-02-20T18:56:23.637101Z"
    },
    "scrolled": false
   },
   "outputs": [
    {
     "data": {
      "text/html": [
       "<div>\n",
       "<style scoped>\n",
       "    .dataframe tbody tr th:only-of-type {\n",
       "        vertical-align: middle;\n",
       "    }\n",
       "\n",
       "    .dataframe tbody tr th {\n",
       "        vertical-align: top;\n",
       "    }\n",
       "\n",
       "    .dataframe thead th {\n",
       "        text-align: right;\n",
       "    }\n",
       "</style>\n",
       "<table border=\"1\" class=\"dataframe\">\n",
       "  <thead>\n",
       "    <tr style=\"text-align: right;\">\n",
       "      <th></th>\n",
       "      <th>mouse</th>\n",
       "      <th>stack_name</th>\n",
       "      <th>num_slices</th>\n",
       "      <th>num_valid_slices</th>\n",
       "      <th>channels</th>\n",
       "      <th>human_annotated</th>\n",
       "      <th>planar_resolution_um</th>\n",
       "      <th>section_thickness_um</th>\n",
       "    </tr>\n",
       "  </thead>\n",
       "  <tbody>\n",
       "    <tr>\n",
       "      <th>0</th>\n",
       "      <td>CHATM2</td>\n",
       "      <td>CHATM2</td>\n",
       "      <td>328</td>\n",
       "      <td>235</td>\n",
       "      <td>2</td>\n",
       "      <td>0</td>\n",
       "      <td>0.46</td>\n",
       "      <td>20.0</td>\n",
       "    </tr>\n",
       "    <tr>\n",
       "      <th>1</th>\n",
       "      <td>CHATM3</td>\n",
       "      <td>CHATM3</td>\n",
       "      <td>413</td>\n",
       "      <td>293</td>\n",
       "      <td>2</td>\n",
       "      <td>0</td>\n",
       "      <td>0.46</td>\n",
       "      <td>20.0</td>\n",
       "    </tr>\n",
       "    <tr>\n",
       "      <th>2</th>\n",
       "      <td>CSHL2</td>\n",
       "      <td>CSHL2</td>\n",
       "      <td>-1</td>\n",
       "      <td>-1</td>\n",
       "      <td>1</td>\n",
       "      <td>0</td>\n",
       "      <td>0.46</td>\n",
       "      <td>20.0</td>\n",
       "    </tr>\n",
       "    <tr>\n",
       "      <th>3</th>\n",
       "      <td>MD175</td>\n",
       "      <td>MD175</td>\n",
       "      <td>-1</td>\n",
       "      <td>-1</td>\n",
       "      <td>1</td>\n",
       "      <td>0</td>\n",
       "      <td>0.46</td>\n",
       "      <td>20.0</td>\n",
       "    </tr>\n",
       "    <tr>\n",
       "      <th>4</th>\n",
       "      <td>MD585</td>\n",
       "      <td>MD585</td>\n",
       "      <td>447</td>\n",
       "      <td>439</td>\n",
       "      <td>1</td>\n",
       "      <td>1</td>\n",
       "      <td>0.46</td>\n",
       "      <td>20.0</td>\n",
       "    </tr>\n",
       "  </tbody>\n",
       "</table>\n",
       "</div>"
      ],
      "text/plain": [
       "    mouse stack_name  num_slices  num_valid_slices  channels  human_annotated  \\\n",
       "0  CHATM2     CHATM2         328               235         2                0   \n",
       "1  CHATM3     CHATM3         413               293         2                0   \n",
       "2   CSHL2      CSHL2          -1                -1         1                0   \n",
       "3   MD175      MD175          -1                -1         1                0   \n",
       "4   MD585      MD585         447               439         1                1   \n",
       "\n",
       "   planar_resolution_um  section_thickness_um  \n",
       "0                  0.46                  20.0  \n",
       "1                  0.46                  20.0  \n",
       "2                  0.46                  20.0  \n",
       "3                  0.46                  20.0  \n",
       "4                  0.46                  20.0  "
      ]
     },
     "execution_count": 51,
     "metadata": {},
     "output_type": "execute_result"
    }
   ],
   "source": [
    "brainStackTable = Stack.fetch(as_dict=True)\n",
    "brainStackDF = pd.DataFrame(brainStackTable)\n",
    "brainStackDF.head()"
   ]
  },
  {
   "cell_type": "code",
   "execution_count": 52,
   "metadata": {
    "ExecuteTime": {
     "end_time": "2019-02-20T18:56:25.333040Z",
     "start_time": "2019-02-20T18:56:25.269260Z"
    }
   },
   "outputs": [
    {
     "name": "stdout",
     "output_type": "stream",
     "text": [
      "(27, 7)\n"
     ]
    },
    {
     "data": {
      "text/html": [
       "<div>\n",
       "<style scoped>\n",
       "    .dataframe tbody tr th:only-of-type {\n",
       "        vertical-align: middle;\n",
       "    }\n",
       "\n",
       "    .dataframe tbody tr th {\n",
       "        vertical-align: top;\n",
       "    }\n",
       "\n",
       "    .dataframe thead th {\n",
       "        text-align: right;\n",
       "    }\n",
       "</style>\n",
       "<table border=\"1\" class=\"dataframe\">\n",
       "  <thead>\n",
       "    <tr style=\"text-align: right;\">\n",
       "      <th></th>\n",
       "      <th>mouse</th>\n",
       "      <th>region</th>\n",
       "      <th>thickness</th>\n",
       "      <th>orientation</th>\n",
       "      <th>counter_stain</th>\n",
       "      <th>lab</th>\n",
       "      <th>series</th>\n",
       "    </tr>\n",
       "  </thead>\n",
       "  <tbody>\n",
       "    <tr>\n",
       "      <th>0</th>\n",
       "      <td>CHATM2</td>\n",
       "      <td>Unknown</td>\n",
       "      <td>20</td>\n",
       "      <td>sagittal</td>\n",
       "      <td>NTB/ChAT</td>\n",
       "      <td>UCSD</td>\n",
       "      <td>unknown</td>\n",
       "    </tr>\n",
       "    <tr>\n",
       "      <th>1</th>\n",
       "      <td>CHATM3</td>\n",
       "      <td>Unknown</td>\n",
       "      <td>20</td>\n",
       "      <td>sagittal</td>\n",
       "      <td>NTB/ChAT</td>\n",
       "      <td>UCSD</td>\n",
       "      <td>unknown</td>\n",
       "    </tr>\n",
       "    <tr>\n",
       "      <th>2</th>\n",
       "      <td>CSHL2</td>\n",
       "      <td>Unknown</td>\n",
       "      <td>20</td>\n",
       "      <td>sagittal</td>\n",
       "      <td>?</td>\n",
       "      <td>UCSD</td>\n",
       "      <td>unknown</td>\n",
       "    </tr>\n",
       "    <tr>\n",
       "      <th>3</th>\n",
       "      <td>MD175</td>\n",
       "      <td>Unknown</td>\n",
       "      <td>20</td>\n",
       "      <td>coronal</td>\n",
       "      <td>thionin</td>\n",
       "      <td>CSHL</td>\n",
       "      <td>unknown</td>\n",
       "    </tr>\n",
       "    <tr>\n",
       "      <th>4</th>\n",
       "      <td>MD585</td>\n",
       "      <td>Unknown</td>\n",
       "      <td>20</td>\n",
       "      <td>sagittal</td>\n",
       "      <td>thionin</td>\n",
       "      <td>CSHL</td>\n",
       "      <td>unknown</td>\n",
       "    </tr>\n",
       "  </tbody>\n",
       "</table>\n",
       "</div>"
      ],
      "text/plain": [
       "    mouse   region  thickness orientation counter_stain   lab   series\n",
       "0  CHATM2  Unknown         20    sagittal      NTB/ChAT  UCSD  unknown\n",
       "1  CHATM3  Unknown         20    sagittal      NTB/ChAT  UCSD  unknown\n",
       "2   CSHL2  Unknown         20    sagittal             ?  UCSD  unknown\n",
       "3   MD175  Unknown         20     coronal       thionin  CSHL  unknown\n",
       "4   MD585  Unknown         20    sagittal       thionin  CSHL  unknown"
      ]
     },
     "execution_count": 52,
     "metadata": {},
     "output_type": "execute_result"
    }
   ],
   "source": [
    "HistologyTable = Histology.fetch( as_dict=True )\n",
    "HistologyDF=pd.DataFrame.from_dict(HistologyTable)\n",
    "print(HistologyDF.shape)\n",
    "HistologyDF.head()"
   ]
  },
  {
   "cell_type": "markdown",
   "metadata": {},
   "source": [
    "## List relevant info for given stack\n",
    "#### - Example displaying MD585 sections\n"
   ]
  },
  {
   "cell_type": "code",
   "execution_count": 53,
   "metadata": {
    "ExecuteTime": {
     "end_time": "2019-02-20T18:56:33.776511Z",
     "start_time": "2019-02-20T18:56:33.765785Z"
    }
   },
   "outputs": [
    {
     "data": {
      "text/html": [
       "<div>\n",
       "<style scoped>\n",
       "    .dataframe tbody tr th:only-of-type {\n",
       "        vertical-align: middle;\n",
       "    }\n",
       "\n",
       "    .dataframe tbody tr th {\n",
       "        vertical-align: top;\n",
       "    }\n",
       "\n",
       "    .dataframe thead th {\n",
       "        text-align: right;\n",
       "    }\n",
       "</style>\n",
       "<table border=\"1\" class=\"dataframe\">\n",
       "  <thead>\n",
       "    <tr style=\"text-align: right;\">\n",
       "      <th></th>\n",
       "      <th>mouse</th>\n",
       "      <th>stack_name</th>\n",
       "      <th>num_slices</th>\n",
       "      <th>channels</th>\n",
       "    </tr>\n",
       "  </thead>\n",
       "  <tbody>\n",
       "    <tr>\n",
       "      <th>4</th>\n",
       "      <td>MD585</td>\n",
       "      <td>MD585</td>\n",
       "      <td>447</td>\n",
       "      <td>1</td>\n",
       "    </tr>\n",
       "  </tbody>\n",
       "</table>\n",
       "</div>"
      ],
      "text/plain": [
       "   mouse stack_name  num_slices  channels\n",
       "4  MD585      MD585         447         1"
      ]
     },
     "execution_count": 53,
     "metadata": {},
     "output_type": "execute_result"
    }
   ],
   "source": [
    "stack = 'MD585'\n",
    "ThisBrain=brainStackDF[brainStackDF['mouse']==stack]\n",
    "ThisBrain[['mouse','stack_name','num_slices','channels']]"
   ]
  },
  {
   "cell_type": "code",
   "execution_count": 54,
   "metadata": {
    "ExecuteTime": {
     "end_time": "2019-02-20T18:56:35.253992Z",
     "start_time": "2019-02-20T18:56:35.244155Z"
    },
    "scrolled": true
   },
   "outputs": [
    {
     "data": {
      "text/html": [
       "<div>\n",
       "<style scoped>\n",
       "    .dataframe tbody tr th:only-of-type {\n",
       "        vertical-align: middle;\n",
       "    }\n",
       "\n",
       "    .dataframe tbody tr th {\n",
       "        vertical-align: top;\n",
       "    }\n",
       "\n",
       "    .dataframe thead th {\n",
       "        text-align: right;\n",
       "    }\n",
       "</style>\n",
       "<table border=\"1\" class=\"dataframe\">\n",
       "  <thead>\n",
       "    <tr style=\"text-align: right;\">\n",
       "      <th></th>\n",
       "      <th>mouse</th>\n",
       "      <th>region</th>\n",
       "      <th>thickness</th>\n",
       "      <th>orientation</th>\n",
       "      <th>counter_stain</th>\n",
       "      <th>lab</th>\n",
       "      <th>series</th>\n",
       "    </tr>\n",
       "  </thead>\n",
       "  <tbody>\n",
       "    <tr>\n",
       "      <th>4</th>\n",
       "      <td>MD585</td>\n",
       "      <td>Unknown</td>\n",
       "      <td>20</td>\n",
       "      <td>sagittal</td>\n",
       "      <td>thionin</td>\n",
       "      <td>CSHL</td>\n",
       "      <td>unknown</td>\n",
       "    </tr>\n",
       "  </tbody>\n",
       "</table>\n",
       "</div>"
      ],
      "text/plain": [
       "   mouse   region  thickness orientation counter_stain   lab   series\n",
       "4  MD585  Unknown         20    sagittal       thionin  CSHL  unknown"
      ]
     },
     "execution_count": 54,
     "metadata": {},
     "output_type": "execute_result"
    }
   ],
   "source": [
    "ThisHistology=HistologyDF[HistologyDF['mouse']==stack]\n",
    "ThisHistology"
   ]
  },
  {
   "cell_type": "markdown",
   "metadata": {},
   "source": [
    "### Define a computed table\n",
    "\n",
    "With an entry for each slice."
   ]
  },
  {
   "cell_type": "code",
   "execution_count": 55,
   "metadata": {
    "ExecuteTime": {
     "end_time": "2019-02-20T18:56:46.108153Z",
     "start_time": "2019-02-20T18:56:46.092029Z"
    }
   },
   "outputs": [],
   "source": [
    "@schema\n",
    "class Process(dj.Computed):\n",
    "    definition=\"\"\"\n",
    "    -> Slice\n",
    "    ---\n",
    "    size:int #size of raw file\n",
    "    \"\"\"\n",
    "    def _make_tuples(self,key):\n",
    "        print('populating for',key)\n",
    "        raw_s3_fp = (Slice & key).fetch1('raw_s3_fp')\n",
    "        print('raw_s3_fp=',raw_s3_fp)\n",
    "        key['size']=len(raw_s3_fp)"
   ]
  },
  {
   "cell_type": "code",
   "execution_count": null,
   "metadata": {
    "ExecuteTime": {
     "end_time": "2019-02-20T18:40:32.881498Z",
     "start_time": "2019-02-20T18:35:46.598992Z"
    },
    "scrolled": true
   },
   "outputs": [],
   "source": [
    "sizes=Process()\n",
    "sizes.populate()\n",
    "sizes\n"
   ]
  },
  {
   "cell_type": "code",
   "execution_count": 30,
   "metadata": {
    "ExecuteTime": {
     "end_time": "2019-02-20T18:42:15.418803Z",
     "start_time": "2019-02-20T18:42:15.390171Z"
    }
   },
   "outputs": [
    {
     "ename": "DataJointError",
     "evalue": "The table `common_atlas_v3`.`__process` is not defined.",
     "output_type": "error",
     "traceback": [
      "\u001b[0;31m---------------------------------------------------------------------------\u001b[0m",
      "\u001b[0;31mDataJointError\u001b[0m                            Traceback (most recent call last)",
      "\u001b[0;32m<ipython-input-30-28c095cc3ac4>\u001b[0m in \u001b[0;36m<module>\u001b[0;34m\u001b[0m\n\u001b[0;32m----> 1\u001b[0;31m \u001b[0mdump\u001b[0m\u001b[0;34m=\u001b[0m\u001b[0;34m(\u001b[0m\u001b[0mProcess\u001b[0m\u001b[0;34m.\u001b[0m\u001b[0mfetch\u001b[0m\u001b[0;34m(\u001b[0m \u001b[0mas_dict\u001b[0m\u001b[0;34m=\u001b[0m\u001b[0;32mTrue\u001b[0m \u001b[0;34m)\u001b[0m\u001b[0;34m)\u001b[0m\u001b[0;34m\u001b[0m\u001b[0m\n\u001b[0m",
      "\u001b[0;32m/Library/Frameworks/Python.framework/Versions/3.7/lib/python3.7/site-packages/datajoint/fetch.py\u001b[0m in \u001b[0;36m__call__\u001b[0;34m(self, offset, limit, order_by, as_dict, squeeze, *attrs)\u001b[0m\n\u001b[1;32m     58\u001b[0m             \u001b[0;31m# fetch all attributes\u001b[0m\u001b[0;34m\u001b[0m\u001b[0;34m\u001b[0m\u001b[0m\n\u001b[1;32m     59\u001b[0m             \u001b[0mcur\u001b[0m \u001b[0;34m=\u001b[0m \u001b[0mself\u001b[0m\u001b[0;34m.\u001b[0m\u001b[0m_relation\u001b[0m\u001b[0;34m.\u001b[0m\u001b[0mcursor\u001b[0m\u001b[0;34m(\u001b[0m\u001b[0mas_dict\u001b[0m\u001b[0;34m=\u001b[0m\u001b[0mas_dict\u001b[0m\u001b[0;34m,\u001b[0m \u001b[0mlimit\u001b[0m\u001b[0;34m=\u001b[0m\u001b[0mlimit\u001b[0m\u001b[0;34m,\u001b[0m \u001b[0moffset\u001b[0m\u001b[0;34m=\u001b[0m\u001b[0moffset\u001b[0m\u001b[0;34m,\u001b[0m \u001b[0morder_by\u001b[0m\u001b[0;34m=\u001b[0m\u001b[0morder_by\u001b[0m\u001b[0;34m)\u001b[0m\u001b[0;34m\u001b[0m\u001b[0m\n\u001b[0;32m---> 60\u001b[0;31m             \u001b[0mheading\u001b[0m \u001b[0;34m=\u001b[0m \u001b[0mself\u001b[0m\u001b[0;34m.\u001b[0m\u001b[0m_relation\u001b[0m\u001b[0;34m.\u001b[0m\u001b[0mheading\u001b[0m\u001b[0;34m\u001b[0m\u001b[0m\n\u001b[0m\u001b[1;32m     61\u001b[0m             \u001b[0;32mif\u001b[0m \u001b[0mas_dict\u001b[0m\u001b[0;34m:\u001b[0m\u001b[0;34m\u001b[0m\u001b[0m\n\u001b[1;32m     62\u001b[0m                 ret = [OrderedDict((name, unpack(d[name], squeeze=squeeze) if heading[name].is_blob else d[name])\n",
      "\u001b[0;32m/Library/Frameworks/Python.framework/Versions/3.7/lib/python3.7/site-packages/datajoint/table.py\u001b[0m in \u001b[0;36mheading\u001b[0;34m(self)\u001b[0m\n\u001b[1;32m     53\u001b[0m                     'Missing schema decorator on the class? (e.g. @schema)')\n\u001b[1;32m     54\u001b[0m             \u001b[0;32melse\u001b[0m\u001b[0;34m:\u001b[0m\u001b[0;34m\u001b[0m\u001b[0m\n\u001b[0;32m---> 55\u001b[0;31m                 \u001b[0mself\u001b[0m\u001b[0;34m.\u001b[0m\u001b[0m_heading\u001b[0m\u001b[0;34m.\u001b[0m\u001b[0minit_from_database\u001b[0m\u001b[0;34m(\u001b[0m\u001b[0mself\u001b[0m\u001b[0;34m.\u001b[0m\u001b[0mconnection\u001b[0m\u001b[0;34m,\u001b[0m \u001b[0mself\u001b[0m\u001b[0;34m.\u001b[0m\u001b[0mdatabase\u001b[0m\u001b[0;34m,\u001b[0m \u001b[0mself\u001b[0m\u001b[0;34m.\u001b[0m\u001b[0mtable_name\u001b[0m\u001b[0;34m)\u001b[0m\u001b[0;34m\u001b[0m\u001b[0m\n\u001b[0m\u001b[1;32m     56\u001b[0m         \u001b[0;32mreturn\u001b[0m \u001b[0mself\u001b[0m\u001b[0;34m.\u001b[0m\u001b[0m_heading\u001b[0m\u001b[0;34m\u001b[0m\u001b[0m\n\u001b[1;32m     57\u001b[0m \u001b[0;34m\u001b[0m\u001b[0m\n",
      "\u001b[0;32m/Library/Frameworks/Python.framework/Versions/3.7/lib/python3.7/site-packages/datajoint/heading.py\u001b[0m in \u001b[0;36minit_from_database\u001b[0;34m(self, conn, database, table_name)\u001b[0m\n\u001b[1;32m    141\u001b[0m             \u001b[0;32melse\u001b[0m\u001b[0;34m:\u001b[0m\u001b[0;34m\u001b[0m\u001b[0m\n\u001b[1;32m    142\u001b[0m                 raise DataJointError('The table `{database}`.`{table_name}` is not defined.'.format(\n\u001b[0;32m--> 143\u001b[0;31m                     table_name=table_name, database=database))\n\u001b[0m\u001b[1;32m    144\u001b[0m         \u001b[0mself\u001b[0m\u001b[0;34m.\u001b[0m\u001b[0mtable_info\u001b[0m \u001b[0;34m=\u001b[0m \u001b[0;34m{\u001b[0m\u001b[0mk\u001b[0m\u001b[0;34m.\u001b[0m\u001b[0mlower\u001b[0m\u001b[0;34m(\u001b[0m\u001b[0;34m)\u001b[0m\u001b[0;34m:\u001b[0m \u001b[0mv\u001b[0m \u001b[0;32mfor\u001b[0m \u001b[0mk\u001b[0m\u001b[0;34m,\u001b[0m \u001b[0mv\u001b[0m \u001b[0;32min\u001b[0m \u001b[0minfo\u001b[0m\u001b[0;34m.\u001b[0m\u001b[0mitems\u001b[0m\u001b[0;34m(\u001b[0m\u001b[0;34m)\u001b[0m\u001b[0;34m}\u001b[0m\u001b[0;34m\u001b[0m\u001b[0m\n\u001b[1;32m    145\u001b[0m \u001b[0;34m\u001b[0m\u001b[0m\n",
      "\u001b[0;31mDataJointError\u001b[0m: The table `common_atlas_v3`.`__process` is not defined."
     ]
    }
   ],
   "source": [
    "dump=(Process.fetch( as_dict=True ))"
   ]
  },
  {
   "cell_type": "markdown",
   "metadata": {},
   "source": [
    "## Access Raw & Processed Data\n",
    "#### - Example accessing MD585 data"
   ]
  },
  {
   "cell_type": "code",
   "execution_count": 56,
   "metadata": {
    "ExecuteTime": {
     "end_time": "2019-02-20T18:58:34.410357Z",
     "start_time": "2019-02-20T18:58:34.049009Z"
    },
    "scrolled": true
   },
   "outputs": [
    {
     "name": "stdout",
     "output_type": "stream",
     "text": [
      "all valid= (9830, 6)\n",
      "valid and raw_s3_fp defined (9251, 6)\n",
      "valid and raw and processed defined (5419, 6)\n"
     ]
    },
    {
     "data": {
      "text/html": [
       "<div>\n",
       "<style scoped>\n",
       "    .dataframe tbody tr th:only-of-type {\n",
       "        vertical-align: middle;\n",
       "    }\n",
       "\n",
       "    .dataframe tbody tr th {\n",
       "        vertical-align: top;\n",
       "    }\n",
       "\n",
       "    .dataframe thead th {\n",
       "        text-align: right;\n",
       "    }\n",
       "</style>\n",
       "<table border=\"1\" class=\"dataframe\">\n",
       "  <thead>\n",
       "    <tr style=\"text-align: right;\">\n",
       "      <th></th>\n",
       "      <th>mouse</th>\n",
       "      <th>slice_num</th>\n",
       "      <th>slice_name</th>\n",
       "      <th>valid</th>\n",
       "      <th>raw_s3_fp</th>\n",
       "      <th>processed_s3_fp</th>\n",
       "    </tr>\n",
       "  </thead>\n",
       "  <tbody>\n",
       "    <tr>\n",
       "      <th>606</th>\n",
       "      <td>MD585</td>\n",
       "      <td>83</td>\n",
       "      <td>MD585-N16-2015.07.16-20.32.33_MD585_2_0047</td>\n",
       "      <td>1</td>\n",
       "      <td>CSHL_data/MD585/MD585-N16-2015.07.16-20.32.33_...</td>\n",
       "      <td>CSHL_data_processed/MD585/MD585_prep2_lossless...</td>\n",
       "    </tr>\n",
       "    <tr>\n",
       "      <th>607</th>\n",
       "      <td>MD585</td>\n",
       "      <td>84</td>\n",
       "      <td>MD585-IHC16-2015.08.19-13.14.51_MD585_3_0048</td>\n",
       "      <td>1</td>\n",
       "      <td>CSHL_data/MD585/MD585-IHC16-2015.08.19-13.14.5...</td>\n",
       "      <td>CSHL_data_processed/MD585/MD585_prep2_lossless...</td>\n",
       "    </tr>\n",
       "    <tr>\n",
       "      <th>608</th>\n",
       "      <td>MD585</td>\n",
       "      <td>85</td>\n",
       "      <td>MD585-N17-2015.07.16-20.35.23_MD585_1_0049</td>\n",
       "      <td>1</td>\n",
       "      <td>CSHL_data/MD585/MD585-N17-2015.07.16-20.35.23_...</td>\n",
       "      <td>CSHL_data_processed/MD585/MD585_prep2_lossless...</td>\n",
       "    </tr>\n",
       "    <tr>\n",
       "      <th>609</th>\n",
       "      <td>MD585</td>\n",
       "      <td>86</td>\n",
       "      <td>MD585-IHC17-2015.07.16-15.32.03_MD585_1_0049</td>\n",
       "      <td>1</td>\n",
       "      <td>CSHL_data/MD585/MD585-IHC17-2015.07.16-15.32.0...</td>\n",
       "      <td>CSHL_data_processed/MD585/MD585_prep2_lossless...</td>\n",
       "    </tr>\n",
       "    <tr>\n",
       "      <th>610</th>\n",
       "      <td>MD585</td>\n",
       "      <td>87</td>\n",
       "      <td>MD585-N17-2015.07.16-20.35.23_MD585_2_0050</td>\n",
       "      <td>1</td>\n",
       "      <td>CSHL_data/MD585/MD585-N17-2015.07.16-20.35.23_...</td>\n",
       "      <td>CSHL_data_processed/MD585/MD585_prep2_lossless...</td>\n",
       "    </tr>\n",
       "  </tbody>\n",
       "</table>\n",
       "</div>"
      ],
      "text/plain": [
       "     mouse  slice_num                                    slice_name  valid  \\\n",
       "606  MD585         83    MD585-N16-2015.07.16-20.32.33_MD585_2_0047      1   \n",
       "607  MD585         84  MD585-IHC16-2015.08.19-13.14.51_MD585_3_0048      1   \n",
       "608  MD585         85    MD585-N17-2015.07.16-20.35.23_MD585_1_0049      1   \n",
       "609  MD585         86  MD585-IHC17-2015.07.16-15.32.03_MD585_1_0049      1   \n",
       "610  MD585         87    MD585-N17-2015.07.16-20.35.23_MD585_2_0050      1   \n",
       "\n",
       "                                             raw_s3_fp  \\\n",
       "606  CSHL_data/MD585/MD585-N16-2015.07.16-20.32.33_...   \n",
       "607  CSHL_data/MD585/MD585-IHC16-2015.08.19-13.14.5...   \n",
       "608  CSHL_data/MD585/MD585-N17-2015.07.16-20.35.23_...   \n",
       "609  CSHL_data/MD585/MD585-IHC17-2015.07.16-15.32.0...   \n",
       "610  CSHL_data/MD585/MD585-N17-2015.07.16-20.35.23_...   \n",
       "\n",
       "                                       processed_s3_fp  \n",
       "606  CSHL_data_processed/MD585/MD585_prep2_lossless...  \n",
       "607  CSHL_data_processed/MD585/MD585_prep2_lossless...  \n",
       "608  CSHL_data_processed/MD585/MD585_prep2_lossless...  \n",
       "609  CSHL_data_processed/MD585/MD585_prep2_lossless...  \n",
       "610  CSHL_data_processed/MD585/MD585_prep2_lossless...  "
      ]
     },
     "execution_count": 56,
     "metadata": {},
     "output_type": "execute_result"
    }
   ],
   "source": [
    "# Gives a List of Dictionaries. Each element in the list is a new slice.\n",
    "#These_slices = (Slice&dict(mouse=stack,valid=1)).fetch( as_dict=True )\n",
    "These_slices = (Slice&dict(valid=1)).fetch( as_dict=True )\n",
    "SlicesDF=pd.DataFrame.from_dict(These_slices)\n",
    "#SlicesDF=SlicesDF.set_index('slice_num')\n",
    "print('all valid=',SlicesDF.shape)\n",
    "with_raw = SlicesDF[SlicesDF['raw_s3_fp']!='']\n",
    "with_raw_and_processed = with_raw[with_raw['processed_s3_fp']!='']\n",
    "print('valid and raw_s3_fp defined',with_raw.shape)\n",
    "print('valid and raw and processed defined',with_raw_and_processed.shape)\n",
    "with_raw_and_processed.head()"
   ]
  },
  {
   "cell_type": "markdown",
   "metadata": {},
   "source": [
    "* 9830 slices are valid\n"
   ]
  },
  {
   "cell_type": "code",
   "execution_count": 57,
   "metadata": {
    "ExecuteTime": {
     "end_time": "2019-02-20T18:58:37.038335Z",
     "start_time": "2019-02-20T18:58:37.031296Z"
    }
   },
   "outputs": [
    {
     "data": {
      "text/plain": [
       "mouse                                    CHATM2\n",
       "slice_num                                   259\n",
       "slice_name         CHATM2_slide86_2018_02_13-S2\n",
       "valid                                         1\n",
       "raw_s3_fp                                      \n",
       "processed_s3_fp                                \n",
       "Name: 200, dtype: object"
      ]
     },
     "execution_count": 57,
     "metadata": {},
     "output_type": "execute_result"
    }
   ],
   "source": [
    "slice_index = 200\n",
    "SliceInfo=SlicesDF.loc[slice_index,:]\n",
    "SliceInfo"
   ]
  },
  {
   "cell_type": "markdown",
   "metadata": {},
   "source": [
    "# Download Images from S3 to Local Computer\n",
    "(Relies on `bucket` and `filename_list` from previous cell)"
   ]
  },
  {
   "cell_type": "code",
   "execution_count": 58,
   "metadata": {
    "ExecuteTime": {
     "end_time": "2019-02-20T18:58:41.342035Z",
     "start_time": "2019-02-20T18:58:41.336895Z"
    }
   },
   "outputs": [],
   "source": [
    "from subprocess import call\n",
    "\n",
    "# S3 bucket must be appended to the s3_fp\n",
    "def download_from_s3(s3_fp, local_root=os.environ['DWNLD_ROOT_DIR'], raw=False):\n",
    "    if raw:\n",
    "        s3_url = \"s3://\"+os.environ['BUCKET_RAWDATA']+\"/\" + s3_fp\n",
    "    else:\n",
    "        s3_url = \"s3://\"+os.environ['BUCKET_DATA']+\"/\" + s3_fp\n",
    "    local_download_fp = local_root + s3_fp\n",
    "    \n",
    "    print(\"aws \"+\"s3 \"+\"cp \"+s3_url+' '+local_download_fp)\n",
    "\n",
    "    call([\"aws\",\\\n",
    "          \"s3\",\\\n",
    "          \"cp\",\\\n",
    "          s3_url,\\\n",
    "          local_download_fp])\n"
   ]
  },
  {
   "cell_type": "code",
   "execution_count": 27,
   "metadata": {
    "ExecuteTime": {
     "end_time": "2019-02-17T22:52:29.742461Z",
     "start_time": "2019-02-17T22:51:31.011044Z"
    }
   },
   "outputs": [
    {
     "name": "stdout",
     "output_type": "stream",
     "text": [
      "aws s3 cp s3://mousebrainatlas-data/CSHL_data_processed/MD585/MD585_prep2_lossless/MD585-IHC36-2015.08.19-13.58.57_MD585_1_0106_prep2_lossless.tif /Users/yoavfreund/projects/shapeology/data/CSHL_data_processed/MD585/MD585_prep2_lossless/MD585-IHC36-2015.08.19-13.58.57_MD585_1_0106_prep2_lossless.tif\n"
     ]
    }
   ],
   "source": [
    "# DOWNLOAD PROCESSED FILE\n",
    "s3_fp=SlicesDF.loc[200,'processed_s3_fp']\n",
    "print('downloading',s3_fp)\n",
    "# Downloads to `DWNLD_ROOT_DIR` set in setup/config.sh by default\n",
    "download_from_s3( s3_fp, raw=False)"
   ]
  },
  {
   "cell_type": "code",
   "execution_count": 60,
   "metadata": {
    "ExecuteTime": {
     "end_time": "2019-02-20T18:59:14.852129Z",
     "start_time": "2019-02-20T18:59:14.848790Z"
    }
   },
   "outputs": [
    {
     "name": "stdout",
     "output_type": "stream",
     "text": [
      "downloading CSHL_data/MD589/MD589-IHC6-2015.07.30-21.43.32_MD589_2_0017_lossless.jp2\n"
     ]
    }
   ],
   "source": [
    "# DOWNLOAD RAW FILE\n",
    "s3_fp=SlicesDF.loc[1000,'raw_s3_fp']\n",
    "print('downloading',s3_fp)\n",
    "\n",
    "#download_from_s3( s3_fp, raw=True)"
   ]
  },
  {
   "cell_type": "code",
   "execution_count": 62,
   "metadata": {
    "ExecuteTime": {
     "end_time": "2019-02-20T18:59:29.682322Z",
     "start_time": "2019-02-20T18:59:29.678037Z"
    }
   },
   "outputs": [],
   "source": [
    "client=get_s3_client(credFiles)"
   ]
  },
  {
   "cell_type": "code",
   "execution_count": 63,
   "metadata": {
    "ExecuteTime": {
     "end_time": "2019-02-20T18:59:30.727725Z",
     "start_time": "2019-02-20T18:59:30.717374Z"
    }
   },
   "outputs": [
    {
     "ename": "TypeError",
     "evalue": "stat_object() missing 1 required positional argument: 'object_name'",
     "output_type": "error",
     "traceback": [
      "\u001b[0;31m---------------------------------------------------------------------------\u001b[0m",
      "\u001b[0;31mTypeError\u001b[0m                                 Traceback (most recent call last)",
      "\u001b[0;32m<ipython-input-63-57f2ecc89589>\u001b[0m in \u001b[0;36m<module>\u001b[0;34m\u001b[0m\n\u001b[0;32m----> 1\u001b[0;31m \u001b[0mclient\u001b[0m\u001b[0;34m.\u001b[0m\u001b[0mstat_object\u001b[0m\u001b[0;34m(\u001b[0m\u001b[0ms3_fp\u001b[0m\u001b[0;34m)\u001b[0m\u001b[0;34m\u001b[0m\u001b[0m\n\u001b[0m",
      "\u001b[0;31mTypeError\u001b[0m: stat_object() missing 1 required positional argument: 'object_name'"
     ]
    }
   ],
   "source": [
    "client.stat_object(s3_fp)"
   ]
  },
  {
   "cell_type": "code",
   "execution_count": null,
   "metadata": {},
   "outputs": [],
   "source": []
  }
 ],
 "metadata": {
  "hide_input": false,
  "kernelspec": {
   "display_name": "Python 3",
   "language": "python",
   "name": "python3"
  },
  "language_info": {
   "codemirror_mode": {
    "name": "ipython",
    "version": 3
   },
   "file_extension": ".py",
   "mimetype": "text/x-python",
   "name": "python",
   "nbconvert_exporter": "python",
   "pygments_lexer": "ipython3",
   "version": "3.7.0"
  },
  "toc": {
   "base_numbering": 1,
   "nav_menu": {},
   "number_sections": true,
   "sideBar": true,
   "skip_h1_title": false,
   "title_cell": "Table of Contents",
   "title_sidebar": "Contents",
   "toc_cell": false,
   "toc_position": {},
   "toc_section_display": true,
   "toc_window_display": false
  }
 },
 "nbformat": 4,
 "nbformat_minor": 2
}
