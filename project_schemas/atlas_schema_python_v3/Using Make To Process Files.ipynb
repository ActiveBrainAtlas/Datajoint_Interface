{
 "cells": [
  {
   "cell_type": "markdown",
   "metadata": {},
   "source": [
    "## Imports\n",
    "utilities.py contains a number of useful functions including loading credentials from a json file, retrieving files from S3, and defining thecurrent list of brains that are associated with the Active Atlas."
   ]
  },
  {
   "cell_type": "code",
   "execution_count": 1,
   "metadata": {
    "ExecuteTime": {
     "end_time": "2019-02-21T01:56:28.047481Z",
     "start_time": "2019-02-21T01:56:26.266146Z"
    }
   },
   "outputs": [],
   "source": [
    "import datajoint as dj  # automatically loads dj.config from the file `dj_local_conf.json` if it exists\n",
    "import numpy as np\n",
    "import json\n",
    "from subprocess import call\n",
    "import yaml\n",
    "import sys, os\n",
    "import pandas as pd\n",
    "\n",
    "sys.path.append('./lib')\n",
    "from utilities import *\n",
    "from initialization_of_db import *"
   ]
  },
  {
   "cell_type": "markdown",
   "metadata": {},
   "source": [
    "## Load Credentials, Connect to Database\n",
    "User needs to supply credentials to connect to the dj server and to S3.\n",
    "\n",
    "1. The master file is in `setup/credFiles.yaml`. This file contains pointers to the dj and S3 credentials. A typical contant is \n",
    "``` yaml\n",
    "aws_fp: /Users/yoavfreund/VaultBrain/s3-creds.json\n",
    "dj_fp: /Users/yoavfreund/VaultBrain/dj_local_conf.json\n",
    "```\n",
    "\n",
    "2. A redacted content of the json file `aws_fp` is:\n",
    "```json\n",
    "{\"access_key\": \"XXXX\", \n",
    "\"secret_key\": \"SSSSSSS\"}\n",
    "```\n",
    "\n",
    "3. A redacted content of the json file `dj_fp` is \n",
    "```json\n",
    "{\n",
    "    \"database.host\": \"ucsd-demo-db.datajoint.io\",\n",
    "    \"database.password\": \"XXXXXXXXXXX\",\n",
    "    \"database.user\": \"yoav\",\n",
    "    \"database.port\": 3306,\n",
    "    \"database.reconnect\": false,\n",
    "    \"connection.init_function\": null,\n",
    "    \"connection.charset\": \"\",\n",
    "    \"loglevel\": \"INFO\",\n",
    "    \"safemode\": true,\n",
    "    \"display.limit\": 7,\n",
    "    \"display.width\": 14,\n",
    "    \"display.show_tuple_count\": true,\n",
    "    \"history\": [\n",
    "        \"No config file found, using default settings.\",\n",
    "        \"Updated from config file: dj_local_conf.json\"\n",
    "    ]\n",
    "}\n",
    "```"
   ]
  },
  {
   "cell_type": "code",
   "execution_count": 2,
   "metadata": {
    "ExecuteTime": {
     "end_time": "2019-02-21T01:56:44.605749Z",
     "start_time": "2019-02-21T01:56:44.601109Z"
    }
   },
   "outputs": [
    {
     "name": "stdout",
     "output_type": "stream",
     "text": [
      "Overwriting /Users/yoavfreund/VaultBrain/credFiles.yaml\n"
     ]
    }
   ],
   "source": [
    "%%writefile /Users/yoavfreund/VaultBrain/credFiles.yaml\n",
    "aws_fp: /Users/yoavfreund/VaultBrain/s3-creds.json\n",
    "dj_fp: /Users/yoavfreund/VaultBrain/dj_local_conf.json\n",
    "    "
   ]
  },
  {
   "cell_type": "code",
   "execution_count": 3,
   "metadata": {
    "ExecuteTime": {
     "end_time": "2019-02-21T01:56:51.665066Z",
     "start_time": "2019-02-21T01:56:51.656213Z"
    }
   },
   "outputs": [],
   "source": [
    "# Load Datajoint Credentials\n",
    "# `dj_creds` needs the following fields: 'user', 'passwd'\n",
    "# Then set necessary fields in dj.config\n",
    "\n",
    "credFiles='/Users/yoavfreund/VaultBrain/credFiles.yaml'\n",
    "# Cannot directly set 'dj.config' equal to the json file as it is a special datajoint object\n",
    "dj.config['database.host'] = get_dj_creds(credFiles)['database.host']\n",
    "dj.config['database.user'] = get_dj_creds(credFiles)['database.user']\n",
    "dj.config['database.port'] = get_dj_creds(credFiles)['database.port']\n",
    "dj.config['database.password'] = get_dj_creds(credFiles)['database.password']\n",
    "\n",
    "# Will save a json file in this directory (ignored by git) with credentials. Won't need to load them again\n",
    "dj.config.save_local()"
   ]
  },
  {
   "cell_type": "code",
   "execution_count": 4,
   "metadata": {
    "ExecuteTime": {
     "end_time": "2019-02-21T01:56:53.697382Z",
     "start_time": "2019-02-21T01:56:52.553573Z"
    }
   },
   "outputs": [
    {
     "name": "stdout",
     "output_type": "stream",
     "text": [
      "Connecting yoav@ucsd-demo-db.datajoint.io:3306\n"
     ]
    },
    {
     "data": {
      "text/plain": [
       "DataJoint connection (connected) yoav@ucsd-demo-db.datajoint.io:3306"
      ]
     },
     "execution_count": 4,
     "metadata": {},
     "output_type": "execute_result"
    }
   ],
   "source": [
    "# Connect to datajoint server\n",
    "dj.conn()"
   ]
  },
  {
   "cell_type": "code",
   "execution_count": 5,
   "metadata": {
    "ExecuteTime": {
     "end_time": "2019-02-21T01:56:55.695492Z",
     "start_time": "2019-02-21T01:56:55.495596Z"
    }
   },
   "outputs": [],
   "source": [
    "# Define which schema you're using\n",
    "schema = dj.schema('common_atlas_v3')\n",
    "schema.spawn_missing_classes()\n",
    "\n",
    "#dj.ERD(schema)"
   ]
  },
  {
   "cell_type": "code",
   "execution_count": 6,
   "metadata": {
    "ExecuteTime": {
     "end_time": "2019-02-21T01:56:58.394988Z",
     "start_time": "2019-02-21T01:56:58.199860Z"
    }
   },
   "outputs": [
    {
     "name": "stdout",
     "output_type": "stream",
     "text": [
      "________ Mouse ________\n",
      "mouse                : char(18)                     # Name for lab mouse, max 8 chars\n",
      "---\n",
      "date_of_birth        : date                         # (date) the mouse's date of birth\n",
      "sex                  : enum('M','F')                # (M/F) either 'M' for male, 'F' for female\n",
      "genotype             : enum('C57','U')              # (Lookup) indicating the genotype\n",
      "weight               : double                       # (int) weight of the mouse in grams. -1 if unknown\n",
      "bred                 : varchar(20)                  # (Str) Vendor where the mouse was bred (bred in house,     #purchased by vendor)\n",
      "\n",
      "________ Histology ________\n",
      "-> Mouse\n",
      "---\n",
      "region               : varchar(10)                  # (Str) [UNSURE]\n",
      "thickness            : int                          # (int) thickness of each slice in microns\n",
      "orientation          : enum('sagittal','coronal','horozontal') # (Str) horizontal, sagittal, coronal\n",
      "counter_stain        : varchar(30)                  # (Str) what stain was used on the brain (thionin or NeuroTrace)\n",
      "lab                  : varchar(20)                  # (Str) Which lab did the histology\n",
      "series               : enum('all','every other','unknown') # Every section OR alternate sections\n",
      "\n",
      "________ Stack ________\n",
      "-> Histology\n",
      "---\n",
      "stack_name           : varchar(10)                  # (Str) unique designation for each mouse\n",
      "num_slices           : int                          # (int) total number of histology slices\n",
      "num_valid_slices     : int                          # (int) total number of useable histology slices\n",
      "channels             : int                          # (int) number of channels for each slice\n",
      "human_annotated      : tinyint                      # (bool) does this stack have human annotations\n",
      "planar_resolution_um : double                       # (double) 0.325 for AxioScanner, 0.46 from CSHL\n",
      "section_thickness_um : double                       # (double) typically 20um\n",
      "UNIQUE INDEX (stack_name)\n",
      "\n",
      "________ Slice ________\n",
      "-> Stack\n",
      "slice_num            : int                          # (int) the unique index of the brain slice. Thickness found in Histology table\n",
      "---\n",
      "slice_name           : varchar(100)                 # (str) the name of the slice. Naming scheme may vary from lab to lab\n",
      "valid                : tinyint                      # (bool) if false, the slice does not exist\n",
      "raw_s3_fp            : varchar(200)                 # (str)\n",
      "processed_s3_fp      : varchar(200)                 # (str)\n",
      "\n"
     ]
    }
   ],
   "source": [
    "print('________ Mouse ________')\n",
    "Mouse.describe()\n",
    "print('________ Histology ________')\n",
    "Histology.describe()\n",
    "print('________ Stack ________')\n",
    "Stack.describe()\n",
    "print('________ Slice ________')\n",
    "Slice.describe();"
   ]
  },
  {
   "cell_type": "markdown",
   "metadata": {},
   "source": [
    "## extracting rows as pandas dataframe"
   ]
  },
  {
   "cell_type": "code",
   "execution_count": 7,
   "metadata": {
    "ExecuteTime": {
     "end_time": "2019-02-21T01:57:08.198900Z",
     "start_time": "2019-02-21T01:57:08.120417Z"
    },
    "scrolled": false
   },
   "outputs": [
    {
     "data": {
      "text/html": [
       "<div>\n",
       "<style scoped>\n",
       "    .dataframe tbody tr th:only-of-type {\n",
       "        vertical-align: middle;\n",
       "    }\n",
       "\n",
       "    .dataframe tbody tr th {\n",
       "        vertical-align: top;\n",
       "    }\n",
       "\n",
       "    .dataframe thead th {\n",
       "        text-align: right;\n",
       "    }\n",
       "</style>\n",
       "<table border=\"1\" class=\"dataframe\">\n",
       "  <thead>\n",
       "    <tr style=\"text-align: right;\">\n",
       "      <th></th>\n",
       "      <th>mouse</th>\n",
       "      <th>stack_name</th>\n",
       "      <th>num_slices</th>\n",
       "      <th>num_valid_slices</th>\n",
       "      <th>channels</th>\n",
       "      <th>human_annotated</th>\n",
       "      <th>planar_resolution_um</th>\n",
       "      <th>section_thickness_um</th>\n",
       "    </tr>\n",
       "  </thead>\n",
       "  <tbody>\n",
       "    <tr>\n",
       "      <th>0</th>\n",
       "      <td>CHATM2</td>\n",
       "      <td>CHATM2</td>\n",
       "      <td>328</td>\n",
       "      <td>235</td>\n",
       "      <td>2</td>\n",
       "      <td>0</td>\n",
       "      <td>0.46</td>\n",
       "      <td>20.0</td>\n",
       "    </tr>\n",
       "    <tr>\n",
       "      <th>1</th>\n",
       "      <td>CHATM3</td>\n",
       "      <td>CHATM3</td>\n",
       "      <td>413</td>\n",
       "      <td>293</td>\n",
       "      <td>2</td>\n",
       "      <td>0</td>\n",
       "      <td>0.46</td>\n",
       "      <td>20.0</td>\n",
       "    </tr>\n",
       "    <tr>\n",
       "      <th>2</th>\n",
       "      <td>CSHL2</td>\n",
       "      <td>CSHL2</td>\n",
       "      <td>-1</td>\n",
       "      <td>-1</td>\n",
       "      <td>1</td>\n",
       "      <td>0</td>\n",
       "      <td>0.46</td>\n",
       "      <td>20.0</td>\n",
       "    </tr>\n",
       "    <tr>\n",
       "      <th>3</th>\n",
       "      <td>MD175</td>\n",
       "      <td>MD175</td>\n",
       "      <td>-1</td>\n",
       "      <td>-1</td>\n",
       "      <td>1</td>\n",
       "      <td>0</td>\n",
       "      <td>0.46</td>\n",
       "      <td>20.0</td>\n",
       "    </tr>\n",
       "    <tr>\n",
       "      <th>4</th>\n",
       "      <td>MD585</td>\n",
       "      <td>MD585</td>\n",
       "      <td>447</td>\n",
       "      <td>439</td>\n",
       "      <td>1</td>\n",
       "      <td>1</td>\n",
       "      <td>0.46</td>\n",
       "      <td>20.0</td>\n",
       "    </tr>\n",
       "  </tbody>\n",
       "</table>\n",
       "</div>"
      ],
      "text/plain": [
       "    mouse stack_name  num_slices  num_valid_slices  channels  human_annotated  \\\n",
       "0  CHATM2     CHATM2         328               235         2                0   \n",
       "1  CHATM3     CHATM3         413               293         2                0   \n",
       "2   CSHL2      CSHL2          -1                -1         1                0   \n",
       "3   MD175      MD175          -1                -1         1                0   \n",
       "4   MD585      MD585         447               439         1                1   \n",
       "\n",
       "   planar_resolution_um  section_thickness_um  \n",
       "0                  0.46                  20.0  \n",
       "1                  0.46                  20.0  \n",
       "2                  0.46                  20.0  \n",
       "3                  0.46                  20.0  \n",
       "4                  0.46                  20.0  "
      ]
     },
     "execution_count": 7,
     "metadata": {},
     "output_type": "execute_result"
    }
   ],
   "source": [
    "brainStackTable = Stack.fetch(as_dict=True)\n",
    "brainStackDF = pd.DataFrame(brainStackTable)\n",
    "brainStackDF.head()"
   ]
  },
  {
   "cell_type": "code",
   "execution_count": 8,
   "metadata": {
    "ExecuteTime": {
     "end_time": "2019-02-21T01:57:19.077136Z",
     "start_time": "2019-02-21T01:57:19.000898Z"
    }
   },
   "outputs": [
    {
     "name": "stdout",
     "output_type": "stream",
     "text": [
      "(27, 7)\n"
     ]
    },
    {
     "data": {
      "text/html": [
       "<div>\n",
       "<style scoped>\n",
       "    .dataframe tbody tr th:only-of-type {\n",
       "        vertical-align: middle;\n",
       "    }\n",
       "\n",
       "    .dataframe tbody tr th {\n",
       "        vertical-align: top;\n",
       "    }\n",
       "\n",
       "    .dataframe thead th {\n",
       "        text-align: right;\n",
       "    }\n",
       "</style>\n",
       "<table border=\"1\" class=\"dataframe\">\n",
       "  <thead>\n",
       "    <tr style=\"text-align: right;\">\n",
       "      <th></th>\n",
       "      <th>mouse</th>\n",
       "      <th>region</th>\n",
       "      <th>thickness</th>\n",
       "      <th>orientation</th>\n",
       "      <th>counter_stain</th>\n",
       "      <th>lab</th>\n",
       "      <th>series</th>\n",
       "    </tr>\n",
       "  </thead>\n",
       "  <tbody>\n",
       "    <tr>\n",
       "      <th>0</th>\n",
       "      <td>CHATM2</td>\n",
       "      <td>Unknown</td>\n",
       "      <td>20</td>\n",
       "      <td>sagittal</td>\n",
       "      <td>NTB/ChAT</td>\n",
       "      <td>UCSD</td>\n",
       "      <td>unknown</td>\n",
       "    </tr>\n",
       "    <tr>\n",
       "      <th>1</th>\n",
       "      <td>CHATM3</td>\n",
       "      <td>Unknown</td>\n",
       "      <td>20</td>\n",
       "      <td>sagittal</td>\n",
       "      <td>NTB/ChAT</td>\n",
       "      <td>UCSD</td>\n",
       "      <td>unknown</td>\n",
       "    </tr>\n",
       "    <tr>\n",
       "      <th>2</th>\n",
       "      <td>CSHL2</td>\n",
       "      <td>Unknown</td>\n",
       "      <td>20</td>\n",
       "      <td>sagittal</td>\n",
       "      <td>?</td>\n",
       "      <td>UCSD</td>\n",
       "      <td>unknown</td>\n",
       "    </tr>\n",
       "    <tr>\n",
       "      <th>3</th>\n",
       "      <td>MD175</td>\n",
       "      <td>Unknown</td>\n",
       "      <td>20</td>\n",
       "      <td>coronal</td>\n",
       "      <td>thionin</td>\n",
       "      <td>CSHL</td>\n",
       "      <td>unknown</td>\n",
       "    </tr>\n",
       "    <tr>\n",
       "      <th>4</th>\n",
       "      <td>MD585</td>\n",
       "      <td>Unknown</td>\n",
       "      <td>20</td>\n",
       "      <td>sagittal</td>\n",
       "      <td>thionin</td>\n",
       "      <td>CSHL</td>\n",
       "      <td>unknown</td>\n",
       "    </tr>\n",
       "  </tbody>\n",
       "</table>\n",
       "</div>"
      ],
      "text/plain": [
       "    mouse   region  thickness orientation counter_stain   lab   series\n",
       "0  CHATM2  Unknown         20    sagittal      NTB/ChAT  UCSD  unknown\n",
       "1  CHATM3  Unknown         20    sagittal      NTB/ChAT  UCSD  unknown\n",
       "2   CSHL2  Unknown         20    sagittal             ?  UCSD  unknown\n",
       "3   MD175  Unknown         20     coronal       thionin  CSHL  unknown\n",
       "4   MD585  Unknown         20    sagittal       thionin  CSHL  unknown"
      ]
     },
     "execution_count": 8,
     "metadata": {},
     "output_type": "execute_result"
    }
   ],
   "source": [
    "HistologyTable = Histology.fetch( as_dict=True )\n",
    "HistologyDF=pd.DataFrame.from_dict(HistologyTable)\n",
    "print(HistologyDF.shape)\n",
    "HistologyDF.head()"
   ]
  },
  {
   "cell_type": "markdown",
   "metadata": {},
   "source": [
    "## List relevant info for given stack\n",
    "#### - Example displaying MD585 sections\n"
   ]
  },
  {
   "cell_type": "code",
   "execution_count": 9,
   "metadata": {
    "ExecuteTime": {
     "end_time": "2019-02-21T01:57:21.538950Z",
     "start_time": "2019-02-21T01:57:21.526891Z"
    }
   },
   "outputs": [
    {
     "data": {
      "text/html": [
       "<div>\n",
       "<style scoped>\n",
       "    .dataframe tbody tr th:only-of-type {\n",
       "        vertical-align: middle;\n",
       "    }\n",
       "\n",
       "    .dataframe tbody tr th {\n",
       "        vertical-align: top;\n",
       "    }\n",
       "\n",
       "    .dataframe thead th {\n",
       "        text-align: right;\n",
       "    }\n",
       "</style>\n",
       "<table border=\"1\" class=\"dataframe\">\n",
       "  <thead>\n",
       "    <tr style=\"text-align: right;\">\n",
       "      <th></th>\n",
       "      <th>mouse</th>\n",
       "      <th>stack_name</th>\n",
       "      <th>num_slices</th>\n",
       "      <th>channels</th>\n",
       "    </tr>\n",
       "  </thead>\n",
       "  <tbody>\n",
       "    <tr>\n",
       "      <th>4</th>\n",
       "      <td>MD585</td>\n",
       "      <td>MD585</td>\n",
       "      <td>447</td>\n",
       "      <td>1</td>\n",
       "    </tr>\n",
       "  </tbody>\n",
       "</table>\n",
       "</div>"
      ],
      "text/plain": [
       "   mouse stack_name  num_slices  channels\n",
       "4  MD585      MD585         447         1"
      ]
     },
     "execution_count": 9,
     "metadata": {},
     "output_type": "execute_result"
    }
   ],
   "source": [
    "stack = 'MD585'\n",
    "ThisBrain=brainStackDF[brainStackDF['mouse']==stack]\n",
    "ThisBrain[['mouse','stack_name','num_slices','channels']]"
   ]
  },
  {
   "cell_type": "code",
   "execution_count": 10,
   "metadata": {
    "ExecuteTime": {
     "end_time": "2019-02-21T01:57:24.016592Z",
     "start_time": "2019-02-21T01:57:24.006827Z"
    },
    "scrolled": true
   },
   "outputs": [
    {
     "data": {
      "text/html": [
       "<div>\n",
       "<style scoped>\n",
       "    .dataframe tbody tr th:only-of-type {\n",
       "        vertical-align: middle;\n",
       "    }\n",
       "\n",
       "    .dataframe tbody tr th {\n",
       "        vertical-align: top;\n",
       "    }\n",
       "\n",
       "    .dataframe thead th {\n",
       "        text-align: right;\n",
       "    }\n",
       "</style>\n",
       "<table border=\"1\" class=\"dataframe\">\n",
       "  <thead>\n",
       "    <tr style=\"text-align: right;\">\n",
       "      <th></th>\n",
       "      <th>mouse</th>\n",
       "      <th>region</th>\n",
       "      <th>thickness</th>\n",
       "      <th>orientation</th>\n",
       "      <th>counter_stain</th>\n",
       "      <th>lab</th>\n",
       "      <th>series</th>\n",
       "    </tr>\n",
       "  </thead>\n",
       "  <tbody>\n",
       "    <tr>\n",
       "      <th>4</th>\n",
       "      <td>MD585</td>\n",
       "      <td>Unknown</td>\n",
       "      <td>20</td>\n",
       "      <td>sagittal</td>\n",
       "      <td>thionin</td>\n",
       "      <td>CSHL</td>\n",
       "      <td>unknown</td>\n",
       "    </tr>\n",
       "  </tbody>\n",
       "</table>\n",
       "</div>"
      ],
      "text/plain": [
       "   mouse   region  thickness orientation counter_stain   lab   series\n",
       "4  MD585  Unknown         20    sagittal       thionin  CSHL  unknown"
      ]
     },
     "execution_count": 10,
     "metadata": {},
     "output_type": "execute_result"
    }
   ],
   "source": [
    "ThisHistology=HistologyDF[HistologyDF['mouse']==stack]\n",
    "ThisHistology"
   ]
  },
  {
   "cell_type": "markdown",
   "metadata": {},
   "source": [
    "### Define a computed table\n",
    "\n",
    "With an entry for each slice."
   ]
  },
  {
   "cell_type": "code",
   "execution_count": 11,
   "metadata": {
    "ExecuteTime": {
     "end_time": "2019-02-21T01:57:33.043884Z",
     "start_time": "2019-02-21T01:57:33.022756Z"
    }
   },
   "outputs": [],
   "source": [
    "@schema\n",
    "class Process(dj.Computed):\n",
    "    definition=\"\"\"\n",
    "    -> Slice\n",
    "    ---\n",
    "    size:int #size of raw file\n",
    "    \"\"\"\n",
    "    bucket=os.environ['BUCKET_RAWDATA']\n",
    "    credFiles='/Users/yoavfreund/VaultBrain/credFiles.yaml'\n",
    "    client=get_s3_client(credFiles)\n",
    "    def _make_tuples(self,key):\n",
    "        print('populating for',key)\n",
    "        raw_s3_fp = (Slice & key).fetch1('raw_s3_fp')\n",
    "        if len(raw_s3_fp)>0:\n",
    "            print('raw_s3_fp=',raw_s3_fp,end='')\n",
    "            report=client.stat_object(bucket,raw_s3_fp)\n",
    "            key['size']=report.size\n",
    "            print('size=',report.size)\n",
    "            self.insert1(key)"
   ]
  },
  {
   "cell_type": "code",
   "execution_count": 12,
   "metadata": {
    "ExecuteTime": {
     "end_time": "2019-02-21T01:57:50.870645Z",
     "start_time": "2019-02-21T01:57:36.865395Z"
    },
    "scrolled": false
   },
   "outputs": [
    {
     "name": "stdout",
     "output_type": "stream",
     "text": [
      "populating for {'mouse': 'CHATM2', 'slice_num': 1}\n",
      "populating for {'mouse': 'CHATM2', 'slice_num': 2}\n",
      "populating for {'mouse': 'CHATM2', 'slice_num': 3}\n",
      "populating for {'mouse': 'CHATM2', 'slice_num': 4}\n",
      "populating for {'mouse': 'CHATM2', 'slice_num': 5}\n",
      "populating for {'mouse': 'CHATM2', 'slice_num': 6}\n",
      "populating for {'mouse': 'CHATM2', 'slice_num': 7}\n",
      "populating for {'mouse': 'CHATM2', 'slice_num': 8}\n",
      "populating for {'mouse': 'CHATM2', 'slice_num': 9}\n",
      "populating for {'mouse': 'CHATM2', 'slice_num': 10}\n",
      "populating for {'mouse': 'CHATM2', 'slice_num': 11}\n",
      "populating for {'mouse': 'CHATM2', 'slice_num': 12}\n",
      "populating for {'mouse': 'CHATM2', 'slice_num': 13}\n",
      "populating for {'mouse': 'CHATM2', 'slice_num': 14}\n",
      "populating for {'mouse': 'CHATM2', 'slice_num': 15}\n",
      "populating for {'mouse': 'CHATM2', 'slice_num': 16}\n",
      "populating for {'mouse': 'CHATM2', 'slice_num': 17}\n",
      "populating for {'mouse': 'CHATM2', 'slice_num': 18}\n",
      "populating for {'mouse': 'CHATM2', 'slice_num': 19}\n",
      "populating for {'mouse': 'CHATM2', 'slice_num': 20}\n",
      "populating for {'mouse': 'CHATM2', 'slice_num': 21}\n",
      "populating for {'mouse': 'CHATM2', 'slice_num': 22}\n",
      "populating for {'mouse': 'CHATM2', 'slice_num': 23}\n",
      "populating for {'mouse': 'CHATM2', 'slice_num': 24}\n",
      "populating for {'mouse': 'CHATM2', 'slice_num': 25}\n",
      "populating for {'mouse': 'CHATM2', 'slice_num': 26}\n",
      "populating for {'mouse': 'CHATM2', 'slice_num': 27}\n",
      "populating for {'mouse': 'CHATM2', 'slice_num': 28}\n",
      "populating for {'mouse': 'CHATM2', 'slice_num': 29}\n",
      "populating for {'mouse': 'CHATM2', 'slice_num': 30}\n",
      "populating for {'mouse': 'CHATM2', 'slice_num': 31}\n",
      "populating for {'mouse': 'CHATM2', 'slice_num': 32}\n",
      "populating for {'mouse': 'CHATM2', 'slice_num': 33}\n",
      "populating for {'mouse': 'CHATM2', 'slice_num': 34}\n",
      "populating for {'mouse': 'CHATM2', 'slice_num': 35}\n",
      "populating for {'mouse': 'CHATM2', 'slice_num': 36}\n",
      "populating for {'mouse': 'CHATM2', 'slice_num': 37}\n",
      "populating for {'mouse': 'CHATM2', 'slice_num': 38}\n",
      "populating for {'mouse': 'CHATM2', 'slice_num': 39}\n",
      "populating for {'mouse': 'CHATM2', 'slice_num': 40}\n",
      "populating for {'mouse': 'CHATM2', 'slice_num': 41}\n",
      "populating for {'mouse': 'CHATM2', 'slice_num': 42}\n",
      "populating for {'mouse': 'CHATM2', 'slice_num': 43}\n",
      "populating for {'mouse': 'CHATM2', 'slice_num': 44}\n",
      "populating for {'mouse': 'CHATM2', 'slice_num': 45}\n",
      "populating for {'mouse': 'CHATM2', 'slice_num': 46}\n",
      "populating for {'mouse': 'CHATM2', 'slice_num': 47}\n",
      "populating for {'mouse': 'CHATM2', 'slice_num': 48}\n",
      "populating for {'mouse': 'CHATM2', 'slice_num': 49}\n",
      "populating for {'mouse': 'CHATM2', 'slice_num': 50}\n",
      "populating for {'mouse': 'CHATM2', 'slice_num': 51}\n",
      "populating for {'mouse': 'CHATM2', 'slice_num': 52}\n",
      "populating for {'mouse': 'CHATM2', 'slice_num': 53}\n",
      "populating for {'mouse': 'CHATM2', 'slice_num': 54}\n",
      "populating for {'mouse': 'CHATM2', 'slice_num': 55}\n",
      "populating for {'mouse': 'CHATM2', 'slice_num': 56}\n",
      "populating for {'mouse': 'CHATM2', 'slice_num': 57}\n",
      "populating for {'mouse': 'CHATM2', 'slice_num': 58}\n",
      "populating for {'mouse': 'CHATM2', 'slice_num': 59}\n",
      "populating for {'mouse': 'CHATM2', 'slice_num': 60}\n",
      "populating for {'mouse': 'CHATM2', 'slice_num': 61}\n",
      "populating for {'mouse': 'CHATM2', 'slice_num': 62}\n",
      "populating for {'mouse': 'CHATM2', 'slice_num': 63}\n",
      "populating for {'mouse': 'CHATM2', 'slice_num': 64}\n",
      "populating for {'mouse': 'CHATM2', 'slice_num': 65}\n",
      "populating for {'mouse': 'CHATM2', 'slice_num': 66}\n",
      "populating for {'mouse': 'CHATM2', 'slice_num': 67}\n",
      "populating for {'mouse': 'CHATM2', 'slice_num': 68}\n",
      "populating for {'mouse': 'CHATM2', 'slice_num': 69}\n",
      "populating for {'mouse': 'CHATM2', 'slice_num': 70}\n",
      "populating for {'mouse': 'CHATM2', 'slice_num': 71}\n",
      "populating for {'mouse': 'CHATM2', 'slice_num': 72}\n",
      "populating for {'mouse': 'CHATM2', 'slice_num': 73}\n",
      "populating for {'mouse': 'CHATM2', 'slice_num': 74}\n",
      "populating for {'mouse': 'CHATM2', 'slice_num': 75}\n",
      "populating for {'mouse': 'CHATM2', 'slice_num': 76}\n",
      "populating for {'mouse': 'CHATM2', 'slice_num': 77}\n",
      "populating for {'mouse': 'CHATM2', 'slice_num': 78}\n",
      "populating for {'mouse': 'CHATM2', 'slice_num': 79}\n",
      "populating for {'mouse': 'CHATM2', 'slice_num': 80}\n",
      "populating for {'mouse': 'CHATM2', 'slice_num': 81}\n",
      "populating for {'mouse': 'CHATM2', 'slice_num': 82}\n",
      "populating for {'mouse': 'CHATM2', 'slice_num': 83}\n",
      "populating for {'mouse': 'CHATM2', 'slice_num': 84}\n",
      "populating for {'mouse': 'CHATM2', 'slice_num': 85}\n",
      "populating for {'mouse': 'CHATM2', 'slice_num': 86}\n",
      "populating for {'mouse': 'CHATM2', 'slice_num': 87}\n",
      "populating for {'mouse': 'CHATM2', 'slice_num': 88}\n",
      "populating for {'mouse': 'CHATM2', 'slice_num': 89}\n",
      "populating for {'mouse': 'CHATM2', 'slice_num': 90}\n",
      "populating for {'mouse': 'CHATM2', 'slice_num': 91}\n",
      "populating for {'mouse': 'CHATM2', 'slice_num': 92}\n",
      "populating for {'mouse': 'CHATM2', 'slice_num': 93}\n",
      "populating for {'mouse': 'CHATM2', 'slice_num': 94}\n",
      "populating for {'mouse': 'CHATM2', 'slice_num': 95}\n",
      "populating for {'mouse': 'CHATM2', 'slice_num': 96}\n",
      "populating for {'mouse': 'CHATM2', 'slice_num': 97}\n",
      "populating for {'mouse': 'CHATM2', 'slice_num': 98}\n",
      "populating for {'mouse': 'CHATM2', 'slice_num': 99}\n",
      "populating for {'mouse': 'CHATM2', 'slice_num': 100}\n",
      "populating for {'mouse': 'CHATM2', 'slice_num': 101}\n",
      "populating for {'mouse': 'CHATM2', 'slice_num': 102}\n",
      "populating for {'mouse': 'CHATM2', 'slice_num': 103}\n",
      "populating for {'mouse': 'CHATM2', 'slice_num': 104}\n",
      "populating for {'mouse': 'CHATM2', 'slice_num': 105}\n",
      "populating for {'mouse': 'CHATM2', 'slice_num': 106}\n",
      "populating for {'mouse': 'CHATM2', 'slice_num': 107}\n",
      "populating for {'mouse': 'CHATM2', 'slice_num': 108}\n",
      "populating for {'mouse': 'CHATM2', 'slice_num': 109}\n",
      "populating for {'mouse': 'CHATM2', 'slice_num': 110}\n",
      "populating for {'mouse': 'CHATM2', 'slice_num': 111}\n",
      "populating for {'mouse': 'CHATM2', 'slice_num': 112}\n",
      "populating for {'mouse': 'CHATM2', 'slice_num': 113}\n",
      "populating for {'mouse': 'CHATM2', 'slice_num': 114}\n",
      "populating for {'mouse': 'CHATM2', 'slice_num': 115}\n",
      "populating for {'mouse': 'CHATM2', 'slice_num': 116}\n",
      "populating for {'mouse': 'CHATM2', 'slice_num': 117}\n",
      "populating for {'mouse': 'CHATM2', 'slice_num': 118}\n",
      "populating for {'mouse': 'CHATM2', 'slice_num': 119}\n",
      "populating for {'mouse': 'CHATM2', 'slice_num': 120}\n",
      "populating for {'mouse': 'CHATM2', 'slice_num': 121}\n",
      "populating for {'mouse': 'CHATM2', 'slice_num': 122}\n",
      "populating for {'mouse': 'CHATM2', 'slice_num': 123}\n",
      "populating for {'mouse': 'CHATM2', 'slice_num': 124}\n",
      "populating for {'mouse': 'CHATM2', 'slice_num': 125}\n",
      "populating for {'mouse': 'CHATM2', 'slice_num': 126}\n",
      "populating for {'mouse': 'CHATM2', 'slice_num': 127}\n",
      "populating for {'mouse': 'CHATM2', 'slice_num': 128}\n",
      "populating for {'mouse': 'CHATM2', 'slice_num': 129}\n",
      "populating for {'mouse': 'CHATM2', 'slice_num': 130}\n",
      "populating for {'mouse': 'CHATM2', 'slice_num': 131}\n",
      "populating for {'mouse': 'CHATM2', 'slice_num': 132}\n",
      "populating for {'mouse': 'CHATM2', 'slice_num': 133}\n",
      "populating for {'mouse': 'CHATM2', 'slice_num': 134}\n",
      "populating for {'mouse': 'CHATM2', 'slice_num': 135}\n",
      "populating for {'mouse': 'CHATM2', 'slice_num': 136}\n",
      "populating for {'mouse': 'CHATM2', 'slice_num': 137}\n",
      "populating for {'mouse': 'CHATM2', 'slice_num': 138}\n",
      "populating for {'mouse': 'CHATM2', 'slice_num': 139}\n",
      "populating for {'mouse': 'CHATM2', 'slice_num': 140}\n",
      "populating for {'mouse': 'CHATM2', 'slice_num': 141}\n",
      "populating for {'mouse': 'CHATM2', 'slice_num': 142}\n",
      "populating for {'mouse': 'CHATM2', 'slice_num': 143}\n",
      "populating for {'mouse': 'CHATM2', 'slice_num': 144}\n",
      "populating for {'mouse': 'CHATM2', 'slice_num': 145}\n",
      "populating for {'mouse': 'CHATM2', 'slice_num': 146}\n",
      "populating for {'mouse': 'CHATM2', 'slice_num': 147}\n",
      "populating for {'mouse': 'CHATM2', 'slice_num': 148}\n",
      "populating for {'mouse': 'CHATM2', 'slice_num': 149}\n",
      "populating for {'mouse': 'CHATM2', 'slice_num': 150}\n",
      "populating for {'mouse': 'CHATM2', 'slice_num': 151}\n",
      "populating for {'mouse': 'CHATM2', 'slice_num': 152}\n",
      "populating for {'mouse': 'CHATM2', 'slice_num': 153}\n",
      "populating for {'mouse': 'CHATM2', 'slice_num': 154}\n"
     ]
    },
    {
     "ename": "KeyboardInterrupt",
     "evalue": "",
     "output_type": "error",
     "traceback": [
      "\u001b[0;31m---------------------------------------------------------------------------\u001b[0m",
      "\u001b[0;31mKeyboardInterrupt\u001b[0m                         Traceback (most recent call last)",
      "\u001b[0;32m<ipython-input-12-118ad0a7ea5d>\u001b[0m in \u001b[0;36m<module>\u001b[0;34m\u001b[0m\n\u001b[1;32m      1\u001b[0m \u001b[0msizes\u001b[0m\u001b[0;34m=\u001b[0m\u001b[0mProcess\u001b[0m\u001b[0;34m(\u001b[0m\u001b[0;34m)\u001b[0m\u001b[0;34m\u001b[0m\u001b[0m\n\u001b[0;32m----> 2\u001b[0;31m \u001b[0msizes\u001b[0m\u001b[0;34m.\u001b[0m\u001b[0mpopulate\u001b[0m\u001b[0;34m(\u001b[0m\u001b[0;34m)\u001b[0m\u001b[0;34m\u001b[0m\u001b[0m\n\u001b[0m\u001b[1;32m      3\u001b[0m \u001b[0msizes\u001b[0m\u001b[0;34m\u001b[0m\u001b[0m\n",
      "\u001b[0;32m/Library/Frameworks/Python.framework/Versions/3.7/lib/python3.7/site-packages/datajoint/autopopulate.py\u001b[0m in \u001b[0;36mpopulate\u001b[0;34m(self, suppress_errors, return_exception_objects, reserve_jobs, order, limit, max_calls, display_progress, *restrictions)\u001b[0m\n\u001b[1;32m    141\u001b[0m                 \u001b[0;32mbreak\u001b[0m\u001b[0;34m\u001b[0m\u001b[0m\n\u001b[1;32m    142\u001b[0m             \u001b[0;32mif\u001b[0m \u001b[0;32mnot\u001b[0m \u001b[0mreserve_jobs\u001b[0m \u001b[0;32mor\u001b[0m \u001b[0mjobs\u001b[0m\u001b[0;34m.\u001b[0m\u001b[0mreserve\u001b[0m\u001b[0;34m(\u001b[0m\u001b[0mself\u001b[0m\u001b[0;34m.\u001b[0m\u001b[0mtarget\u001b[0m\u001b[0;34m.\u001b[0m\u001b[0mtable_name\u001b[0m\u001b[0;34m,\u001b[0m \u001b[0mself\u001b[0m\u001b[0;34m.\u001b[0m\u001b[0m_job_key\u001b[0m\u001b[0;34m(\u001b[0m\u001b[0mkey\u001b[0m\u001b[0;34m)\u001b[0m\u001b[0;34m)\u001b[0m\u001b[0;34m:\u001b[0m\u001b[0;34m\u001b[0m\u001b[0m\n\u001b[0;32m--> 143\u001b[0;31m                 \u001b[0mself\u001b[0m\u001b[0;34m.\u001b[0m\u001b[0mconnection\u001b[0m\u001b[0;34m.\u001b[0m\u001b[0mstart_transaction\u001b[0m\u001b[0;34m(\u001b[0m\u001b[0;34m)\u001b[0m\u001b[0;34m\u001b[0m\u001b[0m\n\u001b[0m\u001b[1;32m    144\u001b[0m                 \u001b[0;32mif\u001b[0m \u001b[0mkey\u001b[0m \u001b[0;32min\u001b[0m \u001b[0mself\u001b[0m\u001b[0;34m.\u001b[0m\u001b[0mtarget\u001b[0m\u001b[0;34m:\u001b[0m  \u001b[0;31m# already populated\u001b[0m\u001b[0;34m\u001b[0m\u001b[0m\n\u001b[1;32m    145\u001b[0m                     \u001b[0mself\u001b[0m\u001b[0;34m.\u001b[0m\u001b[0mconnection\u001b[0m\u001b[0;34m.\u001b[0m\u001b[0mcancel_transaction\u001b[0m\u001b[0;34m(\u001b[0m\u001b[0;34m)\u001b[0m\u001b[0;34m\u001b[0m\u001b[0m\n",
      "\u001b[0;32m/Library/Frameworks/Python.framework/Versions/3.7/lib/python3.7/site-packages/datajoint/connection.py\u001b[0m in \u001b[0;36mstart_transaction\u001b[0;34m(self)\u001b[0m\n\u001b[1;32m    178\u001b[0m         \u001b[0;32mif\u001b[0m \u001b[0mself\u001b[0m\u001b[0;34m.\u001b[0m\u001b[0min_transaction\u001b[0m\u001b[0;34m:\u001b[0m\u001b[0;34m\u001b[0m\u001b[0m\n\u001b[1;32m    179\u001b[0m             \u001b[0;32mraise\u001b[0m \u001b[0mDataJointError\u001b[0m\u001b[0;34m(\u001b[0m\u001b[0;34m\"Nested connections are not supported.\"\u001b[0m\u001b[0;34m)\u001b[0m\u001b[0;34m\u001b[0m\u001b[0m\n\u001b[0;32m--> 180\u001b[0;31m         \u001b[0mself\u001b[0m\u001b[0;34m.\u001b[0m\u001b[0mquery\u001b[0m\u001b[0;34m(\u001b[0m\u001b[0;34m'START TRANSACTION WITH CONSISTENT SNAPSHOT'\u001b[0m\u001b[0;34m)\u001b[0m\u001b[0;34m\u001b[0m\u001b[0m\n\u001b[0m\u001b[1;32m    181\u001b[0m         \u001b[0mself\u001b[0m\u001b[0;34m.\u001b[0m\u001b[0m_in_transaction\u001b[0m \u001b[0;34m=\u001b[0m \u001b[0;32mTrue\u001b[0m\u001b[0;34m\u001b[0m\u001b[0m\n\u001b[1;32m    182\u001b[0m         \u001b[0mlogger\u001b[0m\u001b[0;34m.\u001b[0m\u001b[0minfo\u001b[0m\u001b[0;34m(\u001b[0m\u001b[0;34m\"Transaction started\"\u001b[0m\u001b[0;34m)\u001b[0m\u001b[0;34m\u001b[0m\u001b[0m\n",
      "\u001b[0;32m/Library/Frameworks/Python.framework/Versions/3.7/lib/python3.7/site-packages/datajoint/connection.py\u001b[0m in \u001b[0;36mquery\u001b[0;34m(self, query, args, as_dict, suppress_warnings)\u001b[0m\n\u001b[1;32m    134\u001b[0m                     \u001b[0;31m# suppress all warnings arising from underlying SQL library\u001b[0m\u001b[0;34m\u001b[0m\u001b[0;34m\u001b[0m\u001b[0m\n\u001b[1;32m    135\u001b[0m                     \u001b[0mwarnings\u001b[0m\u001b[0;34m.\u001b[0m\u001b[0msimplefilter\u001b[0m\u001b[0;34m(\u001b[0m\u001b[0;34m\"ignore\"\u001b[0m\u001b[0;34m)\u001b[0m\u001b[0;34m\u001b[0m\u001b[0m\n\u001b[0;32m--> 136\u001b[0;31m                 \u001b[0mcur\u001b[0m\u001b[0;34m.\u001b[0m\u001b[0mexecute\u001b[0m\u001b[0;34m(\u001b[0m\u001b[0mquery\u001b[0m\u001b[0;34m,\u001b[0m \u001b[0margs\u001b[0m\u001b[0;34m)\u001b[0m\u001b[0;34m\u001b[0m\u001b[0m\n\u001b[0m\u001b[1;32m    137\u001b[0m         \u001b[0;32mexcept\u001b[0m \u001b[0merr\u001b[0m\u001b[0;34m.\u001b[0m\u001b[0mOperationalError\u001b[0m \u001b[0;32mas\u001b[0m \u001b[0me\u001b[0m\u001b[0;34m:\u001b[0m\u001b[0;34m\u001b[0m\u001b[0m\n\u001b[1;32m    138\u001b[0m             \u001b[0;32mif\u001b[0m \u001b[0;34m'MySQL server has gone away'\u001b[0m \u001b[0;32min\u001b[0m \u001b[0mstr\u001b[0m\u001b[0;34m(\u001b[0m\u001b[0me\u001b[0m\u001b[0;34m)\u001b[0m \u001b[0;32mand\u001b[0m \u001b[0mconfig\u001b[0m\u001b[0;34m[\u001b[0m\u001b[0;34m'database.reconnect'\u001b[0m\u001b[0;34m]\u001b[0m\u001b[0;34m:\u001b[0m\u001b[0;34m\u001b[0m\u001b[0m\n",
      "\u001b[0;32m/Library/Frameworks/Python.framework/Versions/3.7/lib/python3.7/site-packages/pymysql/cursors.py\u001b[0m in \u001b[0;36mexecute\u001b[0;34m(self, query, args)\u001b[0m\n\u001b[1;32m    168\u001b[0m         \u001b[0mquery\u001b[0m \u001b[0;34m=\u001b[0m \u001b[0mself\u001b[0m\u001b[0;34m.\u001b[0m\u001b[0mmogrify\u001b[0m\u001b[0;34m(\u001b[0m\u001b[0mquery\u001b[0m\u001b[0;34m,\u001b[0m \u001b[0margs\u001b[0m\u001b[0;34m)\u001b[0m\u001b[0;34m\u001b[0m\u001b[0m\n\u001b[1;32m    169\u001b[0m \u001b[0;34m\u001b[0m\u001b[0m\n\u001b[0;32m--> 170\u001b[0;31m         \u001b[0mresult\u001b[0m \u001b[0;34m=\u001b[0m \u001b[0mself\u001b[0m\u001b[0;34m.\u001b[0m\u001b[0m_query\u001b[0m\u001b[0;34m(\u001b[0m\u001b[0mquery\u001b[0m\u001b[0;34m)\u001b[0m\u001b[0;34m\u001b[0m\u001b[0m\n\u001b[0m\u001b[1;32m    171\u001b[0m         \u001b[0mself\u001b[0m\u001b[0;34m.\u001b[0m\u001b[0m_executed\u001b[0m \u001b[0;34m=\u001b[0m \u001b[0mquery\u001b[0m\u001b[0;34m\u001b[0m\u001b[0m\n\u001b[1;32m    172\u001b[0m         \u001b[0;32mreturn\u001b[0m \u001b[0mresult\u001b[0m\u001b[0;34m\u001b[0m\u001b[0m\n",
      "\u001b[0;32m/Library/Frameworks/Python.framework/Versions/3.7/lib/python3.7/site-packages/pymysql/cursors.py\u001b[0m in \u001b[0;36m_query\u001b[0;34m(self, q)\u001b[0m\n\u001b[1;32m    326\u001b[0m         \u001b[0mself\u001b[0m\u001b[0;34m.\u001b[0m\u001b[0m_last_executed\u001b[0m \u001b[0;34m=\u001b[0m \u001b[0mq\u001b[0m\u001b[0;34m\u001b[0m\u001b[0m\n\u001b[1;32m    327\u001b[0m         \u001b[0mself\u001b[0m\u001b[0;34m.\u001b[0m\u001b[0m_clear_result\u001b[0m\u001b[0;34m(\u001b[0m\u001b[0;34m)\u001b[0m\u001b[0;34m\u001b[0m\u001b[0m\n\u001b[0;32m--> 328\u001b[0;31m         \u001b[0mconn\u001b[0m\u001b[0;34m.\u001b[0m\u001b[0mquery\u001b[0m\u001b[0;34m(\u001b[0m\u001b[0mq\u001b[0m\u001b[0;34m)\u001b[0m\u001b[0;34m\u001b[0m\u001b[0m\n\u001b[0m\u001b[1;32m    329\u001b[0m         \u001b[0mself\u001b[0m\u001b[0;34m.\u001b[0m\u001b[0m_do_get_result\u001b[0m\u001b[0;34m(\u001b[0m\u001b[0;34m)\u001b[0m\u001b[0;34m\u001b[0m\u001b[0m\n\u001b[1;32m    330\u001b[0m         \u001b[0;32mreturn\u001b[0m \u001b[0mself\u001b[0m\u001b[0;34m.\u001b[0m\u001b[0mrowcount\u001b[0m\u001b[0;34m\u001b[0m\u001b[0m\n",
      "\u001b[0;32m/Library/Frameworks/Python.framework/Versions/3.7/lib/python3.7/site-packages/pymysql/connections.py\u001b[0m in \u001b[0;36mquery\u001b[0;34m(self, sql, unbuffered)\u001b[0m\n\u001b[1;32m    514\u001b[0m                 \u001b[0msql\u001b[0m \u001b[0;34m=\u001b[0m \u001b[0msql\u001b[0m\u001b[0;34m.\u001b[0m\u001b[0mencode\u001b[0m\u001b[0;34m(\u001b[0m\u001b[0mself\u001b[0m\u001b[0;34m.\u001b[0m\u001b[0mencoding\u001b[0m\u001b[0;34m,\u001b[0m \u001b[0;34m'surrogateescape'\u001b[0m\u001b[0;34m)\u001b[0m\u001b[0;34m\u001b[0m\u001b[0m\n\u001b[1;32m    515\u001b[0m         \u001b[0mself\u001b[0m\u001b[0;34m.\u001b[0m\u001b[0m_execute_command\u001b[0m\u001b[0;34m(\u001b[0m\u001b[0mCOMMAND\u001b[0m\u001b[0;34m.\u001b[0m\u001b[0mCOM_QUERY\u001b[0m\u001b[0;34m,\u001b[0m \u001b[0msql\u001b[0m\u001b[0;34m)\u001b[0m\u001b[0;34m\u001b[0m\u001b[0m\n\u001b[0;32m--> 516\u001b[0;31m         \u001b[0mself\u001b[0m\u001b[0;34m.\u001b[0m\u001b[0m_affected_rows\u001b[0m \u001b[0;34m=\u001b[0m \u001b[0mself\u001b[0m\u001b[0;34m.\u001b[0m\u001b[0m_read_query_result\u001b[0m\u001b[0;34m(\u001b[0m\u001b[0munbuffered\u001b[0m\u001b[0;34m=\u001b[0m\u001b[0munbuffered\u001b[0m\u001b[0;34m)\u001b[0m\u001b[0;34m\u001b[0m\u001b[0m\n\u001b[0m\u001b[1;32m    517\u001b[0m         \u001b[0;32mreturn\u001b[0m \u001b[0mself\u001b[0m\u001b[0;34m.\u001b[0m\u001b[0m_affected_rows\u001b[0m\u001b[0;34m\u001b[0m\u001b[0m\n\u001b[1;32m    518\u001b[0m \u001b[0;34m\u001b[0m\u001b[0m\n",
      "\u001b[0;32m/Library/Frameworks/Python.framework/Versions/3.7/lib/python3.7/site-packages/pymysql/connections.py\u001b[0m in \u001b[0;36m_read_query_result\u001b[0;34m(self, unbuffered)\u001b[0m\n\u001b[1;32m    725\u001b[0m         \u001b[0;32melse\u001b[0m\u001b[0;34m:\u001b[0m\u001b[0;34m\u001b[0m\u001b[0m\n\u001b[1;32m    726\u001b[0m             \u001b[0mresult\u001b[0m \u001b[0;34m=\u001b[0m \u001b[0mMySQLResult\u001b[0m\u001b[0;34m(\u001b[0m\u001b[0mself\u001b[0m\u001b[0;34m)\u001b[0m\u001b[0;34m\u001b[0m\u001b[0m\n\u001b[0;32m--> 727\u001b[0;31m             \u001b[0mresult\u001b[0m\u001b[0;34m.\u001b[0m\u001b[0mread\u001b[0m\u001b[0;34m(\u001b[0m\u001b[0;34m)\u001b[0m\u001b[0;34m\u001b[0m\u001b[0m\n\u001b[0m\u001b[1;32m    728\u001b[0m         \u001b[0mself\u001b[0m\u001b[0;34m.\u001b[0m\u001b[0m_result\u001b[0m \u001b[0;34m=\u001b[0m \u001b[0mresult\u001b[0m\u001b[0;34m\u001b[0m\u001b[0m\n\u001b[1;32m    729\u001b[0m         \u001b[0;32mif\u001b[0m \u001b[0mresult\u001b[0m\u001b[0;34m.\u001b[0m\u001b[0mserver_status\u001b[0m \u001b[0;32mis\u001b[0m \u001b[0;32mnot\u001b[0m \u001b[0;32mNone\u001b[0m\u001b[0;34m:\u001b[0m\u001b[0;34m\u001b[0m\u001b[0m\n",
      "\u001b[0;32m/Library/Frameworks/Python.framework/Versions/3.7/lib/python3.7/site-packages/pymysql/connections.py\u001b[0m in \u001b[0;36mread\u001b[0;34m(self)\u001b[0m\n\u001b[1;32m   1064\u001b[0m     \u001b[0;32mdef\u001b[0m \u001b[0mread\u001b[0m\u001b[0;34m(\u001b[0m\u001b[0mself\u001b[0m\u001b[0;34m)\u001b[0m\u001b[0;34m:\u001b[0m\u001b[0;34m\u001b[0m\u001b[0m\n\u001b[1;32m   1065\u001b[0m         \u001b[0;32mtry\u001b[0m\u001b[0;34m:\u001b[0m\u001b[0;34m\u001b[0m\u001b[0m\n\u001b[0;32m-> 1066\u001b[0;31m             \u001b[0mfirst_packet\u001b[0m \u001b[0;34m=\u001b[0m \u001b[0mself\u001b[0m\u001b[0;34m.\u001b[0m\u001b[0mconnection\u001b[0m\u001b[0;34m.\u001b[0m\u001b[0m_read_packet\u001b[0m\u001b[0;34m(\u001b[0m\u001b[0;34m)\u001b[0m\u001b[0;34m\u001b[0m\u001b[0m\n\u001b[0m\u001b[1;32m   1067\u001b[0m \u001b[0;34m\u001b[0m\u001b[0m\n\u001b[1;32m   1068\u001b[0m             \u001b[0;32mif\u001b[0m \u001b[0mfirst_packet\u001b[0m\u001b[0;34m.\u001b[0m\u001b[0mis_ok_packet\u001b[0m\u001b[0;34m(\u001b[0m\u001b[0;34m)\u001b[0m\u001b[0;34m:\u001b[0m\u001b[0;34m\u001b[0m\u001b[0m\n",
      "\u001b[0;32m/Library/Frameworks/Python.framework/Versions/3.7/lib/python3.7/site-packages/pymysql/connections.py\u001b[0m in \u001b[0;36m_read_packet\u001b[0;34m(self, packet_type)\u001b[0m\n\u001b[1;32m    654\u001b[0m         \u001b[0mbuff\u001b[0m \u001b[0;34m=\u001b[0m \u001b[0;34mb''\u001b[0m\u001b[0;34m\u001b[0m\u001b[0m\n\u001b[1;32m    655\u001b[0m         \u001b[0;32mwhile\u001b[0m \u001b[0;32mTrue\u001b[0m\u001b[0;34m:\u001b[0m\u001b[0;34m\u001b[0m\u001b[0m\n\u001b[0;32m--> 656\u001b[0;31m             \u001b[0mpacket_header\u001b[0m \u001b[0;34m=\u001b[0m \u001b[0mself\u001b[0m\u001b[0;34m.\u001b[0m\u001b[0m_read_bytes\u001b[0m\u001b[0;34m(\u001b[0m\u001b[0;36m4\u001b[0m\u001b[0;34m)\u001b[0m\u001b[0;34m\u001b[0m\u001b[0m\n\u001b[0m\u001b[1;32m    657\u001b[0m             \u001b[0;31m#if DEBUG: dump_packet(packet_header)\u001b[0m\u001b[0;34m\u001b[0m\u001b[0;34m\u001b[0m\u001b[0m\n\u001b[1;32m    658\u001b[0m \u001b[0;34m\u001b[0m\u001b[0m\n",
      "\u001b[0;32m/Library/Frameworks/Python.framework/Versions/3.7/lib/python3.7/site-packages/pymysql/connections.py\u001b[0m in \u001b[0;36m_read_bytes\u001b[0;34m(self, num_bytes)\u001b[0m\n\u001b[1;32m    688\u001b[0m         \u001b[0;32mwhile\u001b[0m \u001b[0;32mTrue\u001b[0m\u001b[0;34m:\u001b[0m\u001b[0;34m\u001b[0m\u001b[0m\n\u001b[1;32m    689\u001b[0m             \u001b[0;32mtry\u001b[0m\u001b[0;34m:\u001b[0m\u001b[0;34m\u001b[0m\u001b[0m\n\u001b[0;32m--> 690\u001b[0;31m                 \u001b[0mdata\u001b[0m \u001b[0;34m=\u001b[0m \u001b[0mself\u001b[0m\u001b[0;34m.\u001b[0m\u001b[0m_rfile\u001b[0m\u001b[0;34m.\u001b[0m\u001b[0mread\u001b[0m\u001b[0;34m(\u001b[0m\u001b[0mnum_bytes\u001b[0m\u001b[0;34m)\u001b[0m\u001b[0;34m\u001b[0m\u001b[0m\n\u001b[0m\u001b[1;32m    691\u001b[0m                 \u001b[0;32mbreak\u001b[0m\u001b[0;34m\u001b[0m\u001b[0m\n\u001b[1;32m    692\u001b[0m             \u001b[0;32mexcept\u001b[0m \u001b[0;34m(\u001b[0m\u001b[0mIOError\u001b[0m\u001b[0;34m,\u001b[0m \u001b[0mOSError\u001b[0m\u001b[0;34m)\u001b[0m \u001b[0;32mas\u001b[0m \u001b[0me\u001b[0m\u001b[0;34m:\u001b[0m\u001b[0;34m\u001b[0m\u001b[0m\n",
      "\u001b[0;32m/anaconda3/lib/python3.7/socket.py\u001b[0m in \u001b[0;36mreadinto\u001b[0;34m(self, b)\u001b[0m\n\u001b[1;32m    587\u001b[0m         \u001b[0;32mwhile\u001b[0m \u001b[0;32mTrue\u001b[0m\u001b[0;34m:\u001b[0m\u001b[0;34m\u001b[0m\u001b[0m\n\u001b[1;32m    588\u001b[0m             \u001b[0;32mtry\u001b[0m\u001b[0;34m:\u001b[0m\u001b[0;34m\u001b[0m\u001b[0m\n\u001b[0;32m--> 589\u001b[0;31m                 \u001b[0;32mreturn\u001b[0m \u001b[0mself\u001b[0m\u001b[0;34m.\u001b[0m\u001b[0m_sock\u001b[0m\u001b[0;34m.\u001b[0m\u001b[0mrecv_into\u001b[0m\u001b[0;34m(\u001b[0m\u001b[0mb\u001b[0m\u001b[0;34m)\u001b[0m\u001b[0;34m\u001b[0m\u001b[0m\n\u001b[0m\u001b[1;32m    590\u001b[0m             \u001b[0;32mexcept\u001b[0m \u001b[0mtimeout\u001b[0m\u001b[0;34m:\u001b[0m\u001b[0;34m\u001b[0m\u001b[0m\n\u001b[1;32m    591\u001b[0m                 \u001b[0mself\u001b[0m\u001b[0;34m.\u001b[0m\u001b[0m_timeout_occurred\u001b[0m \u001b[0;34m=\u001b[0m \u001b[0;32mTrue\u001b[0m\u001b[0;34m\u001b[0m\u001b[0m\n",
      "\u001b[0;31mKeyboardInterrupt\u001b[0m: "
     ]
    }
   ],
   "source": [
    "sizes=Process()\n",
    "sizes.populate()\n",
    "sizes\n"
   ]
  },
  {
   "cell_type": "code",
   "execution_count": 101,
   "metadata": {
    "ExecuteTime": {
     "end_time": "2019-02-21T01:55:18.442814Z",
     "start_time": "2019-02-21T01:55:18.405123Z"
    }
   },
   "outputs": [
    {
     "ename": "KeyError",
     "evalue": "'nullable'",
     "output_type": "error",
     "traceback": [
      "\u001b[0;31m---------------------------------------------------------------------------\u001b[0m",
      "\u001b[0;31mKeyError\u001b[0m                                  Traceback (most recent call last)",
      "\u001b[0;32m<ipython-input-101-28c095cc3ac4>\u001b[0m in \u001b[0;36m<module>\u001b[0;34m\u001b[0m\n\u001b[0;32m----> 1\u001b[0;31m \u001b[0mdump\u001b[0m\u001b[0;34m=\u001b[0m\u001b[0;34m(\u001b[0m\u001b[0mProcess\u001b[0m\u001b[0;34m.\u001b[0m\u001b[0mfetch\u001b[0m\u001b[0;34m(\u001b[0m \u001b[0mas_dict\u001b[0m\u001b[0;34m=\u001b[0m\u001b[0;32mTrue\u001b[0m \u001b[0;34m)\u001b[0m\u001b[0;34m)\u001b[0m\u001b[0;34m\u001b[0m\u001b[0m\n\u001b[0m",
      "\u001b[0;32m/Library/Frameworks/Python.framework/Versions/3.7/lib/python3.7/site-packages/datajoint/fetch.py\u001b[0m in \u001b[0;36m__call__\u001b[0;34m(self, offset, limit, order_by, as_dict, squeeze, *attrs)\u001b[0m\n\u001b[1;32m     58\u001b[0m             \u001b[0;31m# fetch all attributes\u001b[0m\u001b[0;34m\u001b[0m\u001b[0;34m\u001b[0m\u001b[0m\n\u001b[1;32m     59\u001b[0m             \u001b[0mcur\u001b[0m \u001b[0;34m=\u001b[0m \u001b[0mself\u001b[0m\u001b[0;34m.\u001b[0m\u001b[0m_relation\u001b[0m\u001b[0;34m.\u001b[0m\u001b[0mcursor\u001b[0m\u001b[0;34m(\u001b[0m\u001b[0mas_dict\u001b[0m\u001b[0;34m=\u001b[0m\u001b[0mas_dict\u001b[0m\u001b[0;34m,\u001b[0m \u001b[0mlimit\u001b[0m\u001b[0;34m=\u001b[0m\u001b[0mlimit\u001b[0m\u001b[0;34m,\u001b[0m \u001b[0moffset\u001b[0m\u001b[0;34m=\u001b[0m\u001b[0moffset\u001b[0m\u001b[0;34m,\u001b[0m \u001b[0morder_by\u001b[0m\u001b[0;34m=\u001b[0m\u001b[0morder_by\u001b[0m\u001b[0;34m)\u001b[0m\u001b[0;34m\u001b[0m\u001b[0m\n\u001b[0;32m---> 60\u001b[0;31m             \u001b[0mheading\u001b[0m \u001b[0;34m=\u001b[0m \u001b[0mself\u001b[0m\u001b[0;34m.\u001b[0m\u001b[0m_relation\u001b[0m\u001b[0;34m.\u001b[0m\u001b[0mheading\u001b[0m\u001b[0;34m\u001b[0m\u001b[0m\n\u001b[0m\u001b[1;32m     61\u001b[0m             \u001b[0;32mif\u001b[0m \u001b[0mas_dict\u001b[0m\u001b[0;34m:\u001b[0m\u001b[0;34m\u001b[0m\u001b[0m\n\u001b[1;32m     62\u001b[0m                 ret = [OrderedDict((name, unpack(d[name], squeeze=squeeze) if heading[name].is_blob else d[name])\n",
      "\u001b[0;32m/Library/Frameworks/Python.framework/Versions/3.7/lib/python3.7/site-packages/datajoint/table.py\u001b[0m in \u001b[0;36mheading\u001b[0;34m(self)\u001b[0m\n\u001b[1;32m     53\u001b[0m                     'Missing schema decorator on the class? (e.g. @schema)')\n\u001b[1;32m     54\u001b[0m             \u001b[0;32melse\u001b[0m\u001b[0;34m:\u001b[0m\u001b[0;34m\u001b[0m\u001b[0m\n\u001b[0;32m---> 55\u001b[0;31m                 \u001b[0mself\u001b[0m\u001b[0;34m.\u001b[0m\u001b[0m_heading\u001b[0m\u001b[0;34m.\u001b[0m\u001b[0minit_from_database\u001b[0m\u001b[0;34m(\u001b[0m\u001b[0mself\u001b[0m\u001b[0;34m.\u001b[0m\u001b[0mconnection\u001b[0m\u001b[0;34m,\u001b[0m \u001b[0mself\u001b[0m\u001b[0;34m.\u001b[0m\u001b[0mdatabase\u001b[0m\u001b[0;34m,\u001b[0m \u001b[0mself\u001b[0m\u001b[0;34m.\u001b[0m\u001b[0mtable_name\u001b[0m\u001b[0;34m)\u001b[0m\u001b[0;34m\u001b[0m\u001b[0m\n\u001b[0m\u001b[1;32m     56\u001b[0m         \u001b[0;32mreturn\u001b[0m \u001b[0mself\u001b[0m\u001b[0;34m.\u001b[0m\u001b[0m_heading\u001b[0m\u001b[0;34m\u001b[0m\u001b[0m\n\u001b[1;32m     57\u001b[0m \u001b[0;34m\u001b[0m\u001b[0m\n",
      "\u001b[0;32m/Library/Frameworks/Python.framework/Versions/3.7/lib/python3.7/site-packages/datajoint/heading.py\u001b[0m in \u001b[0;36minit_from_database\u001b[0;34m(self, conn, database, table_name)\u001b[0m\n\u001b[1;32m    192\u001b[0m                 \u001b[0mattr\u001b[0m\u001b[0;34m[\u001b[0m\u001b[0;34m'type'\u001b[0m\u001b[0;34m]\u001b[0m \u001b[0;34m=\u001b[0m \u001b[0msplit_comment\u001b[0m\u001b[0;34m[\u001b[0m\u001b[0;36m1\u001b[0m\u001b[0;34m]\u001b[0m\u001b[0;34m\u001b[0m\u001b[0m\n\u001b[1;32m    193\u001b[0m \u001b[0;34m\u001b[0m\u001b[0m\n\u001b[0;32m--> 194\u001b[0;31m             \u001b[0mattr\u001b[0m\u001b[0;34m[\u001b[0m\u001b[0;34m'nullable'\u001b[0m\u001b[0;34m]\u001b[0m \u001b[0;34m=\u001b[0m \u001b[0;34m(\u001b[0m\u001b[0mattr\u001b[0m\u001b[0;34m[\u001b[0m\u001b[0;34m'nullable'\u001b[0m\u001b[0;34m]\u001b[0m \u001b[0;34m==\u001b[0m \u001b[0;34m'YES'\u001b[0m\u001b[0;34m)\u001b[0m\u001b[0;34m\u001b[0m\u001b[0m\n\u001b[0m\u001b[1;32m    195\u001b[0m             \u001b[0mattr\u001b[0m\u001b[0;34m[\u001b[0m\u001b[0;34m'in_key'\u001b[0m\u001b[0;34m]\u001b[0m \u001b[0;34m=\u001b[0m \u001b[0;34m(\u001b[0m\u001b[0mattr\u001b[0m\u001b[0;34m[\u001b[0m\u001b[0;34m'in_key'\u001b[0m\u001b[0;34m]\u001b[0m \u001b[0;34m==\u001b[0m \u001b[0;34m'PRI'\u001b[0m\u001b[0;34m)\u001b[0m\u001b[0;34m\u001b[0m\u001b[0m\n\u001b[1;32m    196\u001b[0m             \u001b[0mattr\u001b[0m\u001b[0;34m[\u001b[0m\u001b[0;34m'autoincrement'\u001b[0m\u001b[0;34m]\u001b[0m \u001b[0;34m=\u001b[0m \u001b[0mbool\u001b[0m\u001b[0;34m(\u001b[0m\u001b[0mre\u001b[0m\u001b[0;34m.\u001b[0m\u001b[0msearch\u001b[0m\u001b[0;34m(\u001b[0m\u001b[0;34mr'auto_increment'\u001b[0m\u001b[0;34m,\u001b[0m \u001b[0mattr\u001b[0m\u001b[0;34m[\u001b[0m\u001b[0;34m'Extra'\u001b[0m\u001b[0;34m]\u001b[0m\u001b[0;34m,\u001b[0m \u001b[0mflags\u001b[0m\u001b[0;34m=\u001b[0m\u001b[0mre\u001b[0m\u001b[0;34m.\u001b[0m\u001b[0mIGNORECASE\u001b[0m\u001b[0;34m)\u001b[0m\u001b[0;34m)\u001b[0m\u001b[0;34m\u001b[0m\u001b[0m\n",
      "\u001b[0;31mKeyError\u001b[0m: 'nullable'"
     ]
    }
   ],
   "source": [
    "dump=(Process.fetch( as_dict=True ))"
   ]
  },
  {
   "cell_type": "code",
   "execution_count": 93,
   "metadata": {
    "ExecuteTime": {
     "end_time": "2019-02-21T01:40:19.411169Z",
     "start_time": "2019-02-21T01:40:18.362790Z"
    }
   },
   "outputs": [
    {
     "name": "stdout",
     "output_type": "stream",
     "text": [
      "2019-01-01 23:32:02  125686663 MD585-N3-2015.07.16-19.48.34_MD585_1_0007_lossless.jp2\r\n"
     ]
    }
   ],
   "source": [
    "!aws s3 ls s3://$bucket/$raw_s3_fp"
   ]
  },
  {
   "cell_type": "code",
   "execution_count": null,
   "metadata": {},
   "outputs": [],
   "source": []
  }
 ],
 "metadata": {
  "hide_input": false,
  "kernelspec": {
   "display_name": "Python 3",
   "language": "python",
   "name": "python3"
  },
  "language_info": {
   "codemirror_mode": {
    "name": "ipython",
    "version": 3
   },
   "file_extension": ".py",
   "mimetype": "text/x-python",
   "name": "python",
   "nbconvert_exporter": "python",
   "pygments_lexer": "ipython3",
   "version": "3.7.0"
  },
  "toc": {
   "base_numbering": 1,
   "nav_menu": {},
   "number_sections": true,
   "sideBar": true,
   "skip_h1_title": false,
   "title_cell": "Table of Contents",
   "title_sidebar": "Contents",
   "toc_cell": false,
   "toc_position": {},
   "toc_section_display": true,
   "toc_window_display": false
  }
 },
 "nbformat": 4,
 "nbformat_minor": 2
}
