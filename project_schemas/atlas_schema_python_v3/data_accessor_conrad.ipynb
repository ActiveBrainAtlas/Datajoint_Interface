{
 "cells": [
  {
   "cell_type": "markdown",
   "metadata": {},
   "source": [
    "## Imports\n",
    "utilities.py contains a number of useful functions including loading credentials from a json file, retrieving files from S3, and defining thecurrent list of brains that are associated with the Active Atlas."
   ]
  },
  {
   "cell_type": "code",
   "execution_count": 1,
   "metadata": {
    "ExecuteTime": {
     "end_time": "2019-02-17T22:37:48.523189Z",
     "start_time": "2019-02-17T22:37:47.000271Z"
    }
   },
   "outputs": [],
   "source": [
    "import datajoint as dj  # automatically loads dj.config from the file `dj_local_conf.json` if it exists\n",
    "import numpy as np\n",
    "import json\n",
    "from subprocess import call\n",
    "import yaml\n",
    "import sys, os\n",
    "import pandas as pd\n",
    "\n",
    "sys.path.append('./lib')\n",
    "from utilities import *\n",
    "from initialization_of_db import *"
   ]
  },
  {
   "cell_type": "markdown",
   "metadata": {},
   "source": [
    "## Load Credentials, Connect to Database\n",
    "User needs to supply credentials to connect to the dj server and to S3.\n",
    "\n",
    "1. The master file is in `setup/credFiles.yaml`. This file contains pointers to the dj and S3 credentials. A typical contant is \n",
    "``` yaml\n",
    "aws_fp: /Users/yoavfreund/VaultBrain/s3-creds.json\n",
    "dj_fp: /Users/yoavfreund/VaultBrain/dj_local_conf.json\n",
    "```\n",
    "\n",
    "2. A redacted content of the json file `aws_fp` is:\n",
    "```json\n",
    "{\"access_key\": \"XXXX\", \n",
    "\"secret_key\": \"SSSSSSS\"}\n",
    "```\n",
    "\n",
    "3. A redacted content of the json file `dj_fp` is \n",
    "```json\n",
    "{\n",
    "    \"database.host\": \"ucsd-demo-db.datajoint.io\",\n",
    "    \"database.password\": \"XXXXXXXXXXX\",\n",
    "    \"database.user\": \"yoav\",\n",
    "    \"database.port\": 3306,\n",
    "    \"database.reconnect\": false,\n",
    "    \"connection.init_function\": null,\n",
    "    \"connection.charset\": \"\",\n",
    "    \"loglevel\": \"INFO\",\n",
    "    \"safemode\": true,\n",
    "    \"display.limit\": 7,\n",
    "    \"display.width\": 14,\n",
    "    \"display.show_tuple_count\": true,\n",
    "    \"history\": [\n",
    "        \"No config file found, using default settings.\",\n",
    "        \"Updated from config file: dj_local_conf.json\"\n",
    "    ]\n",
    "}\n",
    "```"
   ]
  },
  {
   "cell_type": "code",
   "execution_count": 2,
   "metadata": {
    "ExecuteTime": {
     "end_time": "2019-02-17T22:37:50.795971Z",
     "start_time": "2019-02-17T22:37:50.790980Z"
    }
   },
   "outputs": [],
   "source": [
    "# Load Datajoint Credentials\n",
    "# `dj_creds` needs the following fields: 'user', 'passwd'\n",
    "# Then set necessary fields in dj.config\n",
    "\n",
    "# Cannot directly set 'dj.config' equal to the json file as it is a special datajoint object\n",
    "dj.config['database.host'] = get_dj_creds()['database.host']\n",
    "dj.config['database.user'] = get_dj_creds()['database.user']\n",
    "dj.config['database.port'] = get_dj_creds()['database.port']\n",
    "dj.config['database.password'] = get_dj_creds()['database.password']\n",
    "\n",
    "# Will save a json file in this directory (ignored by git) with credentials. Won't need to load them again\n",
    "dj.config.save_local()"
   ]
  },
  {
   "cell_type": "code",
   "execution_count": 2,
   "metadata": {
    "ExecuteTime": {
     "end_time": "2019-02-17T22:37:52.551846Z",
     "start_time": "2019-02-17T22:37:52.167250Z"
    }
   },
   "outputs": [
    {
     "name": "stdout",
     "output_type": "stream",
     "text": [
      "Connecting dbadmin@ucsd-demo-db.datajoint.io:3306\n"
     ]
    },
    {
     "data": {
      "text/plain": [
       "DataJoint connection (connected) dbadmin@ucsd-demo-db.datajoint.io:3306"
      ]
     },
     "execution_count": 2,
     "metadata": {},
     "output_type": "execute_result"
    }
   ],
   "source": [
    "# Connect to datajoint server\n",
    "dj.conn()"
   ]
  },
  {
   "cell_type": "code",
   "execution_count": 4,
   "metadata": {
    "ExecuteTime": {
     "end_time": "2019-02-17T22:38:03.595702Z",
     "start_time": "2019-02-17T22:38:03.140701Z"
    }
   },
   "outputs": [],
   "source": [
    "# Define which schema you're using\n",
    "schema = dj.schema('conrad_test')\n",
    "schema.spawn_missing_classes()\n",
    "\n",
    "#dj.ERD(schema)"
   ]
  },
  {
   "cell_type": "code",
   "execution_count": 5,
   "metadata": {},
   "outputs": [
    {
     "data": {
      "image/svg+xml": [
       "<svg height=\"185pt\" viewBox=\"0.00 0.00 198.75 185.00\" width=\"199pt\" xmlns=\"http://www.w3.org/2000/svg\" xmlns:xlink=\"http://www.w3.org/1999/xlink\">\n",
       "<g class=\"graph\" id=\"graph0\" transform=\"scale(1 1) rotate(0) translate(4 181)\">\n",
       "<title>%3</title>\n",
       "<polygon fill=\"#ffffff\" points=\"-4,4 -4,-181 194.75,-181 194.75,4 -4,4\" stroke=\"transparent\"/>\n",
       "<!-- Session -->\n",
       "<g class=\"node\" id=\"node1\">\n",
       "<title>Session</title>\n",
       "<g id=\"a_node1\"><a xlink:title=\"→ Mouse\r",
       "session              \r",
       "------------------------------\r",
       "path_to_tiff         \r",
       "path_to_adi          \r",
       "adi_trial_num        \r",
       "session_date         \r",
       "type                 \r",
       "notes                \r",
       "\">\n",
       "<polygon fill=\"#00ff00\" fill-opacity=\"0.188235\" points=\"125.75,-106 63.75,-106 63.75,-71 125.75,-71 125.75,-106\" stroke=\"#00ff00\" stroke-opacity=\"0.188235\"/>\n",
       "<text fill=\"#006400\" font-family=\"arial\" font-size=\"12.00\" text-anchor=\"start\" text-decoration=\"underline\" x=\"71.75\" y=\"-86.4\">Session</text>\n",
       "</a>\n",
       "</g>\n",
       "</g>\n",
       "<!-- Behavior -->\n",
       "<g class=\"node\" id=\"node2\">\n",
       "<title>Behavior</title>\n",
       "<g id=\"a_node2\"><a xlink:title=\"→ Session\r",
       "------------------------------\r",
       "lick_freq            \r",
       "ang_vel              \r",
       "t                    \r",
       "\">\n",
       "<ellipse cx=\"43.75\" cy=\"-17.5\" fill=\"#00007f\" fill-opacity=\"0.250980\" rx=\"43.5014\" ry=\"17.5\" stroke=\"#00007f\" stroke-opacity=\"0.250980\"/>\n",
       "<text fill=\"#00007f\" font-family=\"arial\" font-size=\"12.00\" text-anchor=\"middle\" x=\"43.75\" y=\"-14.4\">Behavior</text>\n",
       "</a>\n",
       "</g>\n",
       "</g>\n",
       "<!-- Session&#45;&gt;Behavior -->\n",
       "<g class=\"edge\" id=\"edge1\">\n",
       "<title>Session-&gt;Behavior</title>\n",
       "<path d=\"M82.1433,-70.9494C74.12,-59.7798 63.7859,-45.3931 55.8605,-34.3598\" fill=\"none\" stroke=\"#000000\" stroke-opacity=\"0.250980\" stroke-width=\"2\"/>\n",
       "</g>\n",
       "<!-- Imaging -->\n",
       "<g class=\"node\" id=\"node5\">\n",
       "<title>Imaging</title>\n",
       "<g id=\"a_node5\"><a xlink:title=\"→ Session\r",
       "------------------------------\r",
       "roi_img              \r",
       "yfp                  \r",
       "cfp                  \r",
       "fret                 \r",
       "thresh               \r",
       "t                    \r",
       "si                   \r",
       "\">\n",
       "<ellipse cx=\"145.75\" cy=\"-17.5\" fill=\"#00007f\" fill-opacity=\"0.250980\" rx=\"40.7504\" ry=\"17.5\" stroke=\"#00007f\" stroke-opacity=\"0.250980\"/>\n",
       "<text fill=\"#00007f\" font-family=\"arial\" font-size=\"12.00\" text-anchor=\"middle\" x=\"145.75\" y=\"-14.4\">Imaging</text>\n",
       "</a>\n",
       "</g>\n",
       "</g>\n",
       "<!-- Session&#45;&gt;Imaging -->\n",
       "<g class=\"edge\" id=\"edge2\">\n",
       "<title>Session-&gt;Imaging</title>\n",
       "<path d=\"M107.3567,-70.9494C115.38,-59.7798 125.7141,-45.3931 133.6395,-34.3598\" fill=\"none\" stroke=\"#000000\" stroke-opacity=\"0.250980\" stroke-width=\"2\"/>\n",
       "</g>\n",
       "<!-- Mouse -->\n",
       "<g class=\"node\" id=\"node3\">\n",
       "<title>Mouse</title>\n",
       "<g id=\"a_node3\"><a xlink:title=\"mouse_id             \r",
       "------------------------------\r",
       "dob                  \r",
       "iacuc_barcode        \r",
       "sex=&quot;M&quot;              \r",
       "genotype=&quot;C57/Bl6&quot;   \r",
       "\">\n",
       "<polygon fill=\"#00ff00\" fill-opacity=\"0.188235\" points=\"122.75,-177 66.75,-177 66.75,-142 122.75,-142 122.75,-177\" stroke=\"#00ff00\" stroke-opacity=\"0.188235\"/>\n",
       "<text fill=\"#006400\" font-family=\"arial\" font-size=\"12.00\" text-anchor=\"start\" text-decoration=\"underline\" x=\"74.75\" y=\"-157.4\">Mouse</text>\n",
       "</a>\n",
       "</g>\n",
       "</g>\n",
       "<!-- Mouse&#45;&gt;Session -->\n",
       "<g class=\"edge\" id=\"edge3\">\n",
       "<title>Mouse-&gt;Session</title>\n",
       "<path d=\"M94.75,-141.9494C94.75,-131.1083 94.75,-117.2366 94.75,-106.3418\" fill=\"none\" stroke=\"#000000\" stroke-opacity=\"0.250980\" stroke-width=\".75\"/>\n",
       "</g>\n",
       "<!-- Person -->\n",
       "<g class=\"node\" id=\"node4\">\n",
       "<title>Person</title>\n",
       "<g id=\"a_node4\"><a xlink:title=\"username             \r",
       "------------------------------\r",
       "full_name            \r",
       "\">\n",
       "<polygon fill=\"#000000\" fill-opacity=\"0.125490\" points=\"190.75,-177 140.75,-177 140.75,-142 190.75,-142 190.75,-177\" stroke=\"transparent\"/>\n",
       "<text fill=\"#000000\" font-family=\"arial\" font-size=\"10.00\" text-anchor=\"start\" text-decoration=\"underline\" x=\"148.75\" y=\"-158\">Person</text>\n",
       "</a>\n",
       "</g>\n",
       "</g>\n",
       "</g>\n",
       "</svg>"
      ],
      "text/plain": [
       "<datajoint.erd.ERD at 0x7fc3c1f68400>"
      ]
     },
     "execution_count": 5,
     "metadata": {},
     "output_type": "execute_result"
    }
   ],
   "source": [
    "dj.ERD(schema)"
   ]
  },
  {
   "cell_type": "code",
   "execution_count": 27,
   "metadata": {},
   "outputs": [
    {
     "name": "stdout",
     "output_type": "stream",
     "text": [
      "________ Mouse ________\n",
      "# Mouse in the lab\n",
      "mouse_id             : char(8)                      # unique mouse id - CF_Sensor_number\n",
      "---\n",
      "dob                  : date                         # Date of birth\n",
      "iacuc_barcode        : bigint unsigned              # The IACUC barcode on the cage\n",
      "sex=\"M\"              : enum('M','F')                # The mouse gender\n",
      "genotype=\"C57/Bl6\"   : varchar(1000)                # The mouse strain\n",
      "\n",
      "________ Person ________\n",
      "username             : varchar(16)                  \n",
      "---\n",
      "full_name            : varchar(30)                  \n",
      "\n",
      "________ Session ________\n",
      "-> Mouse\n",
      "session              : tinyint unsigned             # The session number\n",
      "---\n",
      "path_to_tiff         : varchar(1000)                # Two photon tiff file\n",
      "path_to_adi          : varchar(1000)                # Labchart file with behavioural data\n",
      "adi_trial_num        : tinyint                      # The session number in the adicht file associated with this session\n",
      "session_date         : date                         # The date of the session\n",
      "type                 : enum('naive','fbd1','fbd2','post') # The type of experimental trial\n",
      "notes                : varchar(10000)               # Notes for the session\n",
      "\n",
      "________ Behavior ________\n",
      "-> Session\n",
      "---\n",
      "lick_freq            : longblob                     # The frequency of licks (Hz)\n",
      "ang_vel              : longblob                     # The angular velocity of running (deg/s)\n",
      "t                    : longblob                     # The time from start of imaging session (s)\n",
      "\n",
      "________ Imaging ________\n",
      "-> Session\n",
      "---\n",
      "roi_img              : longblob                     # The ROI used for calculating the fluorescence traces\n",
      "yfp                  : longblob                     # The YFP fluorescence trace (dF/F)\n",
      "cfp                  : longblob                     # The CFP fluorescence trace (dF/F)\n",
      "fret                 : longblob                     # The FRET signal (dR/R = yfp/cfp - 1)\n",
      "thresh               : longblob                     # The reward threshold for the FRET signal\n",
      "t                    : longblob                     # The time from the start of the imaging session\n",
      "si                   : longblob                     # The scanimage property structure\n",
      "\n"
     ]
    }
   ],
   "source": [
    "print('________ Mouse ________')\n",
    "Mouse.describe()\n",
    "print('________ Person ________')\n",
    "Person.describe()\n",
    "print('________ Session ________')\n",
    "Session.describe()\n",
    "print('________ Behavior ________')\n",
    "Behavior.describe();\n",
    "print('________ Imaging ________')\n",
    "Imaging.describe();"
   ]
  },
  {
   "cell_type": "code",
   "execution_count": 26,
   "metadata": {
    "ExecuteTime": {
     "end_time": "2019-02-17T22:38:05.793972Z",
     "start_time": "2019-02-17T22:38:05.347314Z"
    }
   },
   "outputs": [
    {
     "name": "stdout",
     "output_type": "stream",
     "text": [
      "________ Mouse ________\n",
      "# Mouse in the lab\n",
      "mouse_id             : char(8)                      # unique mouse id - CF_Sensor_number\n",
      "---\n",
      "dob                  : date                         # Date of birth\n",
      "iacuc_barcode        : bigint unsigned              # The IACUC barcode on the cage\n",
      "sex=\"M\"              : enum('M','F')                # The mouse gender\n",
      "genotype=\"C57/Bl6\"   : varchar(1000)                # The mouse strain\n",
      "\n",
      "________ Histology ________\n"
     ]
    },
    {
     "ename": "NameError",
     "evalue": "name 'Histology' is not defined",
     "output_type": "error",
     "traceback": [
      "\u001b[0;31m---------------------------------------------------------------------------\u001b[0m",
      "\u001b[0;31mNameError\u001b[0m                                 Traceback (most recent call last)",
      "\u001b[0;32m<ipython-input-26-df568e548411>\u001b[0m in \u001b[0;36m<module>\u001b[0;34m\u001b[0m\n\u001b[1;32m      2\u001b[0m \u001b[0mMouse\u001b[0m\u001b[0;34m.\u001b[0m\u001b[0mdescribe\u001b[0m\u001b[0;34m(\u001b[0m\u001b[0;34m)\u001b[0m\u001b[0;34m\u001b[0m\u001b[0;34m\u001b[0m\u001b[0m\n\u001b[1;32m      3\u001b[0m \u001b[0mprint\u001b[0m\u001b[0;34m(\u001b[0m\u001b[0;34m'________ Histology ________'\u001b[0m\u001b[0;34m)\u001b[0m\u001b[0;34m\u001b[0m\u001b[0;34m\u001b[0m\u001b[0m\n\u001b[0;32m----> 4\u001b[0;31m \u001b[0mHistology\u001b[0m\u001b[0;34m.\u001b[0m\u001b[0mdescribe\u001b[0m\u001b[0;34m(\u001b[0m\u001b[0;34m)\u001b[0m\u001b[0;34m\u001b[0m\u001b[0;34m\u001b[0m\u001b[0m\n\u001b[0m\u001b[1;32m      5\u001b[0m \u001b[0mprint\u001b[0m\u001b[0;34m(\u001b[0m\u001b[0;34m'________ Stack ________'\u001b[0m\u001b[0;34m)\u001b[0m\u001b[0;34m\u001b[0m\u001b[0;34m\u001b[0m\u001b[0m\n\u001b[1;32m      6\u001b[0m \u001b[0mStack\u001b[0m\u001b[0;34m.\u001b[0m\u001b[0mdescribe\u001b[0m\u001b[0;34m(\u001b[0m\u001b[0;34m)\u001b[0m\u001b[0;34m\u001b[0m\u001b[0;34m\u001b[0m\u001b[0m\n",
      "\u001b[0;31mNameError\u001b[0m: name 'Histology' is not defined"
     ]
    }
   ],
   "source": [
    "print('________ Mouse ________')\n",
    "Mouse.describe()\n",
    "print('________ Histology ________')\n",
    "Histology.describe()\n",
    "print('________ Stack ________')\n",
    "Stack.describe()\n",
    "print('________ Slice ________')\n",
    "Slice.describe();"
   ]
  },
  {
   "cell_type": "markdown",
   "metadata": {},
   "source": [
    "## extracting rows as pandas dataframe"
   ]
  },
  {
   "cell_type": "code",
   "execution_count": 4,
   "metadata": {
    "ExecuteTime": {
     "end_time": "2019-02-17T22:38:18.079607Z",
     "start_time": "2019-02-17T22:38:17.483551Z"
    },
    "scrolled": false
   },
   "outputs": [
    {
     "data": {
      "text/html": [
       "<div>\n",
       "<style scoped>\n",
       "    .dataframe tbody tr th:only-of-type {\n",
       "        vertical-align: middle;\n",
       "    }\n",
       "\n",
       "    .dataframe tbody tr th {\n",
       "        vertical-align: top;\n",
       "    }\n",
       "\n",
       "    .dataframe thead th {\n",
       "        text-align: right;\n",
       "    }\n",
       "</style>\n",
       "<table border=\"1\" class=\"dataframe\">\n",
       "  <thead>\n",
       "    <tr style=\"text-align: right;\">\n",
       "      <th></th>\n",
       "      <th>mouse</th>\n",
       "      <th>stack_name</th>\n",
       "      <th>num_slices</th>\n",
       "      <th>num_valid_slices</th>\n",
       "      <th>channels</th>\n",
       "      <th>human_annotated</th>\n",
       "      <th>planar_resolution_um</th>\n",
       "      <th>section_thickness_um</th>\n",
       "    </tr>\n",
       "  </thead>\n",
       "  <tbody>\n",
       "    <tr>\n",
       "      <th>0</th>\n",
       "      <td>CHATM2</td>\n",
       "      <td>CHATM2</td>\n",
       "      <td>328</td>\n",
       "      <td>235</td>\n",
       "      <td>2</td>\n",
       "      <td>0</td>\n",
       "      <td>0.46</td>\n",
       "      <td>20.0</td>\n",
       "    </tr>\n",
       "    <tr>\n",
       "      <th>1</th>\n",
       "      <td>CHATM3</td>\n",
       "      <td>CHATM3</td>\n",
       "      <td>413</td>\n",
       "      <td>293</td>\n",
       "      <td>2</td>\n",
       "      <td>0</td>\n",
       "      <td>0.46</td>\n",
       "      <td>20.0</td>\n",
       "    </tr>\n",
       "    <tr>\n",
       "      <th>2</th>\n",
       "      <td>CSHL2</td>\n",
       "      <td>CSHL2</td>\n",
       "      <td>-1</td>\n",
       "      <td>-1</td>\n",
       "      <td>1</td>\n",
       "      <td>0</td>\n",
       "      <td>0.46</td>\n",
       "      <td>20.0</td>\n",
       "    </tr>\n",
       "    <tr>\n",
       "      <th>3</th>\n",
       "      <td>MD175</td>\n",
       "      <td>MD175</td>\n",
       "      <td>-1</td>\n",
       "      <td>-1</td>\n",
       "      <td>1</td>\n",
       "      <td>0</td>\n",
       "      <td>0.46</td>\n",
       "      <td>20.0</td>\n",
       "    </tr>\n",
       "    <tr>\n",
       "      <th>4</th>\n",
       "      <td>MD585</td>\n",
       "      <td>MD585</td>\n",
       "      <td>447</td>\n",
       "      <td>439</td>\n",
       "      <td>1</td>\n",
       "      <td>1</td>\n",
       "      <td>0.46</td>\n",
       "      <td>20.0</td>\n",
       "    </tr>\n",
       "  </tbody>\n",
       "</table>\n",
       "</div>"
      ],
      "text/plain": [
       "    mouse stack_name  num_slices  num_valid_slices  channels  human_annotated  \\\n",
       "0  CHATM2     CHATM2         328               235         2                0   \n",
       "1  CHATM3     CHATM3         413               293         2                0   \n",
       "2   CSHL2      CSHL2          -1                -1         1                0   \n",
       "3   MD175      MD175          -1                -1         1                0   \n",
       "4   MD585      MD585         447               439         1                1   \n",
       "\n",
       "   planar_resolution_um  section_thickness_um  \n",
       "0                  0.46                  20.0  \n",
       "1                  0.46                  20.0  \n",
       "2                  0.46                  20.0  \n",
       "3                  0.46                  20.0  \n",
       "4                  0.46                  20.0  "
      ]
     },
     "execution_count": 4,
     "metadata": {},
     "output_type": "execute_result"
    }
   ],
   "source": [
    "brainStackTable = Stack.fetch(as_dict=True)\n",
    "brainStackDF = pd.DataFrame(brainStackTable)\n",
    "brainStackDF.head()"
   ]
  },
  {
   "cell_type": "markdown",
   "metadata": {},
   "source": [
    "#### Todo\n",
    "Sorted_filenames is no longer relevant, should create a table without this column."
   ]
  },
  {
   "cell_type": "code",
   "execution_count": 5,
   "metadata": {
    "ExecuteTime": {
     "end_time": "2019-02-17T22:38:20.416153Z",
     "start_time": "2019-02-17T22:38:20.283234Z"
    }
   },
   "outputs": [
    {
     "name": "stdout",
     "output_type": "stream",
     "text": [
      "(27, 7)\n"
     ]
    },
    {
     "data": {
      "text/html": [
       "<div>\n",
       "<style scoped>\n",
       "    .dataframe tbody tr th:only-of-type {\n",
       "        vertical-align: middle;\n",
       "    }\n",
       "\n",
       "    .dataframe tbody tr th {\n",
       "        vertical-align: top;\n",
       "    }\n",
       "\n",
       "    .dataframe thead th {\n",
       "        text-align: right;\n",
       "    }\n",
       "</style>\n",
       "<table border=\"1\" class=\"dataframe\">\n",
       "  <thead>\n",
       "    <tr style=\"text-align: right;\">\n",
       "      <th></th>\n",
       "      <th>mouse</th>\n",
       "      <th>region</th>\n",
       "      <th>thickness</th>\n",
       "      <th>orientation</th>\n",
       "      <th>counter_stain</th>\n",
       "      <th>lab</th>\n",
       "      <th>series</th>\n",
       "    </tr>\n",
       "  </thead>\n",
       "  <tbody>\n",
       "    <tr>\n",
       "      <th>0</th>\n",
       "      <td>CHATM2</td>\n",
       "      <td>Unknown</td>\n",
       "      <td>20</td>\n",
       "      <td>sagittal</td>\n",
       "      <td>NTB/ChAT</td>\n",
       "      <td>UCSD</td>\n",
       "      <td>unknown</td>\n",
       "    </tr>\n",
       "    <tr>\n",
       "      <th>1</th>\n",
       "      <td>CHATM3</td>\n",
       "      <td>Unknown</td>\n",
       "      <td>20</td>\n",
       "      <td>sagittal</td>\n",
       "      <td>NTB/ChAT</td>\n",
       "      <td>UCSD</td>\n",
       "      <td>unknown</td>\n",
       "    </tr>\n",
       "    <tr>\n",
       "      <th>2</th>\n",
       "      <td>CSHL2</td>\n",
       "      <td>Unknown</td>\n",
       "      <td>20</td>\n",
       "      <td>sagittal</td>\n",
       "      <td>?</td>\n",
       "      <td>UCSD</td>\n",
       "      <td>unknown</td>\n",
       "    </tr>\n",
       "    <tr>\n",
       "      <th>3</th>\n",
       "      <td>MD175</td>\n",
       "      <td>Unknown</td>\n",
       "      <td>20</td>\n",
       "      <td>coronal</td>\n",
       "      <td>thionin</td>\n",
       "      <td>CSHL</td>\n",
       "      <td>unknown</td>\n",
       "    </tr>\n",
       "    <tr>\n",
       "      <th>4</th>\n",
       "      <td>MD585</td>\n",
       "      <td>Unknown</td>\n",
       "      <td>20</td>\n",
       "      <td>sagittal</td>\n",
       "      <td>thionin</td>\n",
       "      <td>CSHL</td>\n",
       "      <td>unknown</td>\n",
       "    </tr>\n",
       "  </tbody>\n",
       "</table>\n",
       "</div>"
      ],
      "text/plain": [
       "    mouse   region  thickness orientation counter_stain   lab   series\n",
       "0  CHATM2  Unknown         20    sagittal      NTB/ChAT  UCSD  unknown\n",
       "1  CHATM3  Unknown         20    sagittal      NTB/ChAT  UCSD  unknown\n",
       "2   CSHL2  Unknown         20    sagittal             ?  UCSD  unknown\n",
       "3   MD175  Unknown         20     coronal       thionin  CSHL  unknown\n",
       "4   MD585  Unknown         20    sagittal       thionin  CSHL  unknown"
      ]
     },
     "execution_count": 5,
     "metadata": {},
     "output_type": "execute_result"
    }
   ],
   "source": [
    "HistologyTable = Histology.fetch( as_dict=True )\n",
    "HistologyDF=pd.DataFrame.from_dict(HistologyTable)\n",
    "print(HistologyDF.shape)\n",
    "HistologyDF.head()"
   ]
  },
  {
   "cell_type": "markdown",
   "metadata": {},
   "source": [
    "## List relevant info for given stack\n",
    "#### - Example displaying MD585 sections\n"
   ]
  },
  {
   "cell_type": "code",
   "execution_count": 8,
   "metadata": {
    "ExecuteTime": {
     "end_time": "2019-02-17T22:39:14.386737Z",
     "start_time": "2019-02-17T22:39:14.378766Z"
    }
   },
   "outputs": [
    {
     "data": {
      "text/html": [
       "<div>\n",
       "<style scoped>\n",
       "    .dataframe tbody tr th:only-of-type {\n",
       "        vertical-align: middle;\n",
       "    }\n",
       "\n",
       "    .dataframe tbody tr th {\n",
       "        vertical-align: top;\n",
       "    }\n",
       "\n",
       "    .dataframe thead th {\n",
       "        text-align: right;\n",
       "    }\n",
       "</style>\n",
       "<table border=\"1\" class=\"dataframe\">\n",
       "  <thead>\n",
       "    <tr style=\"text-align: right;\">\n",
       "      <th></th>\n",
       "      <th>mouse</th>\n",
       "      <th>stack_name</th>\n",
       "      <th>num_slices</th>\n",
       "      <th>channels</th>\n",
       "    </tr>\n",
       "  </thead>\n",
       "  <tbody>\n",
       "    <tr>\n",
       "      <th>4</th>\n",
       "      <td>MD585</td>\n",
       "      <td>MD585</td>\n",
       "      <td>-1</td>\n",
       "      <td>1</td>\n",
       "    </tr>\n",
       "  </tbody>\n",
       "</table>\n",
       "</div>"
      ],
      "text/plain": [
       "   mouse stack_name  num_slices  channels\n",
       "4  MD585      MD585          -1         1"
      ]
     },
     "execution_count": 8,
     "metadata": {},
     "output_type": "execute_result"
    }
   ],
   "source": [
    "stack = 'MD585'\n",
    "ThisBrain=brainStackDF[brainStackDF['mouse']==stack]\n",
    "ThisBrain[['mouse','stack_name','num_slices','channels']]"
   ]
  },
  {
   "cell_type": "code",
   "execution_count": 13,
   "metadata": {
    "ExecuteTime": {
     "end_time": "2019-02-17T22:39:50.464042Z",
     "start_time": "2019-02-17T22:39:50.454749Z"
    }
   },
   "outputs": [
    {
     "data": {
      "text/html": [
       "<div>\n",
       "<style scoped>\n",
       "    .dataframe tbody tr th:only-of-type {\n",
       "        vertical-align: middle;\n",
       "    }\n",
       "\n",
       "    .dataframe tbody tr th {\n",
       "        vertical-align: top;\n",
       "    }\n",
       "\n",
       "    .dataframe thead th {\n",
       "        text-align: right;\n",
       "    }\n",
       "</style>\n",
       "<table border=\"1\" class=\"dataframe\">\n",
       "  <thead>\n",
       "    <tr style=\"text-align: right;\">\n",
       "      <th></th>\n",
       "      <th>mouse</th>\n",
       "      <th>region</th>\n",
       "      <th>thickness</th>\n",
       "      <th>orientation</th>\n",
       "      <th>counter_stain</th>\n",
       "      <th>lab</th>\n",
       "      <th>series</th>\n",
       "    </tr>\n",
       "  </thead>\n",
       "  <tbody>\n",
       "    <tr>\n",
       "      <th>4</th>\n",
       "      <td>MD585</td>\n",
       "      <td>Unknown</td>\n",
       "      <td>20</td>\n",
       "      <td>sagittal</td>\n",
       "      <td>thionin</td>\n",
       "      <td>CSHL</td>\n",
       "      <td>unknown</td>\n",
       "    </tr>\n",
       "  </tbody>\n",
       "</table>\n",
       "</div>"
      ],
      "text/plain": [
       "   mouse   region  thickness orientation counter_stain   lab   series\n",
       "4  MD585  Unknown         20    sagittal       thionin  CSHL  unknown"
      ]
     },
     "execution_count": 13,
     "metadata": {},
     "output_type": "execute_result"
    }
   ],
   "source": [
    "ThisHistology=HistologyDF[HistologyDF['mouse']==stack]\n",
    "ThisHistology"
   ]
  },
  {
   "cell_type": "markdown",
   "metadata": {},
   "source": [
    "## Access Raw & Processed Data\n",
    "#### - Example accessing MD585 data"
   ]
  },
  {
   "cell_type": "code",
   "execution_count": 39,
   "metadata": {
    "ExecuteTime": {
     "end_time": "2019-02-17T23:09:45.321273Z",
     "start_time": "2019-02-17T23:09:44.574472Z"
    },
    "scrolled": true
   },
   "outputs": [
    {
     "name": "stdout",
     "output_type": "stream",
     "text": [
      "all valid= (9830, 5)\n",
      "valid and raw_s3_fp defined (9251, 5)\n",
      "valid and raw and processed defined (5419, 5)\n"
     ]
    },
    {
     "data": {
      "text/html": [
       "<div>\n",
       "<style scoped>\n",
       "    .dataframe tbody tr th:only-of-type {\n",
       "        vertical-align: middle;\n",
       "    }\n",
       "\n",
       "    .dataframe tbody tr th {\n",
       "        vertical-align: top;\n",
       "    }\n",
       "\n",
       "    .dataframe thead th {\n",
       "        text-align: right;\n",
       "    }\n",
       "</style>\n",
       "<table border=\"1\" class=\"dataframe\">\n",
       "  <thead>\n",
       "    <tr style=\"text-align: right;\">\n",
       "      <th></th>\n",
       "      <th>mouse</th>\n",
       "      <th>slice_name</th>\n",
       "      <th>valid</th>\n",
       "      <th>raw_s3_fp</th>\n",
       "      <th>processed_s3_fp</th>\n",
       "    </tr>\n",
       "    <tr>\n",
       "      <th>slice_num</th>\n",
       "      <th></th>\n",
       "      <th></th>\n",
       "      <th></th>\n",
       "      <th></th>\n",
       "      <th></th>\n",
       "    </tr>\n",
       "  </thead>\n",
       "  <tbody>\n",
       "    <tr>\n",
       "      <th>83</th>\n",
       "      <td>MD585</td>\n",
       "      <td>MD585-N16-2015.07.16-20.32.33_MD585_2_0047</td>\n",
       "      <td>1</td>\n",
       "      <td>CSHL_data/MD585/MD585-N16-2015.07.16-20.32.33_...</td>\n",
       "      <td>CSHL_data_processed/MD585/MD585_prep2_lossless...</td>\n",
       "    </tr>\n",
       "    <tr>\n",
       "      <th>84</th>\n",
       "      <td>MD585</td>\n",
       "      <td>MD585-IHC16-2015.08.19-13.14.51_MD585_3_0048</td>\n",
       "      <td>1</td>\n",
       "      <td>CSHL_data/MD585/MD585-IHC16-2015.08.19-13.14.5...</td>\n",
       "      <td>CSHL_data_processed/MD585/MD585_prep2_lossless...</td>\n",
       "    </tr>\n",
       "    <tr>\n",
       "      <th>85</th>\n",
       "      <td>MD585</td>\n",
       "      <td>MD585-N17-2015.07.16-20.35.23_MD585_1_0049</td>\n",
       "      <td>1</td>\n",
       "      <td>CSHL_data/MD585/MD585-N17-2015.07.16-20.35.23_...</td>\n",
       "      <td>CSHL_data_processed/MD585/MD585_prep2_lossless...</td>\n",
       "    </tr>\n",
       "    <tr>\n",
       "      <th>86</th>\n",
       "      <td>MD585</td>\n",
       "      <td>MD585-IHC17-2015.07.16-15.32.03_MD585_1_0049</td>\n",
       "      <td>1</td>\n",
       "      <td>CSHL_data/MD585/MD585-IHC17-2015.07.16-15.32.0...</td>\n",
       "      <td>CSHL_data_processed/MD585/MD585_prep2_lossless...</td>\n",
       "    </tr>\n",
       "    <tr>\n",
       "      <th>87</th>\n",
       "      <td>MD585</td>\n",
       "      <td>MD585-N17-2015.07.16-20.35.23_MD585_2_0050</td>\n",
       "      <td>1</td>\n",
       "      <td>CSHL_data/MD585/MD585-N17-2015.07.16-20.35.23_...</td>\n",
       "      <td>CSHL_data_processed/MD585/MD585_prep2_lossless...</td>\n",
       "    </tr>\n",
       "  </tbody>\n",
       "</table>\n",
       "</div>"
      ],
      "text/plain": [
       "           mouse                                    slice_name  valid  \\\n",
       "slice_num                                                               \n",
       "83         MD585    MD585-N16-2015.07.16-20.32.33_MD585_2_0047      1   \n",
       "84         MD585  MD585-IHC16-2015.08.19-13.14.51_MD585_3_0048      1   \n",
       "85         MD585    MD585-N17-2015.07.16-20.35.23_MD585_1_0049      1   \n",
       "86         MD585  MD585-IHC17-2015.07.16-15.32.03_MD585_1_0049      1   \n",
       "87         MD585    MD585-N17-2015.07.16-20.35.23_MD585_2_0050      1   \n",
       "\n",
       "                                                   raw_s3_fp  \\\n",
       "slice_num                                                      \n",
       "83         CSHL_data/MD585/MD585-N16-2015.07.16-20.32.33_...   \n",
       "84         CSHL_data/MD585/MD585-IHC16-2015.08.19-13.14.5...   \n",
       "85         CSHL_data/MD585/MD585-N17-2015.07.16-20.35.23_...   \n",
       "86         CSHL_data/MD585/MD585-IHC17-2015.07.16-15.32.0...   \n",
       "87         CSHL_data/MD585/MD585-N17-2015.07.16-20.35.23_...   \n",
       "\n",
       "                                             processed_s3_fp  \n",
       "slice_num                                                     \n",
       "83         CSHL_data_processed/MD585/MD585_prep2_lossless...  \n",
       "84         CSHL_data_processed/MD585/MD585_prep2_lossless...  \n",
       "85         CSHL_data_processed/MD585/MD585_prep2_lossless...  \n",
       "86         CSHL_data_processed/MD585/MD585_prep2_lossless...  \n",
       "87         CSHL_data_processed/MD585/MD585_prep2_lossless...  "
      ]
     },
     "execution_count": 39,
     "metadata": {},
     "output_type": "execute_result"
    }
   ],
   "source": [
    "# Gives a List of Dictionaries. Each element in the list is a new slice.\n",
    "#These_slices = (Slice&dict(mouse=stack,valid=1)).fetch( as_dict=True )\n",
    "These_slices = (Slice&dict(valid=1)).fetch( as_dict=True )\n",
    "SlicesDF=pd.DataFrame.from_dict(These_slices)\n",
    "SlicesDF=SlicesDF.set_index('slice_num')\n",
    "print('all valid=',SlicesDF.shape)\n",
    "with_raw = SlicesDF[SlicesDF['raw_s3_fp']!='']\n",
    "with_raw_and_processed = with_raw[with_raw['processed_s3_fp']!='']\n",
    "print('valid and raw_s3_fp defined',with_raw.shape)\n",
    "print('valid and raw and processed defined',with_raw_and_processed.shape)\n",
    "with_raw_and_processed.head()"
   ]
  },
  {
   "cell_type": "markdown",
   "metadata": {},
   "source": [
    "* 9830 slices are valid\n"
   ]
  },
  {
   "cell_type": "code",
   "execution_count": 21,
   "metadata": {
    "ExecuteTime": {
     "end_time": "2019-02-17T22:47:20.860699Z",
     "start_time": "2019-02-17T22:47:20.855199Z"
    }
   },
   "outputs": [
    {
     "data": {
      "text/plain": [
       "mouse                                                          MD585\n",
       "slice_name              MD585-IHC36-2015.08.19-13.58.57_MD585_1_0106\n",
       "valid                                                              1\n",
       "raw_s3_fp          CSHL_data/MD585/MD585-IHC36-2015.08.19-13.58.5...\n",
       "processed_s3_fp    CSHL_data_processed/MD585/MD585_prep2_lossless...\n",
       "Name: 200, dtype: object"
      ]
     },
     "execution_count": 21,
     "metadata": {},
     "output_type": "execute_result"
    }
   ],
   "source": [
    "slice_index = 200\n",
    "SliceInfo=SlicesDF.loc[slice_index,:]\n",
    "SliceInfo"
   ]
  },
  {
   "cell_type": "markdown",
   "metadata": {},
   "source": [
    "# Download Images from S3 to Local Computer\n",
    "(Relies on `bucket` and `filename_list` from previous cell)"
   ]
  },
  {
   "cell_type": "code",
   "execution_count": 22,
   "metadata": {
    "ExecuteTime": {
     "end_time": "2019-02-17T22:47:57.003682Z",
     "start_time": "2019-02-17T22:47:56.999220Z"
    },
    "collapsed": true
   },
   "outputs": [],
   "source": [
    "from subprocess import call\n",
    "\n",
    "# S3 bucket must be appended to the s3_fp\n",
    "def download_from_s3(s3_fp, local_root=os.environ['DWNLD_ROOT_DIR'], raw=False):\n",
    "    if raw:\n",
    "        s3_url = \"s3://\"+os.environ['BUCKET_RAWDATA']+\"/\" + s3_fp\n",
    "    else:\n",
    "        s3_url = \"s3://\"+os.environ['BUCKET_DATA']+\"/\" + s3_fp\n",
    "    local_download_fp = local_root + s3_fp\n",
    "    \n",
    "    print(\"aws \"+\"s3 \"+\"cp \"+s3_url+' '+local_download_fp)\n",
    "\n",
    "    call([\"aws\",\\\n",
    "          \"s3\",\\\n",
    "          \"cp\",\\\n",
    "          s3_url,\\\n",
    "          local_download_fp])\n"
   ]
  },
  {
   "cell_type": "code",
   "execution_count": 27,
   "metadata": {
    "ExecuteTime": {
     "end_time": "2019-02-17T22:52:29.742461Z",
     "start_time": "2019-02-17T22:51:31.011044Z"
    }
   },
   "outputs": [
    {
     "name": "stdout",
     "output_type": "stream",
     "text": [
      "aws s3 cp s3://mousebrainatlas-data/CSHL_data_processed/MD585/MD585_prep2_lossless/MD585-IHC36-2015.08.19-13.58.57_MD585_1_0106_prep2_lossless.tif /Users/yoavfreund/projects/shapeology/data/CSHL_data_processed/MD585/MD585_prep2_lossless/MD585-IHC36-2015.08.19-13.58.57_MD585_1_0106_prep2_lossless.tif\n"
     ]
    }
   ],
   "source": [
    "# DOWNLOAD PROCESSED FILE\n",
    "s3_fp=SlicesDF.loc[200,'processed_s3_fp']\n",
    "print('downloading',s3_fp)\n",
    "# Downloads to `DWNLD_ROOT_DIR` set in setup/config.sh by default\n",
    "download_from_s3( s3_fp, raw=False)"
   ]
  },
  {
   "cell_type": "code",
   "execution_count": 28,
   "metadata": {
    "ExecuteTime": {
     "end_time": "2019-02-17T22:55:05.055840Z",
     "start_time": "2019-02-17T22:55:05.051591Z"
    }
   },
   "outputs": [
    {
     "name": "stdout",
     "output_type": "stream",
     "text": [
      "downloading CSHL_data/MD585/MD585-IHC36-2015.08.19-13.58.57_MD585_1_0106_lossless.jp2\n"
     ]
    }
   ],
   "source": [
    "# DOWNLOAD RAW FILE\n",
    "s3_fp=SlicesDF.loc[200,'raw_s3_fp']\n",
    "print('downloading',s3_fp)\n",
    "\n",
    "#download_from_s3( s3_fp, raw=True)"
   ]
  },
  {
   "cell_type": "code",
   "execution_count": null,
   "metadata": {
    "collapsed": true
   },
   "outputs": [],
   "source": []
  }
 ],
 "metadata": {
  "hide_input": false,
  "kernelspec": {
   "display_name": "Python 3",
   "language": "python",
   "name": "python3"
  },
  "language_info": {
   "codemirror_mode": {
    "name": "ipython",
    "version": 3
   },
   "file_extension": ".py",
   "mimetype": "text/x-python",
   "name": "python",
   "nbconvert_exporter": "python",
   "pygments_lexer": "ipython3",
   "version": "3.6.8"
  },
  "toc": {
   "base_numbering": 1,
   "nav_menu": {},
   "number_sections": true,
   "sideBar": true,
   "skip_h1_title": false,
   "title_cell": "Table of Contents",
   "title_sidebar": "Contents",
   "toc_cell": false,
   "toc_position": {},
   "toc_section_display": true,
   "toc_window_display": false
  }
 },
 "nbformat": 4,
 "nbformat_minor": 2
}
