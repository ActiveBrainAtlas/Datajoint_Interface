{
 "cells": [
  {
   "cell_type": "code",
   "execution_count": 24,
   "metadata": {},
   "outputs": [],
   "source": [
    "import os\n",
    "\n",
    "json_files_alex_desktop = os.environ['C_DRIVE']+'Users/Alex/Documents/json_credentials/'\n",
    "fn = 'datajoint_db_credentials.json'\n",
    "\n",
    "with open(json_files_alex_desktop+fn) as json_file:  \n",
    "    db_admin_creds = json.load(json_file)"
   ]
  },
  {
   "cell_type": "code",
   "execution_count": 25,
   "metadata": {
    "scrolled": true
   },
   "outputs": [],
   "source": [
    "# https://www.w3schools.com/sql/default.asp\n",
    "import pymysql\n",
    "import json\n",
    "import sys\n",
    "from pprint import pprint\n",
    "from utilities import *\n",
    "\n",
    "\n",
    "\n",
    "def print_sql_command_output( command='show tables' ):\n",
    "    # Create a connection cursor\n",
    "    cur = conn.cursor()\n",
    "    # Execute a mySql command\n",
    "    cur.execute(command)\n",
    "        \n",
    "    # Print out the commands output\n",
    "    print('---------------$  '+command + '  $---------------')\n",
    "    print('               ')\n",
    "    print(cur.description)\n",
    "    print()\n",
    "\n",
    "    for row in cur:\n",
    "        print(row)\n",
    "    print('\\n')\n",
    "    cur.close()\n",
    "    \n",
    "def execute_sql_command( command='' ):\n",
    "    try:\n",
    "        # Create a connection cursor\n",
    "        cur = conn.cursor()\n",
    "        # Execute a mySql command\n",
    "        cur.execute(command)\n",
    "        # Print out the commands output\n",
    "        print('---------------$  '+command + '  $---------------')\n",
    "        print('\\n')\n",
    "    except Exception as e:\n",
    "        print('-X-X-X-X-X-X-X-')\n",
    "        print('`'+command+'` failed')\n",
    "        print(e,'\\n-X-X-X-X-X-X-X-\\n')\n",
    "    \n",
    "# Establish connection to the database with pymysql\n",
    "def connect_to_db(db_name='alex_test'):\n",
    "    conn = pymysql.connect(host   = db_admin_creds['host'], \\\n",
    "                       port   = db_admin_creds['port'], \\\n",
    "                       user   = db_admin_creds['user'], \\\n",
    "                       passwd = db_admin_creds['passwd'], \\\n",
    "                       db     = db_name)\n",
    "    print('---------------$  CONNECTED TO `'+db_name + '`  $---------------') \n",
    "    print('\\n')\n",
    "    return conn"
   ]
  },
  {
   "cell_type": "markdown",
   "metadata": {},
   "source": [
    "## DB Specific Commands"
   ]
  },
  {
   "cell_type": "code",
   "execution_count": 28,
   "metadata": {},
   "outputs": [
    {
     "name": "stdout",
     "output_type": "stream",
     "text": [
      "---------------$  CONNECTED TO `conrad_test`  $---------------\n",
      "\n",
      "\n",
      "---------------$  show tables  $---------------\n",
      "               \n",
      "(('Tables_in_conrad_test', 253, None, 256, 256, 0, False),)\n",
      "\n",
      "('#person',)\n",
      "('~external',)\n",
      "('~log',)\n",
      "('_behavior',)\n",
      "('_imaging',)\n",
      "('mouse',)\n",
      "('session',)\n",
      "\n",
      "\n",
      "---------------$  SELECT * FROM mouse  $---------------\n",
      "               \n",
      "(('mouse_id', 254, None, 32, 32, 0, False), ('dob', 10, None, 10, 10, 0, False), ('iacuc_barcode', 8, None, 20, 20, 0, False), ('sex', 254, None, 4, 4, 0, False), ('genotype', 253, None, 4000, 4000, 0, False))\n",
      "\n",
      "('CF_A1_01', datetime.date(2017, 10, 7), 0, 'M', 'C57/Bl6')\n",
      "('CF_A1_02', datetime.date(2017, 10, 7), 0, 'M', 'C57/Bl6')\n",
      "('CF_A1_03', datetime.date(2018, 1, 4), 0, 'M', 'C57/Bl6')\n",
      "('CF_A1_04', datetime.date(2018, 1, 4), 0, 'M', 'C57/Bl6')\n",
      "('CF_A1_D2', '0000-00-00', 0, 'M', 'C57/Bl6')\n",
      "('CF_D2_01', datetime.date(2018, 3, 21), 0, 'M', 'C57/Bl6')\n",
      "('CF_D2_02', datetime.date(2018, 6, 27), 0, 'M', 'C57/Bl6')\n",
      "('CF_D2_03', datetime.date(2018, 7, 26), 0, 'M', 'C57/Bl6')\n",
      "('CF_M1_01', datetime.date(2018, 8, 29), 0, 'M', 'C57/Bl6')\n",
      "('CF_M1_02', datetime.date(2018, 8, 29), 0, 'M', 'C57/Bl6')\n",
      "('CF_M1_03', datetime.date(2018, 9, 14), 0, 'M', 'C57/Bl6')\n",
      "('CF_M1_04', '0000-00-00', 0, 'M', 'C57/Bl6')\n",
      "('CF_M1_05', '0000-00-00', 0, 'M', 'C57/Bl6')\n",
      "('CF_M1_07', '0000-00-00', 0, 'M', 'C57/Bl6')\n",
      "('CF_M1_6', '0000-00-00', 0, 'M', 'C57/Bl6')\n",
      "('CF_SIM', '0000-00-00', 0, 'M', 'C57/Bl6')\n",
      "\n",
      "\n"
     ]
    }
   ],
   "source": [
    "# db_name = alex_test, common_atlas, common_test, etc...\n",
    "conn = connect_to_db( db_name = 'conrad_test' )\n",
    "\n",
    "\n",
    "print_sql_command_output(command='show tables')\n",
    "\n",
    "print_sql_command_output(command='SELECT * FROM mouse')"
   ]
  },
  {
   "cell_type": "markdown",
   "metadata": {},
   "source": [
    "#### Adding and Removing entries from a DB"
   ]
  },
  {
   "cell_type": "code",
   "execution_count": 95,
   "metadata": {
    "scrolled": true
   },
   "outputs": [
    {
     "name": "stdout",
     "output_type": "stream",
     "text": [
      "---------------$  INSERT INTO mouse (mouse, rating_out_of_ten, iacuc_barcode, date_of_birth, sex, genotype) VALUES ('99', 10, '777777', '2019/01/01', 'M', 'XYZ')  $---------------\n",
      "\n",
      "\n",
      "---------------$  SELECT * FROM mouse  $---------------\n",
      "               \n",
      "(('mouse', 254, None, 40, 40, 0, False), ('rating_out_of_ten', 3, None, 11, 11, 0, False), ('iacuc_barcode', 8, None, 20, 20, 0, False), ('date_of_birth', 10, None, 10, 10, 0, False), ('sex', 254, None, 4, 4, 0, False), ('genotype', 253, None, 4000, 4000, 0, False))\n",
      "\n",
      "('1', 0, 11734, datetime.date(2018, 10, 25), 'F', 'C56')\n",
      "('2', 0, 11755, datetime.date(2018, 10, 27), 'M', 'C56')\n",
      "('99', 10, 777777, datetime.date(2019, 1, 1), 'M', 'XYZ')\n",
      "\n",
      "\n",
      "---------------$  DELETE FROM `mouse` WHERE `mouse` IN (99,100)  $---------------\n",
      "\n",
      "\n",
      "---------------$  SELECT * FROM mouse  $---------------\n",
      "               \n",
      "(('mouse', 254, None, 40, 40, 0, False), ('rating_out_of_ten', 3, None, 11, 11, 0, False), ('iacuc_barcode', 8, None, 20, 20, 0, False), ('date_of_birth', 10, None, 10, 10, 0, False), ('sex', 254, None, 4, 4, 0, False), ('genotype', 253, None, 4000, 4000, 0, False))\n",
      "\n",
      "('1', 0, 11734, datetime.date(2018, 10, 25), 'F', 'C56')\n",
      "('2', 0, 11755, datetime.date(2018, 10, 27), 'M', 'C56')\n",
      "\n",
      "\n"
     ]
    }
   ],
   "source": [
    "# Insert a new mouse into the table\n",
    "command = 'INSERT INTO \\\n",
    "mouse (mouse, rating_out_of_ten, iacuc_barcode, date_of_birth, sex, genotype) \\\n",
    "VALUES (\\'99\\', 10, \\'777777\\', \\'2019/01/01\\', \\'M\\', \\'XYZ\\')'\n",
    "execute_sql_command(command=command)\n",
    "\n",
    "    \n",
    "    \n",
    "print_sql_command_output(command='SELECT * FROM mouse')\n",
    "\n",
    "\n",
    "# Remove the all mouse entries with id 99 OR 100\n",
    "command = 'DELETE FROM `mouse` WHERE `mouse` IN (99,100)'\n",
    "try:\n",
    "    execute_sql_command(command=command)\n",
    "except Exception as e:\n",
    "    print('DELETE command failed')\n",
    "    print(e,'\\n')\n",
    "    \n",
    "    \n",
    "print_sql_command_output(command='SELECT * FROM mouse')"
   ]
  },
  {
   "cell_type": "markdown",
   "metadata": {},
   "source": [
    "## Bug Testing"
   ]
  },
  {
   "cell_type": "code",
   "execution_count": 96,
   "metadata": {},
   "outputs": [
    {
     "name": "stdout",
     "output_type": "stream",
     "text": [
      "---------------$  SHOW PROCESSLIST  $---------------\n",
      "               \n",
      "(('Id', 8, None, 21, 21, 0, False), ('User', 253, None, 64, 64, 31, False), ('Host', 253, None, 256, 256, 31, False), ('db', 253, None, 256, 256, 31, True), ('Command', 253, None, 64, 64, 31, False), ('Time', 3, None, 7, 7, 0, False), ('State', 253, None, 120, 120, 31, True), ('Info', 253, None, 400, 400, 31, True))\n",
      "\n",
      "(18317, 'rdsadmin', 'localhost', None, 'Sleep', 1, 'delayed send ok done', None)\n",
      "(18318, 'rdsadmin', 'localhost', None, 'Sleep', 1, 'delayed send ok done', None)\n",
      "(18319, 'rdsadmin', 'localhost', None, 'Sleep', 3, 'cleaned up', None)\n",
      "(18320, 'rdsadmin', 'localhost', None, 'Sleep', 158, 'delayed send ok done', None)\n",
      "(24309, 'rdsadmin', 'localhost', None, 'Sleep', 0, 'cleaned up', None)\n",
      "(24686, 'dbadmin', '169.228.73.190:64246', 'alex_test', 'Query', 0, 'init', 'SHOW PROCESSLIST')\n",
      "\n",
      "\n"
     ]
    }
   ],
   "source": [
    "# Prints all processing currently running in mySQL\n",
    "print_sql_command_output(command='SHOW PROCESSLIST')\n",
    "\n",
    "\n",
    "# KILL Processes run by 'dbadmin' that may be preventing other queries\n",
    "#execute_sql_command('KILL 24682')"
   ]
  },
  {
   "cell_type": "markdown",
   "metadata": {},
   "source": [
    "## Miscillaneous Commands"
   ]
  },
  {
   "cell_type": "code",
   "execution_count": 27,
   "metadata": {
    "scrolled": true
   },
   "outputs": [
    {
     "name": "stdout",
     "output_type": "stream",
     "text": [
      "---------------$  show DATABASES  $---------------\n",
      "               \n",
      "(('Database', 253, None, 256, 256, 0, False),)\n",
      "\n",
      "('information_schema',)\n",
      "('alex_test',)\n",
      "('common_atlas',)\n",
      "('common_atlas_foreign_test',)\n",
      "('common_atlas_v1',)\n",
      "('common_atlas_v2',)\n",
      "('common_atlas_v3',)\n",
      "('common_attach',)\n",
      "('common_demo_attach',)\n",
      "('common_distributed',)\n",
      "('common_test',)\n",
      "('common_test2',)\n",
      "('common_u19_database',)\n",
      "('conrad_test',)\n",
      "('david_test',)\n",
      "('dimitri_common',)\n",
      "('dimitri_test',)\n",
      "('hannah_test',)\n",
      "('map_ccf',)\n",
      "('map_ephys',)\n",
      "('map_experiment',)\n",
      "('map_ingest_behavior',)\n",
      "('map_lab',)\n",
      "('map_publication',)\n",
      "('mysql',)\n",
      "('performance_schema',)\n",
      "('tmp',)\n",
      "('xiang_test',)\n",
      "('yoav_s3_test',)\n",
      "('yoav_test',)\n",
      "\n",
      "\n"
     ]
    }
   ],
   "source": [
    "command = 'show DATABASES'\n",
    "print_sql_command_output(command=command)"
   ]
  },
  {
   "cell_type": "code",
   "execution_count": 71,
   "metadata": {},
   "outputs": [
    {
     "name": "stdout",
     "output_type": "stream",
     "text": [
      "---------------$  show processlist  $---------------\n",
      "               \n",
      "(('Id', 8, None, 21, 21, 0, False), ('User', 253, None, 64, 64, 31, False), ('Host', 253, None, 256, 256, 31, False), ('db', 253, None, 256, 256, 31, True), ('Command', 253, None, 64, 64, 31, False), ('Time', 3, None, 7, 7, 0, False), ('State', 253, None, 120, 120, 31, True), ('Info', 253, None, 400, 400, 31, True))\n",
      "\n",
      "(18317, 'rdsadmin', 'localhost', None, 'Sleep', 0, 'delayed send ok done', None)\n",
      "(18318, 'rdsadmin', 'localhost', None, 'Sleep', 2, 'delayed send ok done', None)\n",
      "(18319, 'rdsadmin', 'localhost', None, 'Sleep', 7, 'cleaned up', None)\n",
      "(18320, 'rdsadmin', 'localhost', None, 'Sleep', 139, 'delayed send ok done', None)\n",
      "(24309, 'rdsadmin', 'localhost', None, 'Sleep', 0, 'cleaned up', None)\n",
      "(24674, 'dbadmin', '169.228.73.190:63486', 'alex_test', 'Sleep', 3421, 'cleaned up', None)\n",
      "(24678, 'dbadmin', '169.228.73.190:63652', 'alex_test', 'Sleep', 2398, 'delayed send ok done', None)\n",
      "(24679, 'dbadmin', '169.228.73.190:63657', 'alex_test', 'Sleep', 1468, 'cleaned up', None)\n",
      "(24682, 'dbadmin', '169.228.73.190:64041', 'alex_test', 'Query', 0, 'init', 'show processlist')\n",
      "\n",
      "\n",
      "---------------$  show grants  $---------------\n",
      "               \n",
      "(('Grants for dbadmin@%', 253, None, 4096, 4096, 31, False),)\n",
      "\n",
      "(\"GRANT SELECT, INSERT, UPDATE, DELETE, CREATE, DROP, RELOAD, PROCESS, REFERENCES, INDEX, ALTER, SHOW DATABASES, CREATE TEMPORARY TABLES, LOCK TABLES, EXECUTE, REPLICATION SLAVE, REPLICATION CLIENT, CREATE VIEW, SHOW VIEW, CREATE ROUTINE, ALTER ROUTINE, CREATE USER, EVENT, TRIGGER, LOAD FROM S3, SELECT INTO S3, INVOKE LAMBDA ON *.* TO 'dbadmin'@'%' IDENTIFIED BY PASSWORD '*AAD5282851DD25BD30C27DB64EBA59D6DA44F753' WITH GRANT OPTION\",)\n",
      "\n",
      "\n",
      "---------------$  show grants FOR alex  $---------------\n",
      "               \n",
      "(('Grants for alex@%', 253, None, 4096, 4096, 31, False),)\n",
      "\n",
      "(\"GRANT USAGE ON *.* TO 'alex'@'%' IDENTIFIED BY PASSWORD '*8F4E65EB3D28FBCB72FFEF92B72F8325864C4E94'\",)\n",
      "(\"GRANT ALL PRIVILEGES ON `common\\\\_%`.* TO 'alex'@'%'\",)\n",
      "(\"GRANT ALL PRIVILEGES ON `alex\\\\_%`.* TO 'alex'@'%'\",)\n",
      "\n",
      "\n"
     ]
    }
   ],
   "source": [
    "command = 'show processlist'\n",
    "print_sql_command_output(command=command)\n",
    "\n",
    "command = 'show grants'\n",
    "print_sql_command_output(command=command)\n",
    "\n",
    "command = 'show grants FOR alex'\n",
    "print_sql_command_output(command=command)"
   ]
  },
  {
   "cell_type": "code",
   "execution_count": 97,
   "metadata": {},
   "outputs": [
    {
     "name": "stdout",
     "output_type": "stream",
     "text": [
      "---------------$  SHOW ENGINE INNODB STATUS  $---------------\n",
      "               \n",
      "(('Type', 253, None, 40, 40, 31, False), ('Name', 253, None, 2048, 2048, 31, False), ('Status', 253, None, 40, 40, 31, False))\n",
      "\n",
      "('InnoDB', '', \"\\n=====================================\\n2019-02-16 00:13:06 2b66f67c6700 INNODB MONITOR OUTPUT\\n=====================================\\nPer second averages calculated from the last 29 seconds\\n-----------------\\nBACKGROUND THREAD\\n-----------------\\nsrv_master_thread loops: 2667259 srv_active, 0 srv_shutdown, 2528353 srv_idle\\nsrv_master_thread log flush and writes: 0\\n----------\\nSEMAPHORES\\n----------\\nOS WAIT ARRAY INFO: reservation count 42\\nOS WAIT ARRAY INFO: signal count 47\\nMutex spin waits 843, rounds 2453, OS waits 2\\nRW-shared spins 42, rounds 558, OS waits 11\\nRW-excl spins 1419, rounds 9559, OS waits 20\\nSpin rounds per wait: 2.91 mutex, 13.29 RW-shared, 6.74 RW-excl\\n------------------------\\nLATEST FOREIGN KEY ERROR\\n------------------------\\n2019-02-15 23:13:53 2b66f67c6700 Transaction:\\nTRANSACTION 47377860, ACTIVE 9 sec inserting\\nmysql tables in use 1, locked 1\\n5 lock struct(s), heap size 376, 2 row lock(s), undo log entries 1\\nMySQL thread id 24677, OS thread handle 0x2b66f67c6700, query id 39657933 169.228.73.190 dbadmin update\\nINSERT INTO surgery (mouse, surgery_number, username, surgery_date, surgery_description) VALUES ('2', '4', 'example_user', '2019/01/01', '')\\nForeign key constraint fails for table `alex_test`.`surgery`:\\n,\\n  CONSTRAINT `surgery_ibfk_2` FOREIGN KEY (`username`) REFERENCES `#person` (`username`) ON UPDATE CASCADE\\nTrying to add in child table, in index `username` tuple:\\nDATA TUPLE: 3 fields;\\n 0: len=12; bufptr=0x2b6890c7d21c; hex= 6578616d706c655f75736572; asc example_user;;\\n 1: len=10; bufptr=0x2b6890c7d210; hex= 32202020202020202020; asc 2         ;;\\n 2: len=1; bufptr=0x2b6890e5e9aa; hex= 04; asc  ;;\\n\\nBut in parent table `alex_test`.`#person`, in index `PRIMARY`,\\nthe closest match we can find is record:\\nPHYSICAL RECORD: n_fields 4; compact format; info bits 0\\n 0: len=5; bufptr=0x2b65cb24007f; hex= 6461766964; asc david;;\\n 1: len=6; bufptr=0x2b65cb240084; hex= 000000289a20; asc    (  ;;\\n 2: len=7; bufptr=0x2b65cb24008a; hex= 9e000002a20110; asc        ;;\\n 3: len=15; bufptr=0x2b65cb240091; hex= 4461766964204b6c65696e66656c64; asc David Kleinfeld;;\\n\\n------------\\nTRANSACTIONS\\n------------\\nTrx id counter 47394183\\nPurge done for trx's n:o < 47393791 undo n:o < 0 state: running but idle\\nHistory list length 274\\nLIST OF TRANSACTIONS FOR EACH SESSION:\\n---TRANSACTION 47393970, not started\\nMySQL thread id 18317, OS thread handle 0x2b62c92c3700, query id 39689427 localhost rdsadmin delayed send ok done\\n---TRANSACTION 47394152, not started\\nMySQL thread id 18319, OS thread handle 0x2b62c9241700, query id 39689378 localhost rdsadmin cleaned up\\n---TRANSACTION 47393387, not started\\nMySQL thread id 18320, OS thread handle 0x2b62c9282700, query id 39687987 localhost rdsadmin delayed send ok done\\n---TRANSACTION 47394180, not started\\nMySQL thread id 18318, OS thread handle 0x2b62c92c3700, query id 39689436 localhost rdsadmin delayed send ok done\\n---TRANSACTION 47394088, ACTIVE 13 sec\\n5 lock struct(s), heap size 376, 6 row lock(s), undo log entries 2\\nMySQL thread id 24686, OS thread handle 0x2b66f67c6700, query id 39689437 169.228.73.190 dbadmin init\\nSHOW ENGINE INNODB STATUS\\nTrx read view will not see trx with id >= 47394089, sees < 47394088\\n--------\\nFILE I/O\\n--------\\nI/O thread 0 state: waiting for i/o request (insert buffer thread)\\nI/O thread 1 state: waiting for i/o request (log thread)\\nI/O thread 2 state: waiting for i/o request (read thread)\\nI/O thread 3 state: waiting for i/o request (read thread)\\nI/O thread 4 state: waiting for i/o request (read thread)\\nI/O thread 5 state: waiting for i/o request (read thread)\\nI/O thread 6 state: waiting for i/o request (read thread)\\nI/O thread 7 state: waiting for i/o request (read thread)\\nI/O thread 8 state: waiting for i/o request (read thread)\\nI/O thread 9 state: waiting for i/o request (read thread)\\nI/O thread 10 state: waiting for i/o request (write thread)\\nI/O thread 11 state: waiting for i/o request (write thread)\\nI/O thread 12 state: waiting for i/o request (write thread)\\nI/O thread 13 state: waiting for i/o request (write thread)\\nPending normal aio reads: 0 [0, 0, 0, 0, 0, 0, 0, 0] , aio writes: 0 [0, 0, 0, 0] ,\\n ibuf aio reads: 0, log i/o's: 0, sync i/o's: 0\\nPending flushes (fsync) log: 0; buffer pool: 0\\n0 OS file reads, 0 OS file writes, 0 OS fsyncs\\n0.00 reads/s, 0 avg bytes/read, 0.00 writes/s, 0.00 fsyncs/s\\n-------------------------------------\\nINSERT BUFFER AND ADAPTIVE HASH INDEX\\n-------------------------------------\\nIbuf: size 1, free list len 0, seg size 2, 0 merges\\nmerged operations:\\n insert 0, delete mark 0, delete 0\\ndiscarded operations:\\n insert 0, delete mark 0, delete 0\\nAdaptive hash table 0: Hash table size 1243391, node heap has 0 buffer(s)\\nAdaptive hash table 1: Hash table size 1243391, node heap has 0 buffer(s)\\nAdaptive hash table 2: Hash table size 1243391, node heap has 0 buffer(s)\\nAdaptive hash table 3: Hash table size 1243391, node heap has 0 buffer(s)\\nAdaptive hash table 4: Hash table size 1243391, node heap has 0 buffer(s)\\nAdaptive hash table 5: Hash table size 1243391, node heap has 0 buffer(s)\\nAdaptive hash table 6: Hash table size 1243391, node heap has 0 buffer(s)\\nAdaptive hash table 7: Hash table size 1243391, node heap has 0 buffer(s)\\nAdaptive hash table 8: Hash table size 1243391, node heap has 0 buffer(s)\\nAdaptive hash table 9: Hash table size 1243391, node heap has 0 buffer(s)\\nAdaptive hash table 10: Hash table size 1243391, node heap has 0 buffer(s)\\nAdaptive hash table 11: Hash table size 1243391, node heap has 0 buffer(s)\\nAdaptive hash table 12: Hash table size 1243391, node heap has 0 buffer(s)\\nAdaptive hash table 13: Hash table size 1243391, node heap has 0 buffer(s)\\nAdaptive hash table 14: Hash table size 1243391, node heap has 0 buffer(s)\\nAdaptive hash table 15: Hash table size 1243391, node heap has 0 buffer(s)\\nAdaptive hash table 16: Hash table size 1243391, node heap has 0 buffer(s)\\nAdaptive hash table 17: Hash table size 1243391, node heap has 0 buffer(s)\\nAdaptive hash table 18: Hash table size 1243391, node heap has 0 buffer(s)\\nAdaptive hash table 19: Hash table size 1243391, node heap has 0 buffer(s)\\nAdaptive hash table 20: Hash table size 1243391, node heap has 0 buffer(s)\\nAdaptive hash table 21: Hash table size 1243391, node heap has 0 buffer(s)\\nAdaptive hash table 22: Hash table size 1243391, node heap has 0 buffer(s)\\nAdaptive hash table 23: Hash table size 1243391, node heap has 0 buffer(s)\\nAdaptive hash table 24: Hash table size 1243391, node heap has 0 buffer(s)\\nAdaptive hash table 25: Hash table size 1243391, node heap has 0 buffer(s)\\nAdaptive hash table 26: Hash table size 1243391, node heap has 0 buffer(s)\\nAdaptive hash table 27: Hash table size 1243391, node heap has 0 buffer(s)\\nAdaptive hash table 28: Hash table size 1243391, node heap has 0 buffer(s)\\nAdaptive hash table 29: Hash table size 1243391, node heap has 0 buffer(s)\\nAdaptive hash table 30: Hash table size 1243391, node heap has 0 buffer(s)\\nAdaptive hash table 31: Hash table size 1243391, node heap has 0 buffer(s)\\n0.00 hash searches/s, 1.79 non-hash searches/s\\n---\\nLOG\\n---\\nLog sequence number 8204\\nLog flushed up to   8204\\nPages flushed up to 8204\\nLast checkpoint at  8192\\n0 pending log writes, 0 pending chkp writes\\n0 log i/o's done, 0.00 log i/o's/second\\n----------------------\\nBUFFER POOL AND MEMORY\\n----------------------\\nTotal memory allocated 0; in additional pool allocated 0\\nDictionary memory allocated 497875\\nBuffer pool size   1226416\\nFree buffers       1220700\\nDatabase pages     5716\\nOld database pages 2028\\nModified db pages  0\\nPending reads 0\\nPending writes: LRU 0, flush list 0 single page 0\\nPages made young 0, not young 0\\n0.00 youngs/s, 0.00 non-youngs/s\\nPages read 2861, created 2534, written 0\\n0.00 reads/s, 0.00 creates/s, 0.00 writes/s\\nBuffer pool hit rate 1000 / 1000, young-making rate 0 / 1000 not 0 / 1000\\nPages read ahead 0.00/s, evicted without access 0.00/s, Random read ahead 0.00/s\\nLRU len: 5716, unzip_LRU len: 0\\nI/O sum[0]:cur[0], unzip sum[0]:cur[0]\\n----------------------\\nINDIVIDUAL BUFFER POOL INFO\\n----------------------\\n---BUFFER POOL 0\\nBuffer pool size   306604\\nFree buffers       305059\\nDatabase pages     1545\\nOld database pages 550\\nModified db pages  0\\nPending reads 0\\nPending writes: LRU 0, flush list 0 single page 0\\nPages made young 0, not young 0\\n0.00 youngs/s, 0.00 non-youngs/s\\nPages read 711, created 691, written 0\\n0.00 reads/s, 0.00 creates/s, 0.00 writes/s\\nBuffer pool hit rate 1000 / 1000, young-making rate 0 / 1000 not 0 / 1000\\nPages read ahead 0.00/s, evicted without access 0.00/s, Random read ahead 0.00/s\\nLRU len: 1545, unzip_LRU len: 0\\nI/O sum[0]:cur[0], unzip sum[0]:cur[0]\\n---BUFFER POOL 1\\nBuffer pool size   306604\\nFree buffers       305190\\nDatabase pages     1414\\nOld database pages 501\\nModified db pages  0\\nPending reads 0\\nPending writes: LRU 0, flush list 0 single page 0\\nPages made young 0, not young 0\\n0.00 youngs/s, 0.00 non-youngs/s\\nPages read 760, created 617, written 0\\n0.00 reads/s, 0.00 creates/s, 0.00 writes/s\\nBuffer pool hit rate 1000 / 1000, young-making rate 0 / 1000 not 0 / 1000\\nPages read ahead 0.00/s, evicted without access 0.00/s, Random read ahead 0.00/s\\nLRU len: 1414, unzip_LRU len: 0\\nI/O sum[0]:cur[0], unzip sum[0]:cur[0]\\n---BUFFER POOL 2\\nBuffer pool size   306604\\nFree buffers       305225\\nDatabase pages     1379\\nOld database pages 489\\nModified db pages  0\\nPending reads 0\\nPending writes: LRU 0, flush list 0 single page 0\\nPages made young 0, not young 0\\n0.00 youngs/s, 0.00 non-youngs/s\\nPages read 686, created 615, written 0\\n0.00 reads/s, 0.00 creates/s, 0.00 writes/s\\nBuffer pool hit rate 1000 / 1000, young-making rate 0 / 1000 not 0 / 1000\\nPages read ahead 0.00/s, evicted without access 0.00/s, Random read ahead 0.00/s\\nLRU len: 1379, unzip_LRU len: 0\\nI/O sum[0]:cur[0], unzip sum[0]:cur[0]\\n---BUFFER POOL 3\\nBuffer pool size   306604\\nFree buffers       305226\\nDatabase pages     1378\\nOld database pages 488\\nModified db pages  0\\nPending reads 0\\nPending writes: LRU 0, flush list 0 single page 0\\nPages made young 0, not young 0\\n0.00 youngs/s, 0.00 non-youngs/s\\nPages read 704, created 611, written 0\\n0.00 reads/s, 0.00 creates/s, 0.00 writes/s\\nBuffer pool hit rate 1000 / 1000, young-making rate 0 / 1000 not 0 / 1000\\nPages read ahead 0.00/s, evicted without access 0.00/s, Random read ahead 0.00/s\\nLRU len: 1378, unzip_LRU len: 0\\nI/O sum[0]:cur[0], unzip sum[0]:cur[0]\\n--------------\\nROW OPERATIONS\\n--------------\\n0 queries inside InnoDB, 0 queries in queue\\n0 read views open inside InnoDB\\nMain thread process no. 8008, id 47728197875456, state: sleeping\\nNumber of rows inserted 5851, updated 7736164, deleted 1207, read 2804757\\n0.03 inserts/s, 1.48 updates/s, 0.03 deletes/s, 0.93 reads/s\\n----------------------------\\nEND OF INNODB MONITOR OUTPUT\\n============================\\n\")\n",
      "\n",
      "\n"
     ]
    }
   ],
   "source": [
    "print_sql_command_output(command='SHOW ENGINE INNODB STATUS')"
   ]
  },
  {
   "cell_type": "code",
   "execution_count": null,
   "metadata": {
    "collapsed": true
   },
   "outputs": [],
   "source": []
  }
 ],
 "metadata": {
  "kernelspec": {
   "display_name": "Python 3",
   "language": "python",
   "name": "python3"
  },
  "language_info": {
   "codemirror_mode": {
    "name": "ipython",
    "version": 3
   },
   "file_extension": ".py",
   "mimetype": "text/x-python",
   "name": "python",
   "nbconvert_exporter": "python",
   "pygments_lexer": "ipython3",
   "version": "3.6.8"
  }
 },
 "nbformat": 4,
 "nbformat_minor": 2
}
