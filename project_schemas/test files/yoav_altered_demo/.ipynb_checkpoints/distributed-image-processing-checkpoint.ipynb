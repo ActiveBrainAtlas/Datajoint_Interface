{
 "cells": [
  {
   "cell_type": "code",
   "execution_count": 1,
   "metadata": {},
   "outputs": [],
   "source": [
    "import datajoint as dj\n",
    "from minio import Minio\n",
    "from os import path\n",
    "import json"
   ]
  },
  {
   "cell_type": "code",
   "execution_count": 2,
   "metadata": {},
   "outputs": [
    {
     "ename": "FileNotFoundError",
     "evalue": "[Errno 2] No such file or directory: 's3-creds.json'",
     "output_type": "error",
     "traceback": [
      "\u001b[0;31m---------------------------------------------------------------------------\u001b[0m",
      "\u001b[0;31mFileNotFoundError\u001b[0m                         Traceback (most recent call last)",
      "\u001b[0;32m<ipython-input-2-ba91332e9498>\u001b[0m in \u001b[0;36m<module>\u001b[0;34m\u001b[0m\n\u001b[1;32m      3\u001b[0m \u001b[0;31m# {\"access_key\": \"...\", \"secret_key\": \"...\"}\u001b[0m\u001b[0;34m\u001b[0m\u001b[0;34m\u001b[0m\u001b[0m\n\u001b[1;32m      4\u001b[0m \u001b[0;34m\u001b[0m\u001b[0m\n\u001b[0;32m----> 5\u001b[0;31m \u001b[0;32mwith\u001b[0m \u001b[0mopen\u001b[0m\u001b[0;34m(\u001b[0m\u001b[0;34m's3-creds.json'\u001b[0m\u001b[0;34m)\u001b[0m \u001b[0;32mas\u001b[0m \u001b[0mf\u001b[0m\u001b[0;34m:\u001b[0m\u001b[0;34m\u001b[0m\u001b[0m\n\u001b[0m\u001b[1;32m      6\u001b[0m     \u001b[0mcreds\u001b[0m \u001b[0;34m=\u001b[0m \u001b[0mjson\u001b[0m\u001b[0;34m.\u001b[0m\u001b[0mload\u001b[0m\u001b[0;34m(\u001b[0m\u001b[0mf\u001b[0m\u001b[0;34m)\u001b[0m\u001b[0;34m\u001b[0m\u001b[0m\n\u001b[1;32m      7\u001b[0m \u001b[0;34m\u001b[0m\u001b[0m\n",
      "\u001b[0;31mFileNotFoundError\u001b[0m: [Errno 2] No such file or directory: 's3-creds.json'"
     ]
    }
   ],
   "source": [
    "# load S3 access_key and secret_key\n",
    "# The file s3-creds.json should contain the following:\n",
    "# {\"access_key\": \"...\", \"secret_key\": \"...\"}\n",
    "\n",
    "with open('s3-creds.json') as f:\n",
    "    creds = json.load(f)\n",
    "    \n",
    "bucket_name = 'mousebraindata-open'"
   ]
  },
  {
   "cell_type": "code",
   "execution_count": null,
   "metadata": {
    "collapsed": true
   },
   "outputs": [],
   "source": [
    "def get_client():\n",
    "    return Minio(\n",
    "        's3.amazonaws.com',\n",
    "        secure=True, **creds)"
   ]
  },
  {
   "cell_type": "code",
   "execution_count": null,
   "metadata": {
    "collapsed": true
   },
   "outputs": [],
   "source": [
    "@schema\n",
    "class BaseImage(dj.Manual):\n",
    "    definition = '''\n",
    "    image_id:          int            # image id\n",
    "    ---\n",
    "    image_location:    varchar(1024)  # image location in bucket\n",
    "    filesize : bigint  # (bytes)\n",
    "    '''\n",
    "    \n",
    "    @classmethod\n",
    "    def fill(cls):   \n",
    "        \"\"\"\n",
    "        fill the image list from the bucket\n",
    "        \"\"\"\n",
    "        client = get_client()\n",
    "        objects = client.list_objects(bucket_name, prefix='MD657/')\n",
    "        cls.insert(\n",
    "            dict(image_id=i, image_location=obj.object_name, filesize=obj.size) \n",
    "            for i, obj in enumerate(objects) if obj.object_name.endswith('.jp2'))"
   ]
  },
  {
   "cell_type": "code",
   "execution_count": null,
   "metadata": {},
   "outputs": [],
   "source": [
    "# load directory from the repository\n",
    "BaseImage.fill()"
   ]
  },
  {
   "cell_type": "code",
   "execution_count": null,
   "metadata": {},
   "outputs": [],
   "source": [
    "BaseImage()"
   ]
  },
  {
   "cell_type": "code",
   "execution_count": null,
   "metadata": {
    "collapsed": true
   },
   "outputs": [],
   "source": [
    "@schema\n",
    "class Contrast(dj.Imported):\n",
    "    definition = '''\n",
    "    -> BaseImage\n",
    "    ---\n",
    "    contrast: float\n",
    "    '''\n",
    "    \n",
    "    def make(self, key):\n",
    "        path = (BaseImage & key).fetch1('image_location')\n",
    "        client = get_client()\n",
    "        data = client.get_object(bucket_name, path).data\n",
    "        img = convert_binary_jp2_data_into_image(data)   # This function needs to be defined\n",
    "        self.insert1(dict(key, contrast=img.std()))"
   ]
  },
  {
   "cell_type": "code",
   "execution_count": null,
   "metadata": {
    "collapsed": true
   },
   "outputs": [],
   "source": [
    "Contrast.populate(reserve_jobs=True, skip_errors=True)   \n",
    "   # This does the distributed job -- run on many instances"
   ]
  },
  {
   "cell_type": "code",
   "execution_count": null,
   "metadata": {},
   "outputs": [],
   "source": [
    "# View job reservations\n",
    "schema.jobs"
   ]
  },
  {
   "cell_type": "code",
   "execution_count": null,
   "metadata": {
    "collapsed": true
   },
   "outputs": [],
   "source": []
  }
 ],
 "metadata": {
  "kernelspec": {
   "display_name": "Python 3",
   "language": "python",
   "name": "python3"
  },
  "language_info": {
   "codemirror_mode": {
    "name": "ipython",
    "version": 3
   },
   "file_extension": ".py",
   "mimetype": "text/x-python",
   "name": "python",
   "nbconvert_exporter": "python",
   "pygments_lexer": "ipython3",
   "version": "3.7.0"
  }
 },
 "nbformat": 4,
 "nbformat_minor": 2
}
